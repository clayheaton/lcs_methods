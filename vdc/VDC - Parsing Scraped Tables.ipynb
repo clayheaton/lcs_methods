{
 "cells": [
  {
   "cell_type": "code",
   "execution_count": 1,
   "metadata": {
    "collapsed": true
   },
   "outputs": [],
   "source": [
    "from bs4 import BeautifulSoup\n",
    "import dataset\n",
    "import unicodedata"
   ]
  },
  {
   "cell_type": "code",
   "execution_count": 2,
   "metadata": {
    "collapsed": true
   },
   "outputs": [],
   "source": [
    "db = dataset.connect(\"sqlite:///vdc.sqlite\")"
   ]
  },
  {
   "cell_type": "code",
   "execution_count": 3,
   "metadata": {},
   "outputs": [
    {
     "data": {
      "text/plain": [
       "['content_ar', 'content_en', 'keys_ar', 'keys_en', 'links']"
      ]
     },
     "execution_count": 3,
     "metadata": {},
     "output_type": "execute_result"
    }
   ],
   "source": [
    "db.tables"
   ]
  },
  {
   "cell_type": "code",
   "execution_count": 4,
   "metadata": {
    "collapsed": true
   },
   "outputs": [],
   "source": [
    "tab_en = db['content_en']\n",
    "tab_ar = db['content_ar']"
   ]
  },
  {
   "cell_type": "code",
   "execution_count": 5,
   "metadata": {
    "collapsed": true
   },
   "outputs": [],
   "source": [
    "# records_ar = []\n",
    "# records_en = []\n",
    "\n",
    "# for r in tab_ar.find():\n",
    "#     records_ar.append(r)\n",
    "    \n",
    "# for r in tab_en.find():\n",
    "#     records_en.append(r)"
   ]
  },
  {
   "cell_type": "code",
   "execution_count": 6,
   "metadata": {
    "collapsed": true,
    "scrolled": false
   },
   "outputs": [],
   "source": [
    "entries = []\n",
    "\n",
    "def db_entry_for_record(raw_record):\n",
    "    thisrec = {\"url\":raw_record['url'], 'link_id':raw_record['link_id']}\n",
    "    try:\n",
    "        soup = BeautifulSoup(raw_record['content'],\"lxml\")    \n",
    "        k = None\n",
    "        v = None\n",
    "\n",
    "        for idx,elem in enumerate(soup.find_all('td')[2:]):\n",
    "            if idx % 2 == 0:\n",
    "                k = unicodedata.normalize(\"NFKD\", elem.text)\n",
    "                if k == ' ':\n",
    "                    k = 'video_description'\n",
    "                if ('\\n' in k):\n",
    "                    thisrec['video_link'] = k\n",
    "            else:\n",
    "                v = unicodedata.normalize(\"NFKD\", elem.text)\n",
    "                if v.strip() == '':\n",
    "                    v = None\n",
    "                thisrec[k] = v\n",
    "    except:\n",
    "        # None record for English where there was an\n",
    "        # Arabic page and no English page\n",
    "        pass\n",
    "    \n",
    "    # Remove where youtube links become keys\n",
    "    for k in list(thisrec.keys()):\n",
    "        if ('\\n' in k):\n",
    "            del thisrec[k]\n",
    "    \n",
    "    return thisrec"
   ]
  },
  {
   "cell_type": "code",
   "execution_count": 7,
   "metadata": {
    "collapsed": true
   },
   "outputs": [],
   "source": [
    "# Make a comprehensive list of the keys in the content\n",
    "# arabic_keys = {}\n",
    "# english_keys = {}\n",
    "\n",
    "# for r in tab_ar.find():\n",
    "#     db_entry = db_entry_for_record(r)\n",
    "#     if db_entry is not None:\n",
    "#         for k in db_entry.keys():\n",
    "#             arabic_keys[k] = ''\n",
    "            \n",
    "# for r in tab_en.find():\n",
    "#     db_entry = db_entry_for_record(r)\n",
    "#     if db_entry is not None:\n",
    "#         for k in db_entry.keys():\n",
    "#             english_keys[k] = '' \n",
    "            \n",
    "# tab_ar_keys = db['keys_ar']\n",
    "# tab_en_keys = db['keys_en']\n",
    "\n",
    "# for k in arabic_keys.keys():\n",
    "#     tab_ar_keys.insert({'orig':k, 'standardized':''})\n",
    "    \n",
    "# for k in english_keys.keys():\n",
    "#     tab_en_keys.insert({'orig':k, 'standardized':''})"
   ]
  },
  {
   "cell_type": "code",
   "execution_count": 8,
   "metadata": {},
   "outputs": [
    {
     "data": {
      "text/plain": [
       "{'Actors': 'actors',\n",
       " 'Age': 'age',\n",
       " 'Area \\\\ Place of birth': 'place_of_birth',\n",
       " 'Brigade Name': 'faction_name',\n",
       " 'Caesar File': 'caesar_file',\n",
       " 'Cause of Death': 'cause_of_death',\n",
       " 'Date of Birth': 'date_of_birth',\n",
       " 'Date of death': 'date_of_death',\n",
       " 'Direct Cause of Death': 'direct_case_of_death',\n",
       " 'Facebook Page': 'facebook_page',\n",
       " 'ID Card number': 'id_card_number',\n",
       " 'Link': 'link',\n",
       " 'Marital Status': 'marital_status',\n",
       " 'Martyrdom location': 'place_of_death',\n",
       " 'Method of Execution': 'method_of_execution',\n",
       " \"Mother's Name\": 'mothers_name',\n",
       " 'Name': 'name',\n",
       " 'National Number': 'national_number',\n",
       " 'News Article': 'news_article',\n",
       " 'Notes': 'notes',\n",
       " 'Number of kids': 'number_of_children',\n",
       " 'Occupation': 'occupation',\n",
       " 'Photo': 'photo',\n",
       " 'Province': 'province',\n",
       " 'Rank / Military situation': 'rank_military_status',\n",
       " 'Sex': 'sex',\n",
       " 'Status': 'status',\n",
       " 'The Source': 'source',\n",
       " 'Type of Weapon': 'type_of_weapon',\n",
       " 'link_id': 'link_id',\n",
       " 'url': 'url',\n",
       " 'video_description': 'video_description',\n",
       " 'video_link': 'video_link'}"
      ]
     },
     "execution_count": 8,
     "metadata": {},
     "output_type": "execute_result"
    }
   ],
   "source": [
    "# english_keys\n",
    "tab_en_keys = db['keys_en']\n",
    "\n",
    "english_keys_data = {}\n",
    "\n",
    "en_keys = tab_en_keys.find()\n",
    "\n",
    "for enk in en_keys:\n",
    "    english_keys_data[enk['orig']] = enk['standardized']\n",
    "    \n",
    "english_keys_data"
   ]
  },
  {
   "cell_type": "code",
   "execution_count": 9,
   "metadata": {},
   "outputs": [
    {
     "data": {
      "text/plain": [
       "{'link_id': 'link_id',\n",
       " 'url': 'url',\n",
       " 'video_description': 'video_description',\n",
       " 'video_link': 'video_link',\n",
       " 'الاسم': 'name',\n",
       " 'الجنس': 'sex',\n",
       " 'الجهة الفاعلة': 'actors',\n",
       " 'الحالة الزوجية': 'marital_status',\n",
       " 'الرابط': 'link',\n",
       " 'الرتبة/الوضع العسكري': 'rank_military_status',\n",
       " 'الرقم الوطني': 'national_number',\n",
       " 'السبب المباشر للوفاة': 'direct_cause_of_death',\n",
       " 'العمر': 'age',\n",
       " 'الفئة': 'status',\n",
       " 'المحافظة': 'province',\n",
       " 'المصدر': 'source',\n",
       " 'المنطقة / مكان التولد': 'place_of_birth',\n",
       " 'المهنه': 'occupation',\n",
       " 'إسم الام': 'mothers_name',\n",
       " 'إسم الفصيل': 'faction_name',\n",
       " 'تاريخ التولد': 'date_of_birth',\n",
       " 'تاريخ الوفاة': 'date_of_death',\n",
       " 'رقم الهويه': 'id_card_number',\n",
       " 'سبب الوفاة': 'cause_of_death',\n",
       " 'صفحة فيسبوك': 'facebook_page',\n",
       " 'صورة شخصيه': 'photo',\n",
       " 'طريقة الإعدام': 'method_of_execution',\n",
       " 'عدد الأولاد': 'number_of_children',\n",
       " 'معلومات اضافيه': 'notes',\n",
       " 'مقال صحفي': 'news_article',\n",
       " 'مكان الوفاة': 'place_of_death',\n",
       " 'ملف سيزر': 'caesar_file',\n",
       " 'نوع السلاح': 'type_of_weapon'}"
      ]
     },
     "execution_count": 9,
     "metadata": {},
     "output_type": "execute_result"
    }
   ],
   "source": [
    "# arabic_keys\n",
    "tab_ar_keys = db['keys_ar']\n",
    "\n",
    "arabic_keys_data = {}\n",
    "\n",
    "ar_keys = tab_ar_keys.find()\n",
    "\n",
    "for ark in ar_keys:\n",
    "    arabic_keys_data[ark['orig']] = ark['standardized']\n",
    "    \n",
    "arabic_keys_data"
   ]
  },
  {
   "cell_type": "code",
   "execution_count": 10,
   "metadata": {},
   "outputs": [],
   "source": [
    "tab_en_final = db['final_english']\n",
    "            \n",
    "for r in tab_en.find():\n",
    "    db_entry = db_entry_for_record(r)\n",
    "    if db_entry is not None:\n",
    "        new_rec = {}\n",
    "        for k in db_entry.keys():\n",
    "            new_rec[english_keys_data[k]] = db_entry[k]\n",
    "        tab_en_final.insert(new_rec)"
   ]
  },
  {
   "cell_type": "code",
   "execution_count": 11,
   "metadata": {},
   "outputs": [],
   "source": [
    "tab_ar_final = db['final_arabic']\n",
    "            \n",
    "for r in tab_ar.find():\n",
    "    db_entry = db_entry_for_record(r)\n",
    "    if db_entry is not None:\n",
    "        new_rec = {}\n",
    "        for k in db_entry.keys():\n",
    "            new_rec[arabic_keys_data[k]] = db_entry[k]\n",
    "        tab_ar_final.insert(new_rec)"
   ]
  },
  {
   "cell_type": "code",
   "execution_count": null,
   "metadata": {
    "collapsed": true
   },
   "outputs": [],
   "source": []
  }
 ],
 "metadata": {
  "kernelspec": {
   "display_name": "Python 3",
   "language": "python",
   "name": "python3"
  },
  "language_info": {
   "codemirror_mode": {
    "name": "ipython",
    "version": 3
   },
   "file_extension": ".py",
   "mimetype": "text/x-python",
   "name": "python",
   "nbconvert_exporter": "python",
   "pygments_lexer": "ipython3",
   "version": "3.6.1"
  }
 },
 "nbformat": 4,
 "nbformat_minor": 2
}
