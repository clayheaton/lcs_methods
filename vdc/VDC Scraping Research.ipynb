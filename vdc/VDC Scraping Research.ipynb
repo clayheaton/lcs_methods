{
 "cells": [
  {
   "cell_type": "markdown",
   "metadata": {},
   "source": [
    "The task is to scrape the English and Arabic data from the VDC website:\n",
    "\n",
    "http://vdc-sy.net/en/\n",
    "\n",
    "Index pages on the database are reached through:\n",
    "\n",
    "http://www.vdc-sy.info/index.php/en/martyrs\n",
    "\n",
    "The Arabic version is found with this address:\n",
    "\n",
    "http://www.vdc-sy.info/index.php/ar/martyrs\n",
    "\n",
    "Initial research suggests that the page structure is the same for both versions. \n",
    "\n",
    "Running a search on the entire database brings the first page of results with a URL like:\n",
    "\n",
    "`http://www.vdc-sy.info/index.php/en/martyrs/1/c29ydGJ5PWEua2lsbGVkX2RhdGV8c29ydGRpcj1ERVNDfGFwcHJvdmVkPXZpc2libGV8ZXh0cmFkaXNwbGF5PTB8`\n",
    "\n",
    "The `End` link from the page navigation there shows the last page number of results:\n",
    "\n",
    "`http://www.vdc-sy.info/index.php/en/martyrs/1587/c29ydGJ5PWEua2lsbGVkX2RhdGV8c29ydGRpcj1ERVNDfGFwcHJvdmVkPXZpc2libGV8ZXh0cmFkaXNwbGF5PTB8`\n",
    "\n",
    "In this case, the scraper should be able to iterate from 1 to 1521 to gather all of the index results. They have measures in place to prevent scraping of the site. If you visit one of the individual pages, it appends a ref to the end of the URL and returns a redirect. For example:\n",
    "\n",
    "`http://www.vdc-sy.info/index.php/en/details/martyrs/189739`\n",
    "\n",
    "becomes (with a dynamic parameter):\n",
    "\n",
    "`http://www.vdc-sy.info/index.php/en/details/martyrs/189739#.WVpVW8aZMnU`"
   ]
  },
  {
   "cell_type": "code",
   "execution_count": 1,
   "metadata": {
    "collapsed": true
   },
   "outputs": [],
   "source": [
    "from time import sleep\n",
    "from bs4 import BeautifulSoup\n",
    "import requests\n",
    "import dataset\n",
    "import json"
   ]
  },
  {
   "cell_type": "code",
   "execution_count": 11,
   "metadata": {
    "collapsed": true
   },
   "outputs": [],
   "source": [
    "result = requests.get(\"http://www.vdc-sy.info/index.php/ar/details/martyrs/189739\")"
   ]
  },
  {
   "cell_type": "code",
   "execution_count": 19,
   "metadata": {
    "collapsed": true
   },
   "outputs": [],
   "source": [
    "content = result.content\n",
    "soup = BeautifulSoup(content.decode(),\"lxml\")"
   ]
  },
  {
   "cell_type": "code",
   "execution_count": 20,
   "metadata": {
    "scrolled": true
   },
   "outputs": [
    {
     "data": {
      "text/plain": [
       "<!DOCTYPE html PUBLIC \"-//W3C//DTD XHTML 1.0 Transitional//EN\" \"http://www.w3.org/TR/xhtml1/DTD/xhtml1-transitional.dtd\">\n",
       "<html xmlns=\"http://www.w3.org/1999/xhtml\">\n",
       "<head>\n",
       "<meta content=\"text/html; charset=utf-8\" http-equiv=\"Content-Type\"/>\n",
       "<meta content=\"XWnKclwOOsL8qoot1wmrHAlAk8n97TsgxmV1zwQOXk8\" name=\"google-site-verification\"/>\n",
       "<title>مركز توثيق الانتهاكات في سوريا - </title>\n",
       "<meta content=\"توثيق,انتهاكات,سوريا,توثيق,الفتلى,معتقلين,مخطوفي,مفقودين,مدنيي, جيش النظام, جيش حر\" name=\"keywords\"/>\n",
       "<meta content=\"مركز توثيق الانتهاكات في سوريا لتوثيق الفتلى والمعتقلين والمخطوفين والمفقودين من المدنيين وغير المدنيين\" name=\"description\"/>\n",
       "<meta content=\"مركز توثيق الانتهاكات في سوريا \" name=\"author\"/>\n",
       "<!-- Latest compiled and minified CSS -->\n",
       "<link crossorigin=\"anonymous\" href=\"https://maxcdn.bootstrapcdn.com/bootstrap/3.3.7/css/bootstrap.min.css\" integrity=\"sha384-BVYiiSIFeK1dGmJRAkycuHAHRg32OmUcww7on3RYdg4Va+PmSTsz/K68vbdEjh4u\" rel=\"stylesheet\"/>\n",
       "<!-- Latest compiled and minified JavaScript -->\n",
       "<script crossorigin=\"anonymous\" integrity=\"sha384-Tc5IQib027qvyjSMfHjOMaLkfuWVxZxUPnCJA7l2mCWNIpG9mGCD8wGNIcPD7Txa\" src=\"https://maxcdn.bootstrapcdn.com/bootstrap/3.3.7/js/bootstrap.min.js\"></script>\n",
       "<script src=\"/js/jquery-1.10.2.js\"></script>\n",
       "<script src=\"/js/jquery-ui-1.10.4.custom.js\"></script>\n",
       "<script src=\"/js/datetimepicker.js\"></script>\n",
       "<script src=\"http://www.google.com/recaptcha/api/js/recaptcha_ajax.js\" type=\"text/javascript\"></script>\n",
       "<script src=\"/js/scripts.js?version=1.4\"></script>\n",
       "<script type=\"text/javascript\">\n",
       "\tfunction showRecaptcha(element) {\n",
       "    \tRecaptcha.create(\"6LcbftASAAAAAPWYKT4hj9qF-lmK9aKaosS1eplQ\", element, {\n",
       "        \ttheme: \"clean\",\n",
       "            callback: Recaptcha.focus_response_field});\n",
       "\t\t}\n",
       "</script>\n",
       "<style>\n",
       "\n",
       "\n",
       ".axis path,\n",
       ".axis line {\n",
       "  fill: none;\n",
       "  stroke: #000;\n",
       "  shape-rendering: crispEdges;\n",
       "}\n",
       "\n",
       ".bar {\n",
       "  fill: steelblue;\n",
       "}\n",
       "\n",
       ".x.axis path {\n",
       "  display: none;\n",
       "}\n",
       "\n",
       "</style>\n",
       "<!--[if IE]>\n",
       "<link rel=\"stylesheet\" type=\"text/css\" media=\"all\" href=\"/css/fonts_ie.css\"/>\n",
       "<![endif]-->\n",
       "<!--[if !IE]> -->\n",
       "<script> \n",
       "var headHTML = document.getElementsByTagName('head')[0].innerHTML; \n",
       "var suffix = \"\";\n",
       "if (/*@cc_on!@*/false) { \n",
       "    \n",
       "\tsuffix = \"_ie\";\t \n",
       "} \n",
       "headHTML    += '<link rel=\"stylesheet\" type=\"text/css\" media=\"all\"\" href=\"/css/fonts'+suffix+'.css\">'; \n",
       "document.getElementsByTagName('head')[0].innerHTML = headHTML;\n",
       "\n",
       "</script>\n",
       "<!-- <![endif]-->\n",
       "<link href=\"/css/style_ar.css?version=1.2\" media=\"all\" rel=\"stylesheet\" type=\"text/css\"/>\n",
       "<link href=\"/css/smoothness/jquery-ui-1.8.2.custom.css\" media=\"all\" rel=\"stylesheet\" type=\"text/css\"/>\n",
       "</head>\n",
       "<body>\n",
       "<div id=\"mainContainer\">\n",
       "<div id=\"container\">\n",
       "<div id=\"header\">\n",
       "<!-- Static navbar -->\n",
       "<nav class=\"navbar navbar-default navbar-static-top\">\n",
       "<div class=\"container\">\n",
       "<div class=\"navbar-header\">\n",
       "<button aria-controls=\"navbar\" aria-expanded=\"false\" class=\"navbar-toggle collapsed\" data-target=\"#navbar\" data-toggle=\"collapse\" type=\"button\">\n",
       "<span class=\"sr-only\">Toggle navigation</span>\n",
       "<span class=\"icon-bar\"></span>\n",
       "<span class=\"icon-bar\"></span>\n",
       "<span class=\"icon-bar\"></span>\n",
       "</button>\n",
       "<a class=\"navbar-brand\" href=\"http://vdc-sy.net/\" id=\"headerImage\"><img src=\"http://vdc-sy.net/images/logo.png\"/></a>\n",
       "</div>\n",
       "<div class=\"navbar-collapse collapse navbar-right\" id=\"navbar\">\n",
       "<ul class=\"nav navbar-nav\">\n",
       "<li><a href=\"http://vdc-sy.net\">الرئيسية</a></li>\n",
       "<li><a href=\"http://www.vdc-sy.info/index.php/ar/martyrs\">القتلى</a></li>\n",
       "<li><a href=\"http://www.vdc-sy.info/index.php/ar/detainees\">المعتقلين</a></li>\n",
       "<li><a href=\"http://www.vdc-sy.info/index.php/ar/missing\">المفقودين</a></li>\n",
       "<li class=\"dropdown\">\n",
       "<a aria-expanded=\"false\" aria-haspopup=\"true\" class=\"dropdown-toggle\" data-toggle=\"dropdown\" href=\"#\" role=\"button\">توثيق ملف <span class=\"caret\"></span></a>\n",
       "<ul class=\"dropdown-menu\">\n",
       "<li><a href=\"http://www.vdc-sy.info/index.php/ar/submit/martyrs\">القتلى</a></li>\n",
       "<li><a href=\"http://www.vdc-sy.info/index.php/ar/submit/detainees\">المعتقلين</a></li>\n",
       "<li><a href=\"http://www.vdc-sy.info/index.php/ar/submit/missing\">المفقودين</a></li>\n",
       "<li><a href=\"http://www.vdc-sy.info/index.php/ar/submit/kidnapping\">المخطوفين</a></li>\n",
       "</ul>\n",
       "</li>\n",
       "</ul>\n",
       "</div><!--/.nav-collapse -->\n",
       "</div>\n",
       "</nav>\n",
       "</div>\n",
       "<div id=\"contentBody\">\n",
       "<div id=\"fullContent\">\n",
       "<div class=\"tableTitle_martyrs\">تفصيلات قتيل</div>\n",
       "<div class=\"greyContainer detailsbody\">\n",
       "<table class=\"peopleListing table-hover table-condensed table-striped\">\n",
       "<tr>\n",
       "<td colspan=\"2\">\n",
       "<!-- AddThis Button BEGIN -->\n",
       "<div class=\"addthis_toolbox addthis_default_style addthis_32x32_style\" style=\"padding:10px 0 10px 20px; float:left;\">\n",
       "<a class=\"addthis_button_preferred_1\"></a>\n",
       "<a class=\"addthis_button_preferred_2\"></a>\n",
       "<a class=\"addthis_button_preferred_3\"></a>\n",
       "<a class=\"addthis_button_preferred_4\"></a>\n",
       "<a class=\"addthis_button_compact\"></a>\n",
       "<a class=\"addthis_counter addthis_bubble_style\"></a>\n",
       "</div>\n",
       "<script type=\"text/javascript\">var addthis_config = {\"data_track_addressbar\":true};</script>\n",
       "<script src=\"//s7.addthis.com/js/300/addthis_widget.js#pubid=ra-4e5936cd1bb03577\" type=\"text/javascript\"></script>\n",
       "<!-- AddThis Button END -->\n",
       "<a href=\"javascript:window.print()\">Print This Page</a>\n",
       "</td>\n",
       "</tr>\n",
       "<tr>\n",
       "<td colspan=\"2\">\n",
       "<div style=\"text-align:center; float:right;\">\n",
       "<a href=\"/index.php/ar/martyrs/1/\">Return to List</a>\n",
       "</div>\n",
       "<div style=\"clear:both;\"></div>\n",
       "</td>\n",
       "</tr>\n",
       "<!-- ************************ PHOTOS *** -->\n",
       "<!-- ************************ END PHOTOS *** -->\n",
       "<tr>\n",
       "<td width=\"170\">الاسم</td>\n",
       "<td>طاهر الرحمون</td>\n",
       "</tr>\n",
       "<tr>\n",
       "<td width=\"170\">المحافظة</td>\n",
       "<td>الرقة</td>\n",
       "</tr>\n",
       "<tr>\n",
       "<td width=\"170\">الجنس</td>\n",
       "<td>ذكر - بالغ</td>\n",
       "</tr>\n",
       "<tr>\n",
       "<td width=\"170\">الفئة</td>\n",
       "<td>مدني</td>\n",
       "</tr>\n",
       "<tr>\n",
       "<td width=\"170\">إسم الام</td>\n",
       "<td></td>\n",
       "</tr>\n",
       "<tr>\n",
       "<td width=\"170\">تاريخ التولد</td>\n",
       "<td>0000-00-00</td>\n",
       "</tr>\n",
       "<tr>\n",
       "<td width=\"170\">عدد الأولاد</td>\n",
       "<td></td>\n",
       "</tr>\n",
       "<tr>\n",
       "<td width=\"170\">العمر</td>\n",
       "<td>0</td>\n",
       "</tr>\n",
       "<tr>\n",
       "<td width=\"170\">الحالة الزوجية</td>\n",
       "<td>غير معروف</td>\n",
       "</tr>\n",
       "<tr>\n",
       "<td width=\"170\">المنطقة / مكان التولد</td>\n",
       "<td></td>\n",
       "</tr>\n",
       "<tr>\n",
       "<td width=\"170\">المهنه</td>\n",
       "<td></td>\n",
       "</tr>\n",
       "<tr>\n",
       "<td width=\"170\">الرقم الوطني</td>\n",
       "<td></td>\n",
       "</tr>\n",
       "<tr>\n",
       "<td width=\"170\">رقم الهويه</td>\n",
       "<td></td>\n",
       "</tr>\n",
       "<tr>\n",
       "</tr>\n",
       "<tr>\n",
       "<td width=\"170\">تاريخ الوفاة</td>\n",
       "<td>2017-06-30</td>\n",
       "</tr>\n",
       "<tr>\n",
       "<td width=\"170\">مكان الوفاة</td>\n",
       "<td></td>\n",
       "</tr>\n",
       "<tr>\n",
       "<td width=\"170\">سبب الوفاة</td>\n",
       "<td>قصف الجوي</td>\n",
       "</tr>\n",
       "<tr>\n",
       "<td width=\"170\">السبب المباشر للوفاة</td>\n",
       "<td></td>\n",
       "</tr>\n",
       "<tr>\n",
       "<td width=\"170\">طريقة الإعدام</td>\n",
       "<td></td>\n",
       "</tr>\n",
       "<tr>\n",
       "<td width=\"170\">ملف سيزر</td>\n",
       "<td></td>\n",
       "</tr>\n",
       "<tr>\n",
       "<td width=\"170\">الجهة الفاعلة</td>\n",
       "<td>قوات التحالف الدولي</td>\n",
       "</tr>\n",
       "<tr>\n",
       "<td width=\"170\">نوع السلاح</td>\n",
       "<td></td>\n",
       "</tr>\n",
       "<tr>\n",
       "<td width=\"170\">إسم الفصيل</td>\n",
       "<td></td>\n",
       "</tr>\n",
       "<tr>\n",
       "<td width=\"170\">المصدر</td>\n",
       "<td></td>\n",
       "</tr>\n",
       "<tr>\n",
       "<td width=\"170\">الرابط</td>\n",
       "<td></td>\n",
       "</tr>\n",
       "<tr>\n",
       "<td width=\"170\">الرابط</td>\n",
       "<td></td>\n",
       "</tr>\n",
       "<tr>\n",
       "<td width=\"170\">الرتبة/الوضع العسكري</td>\n",
       "<td></td>\n",
       "</tr>\n",
       "<tr>\n",
       "<td width=\"170\">معلومات اضافيه</td>\n",
       "<td>نتيجة قصف قرب بلدة العكيرشي</td>\n",
       "</tr>\n",
       "<!-- ************************ VIDEOS *** -->\n",
       "<!-- ************************ END VIDEOS *** -->\n",
       "<!-- ************************ LINKS *** -->\n",
       "<!-- ************************ END LINKS *** -->\n",
       "<tr><td colspan=\"2\"> </td></tr>\n",
       "</table>\n",
       "</div>\n",
       "</div> <!-- mainContent -->\n",
       "<div style=\"clear:both;\"></div>\n",
       "<div id=\"footer\">\n",
       "<div style=\"margin: 0 auto; text-align:left; width:100%;\">\n",
       "<div style=\"margin: 0 auto; text-align:center; padding-bottom:20px; width:100%;\">\n",
       "<div style=\"float:right; margin-right:20px;\">\n",
       "<a href=\"https://www.facebook.com/vdcsy\" target=\"_blank\"><img alt=\"VDC on Facebook\" src=\"/images/facebook-icon.png\" title=\"VDC on Facebook\"/><br/>Facebook</a>\n",
       "</div>\n",
       "<div style=\"float:right;margin-right:20px;\">\n",
       "<a href=\"https://twitter.com/VDC_Syria\" target=\"_blank\"><img alt=\"VDC on Twitter\" src=\"/images/twitter-icon.png\" title=\"VDC on Twitter\"/><br/>Twitter</a>\n",
       "</div>\n",
       "<div style=\"float:right;margin-right:20px;\">\n",
       "<a href=\"http://www.youtube.com/user/VDCSYRIA\" target=\"_blank\"><img alt=\"VDC on Youtube\" src=\"/images/youtube-icon.png\" title=\"VDC on Youtube\"/><br/>Youtube</a>\n",
       "</div>\n",
       "</div>\n",
       "<div style=\"margin-bottom:10px;\">\n",
       "<a href=\"http://creativecommons.org/licenses/by-nc/3.0/deed.en_US\" rel=\"license\"><img alt=\"Creative Commons License\" src=\"http://i.creativecommons.org/l/by-nc/3.0/88x31.png\" style=\"border-width:0\"/></a>\n",
       "</div>\n",
       "<div>\n",
       "<span property=\"dct:title\" xmlns:dct=\"http://purl.org/dc/terms/\">The Violation Documentation Center in Syria</span> by <a href=\"http://www.vdc-sy.info/\" property=\"cc:attributionName\" rel=\"cc:attributionURL\" xmlns:cc=\"http://creativecommons.org/ns#\">The Violation Documentation Center in Syria</a> <br/>is licensed under a <a href=\"http://creativecommons.org/licenses/by-nc/3.0/deed.en_US\" rel=\"license\">Creative Commons Attribution-NonCommercial 3.0 Unported License</a>.<br/>Based on a work at <a href=\"http://www.vdc-sy.info/\" rel=\"dct:source\" xmlns:dct=\"http://purl.org/dc/terms/\">http://www.vdc-sy.info/</a>.\n",
       "\t\t\t\t\t\t</div>\n",
       "</div>\n",
       "</div>\n",
       "</div> <!-- contentBody -->\n",
       "<div style=\"clear:both;\"></div>\n",
       "</div> <!-- //container -->\n",
       "</div> <!-- //mainContainer -->\n",
       "</body>\n",
       "</html>"
      ]
     },
     "execution_count": 20,
     "metadata": {},
     "output_type": "execute_result"
    }
   ],
   "source": [
    "soup"
   ]
  },
  {
   "cell_type": "code",
   "execution_count": 26,
   "metadata": {
    "collapsed": true
   },
   "outputs": [],
   "source": [
    "result = requests.get(\"http://www.vdc-sy.info/index.php/ar/martyrs/1/c29ydGJ5PWEua2lsbGVkX2RhdGV8c29ydGRpcj1ERVNDfGFwcHJvdmVkPXZpc2libGV8ZXh0cmFkaXNwbGF5PTB8\")"
   ]
  },
  {
   "cell_type": "code",
   "execution_count": null,
   "metadata": {
    "collapsed": true
   },
   "outputs": [],
   "source": []
  },
  {
   "cell_type": "code",
   "execution_count": 32,
   "metadata": {},
   "outputs": [
    {
     "name": "stdout",
     "output_type": "stream",
     "text": [
      "http://vdc-sy.net/\n",
      "http://vdc-sy.net\n",
      "http://www.vdc-sy.info/index.php/ar/martyrs\n",
      "http://www.vdc-sy.info/index.php/ar/detainees\n",
      "http://www.vdc-sy.info/index.php/ar/missing\n",
      "#\n",
      "http://www.vdc-sy.info/index.php/ar/submit/martyrs\n",
      "http://www.vdc-sy.info/index.php/ar/submit/detainees\n",
      "http://www.vdc-sy.info/index.php/ar/submit/missing\n",
      "http://www.vdc-sy.info/index.php/ar/submit/kidnapping\n",
      "http://www.vdc-sy.info/index.php/ar/martyrs/2/c29ydGJ5PWEua2lsbGVkX2RhdGV8c29ydGRpcj1ERVNDfGFwcHJvdmVkPXZpc2libGV8ZXh0cmFkaXNwbGF5PTB8\n",
      "http://www.vdc-sy.info/index.php/ar/martyrs/3/c29ydGJ5PWEua2lsbGVkX2RhdGV8c29ydGRpcj1ERVNDfGFwcHJvdmVkPXZpc2libGV8ZXh0cmFkaXNwbGF5PTB8\n",
      "http://www.vdc-sy.info/index.php/ar/martyrs/4/c29ydGJ5PWEua2lsbGVkX2RhdGV8c29ydGRpcj1ERVNDfGFwcHJvdmVkPXZpc2libGV8ZXh0cmFkaXNwbGF5PTB8\n",
      "http://www.vdc-sy.info/index.php/ar/martyrs/5/c29ydGJ5PWEua2lsbGVkX2RhdGV8c29ydGRpcj1ERVNDfGFwcHJvdmVkPXZpc2libGV8ZXh0cmFkaXNwbGF5PTB8\n",
      "http://www.vdc-sy.info/index.php/ar/martyrs/6/c29ydGJ5PWEua2lsbGVkX2RhdGV8c29ydGRpcj1ERVNDfGFwcHJvdmVkPXZpc2libGV8ZXh0cmFkaXNwbGF5PTB8\n",
      "http://www.vdc-sy.info/index.php/ar/martyrs/1730/c29ydGJ5PWEua2lsbGVkX2RhdGV8c29ydGRpcj1ERVNDfGFwcHJvdmVkPXZpc2libGV8ZXh0cmFkaXNwbGF5PTB8\n",
      "javascript:sortOn('a.full_name' , 'ASC')\n",
      "javascript:sortOn('a.full_name' , 'DESC')\n",
      "javascript:sortOn('a.military_id' , 'ASC')\n",
      "javascript:sortOn('a.military_id' , 'DESC')\n",
      "javascript:sortOn('a.sex_id' , 'ASC')\n",
      "javascript:sortOn('a.sex_id' , 'DESC')\n",
      "javascript:sortOn('a.province_id' , 'ASC')\n",
      "javascript:sortOn('a.province_id' , 'DESC')\n",
      "javascript:sortOn('a.area' , 'ASC')\n",
      "javascript:sortOn('a.area' , 'DESC')\n",
      "javascript:sortOn('a.killed_date' , 'ASC')\n",
      "javascript:sortOn('a.killed_date' , 'DESC')\n",
      "javascript:sortOn('a.cod_id' , 'ASC')\n",
      "javascript:sortOn('a.cod_id' , 'DESC')\n",
      "javascript:sortOn('a.actor_id' , 'ASC')\n",
      "javascript:sortOn('a.actor_id' , 'DESC')\n",
      "/index.php/ar/details/martyrs/189729\n",
      "/index.php/ar/details/martyrs/189730\n",
      "/index.php/ar/details/martyrs/189739\n",
      "/index.php/ar/details/martyrs/189740\n",
      "/index.php/ar/details/martyrs/189741\n",
      "/index.php/ar/details/martyrs/189747\n",
      "/index.php/ar/details/martyrs/189748\n",
      "/index.php/ar/details/martyrs/189749\n",
      "/index.php/ar/details/martyrs/189696\n",
      "/index.php/ar/details/martyrs/189697\n",
      "/index.php/ar/details/martyrs/189720\n",
      "/index.php/ar/details/martyrs/189744\n",
      "/index.php/ar/details/martyrs/189745\n",
      "/index.php/ar/details/martyrs/189675\n",
      "/index.php/ar/details/martyrs/189694\n",
      "/index.php/ar/details/martyrs/189710\n",
      "/index.php/ar/details/martyrs/189711\n",
      "/index.php/ar/details/martyrs/189736\n",
      "/index.php/ar/details/martyrs/189786\n",
      "/index.php/ar/details/martyrs/189787\n",
      "/index.php/ar/details/martyrs/189788\n",
      "/index.php/ar/details/martyrs/189789\n",
      "/index.php/ar/details/martyrs/189790\n",
      "/index.php/ar/details/martyrs/189791\n",
      "/index.php/ar/details/martyrs/189792\n",
      "/index.php/ar/details/martyrs/189793\n",
      "/index.php/ar/details/martyrs/189794\n",
      "/index.php/ar/details/martyrs/189795\n",
      "/index.php/ar/details/martyrs/189796\n",
      "/index.php/ar/details/martyrs/189798\n",
      "/index.php/ar/details/martyrs/189799\n",
      "/index.php/ar/details/martyrs/189800\n",
      "/index.php/ar/details/martyrs/189811\n",
      "/index.php/ar/details/martyrs/189569\n",
      "/index.php/ar/details/martyrs/189640\n",
      "/index.php/ar/details/martyrs/189646\n",
      "/index.php/ar/details/martyrs/189658\n",
      "/index.php/ar/details/martyrs/189659\n",
      "/index.php/ar/details/martyrs/189660\n",
      "/index.php/ar/details/martyrs/189661\n",
      "/index.php/ar/details/martyrs/189662\n",
      "/index.php/ar/details/martyrs/189663\n",
      "/index.php/ar/details/martyrs/189664\n",
      "/index.php/ar/details/martyrs/189665\n",
      "/index.php/ar/details/martyrs/189666\n",
      "/index.php/ar/details/martyrs/189667\n",
      "/index.php/ar/details/martyrs/189668\n",
      "/index.php/ar/details/martyrs/189669\n",
      "/index.php/ar/details/martyrs/189670\n",
      "/index.php/ar/details/martyrs/189689\n",
      "/index.php/ar/details/martyrs/189712\n",
      "/index.php/ar/details/martyrs/189713\n",
      "/index.php/ar/details/martyrs/189714\n",
      "/index.php/ar/details/martyrs/189715\n",
      "/index.php/ar/details/martyrs/189716\n",
      "/index.php/ar/details/martyrs/189717\n",
      "/index.php/ar/details/martyrs/189718\n",
      "/index.php/ar/details/martyrs/189719\n",
      "/index.php/ar/details/martyrs/189752\n",
      "/index.php/ar/details/martyrs/189754\n",
      "/index.php/ar/details/martyrs/189755\n",
      "/index.php/ar/details/martyrs/189756\n",
      "/index.php/ar/details/martyrs/189757\n",
      "/index.php/ar/details/martyrs/189758\n",
      "/index.php/ar/details/martyrs/189759\n",
      "/index.php/ar/details/martyrs/189760\n",
      "/index.php/ar/details/martyrs/189761\n",
      "/index.php/ar/details/martyrs/189807\n",
      "/index.php/ar/details/martyrs/189808\n",
      "/index.php/ar/details/martyrs/189809\n",
      "/index.php/ar/details/martyrs/189810\n",
      "/index.php/ar/details/martyrs/189812\n",
      "/index.php/ar/details/martyrs/189813\n",
      "/index.php/ar/details/martyrs/189566\n",
      "/index.php/ar/details/martyrs/189567\n",
      "/index.php/ar/details/martyrs/189568\n",
      "/index.php/ar/details/martyrs/189709\n",
      "/index.php/ar/details/martyrs/189753\n",
      "/index.php/ar/details/martyrs/189616\n",
      "/index.php/ar/details/martyrs/189617\n",
      "/index.php/ar/details/martyrs/189618\n",
      "/index.php/ar/details/martyrs/189625\n",
      "/index.php/ar/details/martyrs/189626\n",
      "/index.php/ar/details/martyrs/189627\n",
      "/index.php/ar/details/martyrs/189628\n",
      "/index.php/ar/details/martyrs/189629\n",
      "/index.php/ar/details/martyrs/189630\n",
      "/index.php/ar/details/martyrs/189631\n",
      "/index.php/ar/details/martyrs/189636\n",
      "/index.php/ar/details/martyrs/189637\n",
      "/index.php/ar/details/martyrs/189638\n",
      "/index.php/ar/details/martyrs/189639\n",
      "/index.php/ar/details/martyrs/189676\n",
      "/index.php/ar/details/martyrs/189814\n",
      "/index.php/ar/details/martyrs/189674\n",
      "/index.php/ar/details/martyrs/189686\n",
      "/index.php/ar/details/martyrs/189687\n",
      "/index.php/ar/details/martyrs/189688\n",
      "/index.php/ar/details/martyrs/189700\n",
      "/index.php/ar/details/martyrs/189701\n",
      "https://www.facebook.com/vdcsy\n",
      "https://twitter.com/VDC_Syria\n",
      "http://www.youtube.com/user/VDCSYRIA\n",
      "http://creativecommons.org/licenses/by-nc/3.0/deed.en_US\n",
      "http://www.vdc-sy.info/\n",
      "http://creativecommons.org/licenses/by-nc/3.0/deed.en_US\n",
      "http://www.vdc-sy.info/\n"
     ]
    }
   ],
   "source": [
    "content = result.content\n",
    "soup = BeautifulSoup(content,\"lxml\")\n",
    "for link in soup.find_all(\"a\"):\n",
    "    print(link.get(\"href\"))"
   ]
  },
  {
   "cell_type": "code",
   "execution_count": 4,
   "metadata": {
    "collapsed": true
   },
   "outputs": [],
   "source": [
    "# http://www.vdc-sy.info/index.php/ar/details/martyrs/189729\n",
    "link_list = []\n",
    "\n",
    "def extract_links_from_results_page(idx,code):\n",
    "    uri = \"http://www.vdc-sy.info/index.php/ar/martyrs/\" + str(idx) + \"/\" + code\n",
    "    result = requests.get(uri)\n",
    "    soup = BeautifulSoup(result.content,\"lxml\")\n",
    "    for link in soup.find_all(\"a\"):\n",
    "        href = link.get(\"href\")\n",
    "        if \"/details/martyrs/\" in href:\n",
    "            martyr_link = \"http://www.vdc-sy.info\" + href\n",
    "            link_list.append(martyr_link)\n",
    "            "
   ]
  },
  {
   "cell_type": "code",
   "execution_count": 5,
   "metadata": {},
   "outputs": [
    {
     "name": "stdout",
     "output_type": "stream",
     "text": [
      "100\n",
      "200\n",
      "300\n",
      "400\n",
      "500\n",
      "600\n",
      "700\n",
      "800\n",
      "900\n",
      "1000\n",
      "1100\n",
      "1200\n",
      "1300\n",
      "1400\n",
      "1500\n",
      "1600\n",
      "1700\n"
     ]
    }
   ],
   "source": [
    "link_list = []\n",
    "for num in range(1,1735):\n",
    "    extract_links_from_results_page(num,\"c29ydGJ5PWEua2lsbGVkX2RhdGV8c29ydGRpcj1ERVNDfGFwcHJvdmVkPXZpc2libGV8ZXh0cmFkaXNwbGF5PTB8\")\n",
    "    sleep(1)\n",
    "    if num % 100 == 0:\n",
    "        print(num)"
   ]
  },
  {
   "cell_type": "code",
   "execution_count": 6,
   "metadata": {},
   "outputs": [
    {
     "data": {
      "text/plain": [
       "173368"
      ]
     },
     "execution_count": 6,
     "metadata": {},
     "output_type": "execute_result"
    }
   ],
   "source": [
    "len(link_list)"
   ]
  },
  {
   "cell_type": "code",
   "execution_count": 3,
   "metadata": {
    "collapsed": true
   },
   "outputs": [],
   "source": [
    "db = dataset.connect(\"sqlite:///vdc.sqlite\")\n",
    "tab = db['links']"
   ]
  },
  {
   "cell_type": "code",
   "execution_count": 54,
   "metadata": {
    "collapsed": true
   },
   "outputs": [],
   "source": [
    "# for link in link_list:\n",
    "#     en_link = link.replace(\"/ar/\",\"/en/\")\n",
    "#     rec = {\"ar_link\":link,\"en_link\":en_link}\n",
    "#     tab.insert(rec)"
   ]
  },
  {
   "cell_type": "code",
   "execution_count": 4,
   "metadata": {
    "collapsed": true
   },
   "outputs": [],
   "source": [
    "tab_ar = db['content_ar']\n",
    "tab_en = db['content_en']"
   ]
  },
  {
   "cell_type": "code",
   "execution_count": 6,
   "metadata": {
    "collapsed": true
   },
   "outputs": [],
   "source": [
    "def get_content_table(link):\n",
    "    result = requests.get(link)\n",
    "    content = result.content\n",
    "    soup = BeautifulSoup(content.decode(),\"lxml\")\n",
    "    table = soup.find(\"table\")\n",
    "    if table is None:\n",
    "        return table\n",
    "    else:\n",
    "        return str(table)\n",
    "\n",
    "for rec in tab.find(_limit=2):\n",
    "    # Arabic\n",
    "    try:\n",
    "        content_table = get_content_table(rec['ar_link'])\n",
    "        ar = {\"content\":content_table,\n",
    "              \"url\":rec['ar_link'], \n",
    "              \"link_id\":rec['id'], \n",
    "              \"lang\":\"ar\", \n",
    "              \"success\":1}\n",
    "        tab_ar.insert(ar)\n",
    "        sleep(1)\n",
    "    except:\n",
    "        ar = {\"content\":None,\n",
    "              \"url\":rec['ar_link'], \n",
    "              \"link_id\":rec['id'], \n",
    "              \"lang\":\"ar\", \n",
    "              \"success\":0}\n",
    "        tab_ar.insert(ar)\n",
    "        sleep(1)\n",
    "    \n",
    "    # English\n",
    "    try:\n",
    "        content_table = get_content_table(rec['en_link'])\n",
    "        en = {\"content\":content_table,\n",
    "              \"url\":rec['en_link'], \n",
    "              \"link_id\":rec['id'], \n",
    "              \"lang\":\"en\", \n",
    "              \"success\":1}\n",
    "        tab_en.insert(en)\n",
    "        sleep(1)\n",
    "    except:\n",
    "        en = {\"content\":None,\n",
    "              \"url\":rec['en_link'], \n",
    "              \"link_id\":rec['id'], \n",
    "              \"lang\":\"en\",\n",
    "              \"success\":0}\n",
    "        tab_en.insert(en)\n",
    "        sleep(1)"
   ]
  },
  {
   "cell_type": "code",
   "execution_count": 46,
   "metadata": {},
   "outputs": [
    {
     "data": {
      "text/plain": [
       "OrderedDict([('id', 1),\n",
       "             ('ar_link',\n",
       "              'http://www.vdc-sy.info/index.php/ar/details/martyrs/190288'),\n",
       "             ('en_link',\n",
       "              'http://www.vdc-sy.info/index.php/en/details/martyrs/190288')])"
      ]
     },
     "execution_count": 46,
     "metadata": {},
     "output_type": "execute_result"
    }
   ],
   "source": [
    "tab.find_one()"
   ]
  },
  {
   "cell_type": "code",
   "execution_count": 48,
   "metadata": {
    "collapsed": true
   },
   "outputs": [],
   "source": [
    "t = get_content_table(\"http://www.vdc-sy.info/index.php/ar/details/martyrs/190288\")"
   ]
  },
  {
   "cell_type": "code",
   "execution_count": 49,
   "metadata": {},
   "outputs": [
    {
     "data": {
      "text/plain": [
       "bs4.element.Tag"
      ]
     },
     "execution_count": 49,
     "metadata": {},
     "output_type": "execute_result"
    }
   ],
   "source": [
    "type(t)"
   ]
  },
  {
   "cell_type": "code",
   "execution_count": 52,
   "metadata": {},
   "outputs": [
    {
     "data": {
      "text/plain": [
       "'<table class=\"peopleListing table-hover table-condensed table-striped\">\\n<tr>\\n<td colspan=\"2\">\\n<!-- AddThis Button BEGIN -->\\n<div class=\"addthis_toolbox addthis_default_style addthis_32x32_style\" style=\"padding:10px 0 10px 20px; float:left;\">\\n<a class=\"addthis_button_preferred_1\"></a>\\n<a class=\"addthis_button_preferred_2\"></a>\\n<a class=\"addthis_button_preferred_3\"></a>\\n<a class=\"addthis_button_preferred_4\"></a>\\n<a class=\"addthis_button_compact\"></a>\\n<a class=\"addthis_counter addthis_bubble_style\"></a>\\n</div>\\n<script type=\"text/javascript\">var addthis_config = {\"data_track_addressbar\":true};</script>\\n<script src=\"//s7.addthis.com/js/300/addthis_widget.js#pubid=ra-4e5936cd1bb03577\" type=\"text/javascript\"></script>\\n<!-- AddThis Button END -->\\n<a href=\"javascript:window.print()\">Print This Page</a>\\n</td>\\n</tr>\\n<tr>\\n<td colspan=\"2\">\\n<div style=\"text-align:center; float:right;\">\\n<a href=\"/index.php/ar/martyrs/1/\">Return to List</a>\\n</div>\\n<div style=\"clear:both;\"></div>\\n</td>\\n</tr>\\n<!-- ************************ PHOTOS *** -->\\n<!-- ************************ END PHOTOS *** -->\\n<tr>\\n<td width=\"170\">الاسم</td>\\n<td>محمد راتب القالش</td>\\n</tr>\\n<tr>\\n<td width=\"170\">المحافظة</td>\\n<td>ريف دمشق</td>\\n</tr>\\n<tr>\\n<td width=\"170\">الجنس</td>\\n<td>ذكر - بالغ</td>\\n</tr>\\n<tr>\\n<td width=\"170\">الفئة</td>\\n<td>غير مدني</td>\\n</tr>\\n<tr>\\n<td width=\"170\">إسم الام</td>\\n<td></td>\\n</tr>\\n<tr>\\n<td width=\"170\">تاريخ التولد</td>\\n<td>0000-00-00</td>\\n</tr>\\n<tr>\\n<td width=\"170\">عدد الأولاد</td>\\n<td></td>\\n</tr>\\n<tr>\\n<td width=\"170\">العمر</td>\\n<td>0</td>\\n</tr>\\n<tr>\\n<td width=\"170\">الحالة الزوجية</td>\\n<td>غير معروف</td>\\n</tr>\\n<tr>\\n<td width=\"170\">المنطقة / مكان التولد</td>\\n<td>عربين</td>\\n</tr>\\n<tr>\\n<td width=\"170\">المهنه</td>\\n<td></td>\\n</tr>\\n<tr>\\n<td width=\"170\">الرقم الوطني</td>\\n<td></td>\\n</tr>\\n<tr>\\n<td width=\"170\">رقم الهويه</td>\\n<td></td>\\n</tr>\\n<tr>\\n</tr>\\n<tr>\\n<td width=\"170\">تاريخ الوفاة</td>\\n<td>2017-07-18</td>\\n</tr>\\n<tr>\\n<td width=\"170\">مكان الوفاة</td>\\n<td>ريف دمشق: الغوطة الشرقية</td>\\n</tr>\\n<tr>\\n<td width=\"170\">سبب الوفاة</td>\\n<td>اطلاق نار</td>\\n</tr>\\n<tr>\\n<td width=\"170\">السبب المباشر للوفاة</td>\\n<td></td>\\n</tr>\\n<tr>\\n<td width=\"170\">طريقة الإعدام</td>\\n<td></td>\\n</tr>\\n<tr>\\n<td width=\"170\">ملف سيزر</td>\\n<td></td>\\n</tr>\\n<tr>\\n<td width=\"170\">الجهة الفاعلة</td>\\n<td>الحكومة السورية والميليشيات التابعة لها</td>\\n</tr>\\n<tr>\\n<td width=\"170\">نوع السلاح</td>\\n<td></td>\\n</tr>\\n<tr>\\n<td width=\"170\">إسم الفصيل</td>\\n<td></td>\\n</tr>\\n<tr>\\n<td width=\"170\">المصدر</td>\\n<td></td>\\n</tr>\\n<tr>\\n<td width=\"170\">الرابط</td>\\n<td></td>\\n</tr>\\n<tr>\\n<td width=\"170\">الرابط</td>\\n<td></td>\\n</tr>\\n<tr>\\n<td width=\"170\">الرتبة/الوضع العسكري</td>\\n<td>الجيش الحر</td>\\n</tr>\\n<tr>\\n<td width=\"170\">معلومات اضافيه</td>\\n<td></td>\\n</tr>\\n<!-- ************************ VIDEOS *** -->\\n<!-- ************************ END VIDEOS *** -->\\n<!-- ************************ LINKS *** -->\\n<!-- ************************ END LINKS *** -->\\n<tr><td colspan=\"2\">\\xa0</td></tr>\\n</table>'"
      ]
     },
     "execution_count": 52,
     "metadata": {},
     "output_type": "execute_result"
    }
   ],
   "source": [
    "str(t)"
   ]
  },
  {
   "cell_type": "code",
   "execution_count": 10,
   "metadata": {
    "collapsed": true
   },
   "outputs": [],
   "source": [
    "recs = db.query(\"\"\"SELECT * FROM links \n",
    "                   WHERE id NOT IN (\n",
    "                    SELECT id FROM content_ar\n",
    "                );\"\"\")"
   ]
  },
  {
   "cell_type": "code",
   "execution_count": 11,
   "metadata": {},
   "outputs": [
    {
     "name": "stdout",
     "output_type": "stream",
     "text": [
      "OrderedDict([('id', 3), ('ar_link', 'http://www.vdc-sy.info/index.php/ar/details/martyrs/190290'), ('en_link', 'http://www.vdc-sy.info/index.php/en/details/martyrs/190290')])\n"
     ]
    }
   ],
   "source": [
    "for r in recs:\n",
    "    print(r)\n",
    "    break"
   ]
  },
  {
   "cell_type": "code",
   "execution_count": 2,
   "metadata": {},
   "outputs": [
    {
     "data": {
      "text/plain": [
       "[1, 2, 3]"
      ]
     },
     "execution_count": 2,
     "metadata": {},
     "output_type": "execute_result"
    }
   ],
   "source": [
    "a = [1,2,3]\n",
    "b = []\n",
    "b + a"
   ]
  },
  {
   "cell_type": "code",
   "execution_count": null,
   "metadata": {
    "collapsed": true
   },
   "outputs": [],
   "source": []
  }
 ],
 "metadata": {
  "kernelspec": {
   "display_name": "Python 3",
   "language": "python",
   "name": "python3"
  },
  "language_info": {
   "codemirror_mode": {
    "name": "ipython",
    "version": 3
   },
   "file_extension": ".py",
   "mimetype": "text/x-python",
   "name": "python",
   "nbconvert_exporter": "python",
   "pygments_lexer": "ipython3",
   "version": "3.6.1"
  }
 },
 "nbformat": 4,
 "nbformat_minor": 2
}
