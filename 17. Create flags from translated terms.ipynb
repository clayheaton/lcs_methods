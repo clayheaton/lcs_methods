{
 "cells": [
  {
   "cell_type": "code",
   "execution_count": 1,
   "metadata": {
    "collapsed": true
   },
   "outputs": [],
   "source": [
    "# Manipulate the file system\n",
    "import os\n",
    "import shutil\n",
    "\n",
    "# Copy dictionaries\n",
    "import copy\n",
    "\n",
    "# Regular expressions\n",
    "import re\n",
    "\n",
    "# Display errors in realtime\n",
    "import ipywidgets as widgets\n",
    "\n",
    "# work with dates\n",
    "import datetime\n",
    "import arrow\n",
    "import time\n",
    "\n",
    "# For scrubbing PII\n",
    "import hashlib\n",
    "\n",
    "# Convert stored string representation of a list to a list\n",
    "import ast\n",
    "\n",
    "# Recurse through a directory tree and return file names with glob\n",
    "import glob\n",
    "\n",
    "# Decode and re-encode mangled Arabic file names\n",
    "import codecs\n",
    "\n",
    "# Connect to a SQLite database in a lazy manner.\n",
    "import sqlalchemy\n",
    "import dataset\n",
    "\n",
    "# Enables opening and reading of Excel files\n",
    "import openpyxl\n",
    "\n",
    "# Import Pandas for easy importing of an excel file\n",
    "import csv\n",
    "\n",
    "# Translating variables, sheet names, and workbook names from Arabic\n",
    "# This is NOT free to use.\n",
    "from google.cloud import translate\n",
    "\n",
    "# Set the environment variable for the Google Service Account\n",
    "os.environ['GOOGLE_APPLICATION_CREDENTIALS'] = 'C:\\\\Users\\\\clay\\\\Documents\\\\fxb-lcs-2b24f4f8a73a.json'"
   ]
  },
  {
   "cell_type": "code",
   "execution_count": 2,
   "metadata": {},
   "outputs": [
    {
     "name": "stdout",
     "output_type": "stream",
     "text": [
      "Removed template clone sams_data_phase17.sqlite\n",
      "Created database from template: sams_data_phase17.sqlite\n"
     ]
    }
   ],
   "source": [
    "#If there's an existing db for this sheet, delete it\n",
    "#so that we can copy from the template for a fresh start\n",
    "\n",
    "try:\n",
    "    os.remove(\"sams_data_phase17.sqlite\")\n",
    "    print(\"Removed template clone sams_data_phase17.sqlite\")\n",
    "except:\n",
    "    pass\n",
    "\n",
    "try:\n",
    "    # Try to preserve a copy in case there is a problem and it has to be restored\n",
    "    shutil.copy2(\"sams_data_phase17_template.sqlite\",\"sams_data_phase17.sqlite\")\n",
    "    \n",
    "    print(\"Created database from template: sams_data_phase17.sqlite\")\n",
    "except:\n",
    "    pass"
   ]
  },
  {
   "cell_type": "code",
   "execution_count": 3,
   "metadata": {
    "collapsed": true
   },
   "outputs": [],
   "source": [
    "db = dataset.connect(\"sqlite:///sams_data_phase17.sqlite\")"
   ]
  },
  {
   "cell_type": "code",
   "execution_count": 4,
   "metadata": {
    "collapsed": true
   },
   "outputs": [],
   "source": [
    "tab_arabic_values = db['arabic_values']\n",
    "data = [x for x in tab_arabic_values]"
   ]
  },
  {
   "cell_type": "code",
   "execution_count": 5,
   "metadata": {
    "collapsed": true
   },
   "outputs": [],
   "source": [
    "# Require and flag term\n",
    "flag_terms = [\n",
    "    \"injury\",\n",
    "    \"blunt\",\n",
    "    \"trauma\",\n",
    "    \"shrapnel\",\n",
    "    \"traffic\",\n",
    "    \"explosive\",\n",
    "    \"blast\",\n",
    "    \"gunshot\",\n",
    "    \"stab\",\n",
    "    \"wound\",\n",
    "    \"upper extremity\",\n",
    "    \"lower extremity\",\n",
    "    \"neck\",\n",
    "    \"chest\",\n",
    "    \"back\",\n",
    "    \"spinal\",\n",
    "    \"neurologic\",\n",
    "    \"nerve\",\n",
    "    \"vascular\",\n",
    "    \"orthopedic\",\n",
    "    \"fracture\",\n",
    "    \"suspected\",\n",
    "    \"follow-up\",\n",
    "    \"complication\",\n",
    "    \"history of\"\n",
    "]\n",
    "\n",
    "# require all terms - not in use at the moment\n",
    "multiple_flag_terms = [\n",
    "#     (\"burn\",\"fracture\")\n",
    "]\n",
    "\n",
    "# require any of the terms but name the flag after the first\n",
    "synonym_flag_terms = [\n",
    "    (\"facial\",\"face\"),\n",
    "    (\"pelvic\",\"pelvis\"),\n",
    "    (\"head\",\"eye\",\"ear\",\"face\",\"brain\",\"scalp\",\"mouth\",\"nose\"),\n",
    "    (\"spine\",\"spinal\"),\n",
    "    (\"abdomen\",\"abdominal\")\n",
    "]\n",
    "\n",
    "# require the first term and the absence of the remaining terms\n",
    "# name the flag after the first term.\n",
    "complex_flag_terms = [\n",
    "    (\"urologic\",\"neurologic\"),\n",
    "    (\"burn\",\"heartburn\"),\n",
    "    (\"extremity\",\"lower extremity\",\"upper extremity\")\n",
    "]"
   ]
  },
  {
   "cell_type": "code",
   "execution_count": 6,
   "metadata": {
    "collapsed": true
   },
   "outputs": [],
   "source": [
    "# Testing complex_flag_terms\n",
    "\n",
    "# test_phrase1 = \"i think i have heartburn\"\n",
    "# test_phrase2 = 'i burned my hand'\n",
    "\n",
    "# if not any(x in test_phrase2 for x in complex_flag_terms[1][1:]):\n",
    "#     print(\"add flag\")\n",
    "# else:\n",
    "#     print(\"do not add flag\")"
   ]
  },
  {
   "cell_type": "code",
   "execution_count": 7,
   "metadata": {
    "collapsed": true
   },
   "outputs": [],
   "source": [
    "# Testing multiple_flag_terms\n",
    "\n",
    "# test_phrase3 = \"fracture and burn and diarrhea\"\n",
    "# test_phrase4 = \"fracture and diarrhea\"\n",
    "\n",
    "# if all(x in test_phrase4 for x in multiple_flag_terms[0]):\n",
    "#     print(\"add flag\")\n",
    "# else:\n",
    "#     print(\"do not add flag\")"
   ]
  },
  {
   "cell_type": "code",
   "execution_count": 8,
   "metadata": {
    "collapsed": true
   },
   "outputs": [],
   "source": [
    "update_data = []\n",
    "\n",
    "for rec in data:\n",
    "    update_rec = {'id':rec['id']}\n",
    "    update_record = False\n",
    "    \n",
    "    ht = rec['human_translate']\n",
    "    \n",
    "    if ht:\n",
    "        ht = ht.lower()\n",
    "    \n",
    "    gt = rec['google_translate'].lower()\n",
    "    \n",
    "    if ht:\n",
    "        for term in flag_terms:\n",
    "            if term in ht:\n",
    "                update_rec[\"flag_\" + \"_\".join(term.replace(\"-\",\"_\").split())] = 1\n",
    "                update_record = True\n",
    "                \n",
    "        for tup in multiple_flag_terms:\n",
    "            if all(x in ht for x in tup):\n",
    "                update_rec[\"flag_\" + \"_and_\".join(tup)] = 1\n",
    "                update_record = True\n",
    "                \n",
    "        for tup in synonym_flag_terms:\n",
    "            if any(x in ht for x in tup):\n",
    "                update_rec[\"flag_\" + tup[0]] = 1\n",
    "                update_record = True\n",
    "                \n",
    "        for tup in complex_flag_terms:\n",
    "            if tup[0] in ht and not any(x in ht for x in tup[1:]):\n",
    "                update_rec[\"flag_\" + tup[0].replace(\" \",\"_\").replace(\"-\",\"_\")] = 1\n",
    "                update_record = True\n",
    "            \n",
    "        if 'war-related injury' in ht and 'not war-related injury' not in ht:\n",
    "            update_rec['flag_conflict_related'] = 1\n",
    "            update_record = True\n",
    "        \n",
    "    if update_record:\n",
    "        update_data.append(update_rec)\n",
    "    "
   ]
  },
  {
   "cell_type": "code",
   "execution_count": 9,
   "metadata": {},
   "outputs": [
    {
     "data": {
      "text/plain": [
       "33431"
      ]
     },
     "execution_count": 9,
     "metadata": {},
     "output_type": "execute_result"
    }
   ],
   "source": [
    "# The number of records in arabic_values that will be updated\n",
    "len(update_data)"
   ]
  },
  {
   "cell_type": "code",
   "execution_count": 11,
   "metadata": {
    "scrolled": true
   },
   "outputs": [
    {
     "data": {
      "text/plain": [
       "[{'flag_abdomen': 1, 'id': 606},\n",
       " {'flag_head': 1, 'id': 613},\n",
       " {'flag_conflict_related': 1, 'flag_injury': 1, 'id': 614},\n",
       " {'flag_suspected': 1, 'id': 619},\n",
       " {'flag_head': 1, 'id': 628},\n",
       " {'flag_chest': 1, 'id': 636},\n",
       " {'flag_head': 1, 'id': 642},\n",
       " {'flag_suspected': 1, 'id': 643},\n",
       " {'flag_suspected': 1, 'id': 665},\n",
       " {'flag_suspected': 1, 'id': 667},\n",
       " {'flag_fracture': 1, 'flag_lower_extremity': 1, 'id': 670},\n",
       " {'flag_head': 1, 'id': 672},\n",
       " {'flag_wound': 1, 'id': 676},\n",
       " {'flag_back': 1, 'id': 685},\n",
       " {'flag_suspected': 1, 'id': 687},\n",
       " {'flag_suspected': 1, 'id': 690},\n",
       " {'flag_head': 1, 'flag_injury': 1, 'flag_shrapnel': 1, 'id': 699},\n",
       " {'flag_complication': 1, 'flag_lower_extremity': 1, 'id': 700},\n",
       " {'flag_injury': 1,\n",
       "  'flag_neurologic': 1,\n",
       "  'flag_upper_extremity': 1,\n",
       "  'id': 701},\n",
       " {'flag_head': 1, 'id': 702},\n",
       " {'flag_head': 1, 'flag_injury': 1, 'flag_shrapnel': 1, 'id': 703},\n",
       " {'flag_head': 1,\n",
       "  'flag_injury': 1,\n",
       "  'flag_neurologic': 1,\n",
       "  'flag_shrapnel': 1,\n",
       "  'flag_upper_extremity': 1,\n",
       "  'id': 704},\n",
       " {'flag_fracture': 1,\n",
       "  'flag_injury': 1,\n",
       "  'flag_nerve': 1,\n",
       "  'flag_shrapnel': 1,\n",
       "  'flag_upper_extremity': 1,\n",
       "  'id': 705},\n",
       " {'flag_gunshot': 1, 'flag_injury': 1, 'flag_upper_extremity': 1, 'id': 706},\n",
       " {'flag_fracture': 1, 'flag_head': 1, 'id': 707}]"
      ]
     },
     "execution_count": 11,
     "metadata": {},
     "output_type": "execute_result"
    }
   ],
   "source": [
    "# What the update records look like\n",
    "update_data[:25]"
   ]
  },
  {
   "cell_type": "code",
   "execution_count": 12,
   "metadata": {
    "collapsed": true
   },
   "outputs": [],
   "source": [
    "# Update the arabic_values table\n",
    "for rec in update_data:\n",
    "    tab_arabic_values.update(rec, ['id'])"
   ]
  },
  {
   "cell_type": "markdown",
   "metadata": {},
   "source": [
    "----\n",
    "\n",
    "### Apply flags to raw data\n",
    "\n",
    "1. Pseudo-update the first record to trigger the addition of the flag fields\n",
    "2. Compare each value in each column to an in-memory arabic_values lookup\n",
    "3. Apply relevant flags to the record in question\n",
    "4. Buffer and update the raw table when the buffer is full."
   ]
  },
  {
   "cell_type": "code",
   "execution_count": 13,
   "metadata": {},
   "outputs": [
    {
     "data": {
      "text/plain": [
       "['flag_abdomen',\n",
       " 'flag_back',\n",
       " 'flag_blast',\n",
       " 'flag_blunt',\n",
       " 'flag_burn',\n",
       " 'flag_chest',\n",
       " 'flag_complication',\n",
       " 'flag_conflict_related',\n",
       " 'flag_explosive',\n",
       " 'flag_extremity',\n",
       " 'flag_facial',\n",
       " 'flag_follow_up',\n",
       " 'flag_fracture',\n",
       " 'flag_gunshot',\n",
       " 'flag_head',\n",
       " 'flag_history_of',\n",
       " 'flag_injury',\n",
       " 'flag_lower_extremity',\n",
       " 'flag_neck',\n",
       " 'flag_nerve',\n",
       " 'flag_neurologic',\n",
       " 'flag_orthopedic',\n",
       " 'flag_pelvic',\n",
       " 'flag_shrapnel',\n",
       " 'flag_spinal',\n",
       " 'flag_spine',\n",
       " 'flag_stab',\n",
       " 'flag_suspected',\n",
       " 'flag_traffic',\n",
       " 'flag_trauma',\n",
       " 'flag_upper_extremity',\n",
       " 'flag_urologic',\n",
       " 'flag_vascular',\n",
       " 'flag_wound']"
      ]
     },
     "execution_count": 13,
     "metadata": {},
     "output_type": "execute_result"
    }
   ],
   "source": [
    "# Create flag names\n",
    "\n",
    "flag_names = []\n",
    "\n",
    "for term in flag_terms:\n",
    "    flag_names.append(\"flag_\" + \"_\".join(term.replace(\"-\",\"_\").split()))\n",
    "    \n",
    "for tup in multiple_flag_terms:\n",
    "    flag_names.append(\"flag_\" + \"_and_\".join(tup))\n",
    "    \n",
    "for tup in synonym_flag_terms:\n",
    "    flag_names.append(\"flag_\" + tup[0])\n",
    "    \n",
    "for tup in complex_flag_terms:\n",
    "    flag_names.append(\"flag_\" + tup[0].replace(\" \",\"_\").replace(\"-\",\"_\"))\n",
    "    \n",
    "# Handle the cases added not in the term lists\n",
    "flag_names.append(\"flag_conflict_related\")\n",
    "\n",
    "flag_names = sorted(flag_names)\n",
    "flag_names"
   ]
  },
  {
   "cell_type": "code",
   "execution_count": 14,
   "metadata": {
    "collapsed": true
   },
   "outputs": [],
   "source": [
    "tab_raw_ar = db['full_raw_scrubbed']\n",
    "tab_raw_en = db['full_raw_english']"
   ]
  },
  {
   "cell_type": "code",
   "execution_count": 15,
   "metadata": {},
   "outputs": [
    {
     "data": {
      "text/plain": [
       "1"
      ]
     },
     "execution_count": 15,
     "metadata": {},
     "output_type": "execute_result"
    }
   ],
   "source": [
    "# Add flag columns to the raw Arabic data\n",
    "rec_raw = tab_raw_ar.find_one()\n",
    "update_rec = {'id':rec_raw['id']}\n",
    "for name in flag_names:\n",
    "    update_rec[name] = None\n",
    "tab_raw_ar.update(update_rec,['id'])"
   ]
  },
  {
   "cell_type": "code",
   "execution_count": 16,
   "metadata": {},
   "outputs": [
    {
     "data": {
      "text/plain": [
       "1"
      ]
     },
     "execution_count": 16,
     "metadata": {},
     "output_type": "execute_result"
    }
   ],
   "source": [
    "# Add flag columns to the raw English data\n",
    "rec_raw = tab_raw_en.find_one()\n",
    "update_rec = {'id':rec_raw['id']}\n",
    "for name in flag_names:\n",
    "    update_rec[name] = None\n",
    "tab_raw_en.update(update_rec,['id'])"
   ]
  },
  {
   "cell_type": "code",
   "execution_count": 17,
   "metadata": {
    "collapsed": true
   },
   "outputs": [],
   "source": [
    "# Get the list of variables used in full_raw_scrubbed and full_raw_english\n",
    "rec_raw = tab_raw_ar.find_one()\n",
    "variables = list(rec_raw.keys())"
   ]
  },
  {
   "cell_type": "code",
   "execution_count": 18,
   "metadata": {
    "collapsed": true
   },
   "outputs": [],
   "source": [
    "# Create the in-memory arabic_values lookup\n",
    "arabic_lookup = {}\n",
    "\n",
    "arabic_values = [x for x in tab_arabic_values.find()]\n",
    "\n",
    "for v in arabic_values:\n",
    "    arabic_lookup[v['arabic']] = v"
   ]
  },
  {
   "cell_type": "code",
   "execution_count": 19,
   "metadata": {
    "collapsed": true
   },
   "outputs": [],
   "source": [
    "reduced_variables = [\"diagnosis\"]"
   ]
  },
  {
   "cell_type": "code",
   "execution_count": 20,
   "metadata": {
    "collapsed": true
   },
   "outputs": [],
   "source": [
    "buffer_size = 1000\n",
    "\n",
    "flags_to_insert = []\n",
    "flags_to_insert_reduced = []\n",
    "\n",
    "try:\n",
    "    tab_raw_flags.drop()\n",
    "    tab_raw_flags_reduced.drop()\n",
    "except:\n",
    "    pass\n",
    "\n",
    "tab_raw_flags = db['full_raw_flags']\n",
    "tab_raw_flags_reduced = db['full_raw_flags_reduced']\n",
    "\n",
    "for rec in tab_raw_ar.find():\n",
    "    \n",
    "    # Include foreign keys that allow us to query against the flag table instead of \n",
    "    # joining with the raw data table, which is slow.\n",
    "    flag_record = {\n",
    "        'id':rec['id'],\n",
    "        'file_id':rec['a_file_id'],\n",
    "        'files_sheets_id':rec['a_files_sheets_id'],\n",
    "        'sheet_id':rec['a_sheet_id']\n",
    "    }\n",
    "    \n",
    "    flag_record_reduced = {\n",
    "        'id':rec['id'],\n",
    "        'file_id':rec['a_file_id'],\n",
    "        'files_sheets_id':rec['a_files_sheets_id'],\n",
    "        'sheet_id':rec['a_sheet_id']\n",
    "    }\n",
    "    \n",
    "    # Initialize each flag_record\n",
    "    for flag in flag_names:\n",
    "        flag_record[flag] = None\n",
    "        flag_record_reduced[flag] = None\n",
    "        \n",
    "    # Scan the conflict related column for values, but do this before looking at the\n",
    "    # corresponding Arabic values so that we don't overwrite the Arabic value setting.\n",
    "    if rec['conflict_related'] is not None:\n",
    "        if rec['conflict_related'].strip() == 'كبرى' or rec['conflict_related'].strip() =='كبرى':\n",
    "            flag_record_reduced['flag_conflict_related'] = 1\n",
    "            flag_record['flag_conflict_related'] = 1\n",
    "        elif rec['conflict_related'].strip() == 'لا':\n",
    "            flag_record_reduced['flag_conflict_related'] = 0\n",
    "            flag_record['flag_conflict_related'] = 0\n",
    "        else:\n",
    "            flag_record_reduced['flag_conflict_related'] = None\n",
    "            flag_record['flag_conflict_related'] = None\n",
    "    else:\n",
    "        flag_record_reduced['flag_conflict_related'] = None\n",
    "        flag_record['flag_conflict_related'] = None\n",
    "        \n",
    "    # Loop through the variables for each raw data record\n",
    "    for v in variables:\n",
    "        # These are PII cols, so skip them\n",
    "        if 'info_' in v or v == 'id':\n",
    "            continue\n",
    "        \n",
    "        # Get the value in the column\n",
    "        to_lookup = rec[v]\n",
    "        \n",
    "        if to_lookup is None or to_lookup == '.':\n",
    "            continue\n",
    "        else:\n",
    "            \n",
    "            # We have a legit value, so look it up and grab the flags\n",
    "            try:\n",
    "                # There might be a keyerror on the info_ columns' hashed values, etc.\n",
    "                arabic_values_rec = arabic_lookup[to_lookup]\n",
    "                for flag in flag_names:\n",
    "                    if arabic_values_rec[flag] == 1:\n",
    "                        flag_record[flag] = arabic_values_rec[flag]\n",
    "            except:\n",
    "                pass\n",
    "            \n",
    "    # Loop through the variables for each raw data record\n",
    "    for v in reduced_variables:\n",
    "        # These are PII cols, so skip them\n",
    "        if 'info_' in v or v == 'id':\n",
    "            continue\n",
    "        \n",
    "        # Get the value in the column\n",
    "        to_lookup = rec[v]\n",
    "        \n",
    "        if to_lookup is None or to_lookup == '.':\n",
    "            continue\n",
    "        else:\n",
    "            \n",
    "            # We have a legit value, so look it up and grab the flags\n",
    "            try:\n",
    "                # There might be a keyerror on the info_ columns' hashed values, etc.\n",
    "                arabic_values_rec = arabic_lookup[to_lookup]\n",
    "                for flag in flag_names:\n",
    "                    if arabic_values_rec[flag] == 1:\n",
    "                        flag_record_reduced[flag] = arabic_values_rec[flag]\n",
    "            except:\n",
    "                pass\n",
    "    \n",
    "    # Store the record\n",
    "    flags_to_insert.append(flag_record)\n",
    "    flags_to_insert_reduced.append(flag_record)\n",
    "    \n",
    "    # Check if we need to insert\n",
    "    if len(flags_to_insert) > buffer_size:\n",
    "        tab_raw_flags.insert_many(flags_to_insert)\n",
    "        \n",
    "        # Clear the buffer\n",
    "        flags_to_insert.clear()\n",
    "        \n",
    "    # Check if we need to insert\n",
    "    if len(flags_to_insert_reduced) > buffer_size:\n",
    "        tab_raw_flags_reduced.insert_many(flags_to_insert_reduced)\n",
    "        \n",
    "        # Clear the buffer\n",
    "        flags_to_insert_reduced.clear()\n",
    "        \n",
    "# We've been through all raw records so make sure the buffer is clear\n",
    "tab_raw_flags.insert_many(flags_to_insert)\n",
    "tab_raw_flags_reduced.insert_many(flags_to_insert_reduced)\n",
    "flags_to_insert.clear()\n",
    "flags_to_insert_reduced.clear()\n",
    "            "
   ]
  },
  {
   "cell_type": "markdown",
   "metadata": {},
   "source": [
    "Conversion to a format for analysis...\n",
    "\n",
    "```\n",
    "SELECT files.id as files_id,\n",
    "       files.year,\n",
    "\t   files.month,\n",
    "       facilities.id AS facility_id,\n",
    "       facilities.facility_parent_id,\n",
    "       facilities.facilityname,\n",
    "\t   facilities.country,\n",
    "\t   facilities.governorate,\n",
    "\t   facilities.district,\n",
    "\t   facilities.subdistrict,\n",
    "\t   facilities.facility_type,\n",
    "\t   SUM(full_raw_flags.flag_burn) AS sum_flag_burn,\n",
    "\t   SUM(full_raw_flags.flag_diarrhea) AS sum_flag_diarrhea,\n",
    "\t   SUM(full_raw_flags.flag_followup) AS sum_flag_followup,\n",
    "\t   SUM(full_raw_flags.flag_fracture) AS sum_flag_fracture,\n",
    "\t   SUM(full_raw_flags.flag_inflammation) AS sum_flag_inflammation,\n",
    "\t   SUM(full_raw_flags.flag_injury) AS sum_flag_injury,\n",
    "\t   SUM(full_raw_flags.flag_lower_extrem) AS sum_flag_lower_extrem,\n",
    "\t   SUM(full_raw_flags.flag_upper_extrem) AS sum_flag_upper_extrem,\n",
    "\t   SUM(full_raw_flags.flag_war_related) AS sum_flag_war_related\n",
    "\t   \n",
    "FROM files\n",
    "JOIN facilities on files.facility_id = facilities.id\n",
    "JOIN full_raw_flags on files.id = full_raw_flags.file_id\n",
    "\n",
    "WHERE files.facility_id IS NOT NULL \n",
    "AND files.month IS NOT NULL\n",
    "AND files.skipped = 0\n",
    "AND files.ignore = 0\n",
    "\n",
    "GROUP BY files.year, \n",
    "         files.month, \n",
    "\t\t facility_id, \n",
    "\t\t facilities.facility_parent_id, \n",
    "\t\t facilities.facilityname, \n",
    "\t\t facilities.country, \n",
    "\t\t facilities.governorate, \n",
    "\t\t facilities.district, \n",
    "\t\t facilities.subdistrict, \n",
    "\t\t facilities.facility_type\n",
    "\n",
    "ORDER BY files.year ASC, files.month ASC, facilities.facilityname ASC;\n",
    "```\n",
    "\n",
    "\n",
    "This is just a dump of the table for them.\n",
    "\n",
    "```\n",
    "SELECT files.id as files_id,\n",
    "       files.year,\n",
    "\t   files.month,\n",
    "       facilities.id AS facility_id,\n",
    "       facilities.facility_parent_id,\n",
    "       facilities.facilityname,\n",
    "\t   facilities.country,\n",
    "\t   facilities.governorate,\n",
    "\t   facilities.district,\n",
    "\t   facilities.subdistrict,\n",
    "\t   facilities.facility_type,\n",
    "\t   full_raw_flags.flag_burn,\n",
    "\t   full_raw_flags.flag_diarrhea,\n",
    "\t   full_raw_flags.flag_followup,\n",
    "\t   full_raw_flags.flag_fracture,\n",
    "\t   full_raw_flags.flag_inflammation,\n",
    "\t   full_raw_flags.flag_injury,\n",
    "\t   full_raw_flags.flag_lower_extrem,\n",
    "\t   full_raw_flags.flag_upper_extrem,\n",
    "\t   full_raw_flags.flag_war_related\n",
    "\t   \n",
    "FROM files\n",
    "JOIN facilities on files.facility_id = facilities.id\n",
    "JOIN full_raw_flags on files.id = full_raw_flags.file_id\n",
    "\n",
    "WHERE files.facility_id IS NOT NULL \n",
    "AND files.month IS NOT NULL\n",
    "AND files.skipped = 0\n",
    "AND files.ignore = 0\n",
    "\n",
    "ORDER BY files.year ASC, files.month ASC, facilities.facilityname ASC;\n",
    "```"
   ]
  },
  {
   "cell_type": "markdown",
   "metadata": {},
   "source": [
    "More SQL for generating a data set\n",
    "\n",
    "```\n",
    "SELECT files.id as files_id,\n",
    "       files.year,\n",
    "       files.month,\n",
    "       facilities.id AS facility_id,\n",
    "       facilities.facility_parent_id,\n",
    "       facilities.facilityname,\n",
    "       facilities.country,\n",
    "       facilities.governorate,\n",
    "       facilities.district,\n",
    "       facilities.subdistrict,\n",
    "       facilities.facility_type,\n",
    "\t   full_raw_flags.flag_abdomen,\n",
    "\t   full_raw_flags.flag_back,\n",
    "\t   full_raw_flags.flag_brain,\n",
    "\t   full_raw_flags.flag_burn,\n",
    "\t   full_raw_flags.flag_chest,\n",
    "\t   full_raw_flags.flag_complication,\n",
    "\t   full_raw_flags.flag_explosive,\n",
    "\t   full_raw_flags.flag_eye,\n",
    "\t   full_raw_flags.flag_facial,\n",
    "\t   full_raw_flags.flag_follow_up,\n",
    "\t   full_raw_flags.flag_fracture,\n",
    "\t   full_raw_flags.flag_gunshot,\n",
    "\t   full_raw_flags.flag_head,\n",
    "\t   full_raw_flags.flag_history_of,\n",
    "\t   full_raw_flags.flag_injury,\n",
    "\t   full_raw_flags.flag_lower_extremity,\n",
    "\t   full_raw_flags.flag_neck,\n",
    "\t   full_raw_flags.flag_nerve,\n",
    "\t   full_raw_flags.flag_neurologic,\n",
    "\t   full_raw_flags.flag_orthopedic,\n",
    "\t   full_raw_flags.flag_pelvic,\n",
    "\t   full_raw_flags.flag_shrapnel,\n",
    "\t   full_raw_flags.flag_spinal,\n",
    "\t   full_raw_flags.flag_suspected,\n",
    "\t   full_raw_flags.flag_traffic,\n",
    "\t   full_raw_flags.flag_trauma,\n",
    "\t   full_raw_flags.flag_upper_extremity,\n",
    "\t   full_raw_flags.flag_urologic,\n",
    "\t   full_raw_flags.flag_vascular\n",
    "\t   \n",
    "FROM full_raw_flags\n",
    "JOIN files on files.id = full_raw_flags.file_id\n",
    "JOIN facilities on files.facility_id = facilities.id\n",
    "\n",
    "WHERE files.facility_id IS NOT NULL \n",
    "AND files.month IS NOT NULL\n",
    "AND files.skipped = 0\n",
    "AND files.ignore = 0\n",
    "```"
   ]
  },
  {
   "cell_type": "code",
   "execution_count": 21,
   "metadata": {},
   "outputs": [
    {
     "data": {
      "text/plain": [
       "'sams_data_phase18_template.sqlite'"
      ]
     },
     "execution_count": 21,
     "metadata": {},
     "output_type": "execute_result"
    }
   ],
   "source": [
    "# Copy the database over as the template for the next file.\n",
    "# This Notebook did not include manual editing of the data.\n",
    "\n",
    "# Do not rerun this cell!\n",
    "shutil.copy2('sams_data_phase17.sqlite','sams_data_phase18_template.sqlite')"
   ]
  },
  {
   "cell_type": "code",
   "execution_count": null,
   "metadata": {
    "collapsed": true
   },
   "outputs": [],
   "source": []
  }
 ],
 "metadata": {
  "kernelspec": {
   "display_name": "Python 3",
   "language": "python",
   "name": "python3"
  },
  "language_info": {
   "codemirror_mode": {
    "name": "ipython",
    "version": 3
   },
   "file_extension": ".py",
   "mimetype": "text/x-python",
   "name": "python",
   "nbconvert_exporter": "python",
   "pygments_lexer": "ipython3",
   "version": "3.6.1"
  }
 },
 "nbformat": 4,
 "nbformat_minor": 2
}
