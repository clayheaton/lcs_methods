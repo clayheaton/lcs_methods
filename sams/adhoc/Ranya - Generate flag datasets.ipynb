{
 "cells": [
  {
   "cell_type": "markdown",
   "metadata": {},
   "source": [
    "### Dummy Variable / Flag Generation\n",
    "\n",
    "This script takes the latest version of the SQLite database, or whatever version you specify, and generates dummy variables based on the criteria you provide in the indicated cell below.\n",
    "\n",
    "Note that I wrote and run this and other scripts in Windows 10 that is running in Bootcamp on my Mac because MacOS can introduce issues when dealing with Arabic. There in nothing in this script that bumps up against that problem, however, so you should be able to run it in MacOS. Where you may run into trouble is if you try to write SQL in the notebook that includes Arabic or you try to copy/paste or otherwise insert Arabic into this notebook. There are a few short Arabic strings in the notebook, but as long as you don't edit them, they should not run into the problem described above.\n",
    "\n",
    "Please let Clay know if you have questions or run into problems.\n",
    "\n",
    "Again, I recommend [DB Browser for SQLite](http://sqlitebrowser.org/) for directly navigating the SQLite files. Note that some of these cells will lock the DB and/or require exclusive access to the DB. Hence, if you open the DB in something other than this notebook, do so when there isn't a cell running in the notebook and close it before you run another cell from the notebook. that way you can avoid collisions between apps trying to lock the database."
   ]
  },
  {
   "cell_type": "code",
   "execution_count": 1,
   "metadata": {
    "collapsed": true
   },
   "outputs": [],
   "source": [
    "# For copying files and working with file directories\n",
    "import os\n",
    "import shutil\n",
    "\n",
    "# Regular expressions\n",
    "# You can use these for pattern matching if you're so inclined\n",
    "import re\n",
    "\n",
    "# Connect to a SQLite database in a lazy manner.\n",
    "import dataset\n",
    "\n",
    "# Export database table to CSV\n",
    "import csv"
   ]
  },
  {
   "cell_type": "code",
   "execution_count": 2,
   "metadata": {},
   "outputs": [
    {
     "name": "stdout",
     "output_type": "stream",
     "text": [
      "Removed db_with_flags.sqlite\n",
      "Created db_with_flags.sqlite from template: sams_data_phase17.sqlite\n"
     ]
    }
   ],
   "source": [
    "# What do you want to name the database you create after running the script?\n",
    "# This will delete that if it exists and then create a new copy of the baseline\n",
    "# database and make alterations to it. This is a method of ensuring that the\n",
    "# original database is not mistakenly overwritten\n",
    "\n",
    "# Name format: whatever_name_you_want.sqlite\n",
    "original_db_name = \"sams_data_phase17.sqlite\"\n",
    "new_db_name = \"db_with_flags.sqlite\"\n",
    "\n",
    "try:\n",
    "    os.remove(new_db_name)\n",
    "    print(\"Removed\", new_db_name)\n",
    "except:\n",
    "    pass\n",
    "\n",
    "try:\n",
    "    # Try to preserve a copy in case there is a problem and it has to be restored\n",
    "    shutil.copy2(original_db_name, new_db_name)\n",
    "    \n",
    "    print(\"Created\", new_db_name,\"from template:\", original_db_name)\n",
    "except:\n",
    "    pass\n",
    "\n",
    "# All operations will be on the new database, not the original source one"
   ]
  },
  {
   "cell_type": "code",
   "execution_count": 3,
   "metadata": {
    "collapsed": true
   },
   "outputs": [],
   "source": [
    "# Create a connection to the database\n",
    "db = dataset.connect(\"sqlite:///\" + new_db_name)"
   ]
  },
  {
   "cell_type": "code",
   "execution_count": 4,
   "metadata": {
    "collapsed": true
   },
   "outputs": [],
   "source": [
    "# Get a reference to the arabic_values table\n",
    "tab_arabic_values = db['arabic_values']"
   ]
  },
  {
   "cell_type": "markdown",
   "metadata": {},
   "source": [
    "In the event that we previously generated flags, we want to get rid of them before we generate new ones to make sure that we aren't polluting the new flag set with values previously set that aren't explicitly overwritten. Hence, drop the tables derived previously, if they exist and drop the flag columns from `arabic_values`. If you are working with the source db I sent you a few weeks ago, that means we want to drop the `full_raw_flags` table and the `full_raw_flags_reduced` table and then the `flag_` columns from the `arabic_values` table."
   ]
  },
  {
   "cell_type": "code",
   "execution_count": 5,
   "metadata": {},
   "outputs": [
    {
     "name": "stdout",
     "output_type": "stream",
     "text": [
      "Dropped full_raw_flags\n",
      "Dropped full_raw_flags_reduced\n"
     ]
    }
   ],
   "source": [
    "try:\n",
    "    db['full_raw_flags'].drop()\n",
    "    print(\"Dropped full_raw_flags\")\n",
    "except:\n",
    "    pass\n",
    "\n",
    "try:\n",
    "    db['full_raw_flags_reduced'].drop()\n",
    "    print(\"Dropped full_raw_flags_reduced\").drop()\n",
    "except:\n",
    "    pass\n",
    "\n",
    "# One SQLite limitation is you cannot drop columns, so you have to create a new table and then rename it.\n",
    "preserve_fields = [k for k in tab_arabic_values.find_one().keys() if 'flag_' not in k]\n",
    "\n",
    "# We don't use result but assigning it skips printing some garbage below\n",
    "result = db.query(\"\"\"\n",
    "CREATE TABLE new_arabic_values AS \n",
    "    SELECT \"\"\" + \",\".join(preserve_fields) + \"\"\" \n",
    "    FROM arabic_values;\n",
    "\"\"\")\n",
    "\n",
    "# Drop the original arabic_values table\n",
    "tab_arabic_values.drop()\n",
    "\n",
    "# Rename new_arabic_values to arabic_values & now we have a table with no flag columns\n",
    "result = db.query(\"\"\"\n",
    "ALTER TABLE new_arabic_values RENAME TO arabic_values;\n",
    "\"\"\")"
   ]
  },
  {
   "cell_type": "code",
   "execution_count": 6,
   "metadata": {
    "collapsed": true
   },
   "outputs": [],
   "source": [
    "# Now because we futzed with the arabic_values table, we have to create a new reference to the database\n",
    "# and to our arabic_values table. The db object stores some schema information that isn't updated with\n",
    "# our direct query calls above.\n",
    "\n",
    "del db\n",
    "del tab_arabic_values\n",
    "\n",
    "db = dataset.connect(\"sqlite:///\" + new_db_name)\n",
    "tab_arabic_values = db['arabic_values']"
   ]
  },
  {
   "cell_type": "code",
   "execution_count": 7,
   "metadata": {
    "collapsed": true
   },
   "outputs": [],
   "source": [
    "# Now create an in-memory representation of the arabic_values table\n",
    "# and store it in variable `data`\n",
    "data = [x for x in tab_arabic_values]"
   ]
  },
  {
   "cell_type": "code",
   "execution_count": 8,
   "metadata": {},
   "outputs": [
    {
     "data": {
      "text/plain": [
       "[OrderedDict([('id', 1),\n",
       "              ('arabic', 'قبول عابر'),\n",
       "              ('google_translate', 'Transient admission'),\n",
       "              ('human_translate', 'monitoring'),\n",
       "              ('normalized', None),\n",
       "              ('appears_in',\n",
       "               \"['acceptance_pattern', 'diagnosis', 'treatment']\")]),\n",
       " OrderedDict([('id', 2),\n",
       "              ('arabic', 'حواضن'),\n",
       "              ('google_translate', 'Cushions'),\n",
       "              ('human_translate', 'incubators'),\n",
       "              ('normalized', None),\n",
       "              ('appears_in',\n",
       "               \"['acceptance_pattern', 'analysis_type', 'diagnosis', 'treatment']\")])]"
      ]
     },
     "execution_count": 8,
     "metadata": {},
     "output_type": "execute_result"
    }
   ],
   "source": [
    "# It's always good to look at what you have in lists, etc... to guarantee it's what you expect.\n",
    "data[:2]"
   ]
  },
  {
   "cell_type": "markdown",
   "metadata": {},
   "source": [
    "### Flag Generation\n",
    "\n",
    "The cell below contains the data structures that have to be updated to generate the flags."
   ]
  },
  {
   "cell_type": "code",
   "execution_count": 9,
   "metadata": {
    "collapsed": true
   },
   "outputs": [],
   "source": [
    "# Update this if you want to change what flags you are making on the dataset.\n",
    "# The logic for creating them is in the following cell.\n",
    "\n",
    "# Require and flag term\n",
    "flag_terms = [\n",
    "    \"injury\",\n",
    "    \"blunt\",\n",
    "    \"trauma\",\n",
    "    \"shrapnel\",\n",
    "    \"traffic\",\n",
    "    \"explosive\",\n",
    "    \"blast\",\n",
    "    \"gunshot\",\n",
    "    \"stab\",\n",
    "    \"wound\",\n",
    "    \"upper extremity\",\n",
    "    \"lower extremity\",\n",
    "    \"neck\",\n",
    "    \"chest\",\n",
    "    \"back\",\n",
    "    \"spinal\",\n",
    "    \"neurologic\",\n",
    "    \"nerve\",\n",
    "    \"vascular\",\n",
    "    \"orthopedic\",\n",
    "    \"fracture\",\n",
    "    \"suspected\",\n",
    "    \"follow-up\",\n",
    "    \"complication\",\n",
    "    \"history of\"\n",
    "]\n",
    "\n",
    "# require all terms - not in use at the moment\n",
    "multiple_flag_terms = [\n",
    "#     (\"burn\",\"fracture\")\n",
    "]\n",
    "\n",
    "# require any of the terms but name the flag after the first\n",
    "synonym_flag_terms = [\n",
    "    (\"facial\",\"face\"),\n",
    "    (\"pelvic\",\"pelvis\"),\n",
    "    (\"head\",\"eye\",\"ear\",\"face\",\"brain\",\"scalp\",\"mouth\",\"nose\"),\n",
    "    (\"spine\",\"spinal\"),\n",
    "    (\"abdomen\",\"abdominal\")\n",
    "]\n",
    "\n",
    "# require the first term and the absence of the remaining terms\n",
    "# name the flag after the first term.\n",
    "complex_flag_terms = [\n",
    "    (\"urologic\",\"neurologic\"),\n",
    "    (\"burn\",\"heartburn\"),\n",
    "    (\"extremity\",\"lower extremity\",\"upper extremity\")\n",
    "]"
   ]
  },
  {
   "cell_type": "markdown",
   "metadata": {},
   "source": [
    "The `arabic_values` table has one record for each unique Arabic string in the raw data that was imported. Since we can map these back to their source in the raw data, we'll generate flags against these strings and then map the flags back by joining on the arabic strings in this table."
   ]
  },
  {
   "cell_type": "code",
   "execution_count": 10,
   "metadata": {
    "collapsed": true
   },
   "outputs": [],
   "source": [
    "# Store the rows we change here\n",
    "# so that we can update the table\n",
    "\n",
    "update_data = []\n",
    "\n",
    "# Iterate through the in-memory representation\n",
    "for rec in data:\n",
    "    # Create a placeholder update record\n",
    "    update_rec = {'id':rec['id']}\n",
    "    \n",
    "    # A flag we'll use to determine whether the record needs to be updated\n",
    "    update_record = False\n",
    "    \n",
    "    # Get the human_translate value from the record\n",
    "    ht = rec['human_translate']\n",
    "    \n",
    "    # If it is not None, then convert it to lowercase\n",
    "    if ht:\n",
    "        ht = ht.lower()\n",
    "    \n",
    "    # Get the google_translate value and convert it to lowercase\n",
    "    # We are not currently using this to generate flags so it is commented out\n",
    "    # but you could substitute it in below or write additional code if you want\n",
    "    # to use it for flag generation\n",
    "    # gt = rec['google_translate'].lower()\n",
    "    \n",
    "    # Walk through the different flag types from above and check whether the \n",
    "    # human_translate value matches for that flag. If so, create the update record\n",
    "    # for that flag and then mark our update boolean indicator true so that we know\n",
    "    # to update the appropriate record in the database. All records that will be updated\n",
    "    # have their update record put into the update_data list.\n",
    "    if ht:\n",
    "        for term in flag_terms:\n",
    "            if term in ht:\n",
    "                update_rec[\"flag_\" + \"_\".join(term.replace(\"-\",\"_\").split())] = 1\n",
    "                update_record = True\n",
    "                \n",
    "        for tup in multiple_flag_terms:\n",
    "            if all(x in ht for x in tup):\n",
    "                update_rec[\"flag_\" + \"_and_\".join(tup)] = 1\n",
    "                update_record = True\n",
    "                \n",
    "        for tup in synonym_flag_terms:\n",
    "            if any(x in ht for x in tup):\n",
    "                update_rec[\"flag_\" + tup[0]] = 1\n",
    "                update_record = True\n",
    "                \n",
    "        for tup in complex_flag_terms:\n",
    "            if tup[0] in ht and not any(x in ht for x in tup[1:]):\n",
    "                update_rec[\"flag_\" + tup[0].replace(\" \",\"_\").replace(\"-\",\"_\")] = 1\n",
    "                update_record = True\n",
    "            \n",
    "        # Handle war-related separately. This very likely can be improved upon\n",
    "        if 'war-related injury' in ht and 'not war-related injury' not in ht:\n",
    "            update_rec['flag_conflict_related'] = 1\n",
    "            update_record = True\n",
    "        \n",
    "    # If we created any flags, update_record is true so put this record in the list \n",
    "    # of records to update.\n",
    "    if update_record:\n",
    "        update_data.append(update_rec)"
   ]
  },
  {
   "cell_type": "code",
   "execution_count": 11,
   "metadata": {},
   "outputs": [
    {
     "data": {
      "text/plain": [
       "33431"
      ]
     },
     "execution_count": 11,
     "metadata": {},
     "output_type": "execute_result"
    }
   ],
   "source": [
    "# How many records are we going to update in the arabic_values table?\n",
    "len(update_data)"
   ]
  },
  {
   "cell_type": "code",
   "execution_count": 12,
   "metadata": {},
   "outputs": [
    {
     "data": {
      "text/plain": [
       "[{'flag_abdomen': 1, 'id': 606},\n",
       " {'flag_head': 1, 'id': 613},\n",
       " {'flag_conflict_related': 1, 'flag_injury': 1, 'id': 614},\n",
       " {'flag_suspected': 1, 'id': 619},\n",
       " {'flag_head': 1, 'id': 628},\n",
       " {'flag_chest': 1, 'id': 636},\n",
       " {'flag_head': 1, 'id': 642},\n",
       " {'flag_suspected': 1, 'id': 643},\n",
       " {'flag_suspected': 1, 'id': 665},\n",
       " {'flag_suspected': 1, 'id': 667}]"
      ]
     },
     "execution_count": 12,
     "metadata": {},
     "output_type": "execute_result"
    }
   ],
   "source": [
    "# What do the update records look like? \n",
    "update_data[:10]"
   ]
  },
  {
   "cell_type": "code",
   "execution_count": 13,
   "metadata": {},
   "outputs": [
    {
     "data": {
      "text/plain": [
       "1"
      ]
     },
     "execution_count": 13,
     "metadata": {},
     "output_type": "execute_result"
    }
   ],
   "source": [
    "# Update the arabic_values table with the update_records' data\n",
    "# 1. Create the columns we need\n",
    "# 2. Bulk update for each column\n",
    "\n",
    "flag_cols = set()\n",
    "for rec in update_data:\n",
    "    for k in rec.keys():\n",
    "        if k != 'id':\n",
    "            flag_cols.add(k)\n",
    "flag_cols = sorted(list(flag_cols))\n",
    "\n",
    "# The trick here is to get the id from the a record in arabic values and update that\n",
    "# record with a None value for each of these flags - that will cause dataset to generate the columns\n",
    "ref_rec = tab_arabic_values.find_one()\n",
    "ref_rec_update = {'id':ref_rec['id']}\n",
    "for col in flag_cols:\n",
    "    ref_rec_update[col] = None\n",
    "tab_arabic_values.update(ref_rec_update, ['id'])\n",
    "\n",
    "# At this point maybe open DB Browser for SQLite to make sure the columns were created.\n",
    "# The 1 that prints below is the number of records updated."
   ]
  },
  {
   "cell_type": "code",
   "execution_count": 14,
   "metadata": {},
   "outputs": [
    {
     "data": {
      "text/plain": [
       "['flag_abdomen',\n",
       " 'flag_back',\n",
       " 'flag_blast',\n",
       " 'flag_blunt',\n",
       " 'flag_burn',\n",
       " 'flag_chest',\n",
       " 'flag_complication',\n",
       " 'flag_conflict_related',\n",
       " 'flag_explosive',\n",
       " 'flag_extremity',\n",
       " 'flag_facial',\n",
       " 'flag_follow_up',\n",
       " 'flag_fracture',\n",
       " 'flag_gunshot',\n",
       " 'flag_head',\n",
       " 'flag_history_of',\n",
       " 'flag_injury',\n",
       " 'flag_lower_extremity',\n",
       " 'flag_neck',\n",
       " 'flag_nerve',\n",
       " 'flag_neurologic',\n",
       " 'flag_orthopedic',\n",
       " 'flag_pelvic',\n",
       " 'flag_shrapnel',\n",
       " 'flag_spinal',\n",
       " 'flag_spine',\n",
       " 'flag_stab',\n",
       " 'flag_suspected',\n",
       " 'flag_traffic',\n",
       " 'flag_trauma',\n",
       " 'flag_upper_extremity',\n",
       " 'flag_urologic',\n",
       " 'flag_vascular',\n",
       " 'flag_wound']"
      ]
     },
     "execution_count": 14,
     "metadata": {},
     "output_type": "execute_result"
    }
   ],
   "source": [
    "# These are the flags generated from the code above.\n",
    "flag_cols"
   ]
  },
  {
   "cell_type": "code",
   "execution_count": 15,
   "metadata": {
    "collapsed": true
   },
   "outputs": [],
   "source": [
    "# Now iterate through the flag cols and create a list of each record that needs to set the value for each\n",
    "# flag column and then bulk update. It is orders of magnitude faster to do it this way than one by one.\n",
    "\n",
    "# Note - this is generating and executing some super gnarly long SQL queries with tons of ID numbers\n",
    "\n",
    "for col in flag_cols:\n",
    "    recs_to_update = []\n",
    "    for rec in update_data:\n",
    "        if col in rec.keys():\n",
    "            recs_to_update.append(rec['id'])\n",
    "    recs_to_update = sorted(recs_to_update)\n",
    "\n",
    "    db.query(\"\"\"\n",
    "    UPDATE arabic_values\n",
    "    SET \"\"\" + col + \"\"\" = 1 \n",
    "    WHERE id IN (\"\"\" + \",\".join([str(a) for a in recs_to_update]) +\"\"\");\n",
    "    \"\"\")\n",
    "    \n",
    "# After this runs, check in the database against to make sure the flags were properly applied."
   ]
  },
  {
   "cell_type": "markdown",
   "metadata": {},
   "source": [
    "Ok, that's done so now we want to apply the flags back to the raw data.\n",
    "\n",
    "1. Pseudo-update the first record to trigger the addition of the flag fields\n",
    "2. Compare each value in each column to an in-memory arabic_values lookup\n",
    "3. Apply relevant flags to the record in question\n",
    "4. Buffer and update the raw table when the buffer is full."
   ]
  },
  {
   "cell_type": "code",
   "execution_count": 16,
   "metadata": {
    "collapsed": true
   },
   "outputs": [],
   "source": [
    "# Get a new db connection again in case the schema has changed.\n",
    "# This probably isn't necessary but is a safety measure.\n",
    "\n",
    "del db\n",
    "del tab_arabic_values\n",
    "\n",
    "db = dataset.connect(\"sqlite:///\" + new_db_name)\n",
    "tab_arabic_values = db['arabic_values']"
   ]
  },
  {
   "cell_type": "code",
   "execution_count": 17,
   "metadata": {},
   "outputs": [],
   "source": [
    "# Get a reference to the raw Arabic data table\n",
    "tab_raw_ar = db['full_raw_scrubbed']"
   ]
  },
  {
   "cell_type": "code",
   "execution_count": 18,
   "metadata": {},
   "outputs": [
    {
     "name": "stdout",
     "output_type": "stream",
     "text": [
      "id,a_file_id,a_files_sheets_id,a_sheet_id,acceptance_pattern,analysis,analysis_request,analysis_type,anesthesia_type,assign_method,case,category,center,clinic,clinical_case,col_1,col_2,col_3,col_4,col_5,col_6,col_misc,col_moawak,col_none,col_null,col_to,conflict_related,consultations,daily_number,data_validation,date,date_first_exam,death,death_cause,death_certificate,death_date,death_location,death_time,department,diagnosis,diagnosis_confirmed,discharge,discharge_date,discharge_status,discharged_to,disclaimers,disease,displaced,displacement_duration,dose,drug_class,er,events,exam_type,examination_1,examination_2,examination_3,examination_4,examination_type,facility_type,housing,housing_persons_number,image,image_request,image_type,import_status,info_age,info_card_number,info_card_type,info_care_type,info_geo_address,info_geo_area,info_geo_community,info_geo_country_of_origin,info_geo_district,info_geo_governorate,info_geo_injury_city,info_geo_injury_site,info_geo_injury_state,info_geo_jurisdiction,info_geo_living,info_geo_location,info_geo_region,info_geo_sub_district,info_name,info_name_author,info_name_caregiver,info_name_facility,info_name_group,info_name_of_coach,info_name_processor,info_name_surgeon,info_origin,info_phone_skype,info_residence,info_residence_of_relative,info_residence_original,info_sex,injury_type,link_type,medication,medication_discharge,medicine,month,months,muslim,new_listings,new_or_followup,notes,num_family_members,num_sessions,number,number_of_sessions,other,outcome,pathology,patient_number,patient_status,patient_type,period,post_op_results,procedure,radiation_type,rating,ratio,referral,referral_notes,referral_reason,referred_to,related_events,residence_status,sequence,session_number,sessions_patient_week,son_daughter,special_case,status,surgery_length,surgery_type,symptoms,time,total,transferred_from,treatment,treatment_code,type,units_of_blood,visit_reason,visit_review,visit_status,year,yes_no,flag_abdomen,flag_back,flag_blast,flag_blunt,flag_burn,flag_chest,flag_complication,flag_conflict_related,flag_explosive,flag_extremity,flag_facial,flag_follow_up,flag_fracture,flag_gunshot,flag_head,flag_history_of,flag_injury,flag_lower_extremity,flag_neck,flag_nerve,flag_neurologic,flag_orthopedic,flag_pelvic,flag_shrapnel,flag_spinal,flag_spine,flag_stab,flag_suspected,flag_traffic,flag_trauma,flag_upper_extremity,flag_urologic,flag_vascular,flag_wound\n"
     ]
    }
   ],
   "source": [
    "# Get the list of variables used in full_raw_scrubbed and full_raw_english\n",
    "rec_raw = tab_raw_ar.find_one()\n",
    "variables = list(rec_raw.keys())\n",
    "print(\",\".join(variables))\n",
    "\n",
    "# Due to previous work, there are flag columns in the full_raw_scrubbed table, but we will ignore them\n",
    "# because they aren't used in this flag-generation methodology. "
   ]
  },
  {
   "cell_type": "code",
   "execution_count": 19,
   "metadata": {
    "collapsed": true
   },
   "outputs": [],
   "source": [
    "# Create the in-memory arabic_values lookup\n",
    "# This time, since we created the flags, they'll be in the records\n",
    "\n",
    "arabic_lookup = {}\n",
    "arabic_values = [x for x in tab_arabic_values.find()]\n",
    "\n",
    "for v in arabic_values:\n",
    "    arabic_lookup[v['arabic']] = v"
   ]
  },
  {
   "cell_type": "code",
   "execution_count": 20,
   "metadata": {},
   "outputs": [
    {
     "data": {
      "text/plain": [
       "['قبول عابر',\n",
       " 'حواضن',\n",
       " 'استشفاء',\n",
       " 'عناية',\n",
       " 'اختبار الزمرة الدموية',\n",
       " 'اختبار كريات الدم البيضاء, اختبار حمض البول, اختبار سرعة النزف, اختبار زمن التخثر, اختبار الزمرة الدموية',\n",
       " 'اختبار تحليل البول (بول و رواسب)',\n",
       " 'اختبار خضاب الدم / الهيموجلوبين, اختبار حمض البول, اختبار كرياتينين, اختبار سرعة النزف, اختبار زمن التخثر',\n",
       " 'اختبار تحليل البول (بول و رواسب), اختبار كريات الدم البيضاء',\n",
       " 'اختبار الزمرة الدموية, اختبار خضاب الدم / الهيموجلوبين']"
      ]
     },
     "execution_count": 20,
     "metadata": {},
     "output_type": "execute_result"
    }
   ],
   "source": [
    "list(arabic_lookup.keys())[:10]"
   ]
  },
  {
   "cell_type": "code",
   "execution_count": 21,
   "metadata": {},
   "outputs": [
    {
     "name": "stdout",
     "output_type": "stream",
     "text": [
      "التهاب مجاري تنفسية سفلى, التهاب قصبات\n",
      "---------------------- Lookup result below\n",
      "OrderedDict([('id', 3863), ('arabic', 'التهاب مجاري تنفسية سفلى, التهاب قصبات'), ('google_translate', 'Inflammation of lower respiratory tracts, bronchitis'), ('human_translate', 'bronchiolitis, bronchitis'), ('normalized', None), ('appears_in', \"['diagnosis']\"), ('flag_abdomen', None), ('flag_back', None), ('flag_blast', None), ('flag_blunt', None), ('flag_burn', None), ('flag_chest', None), ('flag_complication', None), ('flag_conflict_related', None), ('flag_explosive', None), ('flag_extremity', None), ('flag_facial', None), ('flag_follow_up', None), ('flag_fracture', None), ('flag_gunshot', None), ('flag_head', None), ('flag_history_of', None), ('flag_injury', None), ('flag_lower_extremity', None), ('flag_neck', None), ('flag_nerve', None), ('flag_neurologic', None), ('flag_orthopedic', None), ('flag_pelvic', None), ('flag_shrapnel', None), ('flag_spinal', None), ('flag_spine', None), ('flag_stab', None), ('flag_suspected', None), ('flag_traffic', None), ('flag_trauma', None), ('flag_upper_extremity', None), ('flag_urologic', None), ('flag_vascular', None), ('flag_wound', None)])\n"
     ]
    }
   ],
   "source": [
    "# Let's test that a value we pull out of the database has a hit in the lookup table.\n",
    "test_rec = tab_raw_ar.find_one()\n",
    "diagnosis = test_rec['diagnosis']\n",
    "print(diagnosis)\n",
    "print(\"---------------------- Lookup result below\")\n",
    "print(arabic_lookup[diagnosis])"
   ]
  },
  {
   "cell_type": "markdown",
   "metadata": {},
   "source": [
    "**The following cell will take a while to run because it has to iterate through all raw records. Depending on how many flags you create, etc... **\n",
    "\n",
    "**It might take 30 minutes to execute. This examines all fields in each record.**\n",
    "\n",
    "The idea is to create a parallel record in the flag table for every record in the raw data table. The id numbers between the two tables will be parallel and some other metadata is included in the flag table. Because these flag tables will have far fewer columns and most columns will only have 1 or NULL as values, they are much faster to query."
   ]
  },
  {
   "cell_type": "code",
   "execution_count": 22,
   "metadata": {
    "collapsed": true
   },
   "outputs": [],
   "source": [
    "# The insert_many method inserts in chunks of 1000, but this specifies that we don't want\n",
    "# to start the process until we have this many records to insert.\n",
    "buffer_size = 50000\n",
    "\n",
    "flags_to_insert = []\n",
    "\n",
    "try:\n",
    "    db['tab_raw_flags'].drop()\n",
    "except:\n",
    "    pass\n",
    "\n",
    "tab_raw_flags = db['full_raw_flags']\n",
    "\n",
    "# Iterate through the raw records one by one\n",
    "for rec in tab_raw_ar.find():\n",
    "    \n",
    "    # Include foreign keys that allow us to query against the flag table instead of \n",
    "    # joining with the raw data table, which is slow.\n",
    "    flag_record = {\n",
    "        'id':rec['id'],\n",
    "        'file_id':rec['a_file_id'],\n",
    "        'files_sheets_id':rec['a_files_sheets_id'],\n",
    "        'sheet_id':rec['a_sheet_id']\n",
    "    }\n",
    "    \n",
    "    # Initialize each flag_record\n",
    "    for flag in flag_cols:\n",
    "        flag_record[flag] = None\n",
    "        \n",
    "    # Scan the conflict related column for values, but do this before looking at the\n",
    "    # corresponding Arabic values so that we don't overwrite the Arabic value setting.\n",
    "    if rec['conflict_related'] is not None:\n",
    "        if rec['conflict_related'].strip() == 'كبرى' or rec['conflict_related'].strip() =='كبرى':\n",
    "            flag_record['flag_conflict_related'] = 1\n",
    "        elif rec['conflict_related'].strip() == 'لا':\n",
    "            flag_record['flag_conflict_related'] = 0\n",
    "        else:\n",
    "            flag_record['flag_conflict_related'] = None\n",
    "    else:\n",
    "        flag_record['flag_conflict_related'] = None\n",
    "        \n",
    "    # Loop through the variables for each raw data record\n",
    "    for v in variables:\n",
    "        # These are obfuscated PII cols, or the flag columns we're ignoring, so skip them\n",
    "        if 'info_' in v or 'flag_' in v or v == 'id':\n",
    "            continue\n",
    "        \n",
    "        # Get the value in the column\n",
    "        to_lookup = rec[v]\n",
    "        \n",
    "        if to_lookup is None or to_lookup == '.':\n",
    "            continue\n",
    "        else:\n",
    "            \n",
    "            # We have a legit value, so look it up and grab the flags\n",
    "            try:\n",
    "                # There might be a keyerror on the info_ columns' hashed values, etc.\n",
    "                # I also manually removed some PII from arabic_values, so that might\n",
    "                # cause an occassional mismatch.\n",
    "                arabic_values_rec = arabic_lookup[to_lookup]\n",
    "                for flag in flag_cols:\n",
    "                    # Should be None if not flagged, so just check for existence\n",
    "                    if arabic_values_rec[flag]:\n",
    "                        flag_record[flag] = arabic_values_rec[flag]\n",
    "            except:\n",
    "                pass\n",
    "\n",
    "    # Store the record\n",
    "    flags_to_insert.append(flag_record)\n",
    "\n",
    "    # Check if we need to insert\n",
    "    if len(flags_to_insert) > buffer_size:\n",
    "        tab_raw_flags.insert_many(flags_to_insert)\n",
    "        \n",
    "        # Clear the buffer\n",
    "        flags_to_insert.clear()\n",
    "        \n",
    "# We've been through all raw records so make sure the buffer is clear\n",
    "tab_raw_flags.insert_many(flags_to_insert)\n",
    "flags_to_insert.clear()"
   ]
  },
  {
   "cell_type": "markdown",
   "metadata": {},
   "source": [
    "### Reduced variable checking for alternative flag set\n",
    "\n",
    "Only run the code in the next two cells if you also want to create a \"reduced\" flag set that is derived from only looking at the specified columns."
   ]
  },
  {
   "cell_type": "code",
   "execution_count": 23,
   "metadata": {
    "collapsed": true
   },
   "outputs": [],
   "source": [
    "# For the reduced flag dataset we'll generate, only examine these columns\n",
    "reduced_variables = [\"diagnosis\"]"
   ]
  },
  {
   "cell_type": "code",
   "execution_count": 25,
   "metadata": {},
   "outputs": [],
   "source": [
    "buffer_size = 50000\n",
    "\n",
    "flags_to_insert_reduced = []\n",
    "\n",
    "try:\n",
    "    db['tab_raw_flags_reduced'].drop()\n",
    "except:\n",
    "    pass\n",
    "\n",
    "tab_raw_flags_reduced = db['full_raw_flags_reduced']\n",
    "\n",
    "# Iterate through the raw records one by one\n",
    "for rec in tab_raw_ar.find():\n",
    "    \n",
    "    # Same as above but for reduced search fields\n",
    "    flag_record_reduced = {\n",
    "        'id':rec['id'],\n",
    "        'file_id':rec['a_file_id'],\n",
    "        'files_sheets_id':rec['a_files_sheets_id'],\n",
    "        'sheet_id':rec['a_sheet_id']\n",
    "    }\n",
    "    \n",
    "    # Initialize each flag_record\n",
    "    for flag in flag_cols:\n",
    "        flag_record_reduced[flag] = None\n",
    "        \n",
    "    # Scan the conflict related column for values, but do this before looking at the\n",
    "    # corresponding Arabic values so that we don't overwrite the Arabic value setting.\n",
    "    if rec['conflict_related'] is not None:\n",
    "        if rec['conflict_related'].strip() == 'كبرى' or rec['conflict_related'].strip() =='كبرى':\n",
    "            flag_record_reduced['flag_conflict_related'] = 1\n",
    "        elif rec['conflict_related'].strip() == 'لا':\n",
    "            flag_record_reduced['flag_conflict_related'] = 0\n",
    "        else:\n",
    "            flag_record_reduced['flag_conflict_related'] = None\n",
    "    else:\n",
    "        flag_record_reduced['flag_conflict_related'] = None\n",
    "        \n",
    "    # Loop through the variables for each raw data record in the reduced variable set\n",
    "    for v in reduced_variables:\n",
    "        # These are PII cols, so skip them\n",
    "        if 'info_' in v or v == 'id':\n",
    "            continue\n",
    "        \n",
    "        # Get the value in the column\n",
    "        to_lookup = rec[v]\n",
    "        \n",
    "        if to_lookup is None or to_lookup == '.':\n",
    "            continue\n",
    "        else:\n",
    "            \n",
    "            # We have a legit value, so look it up and grab the flags\n",
    "            try:\n",
    "                # There might be a keyerror on the info_ columns' hashed values, etc.\n",
    "                arabic_values_rec = arabic_lookup[to_lookup]\n",
    "                for flag in flag_cols:\n",
    "                    if arabic_values_rec[flag]:\n",
    "                        flag_record_reduced[flag] = arabic_values_rec[flag]\n",
    "            except:\n",
    "                pass\n",
    "    \n",
    "    # Store the record\n",
    "    flags_to_insert_reduced.append(flag_record_reduced)\n",
    "    \n",
    "    # Check if we need to insert\n",
    "    if len(flags_to_insert_reduced) > buffer_size:\n",
    "        tab_raw_flags_reduced.insert_many(flags_to_insert_reduced)\n",
    "        \n",
    "        # Clear the buffer\n",
    "        flags_to_insert_reduced.clear()\n",
    "        \n",
    "# We've been through all raw records so make sure the buffer is inserted\n",
    "tab_raw_flags_reduced.insert_many(flags_to_insert_reduced)\n",
    "flags_to_insert_reduced.clear()"
   ]
  },
  {
   "cell_type": "markdown",
   "metadata": {},
   "source": [
    "Now you need to get into the SQLite database and start querying to generate the datasets that you want. Below is an example of how to run the query through Python and easily dump the results to CSV files for analysis elsewhere."
   ]
  },
  {
   "cell_type": "markdown",
   "metadata": {
    "collapsed": true
   },
   "source": [
    "### Export full flags table, full_raw_flags, to CSV\n",
    "\n",
    "This is a big data set and might take a few minutes. Resulting CSV will be ~ 160mb.\n",
    "\n",
    "You should be able to pull this into python, R, Tableau, etc... for analysis. It probably has too many records to open in Excel."
   ]
  },
  {
   "cell_type": "code",
   "execution_count": 30,
   "metadata": {
    "collapsed": true
   },
   "outputs": [],
   "source": [
    "# You can change this query to export a different set of data\n",
    "result = db.query(\"\"\"\n",
    "SELECT files.id as files_id,\n",
    "       files.year,\n",
    "       files.month,\n",
    "       facilities.id AS facility_id,\n",
    "       facilities.facility_parent_id,\n",
    "       facilities.facilityname,\n",
    "       facilities.country,\n",
    "       facilities.governorate,\n",
    "       facilities.district,\n",
    "       facilities.subdistrict,\n",
    "       facilities.facility_type,\n",
    "       full_raw_flags.flag_abdomen,\n",
    "       full_raw_flags.flag_back,\n",
    "       full_raw_flags.flag_blunt,\n",
    "       full_raw_flags.flag_burn,\n",
    "       full_raw_flags.flag_chest,\n",
    "       full_raw_flags.flag_complication,\n",
    "       full_raw_flags.flag_conflict_related,\n",
    "       full_raw_flags.flag_explosive,\n",
    "       full_raw_flags.flag_extremity,\n",
    "       full_raw_flags.flag_facial,\n",
    "       full_raw_flags.flag_follow_up,\n",
    "       full_raw_flags.flag_fracture,\n",
    "       full_raw_flags.flag_gunshot,\n",
    "       full_raw_flags.flag_head,\n",
    "       full_raw_flags.flag_history_of,\n",
    "       full_raw_flags.flag_injury,\n",
    "       full_raw_flags.flag_lower_extremity,\n",
    "       full_raw_flags.flag_neck,\n",
    "       full_raw_flags.flag_nerve,\n",
    "       full_raw_flags.flag_neurologic,\n",
    "       full_raw_flags.flag_orthopedic,\n",
    "       full_raw_flags.flag_pelvic,\n",
    "       full_raw_flags.flag_shrapnel,\n",
    "       full_raw_flags.flag_spinal,\n",
    "       full_raw_flags.flag_spine,\n",
    "       full_raw_flags.flag_stab,\n",
    "       full_raw_flags.flag_suspected,\n",
    "       full_raw_flags.flag_traffic,\n",
    "       full_raw_flags.flag_trauma,\n",
    "       full_raw_flags.flag_upper_extremity,\n",
    "       full_raw_flags.flag_urologic,\n",
    "       full_raw_flags.flag_vascular,\n",
    "       full_raw_flags.flag_wound\n",
    "\n",
    "FROM full_raw_flags\n",
    "JOIN files on files.id = full_raw_flags.file_id\n",
    "JOIN facilities on files.facility_id = facilities.id\n",
    "\n",
    "WHERE files.facility_id IS NOT NULL \n",
    "AND files.month IS NOT NULL\n",
    "AND files.skipped = 0\n",
    "AND files.ignore = 0;\n",
    "\"\"\")\n",
    "dataset.freeze(result, format='csv', filename='full_raw_flags.csv')"
   ]
  },
  {
   "cell_type": "markdown",
   "metadata": {},
   "source": [
    "### Export reduced flags table, full_raw_flags_reduced, to CSV\n",
    "\n",
    "This is a big dataset and might take a few minutes. Resulting CSV file will be ~ 160mb.\n",
    "\n",
    "You should be able to pull this into python, R, Tableau, etc... for analysis. It probably has too many records to open in Excel."
   ]
  },
  {
   "cell_type": "code",
   "execution_count": 31,
   "metadata": {
    "collapsed": true
   },
   "outputs": [],
   "source": [
    "# You can change this query to export a different set of data\n",
    "# Keep in mind these flags were generated from the subset of raw data columns\n",
    "# listed above\n",
    "result = db.query(\"\"\"\n",
    "SELECT files.id as files_id,\n",
    "       files.year,\n",
    "       files.month,\n",
    "       facilities.id AS facility_id,\n",
    "       facilities.facility_parent_id,\n",
    "       facilities.facilityname,\n",
    "       facilities.country,\n",
    "       facilities.governorate,\n",
    "       facilities.district,\n",
    "       facilities.subdistrict,\n",
    "       facilities.facility_type,\n",
    "       full_raw_flags_reduced.flag_abdomen,\n",
    "       full_raw_flags_reduced.flag_back,\n",
    "       full_raw_flags_reduced.flag_blunt,\n",
    "       full_raw_flags_reduced.flag_burn,\n",
    "       full_raw_flags_reduced.flag_chest,\n",
    "       full_raw_flags_reduced.flag_complication,\n",
    "       full_raw_flags_reduced.flag_conflict_related,\n",
    "       full_raw_flags_reduced.flag_explosive,\n",
    "       full_raw_flags_reduced.flag_extremity,\n",
    "       full_raw_flags_reduced.flag_facial,\n",
    "       full_raw_flags_reduced.flag_follow_up,\n",
    "       full_raw_flags_reduced.flag_fracture,\n",
    "       full_raw_flags_reduced.flag_gunshot,\n",
    "       full_raw_flags_reduced.flag_head,\n",
    "       full_raw_flags_reduced.flag_history_of,\n",
    "       full_raw_flags_reduced.flag_injury,\n",
    "       full_raw_flags_reduced.flag_lower_extremity,\n",
    "       full_raw_flags_reduced.flag_neck,\n",
    "       full_raw_flags_reduced.flag_nerve,\n",
    "       full_raw_flags_reduced.flag_neurologic,\n",
    "       full_raw_flags_reduced.flag_orthopedic,\n",
    "       full_raw_flags_reduced.flag_pelvic,\n",
    "       full_raw_flags_reduced.flag_shrapnel,\n",
    "       full_raw_flags_reduced.flag_spinal,\n",
    "       full_raw_flags_reduced.flag_spine,\n",
    "       full_raw_flags_reduced.flag_stab,\n",
    "       full_raw_flags_reduced.flag_suspected,\n",
    "       full_raw_flags_reduced.flag_traffic,\n",
    "       full_raw_flags_reduced.flag_trauma,\n",
    "       full_raw_flags_reduced.flag_upper_extremity,\n",
    "       full_raw_flags_reduced.flag_urologic,\n",
    "       full_raw_flags_reduced.flag_vascular,\n",
    "       full_raw_flags_reduced.flag_wound\n",
    "\n",
    "FROM full_raw_flags_reduced\n",
    "JOIN files on files.id = full_raw_flags_reduced.file_id\n",
    "JOIN facilities on files.facility_id = facilities.id\n",
    "\n",
    "WHERE files.facility_id IS NOT NULL \n",
    "AND files.month IS NOT NULL\n",
    "AND files.skipped = 0\n",
    "AND files.ignore = 0;\n",
    "\"\"\")\n",
    "dataset.freeze(result, format='csv', filename='full_raw_flags_reduced.csv')"
   ]
  },
  {
   "cell_type": "markdown",
   "metadata": {},
   "source": [
    "### Back up the derived SQLite database"
   ]
  },
  {
   "cell_type": "code",
   "execution_count": 32,
   "metadata": {},
   "outputs": [
    {
     "data": {
      "text/plain": [
       "'backup_db_with_flags.sqlite'"
      ]
     },
     "execution_count": 32,
     "metadata": {},
     "output_type": "execute_result"
    }
   ],
   "source": [
    "# This is optional and will generate a copy of the database that will be gigabytes in size.\n",
    "\n",
    "shutil.copy2(new_db_name,'backup_' + new_db_name)"
   ]
  },
  {
   "cell_type": "code",
   "execution_count": null,
   "metadata": {
    "collapsed": true
   },
   "outputs": [],
   "source": []
  }
 ],
 "metadata": {
  "kernelspec": {
   "display_name": "Python 3",
   "language": "python",
   "name": "python3"
  },
  "language_info": {
   "codemirror_mode": {
    "name": "ipython",
    "version": 3
   },
   "file_extension": ".py",
   "mimetype": "text/x-python",
   "name": "python",
   "nbconvert_exporter": "python",
   "pygments_lexer": "ipython3",
   "version": "3.6.1"
  }
 },
 "nbformat": 4,
 "nbformat_minor": 2
}
