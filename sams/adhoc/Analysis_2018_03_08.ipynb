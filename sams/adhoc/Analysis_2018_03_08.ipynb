{
 "cells": [
  {
   "cell_type": "markdown",
   "metadata": {},
   "source": [
    "### Analysis of Records"
   ]
  },
  {
   "cell_type": "code",
   "execution_count": 1,
   "metadata": {
    "collapsed": true
   },
   "outputs": [],
   "source": [
    "# For copying files and working with file directories\n",
    "import os\n",
    "import shutil\n",
    "\n",
    "# Regular expressions\n",
    "# You can use these for pattern matching if you're so inclined\n",
    "import re\n",
    "\n",
    "# Connect to a SQLite database in a lazy manner.\n",
    "import dataset\n",
    "\n",
    "# This used to be a part of dataset but was extracted to its own library\n",
    "# https://github.com/pudo/datafreeze\n",
    "from datafreeze import freeze\n",
    "\n",
    "# Export database table to CSV\n",
    "import csv"
   ]
  },
  {
   "cell_type": "code",
   "execution_count": 2,
   "metadata": {
    "collapsed": true
   },
   "outputs": [],
   "source": [
    "new_db_name = \"db_with_flags_2018_03_08.sqlite\""
   ]
  },
  {
   "cell_type": "code",
   "execution_count": 3,
   "metadata": {
    "collapsed": true
   },
   "outputs": [],
   "source": [
    "# Create a connection to the database\n",
    "db = dataset.connect(\"sqlite:///\" + new_db_name)"
   ]
  },
  {
   "cell_type": "code",
   "execution_count": null,
   "metadata": {
    "collapsed": true
   },
   "outputs": [],
   "source": [
    "# Get a reference to the arabic_values table\n",
    "tab_arabic_values = db['arabic_values']"
   ]
  },
  {
   "cell_type": "markdown",
   "metadata": {
    "collapsed": true
   },
   "source": [
    "### Export full flags table, full_raw_flags, to CSV\n",
    "\n",
    "This is a big data set and might take a few minutes. Resulting CSV will be ~ 160mb.\n",
    "\n",
    "You should be able to pull this into python, R, Tableau, etc... for analysis. It probably has too many records to open in Excel."
   ]
  },
  {
   "cell_type": "code",
   "execution_count": null,
   "metadata": {
    "collapsed": true
   },
   "outputs": [],
   "source": [
    "# You can change this query to export a different set of data\n",
    "result = db.query(\"\"\"\n",
    "SELECT  files.id as files_id,\n",
    "        files.year,\n",
    "        files.month,\n",
    "        files.year || '-' || files.month || '-01' AS full_date,\n",
    "        facilities.id AS facility_id,\n",
    "        facilities.facility_parent_id,\n",
    "        facilities.facilityname,\n",
    "        facilities.country,\n",
    "        facilities.governorate,\n",
    "        facilities.district,\n",
    "        facilities.subdistrict,\n",
    "        facilities.facility_type,\n",
    "        full_raw_flags.flag_abdomen,\n",
    "        full_raw_flags.flag_abdominal_pain,\n",
    "        full_raw_flags.flag_allergy,\n",
    "        full_raw_flags.flag_anemia,\n",
    "        full_raw_flags.flag_animal_insect_bite,\n",
    "        full_raw_flags.flag_back,\n",
    "        full_raw_flags.flag_blast,\n",
    "        full_raw_flags.flag_bleed,\n",
    "        full_raw_flags.flag_blunt,\n",
    "        full_raw_flags.flag_burn,\n",
    "        full_raw_flags.flag_cancer,\n",
    "        full_raw_flags.flag_cardiovascular,\n",
    "        full_raw_flags.flag_chest,\n",
    "        full_raw_flags.flag_complication,\n",
    "        full_raw_flags.flag_conflict_related,\n",
    "        full_raw_flags.flag_congenital,\n",
    "        full_raw_flags.flag_constipation,\n",
    "        full_raw_flags.flag_dehydration,\n",
    "        full_raw_flags.flag_dental_complaint,\n",
    "        full_raw_flags.flag_derm,\n",
    "        full_raw_flags.flag_diabetes,\n",
    "        full_raw_flags.flag_diarrhea_dysentery,\n",
    "        full_raw_flags.flag_endocrine,\n",
    "        full_raw_flags.flag_ENT,\n",
    "        full_raw_flags.flag_explosive,\n",
    "        full_raw_flags.flag_eye,\n",
    "        full_raw_flags.flag_facial,\n",
    "        full_raw_flags.flag_fatigue,\n",
    "        full_raw_flags.flag_fever,\n",
    "        full_raw_flags.flag_follow_up,\n",
    "        full_raw_flags.flag_fracture,\n",
    "        full_raw_flags.flag_gi_complaint,\n",
    "        full_raw_flags.flag_growth_delay,\n",
    "        full_raw_flags.flag_gu,\n",
    "        full_raw_flags.flag_gunshot,\n",
    "        full_raw_flags.flag_gyn_women,\n",
    "        full_raw_flags.flag_head,\n",
    "        full_raw_flags.flag_headache,\n",
    "        full_raw_flags.flag_history_of,\n",
    "        full_raw_flags.flag_hyperlipidemia,\n",
    "        full_raw_flags.flag_infection,\n",
    "        full_raw_flags.flag_injury,\n",
    "        full_raw_flags.flag_injury_neuro,\n",
    "        full_raw_flags.flag_liver_dysfunction,\n",
    "        full_raw_flags.flag_lower_extremity,\n",
    "        full_raw_flags.flag_malnutrition,\n",
    "        full_raw_flags.flag_mental_health,\n",
    "        full_raw_flags.flag_musculoskeletal_pain,\n",
    "        full_raw_flags.flag_nausea_vomiting,\n",
    "        full_raw_flags.flag_neck,\n",
    "        full_raw_flags.flag_nerve,\n",
    "        full_raw_flags.flag_neuro_complaint,\n",
    "        full_raw_flags.flag_neurologic,\n",
    "        full_raw_flags.flag_orthopedic,\n",
    "        full_raw_flags.flag_other_infection,\n",
    "        full_raw_flags.flag_pain,\n",
    "        full_raw_flags.flag_pelvic,\n",
    "        full_raw_flags.flag_pregnancy,\n",
    "        full_raw_flags.flag_renal,\n",
    "        full_raw_flags.flag_respiratory,\n",
    "        full_raw_flags.flag_shrapnel,\n",
    "        full_raw_flags.flag_spinal,\n",
    "        full_raw_flags.flag_spine,\n",
    "        full_raw_flags.flag_stab,\n",
    "        full_raw_flags.flag_stroke,\n",
    "        full_raw_flags.flag_suspected,\n",
    "        full_raw_flags.flag_traffic_accident,\n",
    "        full_raw_flags.flag_trauma,\n",
    "        full_raw_flags.flag_upper_extremity,\n",
    "        full_raw_flags.flag_urologic,\n",
    "        full_raw_flags.flag_vascular,\n",
    "        full_raw_flags.flag_wound\n",
    "\n",
    "FROM full_raw_flags\n",
    "JOIN files on files.id = full_raw_flags.file_id\n",
    "JOIN facilities on files.facility_id = facilities.id\n",
    "\n",
    "WHERE files.facility_id IS NOT NULL \n",
    "AND files.month IS NOT NULL\n",
    "AND files.skipped = 0\n",
    "AND files.ignore = 0;\n",
    "\"\"\")\n",
    "\n",
    "# This used to be a part of dataset but was extracted to its own library\n",
    "# https://github.com/pudo/datafreeze\n",
    "freeze(result, format='csv', filename='full_raw_flags.csv')"
   ]
  },
  {
   "cell_type": "code",
   "execution_count": null,
   "metadata": {
    "collapsed": true
   },
   "outputs": [],
   "source": [
    "# Dump the arabic_values table and ignore the values that were appended at the end of it\n",
    "\n",
    "result = db.query(\"SELECT * FROM arabic_values WHERE orig_value IS NULL ORDER BY id ASC;\")\n",
    "freeze(result, format='csv', filename='arabic_values.csv')"
   ]
  },
  {
   "cell_type": "code",
   "execution_count": null,
   "metadata": {
    "collapsed": true
   },
   "outputs": [],
   "source": [
    "# Injury related flags\n",
    "# You can change this query to export a different set of data\n",
    "result = db.query(\"\"\"\n",
    "SELECT  files.id as files_id,\n",
    "        files.year,\n",
    "        files.month,\n",
    "        files.year || '-' || files.month || '-01' AS full_date,\n",
    "        facilities.id AS facility_id,\n",
    "        facilities.facility_parent_id,\n",
    "        facilities.facilityname,\n",
    "        facilities.country,\n",
    "        facilities.governorate,\n",
    "        facilities.district,\n",
    "        facilities.subdistrict,\n",
    "        facilities.facility_type,\n",
    "        full_raw_flags.flag_conflict_related,\n",
    "        full_raw_flags.flag_blast,\n",
    "        full_raw_flags.flag_burn,\n",
    "        full_raw_flags.flag_fracture,\n",
    "        full_raw_flags.flag_gunshot,\n",
    "        full_raw_flags.flag_injury,\n",
    "        full_raw_flags.flag_injury_neuro,\n",
    "        full_raw_flags.flag_shrapnel,\n",
    "        full_raw_flags.flag_stab,\n",
    "        full_raw_flags.flag_traffic_accident,\n",
    "        full_raw_flags.flag_trauma\n",
    "\n",
    "FROM full_raw_flags\n",
    "JOIN files on files.id = full_raw_flags.file_id\n",
    "JOIN facilities on files.facility_id = facilities.id\n",
    "\n",
    "WHERE files.facility_id IS NOT NULL \n",
    "AND files.month IS NOT NULL\n",
    "AND files.skipped = 0\n",
    "AND files.ignore = 0;\n",
    "\"\"\")\n",
    "\n",
    "# This used to be a part of dataset but was extracted to its own library\n",
    "# https://github.com/pudo/datafreeze\n",
    "freeze(result, format='csv', filename='full_raw_flags_injuries.csv')"
   ]
  }
 ],
 "metadata": {
  "kernelspec": {
   "display_name": "Python 3",
   "language": "python",
   "name": "python3"
  },
  "language_info": {
   "codemirror_mode": {
    "name": "ipython",
    "version": 3
   },
   "file_extension": ".py",
   "mimetype": "text/x-python",
   "name": "python",
   "nbconvert_exporter": "python",
   "pygments_lexer": "ipython3",
   "version": "3.6.1"
  }
 },
 "nbformat": 4,
 "nbformat_minor": 2
}
