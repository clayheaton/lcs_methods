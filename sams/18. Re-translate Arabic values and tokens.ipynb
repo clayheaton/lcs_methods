{
 "cells": [
  {
   "cell_type": "code",
   "execution_count": 1,
   "metadata": {
    "collapsed": true
   },
   "outputs": [],
   "source": [
    "# Manipulate the file system\n",
    "import os\n",
    "import shutil\n",
    "\n",
    "# Copy dictionaries\n",
    "import copy\n",
    "\n",
    "# Display errors in realtime\n",
    "import ipywidgets as widgets\n",
    "\n",
    "# work with dates\n",
    "import datetime\n",
    "import arrow\n",
    "import time\n",
    "\n",
    "# For scrubbing PII\n",
    "import hashlib\n",
    "\n",
    "# Convert stored string representation of a list to a list\n",
    "import ast\n",
    "\n",
    "# Recurse through a directory tree and return file names with glob\n",
    "import glob\n",
    "\n",
    "# Decode and re-encode mangled Arabic file names\n",
    "import codecs\n",
    "\n",
    "# Connect to a SQLite database in a lazy manner.\n",
    "import sqlalchemy\n",
    "import dataset\n",
    "\n",
    "# Enables opening and reading of Excel files\n",
    "import openpyxl\n",
    "\n",
    "# Translating variables, sheet names, and workbook names from Arabic\n",
    "# This is NOT free to use.\n",
    "from google.cloud import translate\n",
    "\n",
    "# Set the environment variable for the Google Service Account\n",
    "os.environ['GOOGLE_APPLICATION_CREDENTIALS'] = 'C:\\\\Users\\\\clay\\\\Documents\\\\fxb-lcs-2b24f4f8a73a.json'"
   ]
  },
  {
   "cell_type": "code",
   "execution_count": 2,
   "metadata": {},
   "outputs": [
    {
     "name": "stdout",
     "output_type": "stream",
     "text": [
      "Created database from template: sams_data_phase18.sqlite\n"
     ]
    }
   ],
   "source": [
    "#If there's an existing db for this sheet, delete it\n",
    "#so that we can copy from the template for a fresh start\n",
    "\n",
    "try:\n",
    "    os.remove(\"sams_data_phase18.sqlite\")\n",
    "    print(\"Removed template clone sams_data_phase18.sqlite\")\n",
    "except:\n",
    "    pass\n",
    "\n",
    "try:\n",
    "    # Try to preserve a copy in case there is a problem and it has to be restored\n",
    "    shutil.copy2(\"sams_data_phase18_template.sqlite\",\"sams_data_phase18.sqlite\")\n",
    "    \n",
    "    print(\"Created database from template: sams_data_phase18.sqlite\")\n",
    "except:\n",
    "    pass"
   ]
  },
  {
   "cell_type": "code",
   "execution_count": 3,
   "metadata": {
    "collapsed": true
   },
   "outputs": [],
   "source": [
    "db = dataset.connect(\"sqlite:///sams_data_phase18.sqlite\")"
   ]
  },
  {
   "cell_type": "code",
   "execution_count": 4,
   "metadata": {
    "collapsed": true
   },
   "outputs": [],
   "source": [
    "tab_arabic = db['arabic_values']\n",
    "tab_tokens = db['arabic_tokens']"
   ]
  },
  {
   "cell_type": "code",
   "execution_count": 5,
   "metadata": {
    "collapsed": true
   },
   "outputs": [],
   "source": [
    "# Arabic Character Ranges Regex\n",
    "# https://stackoverflow.com/questions/4446244/how-to-check-if-any-arabic-character-exists-in-the-string-javascript\n",
    "\n",
    "translate_client = translate.Client()\n",
    "target_lang = 'en'"
   ]
  },
  {
   "cell_type": "code",
   "execution_count": 6,
   "metadata": {
    "collapsed": true
   },
   "outputs": [],
   "source": [
    "record_counter = widgets.HTML(value=\"Records: 0\",continuous_update=True)\n",
    "character_counter = widgets.HTML(value=\"Characters: 0\",continuous_update=True)\n",
    "error_counter = widgets.HTML(value=\"Errors: 0\",continuous_update=True)"
   ]
  },
  {
   "cell_type": "markdown",
   "metadata": {},
   "source": [
    "### Translate the tokens"
   ]
  },
  {
   "cell_type": "code",
   "execution_count": null,
   "metadata": {},
   "outputs": [],
   "source": [
    "character_count = 0\n",
    "record_count = 0\n",
    "error_count = 0\n",
    "\n",
    "update_records = []\n",
    "\n",
    "for row in tab_tokens.find():\n",
    "    arabic_string = row['token']\n",
    "    # arabic_string.replace(\"_\",\" \").replace(\"\\n\",\" \").replace(\"  \",\" \").replace(\"\\t\",\" \").strip()\n",
    "    try:\n",
    "        translation = translate_client.translate(arabic_string, target_language=target_lang)\n",
    "        rec = {\n",
    "            \"id\":row['id'],\n",
    "            \"google_translate_feb\":translation['translatedText']\n",
    "        }\n",
    "        update_records.append(rec)\n",
    "        character_count += len(row['token'])\n",
    "        character_counter.value = \"Characters: \" + str(character_count)\n",
    "        record_count += 1\n",
    "        record_counter.value = \"Records: \" + str(record_count)\n",
    "\n",
    "    except:\n",
    "        error_count += 1\n",
    "        error_counter.value = \"Errors: \" + str(error_count)\n",
    "        time.sleep(10)\n",
    "\n",
    "        \n",
    "print(\"--------------\\nDone\")\n",
    "print(\"Record Count\",record_count)\n",
    "print(\"Character Count\",character_count)"
   ]
  },
  {
   "cell_type": "code",
   "execution_count": 8,
   "metadata": {},
   "outputs": [
    {
     "data": {
      "application/vnd.jupyter.widget-view+json": {
       "model_id": "3b09f8073c0247759519cfda40261b3b"
      }
     },
     "metadata": {},
     "output_type": "display_data"
    }
   ],
   "source": [
    "record_counter"
   ]
  },
  {
   "cell_type": "code",
   "execution_count": 9,
   "metadata": {},
   "outputs": [
    {
     "data": {
      "application/vnd.jupyter.widget-view+json": {
       "model_id": "7c8c41a5ead54c3c8ee93733559f5e63"
      }
     },
     "metadata": {},
     "output_type": "display_data"
    }
   ],
   "source": [
    "character_counter"
   ]
  },
  {
   "cell_type": "code",
   "execution_count": 10,
   "metadata": {},
   "outputs": [
    {
     "data": {
      "application/vnd.jupyter.widget-view+json": {
       "model_id": "ddc0ad4b0b574d4b8f98c8b3c6a13f5f"
      }
     },
     "metadata": {},
     "output_type": "display_data"
    }
   ],
   "source": [
    "error_counter"
   ]
  },
  {
   "cell_type": "code",
   "execution_count": null,
   "metadata": {
    "collapsed": true
   },
   "outputs": [],
   "source": [
    "# DO NOT FORGET TO UPDATE THE TABLE!\n",
    "for record in update_records:\n",
    "    tab_tokens.update(record,['id'])"
   ]
  }
 ],
 "metadata": {
  "kernelspec": {
   "display_name": "Python 3",
   "language": "python",
   "name": "python3"
  },
  "language_info": {
   "codemirror_mode": {
    "name": "ipython",
    "version": 3
   },
   "file_extension": ".py",
   "mimetype": "text/x-python",
   "name": "python",
   "nbconvert_exporter": "python",
   "pygments_lexer": "ipython3",
   "version": "3.6.1"
  }
 },
 "nbformat": 4,
 "nbformat_minor": 2
}
