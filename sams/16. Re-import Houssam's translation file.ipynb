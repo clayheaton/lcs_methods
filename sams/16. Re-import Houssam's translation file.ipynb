{
 "cells": [
  {
   "cell_type": "code",
   "execution_count": 1,
   "metadata": {
    "collapsed": true
   },
   "outputs": [],
   "source": [
    "# Manipulate the file system\n",
    "import os\n",
    "import shutil\n",
    "\n",
    "# Copy dictionaries\n",
    "import copy\n",
    "\n",
    "# Regular expressions\n",
    "import re\n",
    "\n",
    "# Display errors in realtime\n",
    "import ipywidgets as widgets\n",
    "\n",
    "# work with dates\n",
    "import datetime\n",
    "import arrow\n",
    "import time\n",
    "\n",
    "# For scrubbing PII\n",
    "import hashlib\n",
    "\n",
    "# Convert stored string representation of a list to a list\n",
    "import ast\n",
    "\n",
    "# Recurse through a directory tree and return file names with glob\n",
    "import glob\n",
    "\n",
    "# Decode and re-encode mangled Arabic file names\n",
    "import codecs\n",
    "\n",
    "# Connect to a SQLite database in a lazy manner.\n",
    "import sqlalchemy\n",
    "import dataset\n",
    "\n",
    "# Enables opening and reading of Excel files\n",
    "import openpyxl\n",
    "\n",
    "# Import Pandas for easy importing of an excel file\n",
    "import csv\n",
    "\n",
    "# Translating variables, sheet names, and workbook names from Arabic\n",
    "# This is NOT free to use.\n",
    "from google.cloud import translate\n",
    "\n",
    "# Set the environment variable for the Google Service Account\n",
    "os.environ['GOOGLE_APPLICATION_CREDENTIALS'] = 'C:\\\\Users\\\\clay\\\\Documents\\\\fxb-lcs-2b24f4f8a73a.json'"
   ]
  },
  {
   "cell_type": "code",
   "execution_count": 2,
   "metadata": {},
   "outputs": [
    {
     "name": "stdout",
     "output_type": "stream",
     "text": [
      "Removed template clone sams_data_phase16.sqlite\n",
      "Created database from template: sams_data_phase16.sqlite\n"
     ]
    }
   ],
   "source": [
    "#If there's an existing db for this sheet, delete it\n",
    "#so that we can copy from the template for a fresh start\n",
    "\n",
    "try:\n",
    "    os.remove(\"sams_data_phase16.sqlite\")\n",
    "    print(\"Removed template clone sams_data_phase16.sqlite\")\n",
    "except:\n",
    "    pass\n",
    "\n",
    "try:\n",
    "    # Try to preserve a copy in case there is a problem and it has to be restored\n",
    "    shutil.copy2(\"sams_data_phase16_template.sqlite\",\"sams_data_phase16.sqlite\")\n",
    "    \n",
    "    print(\"Created database from template: sams_data_phase16.sqlite\")\n",
    "except:\n",
    "    pass"
   ]
  },
  {
   "cell_type": "code",
   "execution_count": 3,
   "metadata": {
    "collapsed": true
   },
   "outputs": [],
   "source": [
    "db = dataset.connect(\"sqlite:///sams_data_phase16.sqlite\")"
   ]
  },
  {
   "cell_type": "code",
   "execution_count": 4,
   "metadata": {
    "collapsed": true
   },
   "outputs": [],
   "source": [
    "# Import the translation file from Houssam\n",
    "# Translation file from Houssom\n",
    "\n",
    "translation_file = \"split_arabic_phrases_01_Dec_2017_Categorized V4_01-18-2018.csv\"\n",
    "\n",
    "data = []\n",
    "with open(translation_file,'r', encoding='utf-8') as csvfile:\n",
    "    csvreader = csv.reader(csvfile)\n",
    "    header = next(csvreader)\n",
    "    header[0] = 'id'\n",
    "    for row in csvreader:\n",
    "        rowdict = zip(header,row)\n",
    "        data.append(dict(rowdict))\n",
    "        \n",
    "# Convert some values to integers and use None for empty strings to save database space\n",
    "\n",
    "clean_data = []\n",
    "for r in data:\n",
    "    try:\n",
    "        r['id'] = int(r['id'])\n",
    "        r['occurrences'] = int(r['occurrences'])\n",
    "        for key in r.keys():\n",
    "            if key.strip() == '':\n",
    "                continue\n",
    "            try:\n",
    "                if r[key].strip() == '':\n",
    "                    r[key] = None\n",
    "            except:\n",
    "                pass\n",
    "        try:\n",
    "            del r['Number of Characters']\n",
    "        except:\n",
    "            pass\n",
    "        \n",
    "        # Sometimes the CSV imports with a blank column on the left\n",
    "        # that needs to be deleted from the dict created from it\n",
    "        try:\n",
    "            del r['']\n",
    "        except:\n",
    "            pass\n",
    "        \n",
    "        clean_data.append(r)\n",
    "    except:\n",
    "        pass\n",
    "    \n",
    "# Replace the arabic_tokens table with the translation data, which includes\n",
    "# all of the original arabic_tokens data along with additional metadata from Excel\n",
    "tab_arabic_tokens = db['arabic_tokens']\n",
    "tab_arabic_tokens.drop()\n",
    "\n",
    "tab_arabic_tokens = db['arabic_tokens']\n",
    "tab_arabic_tokens.insert_many(clean_data)\n",
    "\n",
    "tab_arabic_values_tokens = db['arabic_values_tokens']\n",
    "\n",
    "join_lookup = {}\n",
    "\n",
    "for record in tab_arabic_values_tokens.find():\n",
    "    if record['arabic_values_id'] not in join_lookup.keys():\n",
    "        join_lookup[record['arabic_values_id']] = set()\n",
    "    join_lookup[record['arabic_values_id']].add(record['token_id'])\n",
    "    \n",
    "# There are errant commas in the import file and this attempts to remove them,\n",
    "# though it is possible is also is removing commas that belong. \n",
    "token_lookup = {}\n",
    "\n",
    "for record in tab_arabic_tokens.find():\n",
    "    translation = record['translation']\n",
    "    \n",
    "    # Nothing to join back\n",
    "    if translation is None:\n",
    "        continue\n",
    "    else:\n",
    "        translation = [x.lower().strip() for x in translation.split(\",\") if x.strip() != '']\n",
    "        \n",
    "    token_lookup[record['id']] = translation\n",
    "    \n",
    "ar_values_to_update = []\n",
    "for key in join_lookup.keys():\n",
    "    update_rec = {'id':key}\n",
    "    all_vals = []\n",
    "    for token_rec in sorted(list(join_lookup[key])):\n",
    "        try:\n",
    "            all_vals += token_lookup[token_rec]\n",
    "        except:\n",
    "            pass\n",
    "    if len(all_vals) == 0:\n",
    "        continue\n",
    "    \n",
    "    hum_trans = \", \".join(all_vals)\n",
    "    update_rec['human_translate'] = hum_trans\n",
    "    ar_values_to_update.append(update_rec)\n",
    "    \n",
    "tab_arabic_values = db['arabic_values']\n",
    "\n",
    "for rec in ar_values_to_update:\n",
    "    try:\n",
    "        tab_arabic_values.update(rec,['id'])\n",
    "    except:\n",
    "        print(rec)"
   ]
  },
  {
   "cell_type": "code",
   "execution_count": 5,
   "metadata": {},
   "outputs": [
    {
     "data": {
      "text/plain": [
       "[{'Notes': None,\n",
       "  'Spelling Correction': None,\n",
       "  'Translator': None,\n",
       "  'id': 1,\n",
       "  'occurrences': 4,\n",
       "  'token': 'قبول عابر',\n",
       "  'translation': 'Monitoring'},\n",
       " {'Notes': None,\n",
       "  'Spelling Correction': None,\n",
       "  'Translator': None,\n",
       "  'id': 2,\n",
       "  'occurrences': 3,\n",
       "  'token': 'حواضن',\n",
       "  'translation': 'incubators'},\n",
       " {'Notes': None,\n",
       "  'Spelling Correction': None,\n",
       "  'Translator': None,\n",
       "  'id': 3,\n",
       "  'occurrences': 35,\n",
       "  'token': 'استشفاء',\n",
       "  'translation': 'recovery'},\n",
       " {'Notes': None,\n",
       "  'Spelling Correction': None,\n",
       "  'Translator': None,\n",
       "  'id': 4,\n",
       "  'occurrences': 8,\n",
       "  'token': 'عناية',\n",
       "  'translation': 'ICU'},\n",
       " {'Notes': None,\n",
       "  'Spelling Correction': None,\n",
       "  'Translator': None,\n",
       "  'id': 5,\n",
       "  'occurrences': 10,\n",
       "  'token': 'اختبار الزمرة الدموية',\n",
       "  'translation': ', blood typing '}]"
      ]
     },
     "execution_count": 5,
     "metadata": {},
     "output_type": "execute_result"
    }
   ],
   "source": [
    "clean_data[:5]"
   ]
  },
  {
   "cell_type": "code",
   "execution_count": 6,
   "metadata": {},
   "outputs": [
    {
     "data": {
      "text/plain": [
       "'sams_data_phase17_template.sqlite'"
      ]
     },
     "execution_count": 6,
     "metadata": {},
     "output_type": "execute_result"
    }
   ],
   "source": [
    "# Convert this to a translation import notebook and move flag work to subsequent notebook\n",
    "\n",
    "# Copy the database over as the template for the next file.\n",
    "# This Notebook did not include manual editing of the data.\n",
    "\n",
    "# Do not rerun this cell!\n",
    "shutil.copy2('sams_data_phase16.sqlite','sams_data_phase17_template.sqlite')"
   ]
  },
  {
   "cell_type": "code",
   "execution_count": null,
   "metadata": {
    "collapsed": true
   },
   "outputs": [],
   "source": []
  }
 ],
 "metadata": {
  "kernelspec": {
   "display_name": "Python 3",
   "language": "python",
   "name": "python3"
  },
  "language_info": {
   "codemirror_mode": {
    "name": "ipython",
    "version": 3
   },
   "file_extension": ".py",
   "mimetype": "text/x-python",
   "name": "python",
   "nbconvert_exporter": "python",
   "pygments_lexer": "ipython3",
   "version": "3.6.1"
  }
 },
 "nbformat": 4,
 "nbformat_minor": 2
}
