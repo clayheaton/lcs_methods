{
 "cells": [
  {
   "cell_type": "code",
   "execution_count": 29,
   "metadata": {
    "collapsed": true
   },
   "outputs": [],
   "source": [
    "# Manipulate the file system\n",
    "import os\n",
    "import shutil\n",
    "\n",
    "# Copy dictionaries\n",
    "import copy\n",
    "\n",
    "# Regular expressions\n",
    "import re\n",
    "\n",
    "# Display errors in realtime\n",
    "import ipywidgets as widgets\n",
    "\n",
    "# work with dates\n",
    "import datetime\n",
    "import arrow\n",
    "import time\n",
    "import dateparser\n",
    "\n",
    "# For scrubbing PII\n",
    "import hashlib\n",
    "\n",
    "# Convert stored string representation of a list to a list\n",
    "import ast\n",
    "\n",
    "# Recurse through a directory tree and return file names with glob\n",
    "import glob\n",
    "\n",
    "# Decode and re-encode mangled Arabic file names\n",
    "import codecs\n",
    "\n",
    "# Connect to a SQLite database in a lazy manner.\n",
    "import sqlalchemy\n",
    "import dataset\n",
    "\n",
    "# Enables opening and reading of Excel files\n",
    "import openpyxl\n",
    "\n",
    "# Import Pandas for easy importing of an excel file\n",
    "import csv\n",
    "\n",
    "# Translating variables, sheet names, and workbook names from Arabic\n",
    "# This is NOT free to use.\n",
    "from google.cloud import translate\n",
    "\n",
    "# Set the environment variable for the Google Service Account\n",
    "os.environ['GOOGLE_APPLICATION_CREDENTIALS'] = 'C:\\\\Users\\\\clay\\\\Documents\\\\fxb-lcs-2b24f4f8a73a.json'"
   ]
  },
  {
   "cell_type": "code",
   "execution_count": 30,
   "metadata": {},
   "outputs": [
    {
     "name": "stdout",
     "output_type": "stream",
     "text": [
      "Removed template clone sams_data_phase12.sqlite\n",
      "Created database from template: sams_data_phase12.sqlite\n"
     ]
    }
   ],
   "source": [
    "#If there's an existing db for this sheet, delete it\n",
    "#so that we can copy from the template for a fresh start\n",
    "\n",
    "try:\n",
    "    os.remove(\"sams_data_phase12.sqlite\")\n",
    "    print(\"Removed template clone sams_data_phase12.sqlite\")\n",
    "except:\n",
    "    pass\n",
    "\n",
    "try:\n",
    "    # Try to preserve a copy in case there is a problem and it has to be restored\n",
    "    shutil.copy2(\"sams_data_phase12_template.sqlite\",\"sams_data_phase12.sqlite\")\n",
    "    \n",
    "    print(\"Created database from template: sams_data_phase12.sqlite\")\n",
    "except:\n",
    "    pass"
   ]
  },
  {
   "cell_type": "code",
   "execution_count": 37,
   "metadata": {
    "collapsed": true
   },
   "outputs": [],
   "source": [
    "db = dataset.connect(\"sqlite:///sams_data_phase12.sqlite\")"
   ]
  },
  {
   "cell_type": "code",
   "execution_count": 38,
   "metadata": {
    "collapsed": true
   },
   "outputs": [],
   "source": [
    "tab_files = db['files']"
   ]
  },
  {
   "cell_type": "code",
   "execution_count": 33,
   "metadata": {
    "collapsed": true
   },
   "outputs": [],
   "source": [
    "date_dict = {\n",
    "    'jan':1,\n",
    "    'Jan':1,\n",
    "    'january':1,\n",
    "    'January':1,\n",
    "    \"feb\":2,\n",
    "    'Feb':2,\n",
    "    'february':2,\n",
    "    'February':2,\n",
    "    'mar':3,\n",
    "    'Mar':3,\n",
    "    'March':3,\n",
    "    'march':3,\n",
    "    'Apr':4,\n",
    "    'apr':4,\n",
    "    'April':4,\n",
    "    'april':4,\n",
    "    'May':5,\n",
    "    'may':5,\n",
    "    'Jun':6,\n",
    "    'jun':6,\n",
    "    'June':6,\n",
    "    'june':6,\n",
    "    'jul':7,\n",
    "    'Jul':7,\n",
    "    'July':7,\n",
    "    'july':7,\n",
    "    'Aug':8,\n",
    "    'aug':8,\n",
    "    'August':8,\n",
    "    'august':8,\n",
    "    'September':9,\n",
    "    'september':9,\n",
    "    'sep':9,\n",
    "    'Sep':9,\n",
    "    'Sept':9,\n",
    "    'sept':9,\n",
    "    'Oct':10,\n",
    "    'oct':10,\n",
    "    'October':10,\n",
    "    'october':10,\n",
    "    'Nov':11,\n",
    "    'nov':11,\n",
    "    'November':11,\n",
    "    'november':11,\n",
    "    'Dec':12,\n",
    "    'dec':12,\n",
    "    'December':12,\n",
    "    'december':12\n",
    "}"
   ]
  },
  {
   "cell_type": "code",
   "execution_count": 34,
   "metadata": {
    "collapsed": true
   },
   "outputs": [],
   "source": [
    "update_rows = []\n",
    "\n",
    "for row in tab_files.find():\n",
    "    row['month'] = None\n",
    "    for m in date_dict.keys():\n",
    "        if (m is not None and m in row['path']) or (m and row['translation'] and m in row['translation']):\n",
    "            row['month'] = date_dict[m]\n",
    "            break\n",
    "    if row['month']:\n",
    "        update_rows.append(row)"
   ]
  },
  {
   "cell_type": "code",
   "execution_count": 35,
   "metadata": {
    "collapsed": true,
    "scrolled": false
   },
   "outputs": [],
   "source": [
    "# This is mostly accurate. There appear to be < 10 errors in 1100 hits. I'll manually fix the rest\n",
    "# in the database. Most errors were coded to March due to a Maraa facility that hit on Mar.\n",
    "for ur in update_rows:\n",
    "    tab_files.update(ur,['id'])"
   ]
  },
  {
   "cell_type": "markdown",
   "metadata": {},
   "source": [
    "There were a few errors. I created a temp table, called `files_temp`, with:\n",
    "\n",
    "```\n",
    "CREATE TABLE files_temp AS SELECT id, path, translation, year, month FROM files;\n",
    "```\n",
    "\n",
    "The main reason was to isolate the columns I needed to see in order to tell if I made an error.\n",
    "\n",
    "Now, I'm going to map the values from the `month` column back to the `month` column on the `files` table."
   ]
  },
  {
   "cell_type": "code",
   "execution_count": 39,
   "metadata": {
    "collapsed": true
   },
   "outputs": [],
   "source": [
    "tab_files_temp = db['files_temp']"
   ]
  },
  {
   "cell_type": "code",
   "execution_count": 40,
   "metadata": {
    "collapsed": true
   },
   "outputs": [],
   "source": [
    "for row in tab_files_temp.find():\n",
    "    newrec = {\"id\":row['id'],\"month\":row['month']}\n",
    "    tab_files.update(newrec,['id'])"
   ]
  },
  {
   "cell_type": "code",
   "execution_count": 41,
   "metadata": {},
   "outputs": [
    {
     "data": {
      "text/plain": [
       "True"
      ]
     },
     "execution_count": 41,
     "metadata": {},
     "output_type": "execute_result"
    }
   ],
   "source": [
    "# Get rid of the temp table\n",
    "tab_files_temp.drop()"
   ]
  },
  {
   "cell_type": "markdown",
   "metadata": {},
   "source": [
    "Query to export some data for initial distribution analysis:\n",
    "\n",
    "```\n",
    "SELECT facilities.facilityname, facilities.country, facilities.governorate, facilities.district, facilities.subdistrict, facilities.facility_type, t.*\n",
    "FROM facilities\n",
    "JOIN (\n",
    "\tSELECT files.path, files.ungarbled, files.facility_id, files.year, files.month, count(full_raw_scrubbed.id) as num_records\n",
    "\tFROM files\n",
    "\tJOIN full_raw_scrubbed ON full_raw_scrubbed.a_file_id = files.id\n",
    "\tWHERE files.facility_id IS NOT NULL\n",
    "\tGROUP BY files.id, files.facility_id, files.year, files.month\n",
    "\tORDER BY files.facility_id ASC, files.year ASC, files.month ASC, num_records DESC\n",
    ") t ON facilities.id = t.facility_id;\n",
    "```"
   ]
  },
  {
   "cell_type": "code",
   "execution_count": 42,
   "metadata": {},
   "outputs": [
    {
     "data": {
      "text/plain": [
       "'sams_data_phase13_template.sqlite'"
      ]
     },
     "execution_count": 42,
     "metadata": {},
     "output_type": "execute_result"
    }
   ],
   "source": [
    "# Copy the database over as the template for the next file.\n",
    "\n",
    "# Do not rerun this cell!\n",
    "shutil.copy2('sams_data_phase12.sqlite','sams_data_phase13_template.sqlite')"
   ]
  },
  {
   "cell_type": "code",
   "execution_count": null,
   "metadata": {
    "collapsed": true
   },
   "outputs": [],
   "source": []
  }
 ],
 "metadata": {
  "kernelspec": {
   "display_name": "Python 3",
   "language": "python",
   "name": "python3"
  },
  "language_info": {
   "codemirror_mode": {
    "name": "ipython",
    "version": 3
   },
   "file_extension": ".py",
   "mimetype": "text/x-python",
   "name": "python",
   "nbconvert_exporter": "python",
   "pygments_lexer": "ipython3",
   "version": "3.6.1"
  }
 },
 "nbformat": 4,
 "nbformat_minor": 2
}
