{
 "cells": [
  {
   "cell_type": "code",
   "execution_count": 1,
   "metadata": {
    "collapsed": true
   },
   "outputs": [],
   "source": [
    "# Manipulate the file system\n",
    "import os\n",
    "import shutil\n",
    "\n",
    "# Copy dictionaries\n",
    "import copy\n",
    "\n",
    "# Regular expressions\n",
    "import re\n",
    "\n",
    "# Display errors in realtime\n",
    "import ipywidgets as widgets\n",
    "\n",
    "# work with dates\n",
    "import datetime\n",
    "import arrow\n",
    "import time\n",
    "\n",
    "# For scrubbing PII\n",
    "import hashlib\n",
    "\n",
    "# Convert stored string representation of a list to a list\n",
    "import ast\n",
    "\n",
    "# Recurse through a directory tree and return file names with glob\n",
    "import glob\n",
    "\n",
    "# Decode and re-encode mangled Arabic file names\n",
    "import codecs\n",
    "\n",
    "# Connect to a SQLite database in a lazy manner.\n",
    "import sqlalchemy\n",
    "import dataset\n",
    "\n",
    "# Enables opening and reading of Excel files\n",
    "import openpyxl\n",
    "\n",
    "# Translating variables, sheet names, and workbook names from Arabic\n",
    "# This is NOT free to use.\n",
    "from google.cloud import translate\n",
    "\n",
    "# Set the environment variable for the Google Service Account\n",
    "os.environ['GOOGLE_APPLICATION_CREDENTIALS'] = 'C:\\\\Users\\\\clay\\\\Documents\\\\fxb-lcs-2b24f4f8a73a.json'"
   ]
  },
  {
   "cell_type": "code",
   "execution_count": 2,
   "metadata": {},
   "outputs": [
    {
     "name": "stdout",
     "output_type": "stream",
     "text": [
      "Removed template clone sams_data_phase07.sqlite\n",
      "Created database from template: sams_data_phase07.sqlite\n"
     ]
    }
   ],
   "source": [
    "#If there's an existing db for this sheet, delete it\n",
    "#so that we can copy from the template for a fresh start\n",
    "\n",
    "try:\n",
    "    os.remove(\"sams_data_phase07.sqlite\")\n",
    "    print(\"Removed template clone sams_data_phase07.sqlite\")\n",
    "except:\n",
    "    pass\n",
    "\n",
    "try:\n",
    "    # Try to preserve a copy in case there is a problem and it has to be restored\n",
    "    shutil.copy2(\"sams_data_phase07_template.sqlite\",\"sams_data_phase07.sqlite\")\n",
    "    \n",
    "    print(\"Created database from template: sams_data_phase07.sqlite\")\n",
    "except:\n",
    "    pass"
   ]
  },
  {
   "cell_type": "code",
   "execution_count": 3,
   "metadata": {
    "collapsed": true
   },
   "outputs": [],
   "source": [
    "db = dataset.connect(\"sqlite:///sams_data_phase07.sqlite\")"
   ]
  },
  {
   "cell_type": "code",
   "execution_count": 4,
   "metadata": {
    "collapsed": true
   },
   "outputs": [],
   "source": [
    "tab_arabic = db['arabic_values']"
   ]
  },
  {
   "cell_type": "code",
   "execution_count": 5,
   "metadata": {
    "collapsed": true
   },
   "outputs": [],
   "source": [
    "tab_tokens = db['arabic_tokens']\n",
    "tab_arabic_values_tokens = db['arabic_values_tokens']"
   ]
  },
  {
   "cell_type": "code",
   "execution_count": 6,
   "metadata": {
    "collapsed": true
   },
   "outputs": [],
   "source": [
    "good_char = 'ا'"
   ]
  },
  {
   "cell_type": "code",
   "execution_count": 7,
   "metadata": {
    "collapsed": true
   },
   "outputs": [],
   "source": [
    "bad_char1 = 'أ'"
   ]
  },
  {
   "cell_type": "code",
   "execution_count": 8,
   "metadata": {
    "collapsed": true
   },
   "outputs": [],
   "source": [
    "bad_char2 = 'إ'"
   ]
  },
  {
   "cell_type": "code",
   "execution_count": 9,
   "metadata": {
    "collapsed": true
   },
   "outputs": [],
   "source": [
    "bad_char3 = 'آ'"
   ]
  },
  {
   "cell_type": "code",
   "execution_count": 10,
   "metadata": {
    "collapsed": true
   },
   "outputs": [],
   "source": [
    "delimiters = \"(\", \")\", \",\", \"/\", \".\", \"1\",\"2\",\"3\",\"4\",\"5\",\"6\",\"7\",\"8\",\"9\",\"0\",\"+\",\"_\",\"-\",\"\\\\\",\"=\",\"ـ\"\n",
    "regexpattern = \"|\".join(map(re.escape,delimiters))"
   ]
  },
  {
   "cell_type": "code",
   "execution_count": 11,
   "metadata": {
    "collapsed": true
   },
   "outputs": [],
   "source": [
    "token_lookup = {}\n",
    "\n",
    "for rec in tab_arabic.find():\n",
    "    tokens = rec['arabic']\n",
    "    tokens = tokens.replace(bad_char1,good_char)\n",
    "    tokens = tokens.replace(bad_char2,good_char)\n",
    "    tokens = tokens.replace(bad_char3,good_char)\n",
    "    \n",
    "    tokens = [t.strip() for t in re.split(regexpattern,tokens) if t.strip() != '']\n",
    "    \n",
    "    \n",
    "#     tokens = tokens.replace(\"(\",\" \")\n",
    "#     tokens = tokens.replace(\")\",\" \")\n",
    "#     tokens = tokens.replace(\" - \",\" \")\n",
    "#     tokens = tokens.replace(\"-\",\" \")\n",
    "#     tokens = tokens.replace(\"+\",\" \")\n",
    "\n",
    "#     tokens = tokens.replace('-',' ').replace('-',' ')\n",
    "#     tokens = tokens.replace(',',' ').replace(',',' ')\n",
    "#     tokens = tokens.replace('_',' ').replace('_',' ')\n",
    "#     tokens = tokens.replace('+',' ').replace('+',' ')\n",
    "#     tokens = tokens.replace('/',' ').replace('/',' ')\n",
    "#     tokens = tokens.replace(')',' ').replace(')',' ')\n",
    "#     tokens = tokens.replace('(',' ').replace('(',' ')\n",
    "#     tokens = tokens.replace('.',' ').replace('.',' ')\n",
    "#     tokens = tokens.replace('\\\\',' ').replace('ـ',' ').replace('=',' ')\n",
    "#     tokens = tokens.replace('0',' ').replace('1',' ').replace('2',' ').replace('3',' ')\n",
    "#     tokens = tokens.replace('4',' ').replace('5',' ').replace('6',' ').replace('7',' ')\n",
    "#     tokens = tokens.replace('8',' ').replace('9',' ')\n",
    "#     tokens = tokens.strip().split()\n",
    "    \n",
    "    for token in tokens:\n",
    "        if token not in token_lookup.keys():\n",
    "            token_lookup[token] = {\"token_id\":None, \"arabic_values_id\":[]}\n",
    "        token_lookup[token][\"arabic_values_id\"].append(rec['id'])\n",
    "        "
   ]
  },
  {
   "cell_type": "code",
   "execution_count": 12,
   "metadata": {},
   "outputs": [
    {
     "data": {
      "text/plain": [
       "153460"
      ]
     },
     "execution_count": 12,
     "metadata": {},
     "output_type": "execute_result"
    }
   ],
   "source": [
    "len(token_lookup.keys())"
   ]
  },
  {
   "cell_type": "code",
   "execution_count": 13,
   "metadata": {
    "collapsed": true
   },
   "outputs": [],
   "source": [
    "tokens_to_insert = []\n",
    "for token in token_lookup.keys():\n",
    "    tokens_to_insert.append({\"token\":token,\"translation\":None})"
   ]
  },
  {
   "cell_type": "code",
   "execution_count": 14,
   "metadata": {
    "collapsed": true
   },
   "outputs": [],
   "source": [
    "tab_tokens.insert_many(tokens_to_insert)"
   ]
  },
  {
   "cell_type": "code",
   "execution_count": 15,
   "metadata": {
    "collapsed": true
   },
   "outputs": [],
   "source": [
    "for rec in tab_tokens.find():\n",
    "    token_lookup[rec['token']][\"token_id\"] = rec['id']"
   ]
  },
  {
   "cell_type": "code",
   "execution_count": 16,
   "metadata": {},
   "outputs": [
    {
     "data": {
      "text/plain": [
       "{'arabic_values_id': [1, 12001, 12002, 15950], 'token_id': 1}"
      ]
     },
     "execution_count": 16,
     "metadata": {},
     "output_type": "execute_result"
    }
   ],
   "source": [
    "token_lookup[list(token_lookup.keys())[0]]"
   ]
  },
  {
   "cell_type": "code",
   "execution_count": 17,
   "metadata": {
    "collapsed": true
   },
   "outputs": [],
   "source": [
    "join_records = []\n",
    "for token in token_lookup.keys():\n",
    "    for orig_id in token_lookup[token][\"arabic_values_id\"]:\n",
    "        join_records.append({\"token_id\":token_lookup[token][\"token_id\"],\"arabic_values_id\":orig_id})"
   ]
  },
  {
   "cell_type": "code",
   "execution_count": 18,
   "metadata": {},
   "outputs": [
    {
     "data": {
      "text/plain": [
       "728875"
      ]
     },
     "execution_count": 18,
     "metadata": {},
     "output_type": "execute_result"
    }
   ],
   "source": [
    "len(join_records)"
   ]
  },
  {
   "cell_type": "code",
   "execution_count": 19,
   "metadata": {
    "collapsed": true
   },
   "outputs": [],
   "source": [
    "tab_arabic_values_tokens.insert_many(join_records)"
   ]
  },
  {
   "cell_type": "code",
   "execution_count": 21,
   "metadata": {},
   "outputs": [
    {
     "data": {
      "text/plain": [
       "'sams_data_phase08_template.sqlite'"
      ]
     },
     "execution_count": 21,
     "metadata": {},
     "output_type": "execute_result"
    }
   ],
   "source": [
    "# Copy the database over as the template for the next file.\n",
    "# This Notebook did not include manual editing of the data.\n",
    "\n",
    "# Do not rerun this cell!\n",
    "shutil.copy2('sams_data_phase07.sqlite','sams_data_phase08_template.sqlite')"
   ]
  },
  {
   "cell_type": "code",
   "execution_count": null,
   "metadata": {
    "collapsed": true
   },
   "outputs": [],
   "source": []
  }
 ],
 "metadata": {
  "kernelspec": {
   "display_name": "Python 3",
   "language": "python",
   "name": "python3"
  },
  "language_info": {
   "codemirror_mode": {
    "name": "ipython",
    "version": 3
   },
   "file_extension": ".py",
   "mimetype": "text/x-python",
   "name": "python",
   "nbconvert_exporter": "python",
   "pygments_lexer": "ipython3",
   "version": "3.6.1"
  }
 },
 "nbformat": 4,
 "nbformat_minor": 2
}
