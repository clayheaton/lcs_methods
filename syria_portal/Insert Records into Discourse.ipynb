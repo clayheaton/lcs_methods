{
 "cells": [
  {
   "cell_type": "code",
   "execution_count": 1,
   "metadata": {
    "collapsed": true
   },
   "outputs": [],
   "source": [
    "import requests\n",
    "import dataset"
   ]
  },
  {
   "cell_type": "code",
   "execution_count": 2,
   "metadata": {
    "collapsed": true
   },
   "outputs": [],
   "source": [
    "db = dataset.connect(\"sqlite:///article_metadata.sqlite\")\n",
    "tab = db['articles']"
   ]
  },
  {
   "cell_type": "code",
   "execution_count": 23,
   "metadata": {},
   "outputs": [],
   "source": [
    "def extract_tags(row):\n",
    "    tags = [w.lower().strip().replace(\"&\",\"and\").replace(\" \",\"-\").replace(\"/\",\"-\") for w in row['keywords'].split(\",\")]\n",
    "    tags = [t for t in test_tags if t != '']\n",
    "    \n",
    "    countries = [w.lower().strip().replace(\"&\",\"and\").replace(\" \",\"-\").replace(\"/\",\"-\") for w in row['countries'].split(\",\")] \n",
    "    countries = [c for c in countries if c != '']\n",
    "    \n",
    "    year = [row['date_published'].split(\" \")[-1]]\n",
    "    \n",
    "    return year + countries + tags"
   ]
  },
  {
   "cell_type": "code",
   "execution_count": 4,
   "metadata": {},
   "outputs": [
    {
     "data": {
      "text/plain": [
       "OrderedDict([('id', 1),\n",
       "             ('keywords', 'Conflict, violence & peace, Health, Refugees/IDPs'),\n",
       "             ('agency', 'The Humanitarian Health Ethics Network'),\n",
       "             ('about',\n",
       "              '{\"Pages\": \"35pp\", \"Language\": \"English\", \"Keywords\": \"Conflict, violence & peace, Health, Refugees/IDPs\", \"Agency\": \"The Humanitarian Health Ethics Network\", \"Date published\": \"24 May 2017\", \"Resource type\": \"Research, reports and studies\", \"Countries\": \"Jordan, Syria\", \"Author(s)\": \"McDonald, M. \"}'),\n",
       "             ('isbn', ''),\n",
       "             ('publisher', ''),\n",
       "             ('date_published', '24 May 2017'),\n",
       "             ('resource_type', 'Research, reports and studies'),\n",
       "             ('language', 'English'),\n",
       "             ('authors', 'McDonald, M. '),\n",
       "             ('countries', 'Jordan, Syria'),\n",
       "             ('description',\n",
       "              'The Hashemite Kingdom of Jordan shares its northern border with the Syrian Arab Republic, and has been one of the main receiving countries of fleeing refugees since the beginning of the Syrian conflict in 2011.'),\n",
       "             ('pages', '35pp'),\n",
       "             ('start_date', ''),\n",
       "             ('title', 'Palliative Health Care in Jordan for Syrian Refugees'),\n",
       "             ('link', 'http://www.syrialearning.org/resource/24760'),\n",
       "             ('completion_date', '')])"
      ]
     },
     "execution_count": 4,
     "metadata": {},
     "output_type": "execute_result"
    }
   ],
   "source": [
    "r"
   ]
  },
  {
   "cell_type": "code",
   "execution_count": 24,
   "metadata": {
    "collapsed": true
   },
   "outputs": [],
   "source": [
    "api_key = 'REDACTED'"
   ]
  },
  {
   "cell_type": "code",
   "execution_count": 26,
   "metadata": {
    "scrolled": true
   },
   "outputs": [
    {
     "data": {
      "text/plain": [
       "{'actions_summary': [{'can_act': True, 'id': 3},\n",
       "  {'can_act': True, 'id': 4},\n",
       "  {'can_act': True, 'hidden': True, 'id': 5},\n",
       "  {'can_act': True, 'id': 7},\n",
       "  {'can_act': True, 'id': 8}],\n",
       " 'admin': True,\n",
       " 'avatar_template': '/user_avatar/aublcs.fxbprojects.org/system/{size}/1_1.png',\n",
       " 'avg_time': None,\n",
       " 'can_delete': False,\n",
       " 'can_edit': True,\n",
       " 'can_recover': None,\n",
       " 'can_view_edit_history': True,\n",
       " 'can_wiki': True,\n",
       " 'cooked': '<p><strong>Bold</strong> new topic first test post. <a href=\"http://www.google.com\">Test link</a></p>\\n\\n<p>ok</p>\\n\\n<p>another line</p>',\n",
       " 'created_at': '2017-06-02T00:00:00.000Z',\n",
       " 'deleted_at': None,\n",
       " 'display_username': 'system',\n",
       " 'draft_sequence': 0,\n",
       " 'edit_reason': None,\n",
       " 'hidden': False,\n",
       " 'hidden_reason_id': None,\n",
       " 'id': 233,\n",
       " 'incoming_link_count': 0,\n",
       " 'moderator': True,\n",
       " 'name': 'system',\n",
       " 'post_number': 1,\n",
       " 'post_type': 1,\n",
       " 'primary_group_flair_bg_color': None,\n",
       " 'primary_group_flair_color': None,\n",
       " 'primary_group_flair_url': None,\n",
       " 'primary_group_name': None,\n",
       " 'quote_count': 0,\n",
       " 'reads': 0,\n",
       " 'reply_count': 0,\n",
       " 'reply_to_post_number': None,\n",
       " 'score': 0,\n",
       " 'staff': True,\n",
       " 'topic_id': 175,\n",
       " 'topic_slug': 'api-test-with-tags-from-system',\n",
       " 'trust_level': 4,\n",
       " 'updated_at': '2017-06-04T03:19:33.113Z',\n",
       " 'user_deleted': False,\n",
       " 'user_id': -1,\n",
       " 'user_title': None,\n",
       " 'username': 'system',\n",
       " 'version': 1,\n",
       " 'wiki': False,\n",
       " 'yours': True}"
      ]
     },
     "execution_count": 26,
     "metadata": {},
     "output_type": "execute_result"
    }
   ],
   "source": [
    "# Testing is category id 5\n",
    "# Resources ==> Report is category id 15\n",
    "\n",
    "payload = {\"category\":15,\n",
    "           \"title\":\"API Test with tags from system\",\n",
    "           \"created_at\":\"2017-06-02\",\n",
    "           \"raw\":\"**Bold** new topic first test post. [Test link](http://www.google.com)\\n\\nok\\n\\nanother line\",\n",
    "           \"skip_validations\":True,\n",
    "           \"tags[]\":[\"syria\",\"meta\",\"auto-import\"]}\n",
    "\n",
    "response = requests.request(\"POST\",\"https://aublcs.fxbprojects.org/posts\",\n",
    "                        headers={\"Content-Type\":\"multipart/form-data\"},\n",
    "                        params={\"api_key\":api_key,\"api_username\":\"system\"},\n",
    "                        data=payload\n",
    "                        )\n",
    "response.json()"
   ]
  },
  {
   "cell_type": "code",
   "execution_count": 44,
   "metadata": {
    "collapsed": true
   },
   "outputs": [],
   "source": [
    "fields_lookup = {'agency': 'Agency',\n",
    "                 'authors': 'Author(s)',\n",
    "                 'countries': 'Countries',\n",
    "                 'date_published': 'Date published',\n",
    "                 'keywords': 'Keywords',\n",
    "                 'language': 'Language',\n",
    "                 'pages': 'Pages',\n",
    "                 'publisher': 'Publisher',\n",
    "                 'resource_type': 'Resource type',\n",
    "                 'isbn':'ISBN',\n",
    "                 'description':'Description',\n",
    "                 'link':'URL'}\n",
    "\n",
    "def post_record(row):\n",
    "    payload = {\"category\":15,\n",
    "               \"title\":row['title'],\n",
    "               \"created_at\":\"2017-05-10\",\n",
    "               \"skip_validations\":True}\n",
    "    \n",
    "    tags = extract_tags(row)\n",
    "    \n",
    "    if len(tags) > 0:\n",
    "        payload[\"tags[]\"] = tags\n",
    "    \n",
    "    content = \"**Title**\\n\" + row['title'] + \"\\n\\n\"\n",
    "    \n",
    "    for key in row.keys():\n",
    "        if key == \"about\" or key == \"title\" or key == \"id\" or key == 'link':\n",
    "            continue\n",
    "        if row[key].strip() == '':\n",
    "            continue\n",
    "        clean_key = key\n",
    "        \n",
    "        try:\n",
    "            clean_key = fields_lookup[key]\n",
    "        except:\n",
    "            pass\n",
    "        \n",
    "        content += \"**\" + clean_key + \"**\\n\" + row[key].strip() + \"\\n\\n\"\n",
    "        \n",
    "    content += \"**URL**\\n`\" + row['link'] + \"`\\n\\n\" + row['link']\n",
    "        \n",
    "    payload['raw'] = content\n",
    "        \n",
    "    response = requests.request(\"POST\",\"https://aublcs.fxbprojects.org/posts\",\n",
    "                            headers={\"Content-Type\":\"multipart/form-data\"},\n",
    "                            params={\"api_key\":api_key,\"api_username\":\"system\"},\n",
    "                            data=payload\n",
    "                            )\n",
    "    if response.status_code != 200:\n",
    "        print(\"ID\",row['id'],\"failed\")\n",
    "        return -1\n",
    "    else:\n",
    "        return response.json()['topic_id']"
   ]
  },
  {
   "cell_type": "code",
   "execution_count": 45,
   "metadata": {},
   "outputs": [],
   "source": [
    "# Tracks insert status. If the topic_id is -1 then the insert failed.\n",
    "post_tracker = {}"
   ]
  },
  {
   "cell_type": "code",
   "execution_count": 46,
   "metadata": {},
   "outputs": [
    {
     "name": "stdout",
     "output_type": "stream",
     "text": [
      "ID 159 failed\n",
      "ID 317 failed\n",
      "ID 344 failed\n",
      "ID 518 failed\n",
      "ID 550 failed\n",
      "ID 559 failed\n",
      "ID 817 failed\n",
      "ID 856 failed\n",
      "ID 1080 failed\n",
      "ID 1090 failed\n",
      "ID 1106 failed\n",
      "ID 1154 failed\n",
      "ID 1201 failed\n",
      "ID 1383 failed\n"
     ]
    }
   ],
   "source": [
    "for r in tab.find():\n",
    "    topic_id = post_record(r)\n",
    "    post_tracker[r['id']] = topic_id"
   ]
  },
  {
   "cell_type": "code",
   "execution_count": 47,
   "metadata": {},
   "outputs": [
    {
     "name": "stdout",
     "output_type": "stream",
     "text": [
      "159\n",
      "317\n",
      "344\n",
      "518\n",
      "550\n",
      "559\n",
      "817\n",
      "856\n",
      "1080\n",
      "1090\n",
      "1106\n",
      "1154\n",
      "1201\n",
      "1383\n"
     ]
    }
   ],
   "source": [
    "for k,v in post_tracker.items():\n",
    "    if v == -1:\n",
    "        print(k)"
   ]
  },
  {
   "cell_type": "code",
   "execution_count": 48,
   "metadata": {},
   "outputs": [
    {
     "data": {
      "text/plain": [
       "[159, 317, 344, 518, 550, 559, 817, 856, 1080, 1090, 1106, 1154, 1201, 1383]"
      ]
     },
     "execution_count": 48,
     "metadata": {},
     "output_type": "execute_result"
    }
   ],
   "source": [
    "[k for k,v in post_tracker.items() if v == -1]"
   ]
  },
  {
   "cell_type": "code",
   "execution_count": null,
   "metadata": {
    "collapsed": true
   },
   "outputs": [],
   "source": []
  }
 ],
 "metadata": {
  "kernelspec": {
   "display_name": "Python 3",
   "language": "python",
   "name": "python3"
  },
  "language_info": {
   "codemirror_mode": {
    "name": "ipython",
    "version": 3
   },
   "file_extension": ".py",
   "mimetype": "text/x-python",
   "name": "python",
   "nbconvert_exporter": "python",
   "pygments_lexer": "ipython3",
   "version": "3.6.1"
  }
 },
 "nbformat": 4,
 "nbformat_minor": 2
}
