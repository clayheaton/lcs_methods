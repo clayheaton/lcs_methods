{
 "cells": [
  {
   "cell_type": "code",
   "execution_count": 1,
   "metadata": {
    "collapsed": true
   },
   "outputs": [],
   "source": [
    "# Manipulate the file system\n",
    "import os\n",
    "import shutil\n",
    "import datetime\n",
    "import arrow\n",
    "\n",
    "import hashlib\n",
    "\n",
    "# Display errors in realtime\n",
    "import ipywidgets as widgets\n",
    "import time\n",
    "import re\n",
    "\n",
    "# This used to be a part of dataset but was extracted to its own library\n",
    "# https://github.com/pudo/datafreeze\n",
    "from datafreeze import freeze\n",
    "\n",
    "# Export database table to CSV\n",
    "import csv\n",
    "\n",
    "# Copy dictionaries\n",
    "import copy\n",
    "\n",
    "# Convert stored string representation of a list to a list\n",
    "import ast\n",
    "\n",
    "# Recurse through a directory tree and return file names with glob\n",
    "import glob\n",
    "\n",
    "# Decode and re-encode mangled Arabic file names\n",
    "import codecs\n",
    "\n",
    "# Connect to a SQLite database in a lazy manner.\n",
    "import dataset\n",
    "import sqlalchemy\n",
    "\n",
    "# Enables opening and reading of Excel files\n",
    "import openpyxl\n",
    "\n",
    "# Translating variables, sheet names, and workbook names from Arabic\n",
    "# This is NOT free to use.\n",
    "from google.cloud import translate\n",
    "\n",
    "# Set the environment variable for the Google Service Account\n",
    "os.environ['GOOGLE_APPLICATION_CREDENTIALS'] = 'C:\\\\Users\\\\clay\\\\Documents\\\\fxb-lcs-2b24f4f8a73a.json'"
   ]
  },
  {
   "cell_type": "code",
   "execution_count": 2,
   "metadata": {
    "collapsed": true
   },
   "outputs": [],
   "source": [
    "turkey_file = \"turkey_data/turkey_to_import.xlsx\""
   ]
  },
  {
   "cell_type": "code",
   "execution_count": 3,
   "metadata": {},
   "outputs": [
    {
     "name": "stdout",
     "output_type": "stream",
     "text": [
      "Created database from template:  sams_data_phase24.sqlite\n"
     ]
    }
   ],
   "source": [
    "#If there's an existing db for this sheet, delete it\n",
    "#so that we can copy from the template for a fresh start\n",
    "new_db_name = \"sams_data_phase24.sqlite\"\n",
    "\n",
    "try:\n",
    "    os.remove(new_db_name)\n",
    "    print(\"Removed template clone \", sams_data_phase23.sqlite)\n",
    "except:\n",
    "    pass\n",
    "\n",
    "try:\n",
    "    # Try to preserve a copy in case there is a problem and it has to be restored\n",
    "    shutil.copy2(\"sams_data_phase23_output_2018-04-07.sqlite\",new_db_name)\n",
    "    \n",
    "    print(\"Created database from template: \", new_db_name)\n",
    "except:\n",
    "    pass"
   ]
  },
  {
   "cell_type": "code",
   "execution_count": 4,
   "metadata": {
    "collapsed": true
   },
   "outputs": [],
   "source": [
    "db = dataset.connect(\"sqlite:///\" + new_db_name)"
   ]
  },
  {
   "cell_type": "markdown",
   "metadata": {},
   "source": [
    "The file from Turkey covers many months and facilities. To support importing it to the same schema, I'm creating dummy records in the files table and inserting a few unknown facility codes."
   ]
  },
  {
   "cell_type": "code",
   "execution_count": 5,
   "metadata": {
    "collapsed": true
   },
   "outputs": [],
   "source": [
    "tab_facilities = db['facilities']"
   ]
  },
  {
   "cell_type": "code",
   "execution_count": 6,
   "metadata": {
    "collapsed": true
   },
   "outputs": [],
   "source": [
    "tab_locations = db['locations']"
   ]
  },
  {
   "cell_type": "code",
   "execution_count": 7,
   "metadata": {},
   "outputs": [
    {
     "data": {
      "text/plain": [
       "114"
      ]
     },
     "execution_count": 7,
     "metadata": {},
     "output_type": "execute_result"
    }
   ],
   "source": [
    "country_rec = {\"location_name\":\"Unknown\", \"level\": \"country\", \"parent_id\":None}\n",
    "loc_id = tab_locations.insert(country_rec)\n",
    "loc_id"
   ]
  },
  {
   "cell_type": "code",
   "execution_count": 8,
   "metadata": {
    "collapsed": true
   },
   "outputs": [],
   "source": [
    "gov_rec = {\"location_name\":\"Unknown\", \"level\": \"governorate\", \"parent_id\":114}\n",
    "gov_id = tab_locations.insert(gov_rec)"
   ]
  },
  {
   "cell_type": "code",
   "execution_count": 9,
   "metadata": {},
   "outputs": [
    {
     "data": {
      "text/plain": [
       "115"
      ]
     },
     "execution_count": 9,
     "metadata": {},
     "output_type": "execute_result"
    }
   ],
   "source": [
    "gov_id"
   ]
  },
  {
   "cell_type": "code",
   "execution_count": 10,
   "metadata": {},
   "outputs": [
    {
     "data": {
      "text/plain": [
       "116"
      ]
     },
     "execution_count": 10,
     "metadata": {},
     "output_type": "execute_result"
    }
   ],
   "source": [
    "dis_rec = {\"location_name\":\"Unknown\", \"level\": \"district\", \"parent_id\":115}\n",
    "dis_id = tab_locations.insert(dis_rec)\n",
    "dis_id"
   ]
  },
  {
   "cell_type": "code",
   "execution_count": 11,
   "metadata": {},
   "outputs": [
    {
     "data": {
      "text/plain": [
       "117"
      ]
     },
     "execution_count": 11,
     "metadata": {},
     "output_type": "execute_result"
    }
   ],
   "source": [
    "subd_rec = {\"location_name\":\"Unknown\", \"level\": \"subdistrict\", \"parent_id\":116}\n",
    "subd_id = tab_locations.insert(subd_rec)\n",
    "subd_id"
   ]
  },
  {
   "cell_type": "code",
   "execution_count": 12,
   "metadata": {
    "collapsed": true
   },
   "outputs": [],
   "source": [
    "new_facs = [\n",
    "    {\n",
    "        \"facilityname\": \"Administrators\",\n",
    "        \"country\": \"Unknown\",\n",
    "        \"governorate\":\"Unknown\",\n",
    "        \"district\":\"Unknown\",\n",
    "        \"subdistrict\":\"Unknown\",\n",
    "        \"country_id\":114,\n",
    "        \"governorate_id\":115,\n",
    "        \"district_id\":116,\n",
    "        \"subdistrict_id\":117,\n",
    "        \"needs_review\":1,\n",
    "        \"facility_code\":\"UNK001\"\n",
    "    },\n",
    "    {\n",
    "        \"facilityname\": \"Al Zerbeh PHC\",\n",
    "        \"country\": \"Unknown\",\n",
    "        \"governorate\":\"Unknown\",\n",
    "        \"district\":\"Unknown\",\n",
    "        \"subdistrict\":\"Unknown\",\n",
    "        \"country_id\":114,\n",
    "        \"governorate_id\":115,\n",
    "        \"district_id\":116,\n",
    "        \"subdistrict_id\":117,\n",
    "        \"needs_review\":1,\n",
    "        \"facility_code\":\"UNK002\"\n",
    "    },\n",
    "    {\n",
    "        \"facilityname\": \"test\",\n",
    "        \"country\": \"Unknown\",\n",
    "        \"governorate\":\"Unknown\",\n",
    "        \"district\":\"Unknown\",\n",
    "        \"subdistrict\":\"Unknown\",\n",
    "        \"country_id\":114,\n",
    "        \"governorate_id\":115,\n",
    "        \"district_id\":116,\n",
    "        \"subdistrict_id\":117,\n",
    "        \"needs_review\":1,\n",
    "        \"facility_code\":\"UNK003\"\n",
    "    }\n",
    "]\n",
    "\n",
    "for f in new_facs:\n",
    "    tab_facilities.insert(f)"
   ]
  },
  {
   "cell_type": "markdown",
   "metadata": {},
   "source": [
    "### Load the data file"
   ]
  },
  {
   "cell_type": "code",
   "execution_count": 13,
   "metadata": {
    "collapsed": true
   },
   "outputs": [],
   "source": [
    "wb = openpyxl.load_workbook(turkey_file, read_only=True)"
   ]
  },
  {
   "cell_type": "code",
   "execution_count": 14,
   "metadata": {},
   "outputs": [
    {
     "data": {
      "text/plain": [
       "'data'"
      ]
     },
     "execution_count": 14,
     "metadata": {},
     "output_type": "execute_result"
    }
   ],
   "source": [
    "sheet = wb.sheetnames[0]\n",
    "sheet"
   ]
  },
  {
   "cell_type": "code",
   "execution_count": 15,
   "metadata": {},
   "outputs": [
    {
     "data": {
      "text/plain": [
       "['num',\n",
       " 'facility',\n",
       " 'facility_code',\n",
       " 'first_name',\n",
       " 'last_name',\n",
       " 'age',\n",
       " 'age_type',\n",
       " 'date',\n",
       " 'month',\n",
       " 'year',\n",
       " 'sex',\n",
       " 'idp_host',\n",
       " 'new_or_followup',\n",
       " 'disability',\n",
       " 'nationality',\n",
       " 'outcome',\n",
       " 'drugs',\n",
       " 'injury_cause',\n",
       " 'injury_new_or_old',\n",
       " 'icd10_code',\n",
       " 'sams_diag_code',\n",
       " 'diagnosis_arabic',\n",
       " 'diagnosis_english',\n",
       " 'info_doctor']"
      ]
     },
     "execution_count": 15,
     "metadata": {},
     "output_type": "execute_result"
    }
   ],
   "source": [
    "sheet = wb.get_sheet_by_name('data')\n",
    "header = sheet[\"A1\":\"X1\"]\n",
    "header = [c.value for c in header[0]]\n",
    "header"
   ]
  },
  {
   "cell_type": "markdown",
   "metadata": {},
   "source": [
    "Last row of data is 910273"
   ]
  },
  {
   "cell_type": "code",
   "execution_count": 16,
   "metadata": {
    "collapsed": true
   },
   "outputs": [],
   "source": [
    "data = sheet[\"A2\":\"X910273\"]"
   ]
  },
  {
   "cell_type": "code",
   "execution_count": 17,
   "metadata": {
    "collapsed": true
   },
   "outputs": [],
   "source": [
    "files_needed = set()\n",
    "\n",
    "for row in data:\n",
    "    t = (row[2].value, row[8].value, row[9].value)\n",
    "    files_needed.add(t)"
   ]
  },
  {
   "cell_type": "code",
   "execution_count": 18,
   "metadata": {},
   "outputs": [
    {
     "data": {
      "text/plain": [
       "[('SAMS003', 8, 2017),\n",
       " ('SAMS191', 10, 2017),\n",
       " ('SAMS049', 11, 2017),\n",
       " ('SAMS057', 10, 2017),\n",
       " ('SAMS061', 7, 2017)]"
      ]
     },
     "execution_count": 18,
     "metadata": {},
     "output_type": "execute_result"
    }
   ],
   "source": [
    "list(files_needed)[:5]"
   ]
  },
  {
   "cell_type": "code",
   "execution_count": 19,
   "metadata": {
    "collapsed": true
   },
   "outputs": [],
   "source": [
    "fac_lookup = {}\n",
    "for rec in tab_facilities.find():\n",
    "    fac_lookup[rec['facility_code']] = rec "
   ]
  },
  {
   "cell_type": "code",
   "execution_count": 20,
   "metadata": {
    "collapsed": true
   },
   "outputs": [],
   "source": [
    "tab_files = db['files']"
   ]
  },
  {
   "cell_type": "code",
   "execution_count": 21,
   "metadata": {
    "collapsed": true
   },
   "outputs": [],
   "source": [
    "for rec in files_needed:\n",
    "    new_rec = {\n",
    "        \"file_name\":\"Patient records from Jun until Dec 2017, Northern Syria.xlsx\",\n",
    "        \"path\":turkey_file,\n",
    "        \"country\":fac_lookup[rec[0]]['country'],\n",
    "        \"year\":rec[2],\n",
    "        \"num_sheets\":1,\n",
    "        \"sheet_names\":\"['data']\",\n",
    "        \"facility_id\":fac_lookup[rec[0]]['id'],\n",
    "        \"month\":rec[1],\n",
    "        \"added\":'2018-04-08',\n",
    "        \"info\":\"DUMMY FILE TURKEY\"\n",
    "    }\n",
    "    tab_files.insert(new_rec)"
   ]
  },
  {
   "cell_type": "markdown",
   "metadata": {},
   "source": [
    "### Handle Variables\n",
    "\n",
    "These are dummy files so we don't really need to track the mapping of them to the files."
   ]
  },
  {
   "cell_type": "code",
   "execution_count": 22,
   "metadata": {
    "collapsed": true
   },
   "outputs": [],
   "source": [
    "tab_vars = db['variables']\n",
    "var_lookup = {rec['orig']:rec['id'] for rec in tab_vars.find()}"
   ]
  },
  {
   "cell_type": "code",
   "execution_count": 23,
   "metadata": {},
   "outputs": [
    {
     "name": "stdout",
     "output_type": "stream",
     "text": [
      "diagnosis_arabic\n",
      "facility\n",
      "sams_diag_code\n",
      "info_doctor\n",
      "drugs\n",
      "nationality\n",
      "first_name\n",
      "outcome\n",
      "num\n",
      "injury_cause\n",
      "facility_code\n",
      "idp_host\n",
      "icd10_code\n",
      "last_name\n",
      "date\n",
      "new_or_followup\n",
      "diagnosis_english\n",
      "injury_new_or_old\n",
      "year\n",
      "age_type\n",
      "month\n",
      "disability\n"
     ]
    }
   ],
   "source": [
    "# Note that we create the set() variables two cells above, when looking for headers\n",
    "variables = set(header)\n",
    "\n",
    "for v in variables:\n",
    "    if v not in var_lookup.keys():\n",
    "        new_var_rec = {'orig':v, 'translation':v, 'normalized': v, 'added':'2018-04-08' }\n",
    "        tab_vars.insert(new_var_rec)\n",
    "        print(v)"
   ]
  },
  {
   "cell_type": "code",
   "execution_count": 24,
   "metadata": {
    "collapsed": true
   },
   "outputs": [],
   "source": [
    "fix_vars = {\n",
    "    \"first_name\":\"info_name\",\n",
    "    \"last_name\":\"info_name\"    \n",
    "}\n",
    "\n",
    "for k,v in fix_vars.items():\n",
    "    db.query(\"UPDATE variables SET normalized = '\" + v + \"' WHERE normalized = '\" + k + \"';\")"
   ]
  },
  {
   "cell_type": "code",
   "execution_count": 25,
   "metadata": {
    "collapsed": true
   },
   "outputs": [],
   "source": [
    "var_lookup = {rec['orig']:rec['id'] for rec in tab_vars.find()}"
   ]
  },
  {
   "cell_type": "markdown",
   "metadata": {},
   "source": [
    "### Turkey Note\n",
    "\n",
    "We already hold the data in memory at this point so we do not need the files_sheets_id for the dummy records. Will create it later if that turns out to be a problem."
   ]
  },
  {
   "cell_type": "code",
   "execution_count": 26,
   "metadata": {
    "collapsed": true
   },
   "outputs": [],
   "source": [
    "tab_all = db['full_raw_scrubbed']\n",
    "tab_vars = db['variables']\n",
    "tab_files_sheets = db['files_sheets']"
   ]
  },
  {
   "cell_type": "code",
   "execution_count": 27,
   "metadata": {},
   "outputs": [
    {
     "data": {
      "text/plain": [
       "{'age_type',\n",
       " 'diagnosis_arabic',\n",
       " 'diagnosis_english',\n",
       " 'disability',\n",
       " 'drugs',\n",
       " 'facility',\n",
       " 'facility_code',\n",
       " 'icd10_code',\n",
       " 'idp_host',\n",
       " 'info_doctor',\n",
       " 'injury_cause',\n",
       " 'injury_new_or_old',\n",
       " 'nationality',\n",
       " 'num',\n",
       " 'sams_diag_code'}"
      ]
     },
     "execution_count": 27,
     "metadata": {},
     "output_type": "execute_result"
    }
   ],
   "source": [
    "# We need to create some columns...\n",
    "raw_columns = [k for k in tab_all.find_one().keys()]\n",
    "flag_cols = [c for c in raw_columns if 'flag_' in c]\n",
    "col_names_we_need = sorted(list(set([r['normalized'] for r in tab_vars.find()])))\n",
    "missing_col_names = set(col_names_we_need) - set(raw_columns)\n",
    "missing_col_names"
   ]
  },
  {
   "cell_type": "code",
   "execution_count": 28,
   "metadata": {
    "collapsed": true
   },
   "outputs": [],
   "source": [
    "# Create the new columns\n",
    "\n",
    "for c in missing_col_names:\n",
    "    tab_all.create_column(c, sqlalchemy.String)"
   ]
  },
  {
   "cell_type": "code",
   "execution_count": 29,
   "metadata": {
    "collapsed": true
   },
   "outputs": [],
   "source": [
    "# Rename var_lookup to work with code below\n",
    "\n",
    "# Create an in-memory lookup table for variables\n",
    "var_lookup = {}\n",
    "for r in tab_vars.find():\n",
    "    var_lookup[r['orig']] = r['normalized']"
   ]
  },
  {
   "cell_type": "code",
   "execution_count": 30,
   "metadata": {
    "collapsed": true
   },
   "outputs": [],
   "source": [
    "dummy_file_lookup = {}\n",
    "dummy_files = db.query(\"SELECT * FROM files WHERE added = '2018-04-08';\")\n",
    "for rec in dummy_files:\n",
    "    dummy_file_lookup[(rec['facility_id'],rec['year'],rec['month'])] = rec['id']"
   ]
  },
  {
   "cell_type": "code",
   "execution_count": 31,
   "metadata": {
    "collapsed": true
   },
   "outputs": [],
   "source": [
    "zipped_data = []\n",
    "for rec in data:\n",
    "    values = []\n",
    "    for v in rec:\n",
    "        if v.value == 'NULL':\n",
    "            values.append(None)\n",
    "        else:\n",
    "            values.append(v.value)\n",
    "    \n",
    "    vdict = dict(zip(header,values))\n",
    "    \n",
    "    facility_id = fac_lookup[vdict['facility_code']]['id']\n",
    "    \n",
    "    file_id = dummy_file_lookup[(facility_id,str(vdict['year']),vdict['month'])]\n",
    "\n",
    "    \n",
    "    del vdict['facility']\n",
    "    del vdict['facility_code']\n",
    "    del vdict['year']\n",
    "    del vdict['month']\n",
    "    \n",
    "    new_vdict = {}\n",
    "    for k in vdict.keys():\n",
    "        new_vdict[var_lookup[k]] = vdict[k]\n",
    "    \n",
    "    new_vdict['a_file_id'] = file_id\n",
    "    new_vdict['a_files_sheets_id'] = None\n",
    "    new_vdict['a_sheet_id'] = None\n",
    "    new_vdict['added'] = '2018-04-08'\n",
    "    \n",
    "    zipped_data.append(new_vdict)"
   ]
  },
  {
   "cell_type": "markdown",
   "metadata": {},
   "source": [
    "### Scrub PII"
   ]
  },
  {
   "cell_type": "code",
   "execution_count": 32,
   "metadata": {
    "collapsed": true
   },
   "outputs": [],
   "source": [
    "# Do not save this value in a source code repository!\n",
    "salt = 'REDACTED'.encode()"
   ]
  },
  {
   "cell_type": "code",
   "execution_count": 33,
   "metadata": {
    "collapsed": true
   },
   "outputs": [],
   "source": [
    "fields = [\n",
    "    \"info_name\",\n",
    "    \"info_doctor\",\n",
    "    \"info_name_author\",\n",
    "    \"info_name_caregiver\",\n",
    "    \"info_name_facility\",\n",
    "    \"info_name_group\",\n",
    "    \"info_name_of_coach\",\n",
    "    \"info_name_processor\",\n",
    "    \"info_name_surgeon\",\n",
    "    \"info_phone_skype\"\n",
    "]"
   ]
  },
  {
   "cell_type": "code",
   "execution_count": 35,
   "metadata": {
    "collapsed": true
   },
   "outputs": [],
   "source": [
    "for rec in zipped_data:\n",
    "    for pii_field in fields:\n",
    "        if pii_field in rec.keys():\n",
    "            if rec[pii_field] is None or rec[pii_field] == '.':\n",
    "                continue\n",
    "            else:\n",
    "                # Hash the value in the field\n",
    "                \n",
    "                h = hashlib.sha256()\n",
    "                h.update(str(rec[pii_field]).encode())\n",
    "                h.update(salt)\n",
    "                rec[pii_field] = str(h.hexdigest())\n"
   ]
  },
  {
   "cell_type": "code",
   "execution_count": 36,
   "metadata": {},
   "outputs": [
    {
     "data": {
      "text/plain": [
       "{'a_file_id': 1199,\n",
       " 'a_files_sheets_id': None,\n",
       " 'a_sheet_id': None,\n",
       " 'added': '2018-04-08',\n",
       " 'age_type': 'شهر',\n",
       " 'date': datetime.datetime(2017, 10, 30, 0, 0),\n",
       " 'diagnosis_arabic': 'متلازامات الصداع الاخرى ',\n",
       " 'diagnosis_english': 'Other headache syndromes',\n",
       " 'disability': None,\n",
       " 'drugs': None,\n",
       " 'icd10_code': 'G44',\n",
       " 'idp_host': 'مقيم',\n",
       " 'info_age': 6,\n",
       " 'info_doctor': 'b0eeb75eef72114bf0976275a34239726a953db76c1ba33a59c12b1fc29b5065',\n",
       " 'info_name': 'cde2ad8a09a3ffb969aa3c1522850a78b2389507c067f4787d7b58c6e1eade23',\n",
       " 'info_sex': 'ذكر',\n",
       " 'injury_cause': None,\n",
       " 'injury_new_or_old': None,\n",
       " 'nationality': 'سوري',\n",
       " 'new_or_followup': 'جديد',\n",
       " 'num': 1537919,\n",
       " 'outcome': 'قبول غير جراحي /   Non-surgical ',\n",
       " 'sams_diag_code': 'N6C'}"
      ]
     },
     "execution_count": 36,
     "metadata": {},
     "output_type": "execute_result"
    }
   ],
   "source": [
    "zipped_data[0]"
   ]
  },
  {
   "cell_type": "code",
   "execution_count": 37,
   "metadata": {
    "collapsed": true
   },
   "outputs": [],
   "source": [
    "tab_all.insert_many(zipped_data)"
   ]
  },
  {
   "cell_type": "code",
   "execution_count": 38,
   "metadata": {
    "collapsed": true
   },
   "outputs": [],
   "source": [
    "# clear some memory\n",
    "\n",
    "del data\n",
    "del zipped_data"
   ]
  },
  {
   "cell_type": "markdown",
   "metadata": {},
   "source": [
    "### Export to Arabic Values\n",
    "\n",
    "Including English so that we can use code written previously"
   ]
  },
  {
   "cell_type": "code",
   "execution_count": 42,
   "metadata": {
    "collapsed": true
   },
   "outputs": [],
   "source": [
    "tab_raw = db['full_raw_scrubbed']\n",
    "tab_arabic = db['arabic_values']\n",
    "tab_vars = db['variables']\n",
    "\n",
    "column_names = db.query(\"SELECT DISTINCT(normalized) FROM variables;\")\n",
    "column_names = sorted([r['normalized'] for r in column_names])\n",
    "\n",
    "# We don't want to work with the values in the fields that have been hashed,\n",
    "# so remove them from the list of variables to query.\n",
    "fields = [\n",
    "    \"info_name\",\n",
    "    \"info_name_author\",\n",
    "    \"info_doctor\",\n",
    "    \"info_name_caregiver\",\n",
    "    \"info_name_facility\",\n",
    "    \"info_name_group\",\n",
    "    \"info_name_of_coach\",\n",
    "    \"info_name_processor\",\n",
    "    \"info_name_surgeon\",\n",
    "    \"info_phone_skype\",\n",
    "    \"date\",\n",
    "    \"date_first_exam\",\n",
    "    \"death_date\",\n",
    "    \"date_admission\",\n",
    "    \"num\",\n",
    "    \"sams_diag_code\",\n",
    "    \"icd10_code\",\n",
    "    \"facility\",\n",
    "    \"nationality\",\n",
    "    \"facility_code\",\n",
    "    \"added\"\n",
    "]\n",
    "column_names = [e for e in column_names if e not in fields]\n",
    "\n",
    "arabic_lookup = set([r['arabic'] for r in tab_arabic.find()])"
   ]
  },
  {
   "cell_type": "code",
   "execution_count": 43,
   "metadata": {
    "collapsed": true
   },
   "outputs": [],
   "source": [
    "max_id_results = db.query(\"SELECT max(id) FROM arabic_values;\")\n",
    "for r in max_id_results:\n",
    "    max_id = int(r['max(id)'])\n",
    "\n",
    "current_id = max_id + 1"
   ]
  },
  {
   "cell_type": "code",
   "execution_count": 44,
   "metadata": {
    "collapsed": true
   },
   "outputs": [],
   "source": [
    "buffer = []\n",
    "for col in column_names:\n",
    "    col_values = db.query(\"\"\"\n",
    "        SELECT DISTINCT([\"\"\" + col + \"\"\"]) \n",
    "        FROM full_raw_scrubbed \n",
    "        WHERE added = '2018-04-08'\n",
    "        AND [\"\"\" + col + \"\"\"] IS NOT NULL\n",
    "        AND [\"\"\" + col + \"\"\"] <> '.'\n",
    "        AND [\"\"\" + col + \"\"\"] <> '';\n",
    "        \"\"\")\n",
    "    col_values = [r[col] for r in col_values]\n",
    "\n",
    "    # Create a table of unique Arabic values\n",
    "    for v in col_values:\n",
    "        if v in arabic_lookup:\n",
    "            continue\n",
    "        # Skip numbers\n",
    "        if v.replace(\",\",\".\").replace('.','',1).isdigit():\n",
    "            continue\n",
    "        else:\n",
    "            r = {\"id\":current_id,\"arabic\":v,\"added\":'2018-04-08'}\n",
    "            current_id += 1\n",
    "            buffer.append(r)\n",
    "            arabic_lookup.add(v)\n",
    "            \n",
    "# 367621\n",
    "\n",
    "tab_arabic.insert_many(buffer)"
   ]
  },
  {
   "cell_type": "markdown",
   "metadata": {},
   "source": [
    "### Translate the new values"
   ]
  },
  {
   "cell_type": "code",
   "execution_count": 46,
   "metadata": {
    "collapsed": true
   },
   "outputs": [],
   "source": [
    "recs = [r for r in tab_arabic.find(added='2018-04-08')]"
   ]
  },
  {
   "cell_type": "code",
   "execution_count": 47,
   "metadata": {
    "collapsed": true
   },
   "outputs": [],
   "source": [
    "translate_client = translate.Client()\n",
    "target_lang = 'en'"
   ]
  },
  {
   "cell_type": "code",
   "execution_count": 48,
   "metadata": {
    "collapsed": true
   },
   "outputs": [],
   "source": [
    "record_counter = widgets.HTML(value=\"Records: 0\",continuous_update=True)\n",
    "character_counter = widgets.HTML(value=\"Characters: 0\",continuous_update=True)\n",
    "error_counter = widgets.HTML(value=\"Errors: 0\",continuous_update=True)"
   ]
  },
  {
   "cell_type": "code",
   "execution_count": 52,
   "metadata": {},
   "outputs": [
    {
     "name": "stdout",
     "output_type": "stream",
     "text": [
      "Total Records 41353\n",
      "--------------\n",
      "Done\n",
      "Record Count 41353\n",
      "Character Count 1210616\n"
     ]
    }
   ],
   "source": [
    "character_count = 0\n",
    "record_count = 0\n",
    "error_count = 0\n",
    "\n",
    "print(\"Total Records\",len(recs))\n",
    "\n",
    "updates = []\n",
    "\n",
    "for rec in recs:\n",
    "    try:\n",
    "        arabic = rec['arabic']\n",
    "        english = translate_client.translate(arabic, target_language=target_lang)\n",
    "        english = english['translatedText']\n",
    "        update_rec = {\n",
    "            \"id\":rec['id'],\n",
    "            \"google_translate_feb\":english\n",
    "        }\n",
    "        updates.append(update_rec)\n",
    "        \n",
    "        character_count += len(arabic)\n",
    "        character_counter.value = \"Characters: \" + str(character_count)\n",
    "        record_count += 1\n",
    "        record_counter.value = \"Records: \" + str(record_count)\n",
    "    except:\n",
    "        error_count += 1\n",
    "        error_counter.value = \"Errors: \" + str(error_count)\n",
    "        time.sleep(10)\n",
    "        \n",
    "print(\"--------------\\nDone\")\n",
    "print(\"Record Count\",record_count)\n",
    "print(\"Character Count\",character_count)"
   ]
  },
  {
   "cell_type": "code",
   "execution_count": 49,
   "metadata": {},
   "outputs": [
    {
     "data": {
      "application/vnd.jupyter.widget-view+json": {
       "model_id": "64974ecc76e64df4af4159e7a3f778e7"
      }
     },
     "metadata": {},
     "output_type": "display_data"
    }
   ],
   "source": [
    "record_counter"
   ]
  },
  {
   "cell_type": "code",
   "execution_count": 50,
   "metadata": {},
   "outputs": [
    {
     "data": {
      "application/vnd.jupyter.widget-view+json": {
       "model_id": "cfc89f1839bd4667b7ba04b95917b558"
      }
     },
     "metadata": {},
     "output_type": "display_data"
    }
   ],
   "source": [
    "character_counter"
   ]
  },
  {
   "cell_type": "code",
   "execution_count": 51,
   "metadata": {},
   "outputs": [
    {
     "data": {
      "application/vnd.jupyter.widget-view+json": {
       "model_id": "2e568f0984ee4c7181b8d07d48a7a025"
      }
     },
     "metadata": {},
     "output_type": "display_data"
    }
   ],
   "source": [
    "error_counter"
   ]
  },
  {
   "cell_type": "code",
   "execution_count": 53,
   "metadata": {},
   "outputs": [
    {
     "data": {
      "text/plain": [
       "{'google_translate_feb': 'Other headaches', 'id': 400448}"
      ]
     },
     "execution_count": 53,
     "metadata": {},
     "output_type": "execute_result"
    }
   ],
   "source": [
    "updates[0]"
   ]
  },
  {
   "cell_type": "code",
   "execution_count": 54,
   "metadata": {
    "collapsed": true
   },
   "outputs": [],
   "source": [
    "for rec in updates:\n",
    "    tab_arabic.update(rec,['id'])"
   ]
  },
  {
   "cell_type": "markdown",
   "metadata": {},
   "source": [
    "### Flag Generation"
   ]
  },
  {
   "cell_type": "code",
   "execution_count": 55,
   "metadata": {
    "collapsed": true
   },
   "outputs": [],
   "source": [
    "# Get a reference to the arabic_values table\n",
    "tab_arabic_values = db['arabic_values']"
   ]
  },
  {
   "cell_type": "code",
   "execution_count": 56,
   "metadata": {},
   "outputs": [
    {
     "name": "stdout",
     "output_type": "stream",
     "text": [
      "Dropped full_raw_flags\n",
      "Dropped full_raw_flags_reduced\n"
     ]
    }
   ],
   "source": [
    "try:\n",
    "    db['full_raw_flags'].drop()\n",
    "    print(\"Dropped full_raw_flags\")\n",
    "except:\n",
    "    pass\n",
    "\n",
    "try:\n",
    "    db['full_raw_flags_reduced'].drop()\n",
    "    print(\"Dropped full_raw_flags_reduced\").drop()\n",
    "except:\n",
    "    pass\n",
    "\n",
    "# One SQLite limitation is you cannot drop columns, so you have to create a new table and then rename it.\n",
    "preserve_fields = [k for k in tab_arabic_values.find_one().keys() if 'flag_' not in k]\n",
    "\n",
    "# We don't use result but assigning it skips printing some garbage below\n",
    "result = db.query(\"\"\"\n",
    "CREATE TABLE new_arabic_values AS \n",
    "    SELECT \"\"\" + \",\".join(preserve_fields) + \"\"\" \n",
    "    FROM arabic_values;\n",
    "\"\"\")\n",
    "\n",
    "# Drop the original arabic_values table\n",
    "tab_arabic_values.drop()\n",
    "\n",
    "# Rename new_arabic_values to arabic_values & now we have a table with no flag columns\n",
    "result = db.query(\"\"\"\n",
    "ALTER TABLE new_arabic_values RENAME TO arabic_values;\n",
    "\"\"\")"
   ]
  },
  {
   "cell_type": "code",
   "execution_count": 57,
   "metadata": {
    "collapsed": true
   },
   "outputs": [],
   "source": [
    "# Now because we futzed with the arabic_values table, we have to create a new reference to the database\n",
    "# and to our arabic_values table. The db object stores some schema information that isn't updated with\n",
    "# our direct query calls above.\n",
    "\n",
    "del db\n",
    "del tab_arabic_values\n",
    "\n",
    "db = dataset.connect(\"sqlite:///\" + new_db_name)\n",
    "tab_arabic_values = db['arabic_values']"
   ]
  },
  {
   "cell_type": "code",
   "execution_count": 58,
   "metadata": {
    "collapsed": true
   },
   "outputs": [],
   "source": [
    "# Now create an in-memory representation of the arabic_values table\n",
    "# and store it in variable `data`\n",
    "data = [x for x in tab_arabic_values]"
   ]
  },
  {
   "cell_type": "code",
   "execution_count": 59,
   "metadata": {},
   "outputs": [
    {
     "data": {
      "text/plain": [
       "412605"
      ]
     },
     "execution_count": 59,
     "metadata": {},
     "output_type": "execute_result"
    }
   ],
   "source": [
    "len(data)"
   ]
  },
  {
   "cell_type": "code",
   "execution_count": 60,
   "metadata": {
    "collapsed": true
   },
   "outputs": [],
   "source": [
    "# Update this if you want to change what flags you are making on the dataset.\n",
    "# The logic for creating them is in the following cell.\n",
    "\n",
    "# Require and flag term\n",
    "flag_terms = [\n",
    "    \"blunt\",\n",
    "    \"explosive\",\n",
    "    \"blast\",\n",
    "    \"stab\",\n",
    "    \"upper extremity\",\n",
    "    \"lower extremity\",\n",
    "    \"neck\",\n",
    "    \"chest\",\n",
    "    \"back\",\n",
    "    \"spinal\",\n",
    "    \"neurologic\",\n",
    "    \"nerve\",\n",
    "    \"vascular\",\n",
    "    \"orthopedic\",\n",
    "    \"fracture\",\n",
    "    \"suspected\",\n",
    "    \"follow-up\",\n",
    "    \"complication\",\n",
    "    \"history of\",\n",
    "    \"traffic accident\"\n",
    "]\n",
    "\n",
    "# require all terms - not in use at the moment\n",
    "multiple_flag_terms = [\n",
    "#     (\"burn\",\"fracture\")\n",
    "]\n",
    "\n",
    "# require any of the terms but name the flag after the first\n",
    "synonym_flag_terms = [\n",
    "    (\"allergy\", \"allergic\"),\n",
    "    (\"anemia\", \"thalassemia\"),\n",
    "    (\"cancer\", \"bcc\", \"leukemia\", \"lymphoma\", \"malignancy\", \"malignant\", \"scc\"),\n",
    "    (\"cardiovascular\",\" asd \",\" vsd \",\"cholesterol\",\"hypercholesterolemia\",\"hyperlipidemia\",\"hypertriglyceridemia\",\"triglycerides\",\"blood pressure\",\" bp \",\"high blood pressure\",\"hypertension\",\"acute coronary syndrome\",\"angina\",\"arrhythmia\",\"atrial fibrillation\",\" avr \",\"cardiac ischemia\",\"chest pain\",\"clot\",\"clotting\",\"coronary atery\",\"coronary heart disease\",\"coronary ischemia\",\"dvt\",\"endocarditis\",\"heart attack\",\"heart disease\",\"heart failure\",\"heart valve\",\"hf\",\"hypotension\",\"ihd\",\" mi \",\"mitral valve prolapse\",\"mvr\",\"myocardial hypoperfusion\",\"myocardial infarction\",\"palpitations\",\"pericarditis\",\"pulmonary embolism\",\"pvd\",\"svt\",\"thromboembolism\",\"thrombophlebitis\",\"thrombosis\",\"vasculitis\"),\n",
    "    (\"congenital\", \"asd\", \"vsd\"),\n",
    "    (\"dehydration\", \"dehydration\", \"hypovolemic shock\"),\n",
    "    (\"dental complaint\", \"dental\", \"gingivitis\", \" gum \", \"odonitis\", \"teeth\", \"tooth\", \"toothache\"),\n",
    "    (\"derm\", \"acne\",\"alopecia\",\"blisters\",\"cellulitis\",\"dermatitis\",\"dermoid\",\"dry skin\",\"eczema\",\"folliculitis\",\"hair loss\",\"inflammatory papules\",\"intertrigo\",\"itch\",\"lice\",\"pruritis\",\"psoriasis\",\"rash\",\"ringworm\",\"scabies\",\"skin disease\",\"skin disorder\",\"skin eruption\",\"skin infection\",\"skin lesion\",\"tinea\",\"warts\"),\n",
    "    (\"diabetes\",\"diabetic\",\"DKA\",\"glucose\",\"hyperglycemia\",\"hypoglycemia\",\"sugar\"),\n",
    "    (\"endocrine\",\"hyperthyroid\",\"hyperthyroidism\",\"hypocalcemia\",\"hypothyroid\",\"hypothyroidism\",\"parathyroid\",\"thyroid\",\" TSH \"),\n",
    "    (\"infection\",\"conjunctivitis\",\"eye discharge\",\"eye infection\",\"keratoconjunctivitis\",\"ophthalmic infection\"),\n",
    "    (\"pain\", \"corneal inflammation\", \"eye sensitivity\", \"keratitis\", \"pain in the eye\"),\n",
    "    (\"fatigue\", \"exhaustion\", \"tired\", \"tiredness\"),\n",
    "    (\"fever\", \"hyperthermia\", \"temperature\"),\n",
    "    (\"constipation\", \"intestinal stasis\"),\n",
    "    (\"shrapnel\", \"fragments\",\"sliver\",\"splinter\"),\n",
    "    (\"musculoskeletal pain\",\"ankylosing spondylitis\",\"arthralgia\",\"Arthritis\",\"back pain\",\"bruise\",\"bruising\",\"chondritis\",\"contusion\",\"costochondritis\",\"disc herniation\",\"disc herniation\",\"discitis\",\"elbow pain\",\"extremity pain\",\"gout\",\"inflammation of the shoulder\",\"joint\",\"knee degeneration\",\"knee inflammation\",\"knee pain\",\"loin pain\",\"low back pain\",\"lumbar pain\",\"musclar pain\",\"Muscle spasm\",\"muscular pain\",\"myalgia\",\"myositis\",\"neck pain\",\"osteoarthritis\",\"osteomyelitis\",\"osteomylitis\",\"plantar fasciitis\",\"polyarthritis\",\"rheumatism\",\"sacroiliitis\",\"spine degeneration\",\"sprain\",\"strain\",\"synovitis\",\"tendinitis\",\"tendonitis\",\"tendonopathy\",\"tmj\"),\n",
    "    (\"headache\", \"head pain\"),\n",
    "    (\"stroke\",\"cerebral accident\",\"cerebral hemorrhage\",\"cerebral infarction\",\"cerebral ischemia\",\"cerebrovascular accident\",\" cva \"),\n",
    "    (\"gunshot\", \" shot \"),\n",
    "    \n",
    "    # Prior flags, preserved\n",
    "    (\"facial\",\"face\"),\n",
    "    (\"pelvic\",\"pelvis\"),\n",
    "    (\"head\",\"eye\",\"ear\",\"face\",\"brain\",\"scalp\",\"mouth\",\"nose\"),\n",
    "    (\"spine\",\"spinal\"),\n",
    "    (\"abdomen\",\"abdominal\")\n",
    "]\n",
    "\n",
    "# require the first term and the absence of the remaining terms\n",
    "# name the flag after the first term.\n",
    "complex_flag_terms = [\n",
    "    (\"urologic\",\"neurologic\"),\n",
    "    (\"burn\",\"heartburn\"),\n",
    "    (\"trauma\", \"psychological trauma\")\n",
    "]\n",
    "\n",
    "# Look for any of the terms in terms_to_find but only apply if terms in terms_to_avoid are absent.\n",
    "# Check human or google translation (ht, gt)\n",
    "\n",
    "complex_set_flag_terms = [\n",
    "    {\n",
    "        \"flag_name\": \"hyperlipidemia\",\n",
    "        \"terms_to_find\": [\"blood pressure\", \"bp\", \"high blood pressure\", \"hypertension\"],\n",
    "        \"terms_to_avoid\": [\"hypotension\"],\n",
    "        \"check\": [\"ht\",\"gt\"]\n",
    "    },\n",
    "    {\n",
    "        \"flag_name\": \"ENT\",\n",
    "        \"terms_to_find\": [\"adenoiditis\",\"ear congestion\",\"ear discharge\",\"ear infection\",\"ear inflammation\",\"eustachian tube infection\",\"mucositis\",\"mumps\",\"nasal congestion\",\"nose congestion\",\"otitis\",\"otorrhea\",\"pharyngitis\",\"throat ache\",\"tonsillitis\",\"tonsils enlargement\",\"cerumen impaction\",\"dysphagia\",\"earache\",\"epistaxis\",\"hearing impairment\",\"hearing loss\",\"nasal obstruction\",\"pain in the ear\",\"pharyngeal pain\",\"pharynx pain\",\"swallowing pain\",\"vestibulitis\"],\n",
    "        \"terms_to_avoid\": [],\n",
    "        \"check\": [\"ht\",\"gt\"]\n",
    "    },\n",
    "    {\n",
    "        \"flag_name\": \"infection\",\n",
    "        \"terms_to_find\": [\"adenoiditis\",\"ear congestion\",\"ear discharge\",\"ear infection\",\"ear inflammation\",\"eustachian tube infection\",\"laryngitis\",\"mucositis\",\"mumps\",\"nasal congestion\",\"nose congestion\",\"otitis\",\"otorrhea\",\"pharyngitis\",\"rhinitis\",\"sinusitis\",\"throat ache\",\"tonsillitis\",\"tonsils enlargement\"],\n",
    "        \"terms_to_avoid\": [],\n",
    "        \"check\": [\"ht\",\"gt\"]\n",
    "    },\n",
    "    {\n",
    "        \"flag_name\": \"eye\",\n",
    "        \"terms_to_find\": [\"conjunctivitis\",\"eye discharge\",\"eye infection\",\"keratoconjunctivitis\",\"ophthalmic infection\",\"corneal inflammation\",\"eye sensitivity\",\"keratitis\",\"pain in the eye\",\"blepharitis\",\"cataract\",\"eye redness\",\"eyelid\",\"eye-redness\",\"glaucoma\",\"left eye\",\"my eye\",\"npdr\",\"pterygium\",\"pupil\",\"redness of the eye\",\"retinal\",\"retinopathy\",\"right eye\",\"swelling of the eye\",\"uveitis\",\"vision\"],\n",
    "        \"terms_to_avoid\": [],\n",
    "        \"check\": [\"ht\",\"gt\"]\n",
    "    },\n",
    "    {\n",
    "        \"flag_name\": \"gi_complaint\",\n",
    "        \"terms_to_find\": [\"abdominal injury\",\"apendicitis\",\"appendicitis\",\"belly pain\",\"bile duct obstruction\",\"bile stones\",\"cholecystitis\",\"colic\",\"colitis\",\"colon spasm\",\"Crohn\",\"duodenal ulcer\",\"enteritis\",\"epigastric pain\",\"flank pain\",\"gallbladder inflammation\",\"gastric pain\",\"gastric ulcer\",\"gastritis\",\"gastroenteritis\",\"gastrointestinal infection\",\"hiatal hernia\",\"ibd\",\"ibs\",\"indigestion\",\"inflammation of the stomach\",\"intestinal pain\",\"intestinal ulcer\",\"pain in the stomach\",\"pancreatitis\",\"peptic ulcer\",\"peritoneal inflammation\",\"peritonitis\",\"sore stomach\",\"stomach hurts\",\"stomach pain\",\"Digestive bleed\",\"Gastric bleeding\",\"Gastric hemorrhage\",\"Gastrointestinal bleeding\",\"hemorrhoids\",\"Ulcer of the colon\",\"Constipation\",\"intestinal stasis\",\"diarrhea\",\"dysentery\",\"food poisoning\",\"giardia\",\"typhoid\",\"cirrhosis\",\"hapatitis\",\"hep a\",\"hep b\",\"hep c\",\"hepatic\",\"jaundice\",\"nausea\",\"vomiting\",\"vomitting\",\"anal fissure\",\"bloating\",\"celiac disease\",\"esophageal reflux\",\"gastroesophageal reflux\",\"gerd\",\"heartburn\",\"inguinal hernia\",\"malabsorption\",\"umbilical fistula\",\"umbilical hernia\"],\n",
    "        \"terms_to_avoid\": [\"renal colic\"],\n",
    "        \"check\": [\"ht\",\"gt\"]\n",
    "    },\n",
    "    {\n",
    "        \"flag_name\": \"abdominal_pain\",\n",
    "        \"terms_to_find\": [\"abdominal injury\",\"apendicitis\",\"appendicitis\",\"belly pain\",\"bile duct obstruction\",\"bile stones\",\"cholecystitis\",\"colic\",\"colitis\",\"colon spasm\",\"Crohn\",\"duodenal ulcer\",\"enteritis\",\"epigastric pain\",\"flank pain\",\"gallbladder inflammation\",\"gastric pain\",\"gastric ulcer\",\"gastritis\",\"gastroenteritis\",\"gastrointestinal infection\",\"hiatal hernia\",\"ibd\",\"ibs\",\"indigestion\",\"inflammation of the stomach\",\"intestinal pain\",\"intestinal ulcer\",\"pain in the stomach\",\"pancreatitis\",\"peptic ulcer\",\"peritoneal inflammation\",\"peritonitis\",\"sore stomach\",\"stomach hurts\",\"stomach pain\"],\n",
    "        \"terms_to_avoid\": [\"renal colic\"],\n",
    "        \"check\": [\"ht\",\"gt\"]\n",
    "    },\n",
    "    {\n",
    "        \"flag_name\": \"bleed\",\n",
    "        \"terms_to_find\": [\"Digestive bleed\",\"Gastric bleeding\",\"Gastric hemorrhage\",\"Gastrointestinal bleeding\",\"hemorrhoids\",\"Ulcer of the colon\"],\n",
    "        \"terms_to_avoid\": [],\n",
    "        \"check\": [\"ht\",\"gt\"]\n",
    "    },\n",
    "    {\n",
    "        \"flag_name\": \"diarrhea_dysentery\",\n",
    "        \"terms_to_find\": [\"diarrhea\",\"dysentery\",\"food poisoning\",\"giardia\",\"typhoid\"],\n",
    "        \"terms_to_avoid\": [],\n",
    "        \"check\": [\"ht\",\"gt\"]\n",
    "    },\n",
    "    {\n",
    "        \"flag_name\": \"liver_dysfunction\",\n",
    "        \"terms_to_find\": [\"cirrhosis\",\"hapatitis\",\"hep a\",\"hep b\",\"hep c\",\"hepatic\",\"jaundice\"],\n",
    "        \"terms_to_avoid\": [],\n",
    "        \"check\": [\"ht\",\"gt\"]\n",
    "    },\n",
    "    {\n",
    "        \"flag_name\": \"nausea_vomiting\",\n",
    "        \"terms_to_find\": [\"nausea\",\"vomiting\",\"vomitting\"],\n",
    "        \"terms_to_avoid\": [],\n",
    "        \"check\": [\"ht\",\"gt\"]\n",
    "    },\n",
    "    {\n",
    "        \"flag_name\": \"gu\",\n",
    "        \"terms_to_find\": [\"cystitis\",\"dysuria\",\"epididymitis\",\"genital infection\",\"herpes\",\"orchitis\",\"sexually transmitted infection\",\"urethritis\",\"urinary infection\",\"Urinary tract infection\",\"urogenital infection\",\"UTI\",\"bladder\",\"hematuria\",\"incontinence\",\"pelvic mass\",\"urinary disorder\",\"urinary retention\",\"urinary symptoms\",\"varicocele\"],\n",
    "        \"terms_to_avoid\": [],\n",
    "        \"check\": [\"ht\",\"gt\"]\n",
    "    },\n",
    "    {\n",
    "        \"flag_name\": \"infection\",\n",
    "        \"terms_to_find\": [\"cystitis\",\"dysuria\",\"epididymitis\",\"genital infection\",\"herpes\",\"orchitis\",\"sexually transmitted infection\",\"urethritis\",\"urinary infection\",\"Urinary tract infection\",\"urogenital infection\",\"UTI\"],\n",
    "        \"terms_to_avoid\": [],\n",
    "        \"check\": [\"ht\",\"gt\"]\n",
    "    },\n",
    "    {\n",
    "        \"flag_name\": \"gyn_women\",\n",
    "        \"terms_to_find\": [\"breast\",\"endometriosis\",\"fibroids\",\"gynecological\",\"hot flashes\",\"irregular cycle\",\"mastitis\",\"menopause\",\"menstrual\",\"ovarian\",\"ovary\",\"ovulation\",\"reproductive health\",\"uterine\",\"uterus\",\"vagina\",\"vaginal\",\"vaginitis\"],\n",
    "        \"terms_to_avoid\": [],\n",
    "        \"check\": [\"ht\",\"gt\"]\n",
    "    },\n",
    "    {\n",
    "        \"flag_name\": \"injury\",\n",
    "        \"terms_to_find\": [\"bite\",\"sting\",\"stinging\",\"cut\",\"wound\",\"injury\",\"blast\",\"burn\",\"fracture\",\"gunshot\",\"shot\",\"hemiplegia\",\"paralysis\",\"paraplegia\",\"quadriplegia\",\"fragments\",\"shrapnel\",\"sliver\",\"splinter\",\"traffic accident\",\"abrasion\",\"bruise\",\"bruising\",\"Concussion\",\"contusion\",\"falling\",\"knee rupture\",\"splint\",\"trauma\"],\n",
    "        \"terms_to_avoid\": [\"psychological trauma\",\"heartburn\"],\n",
    "        \"check\": [\"ht\",\"gt\"]\n",
    "    },\n",
    "    {\n",
    "        \"flag_name\": \"injury\",\n",
    "        \"terms_to_find\": [\"ulcer\"],\n",
    "        \"terms_to_avoid\": [\"gastric\", \"stomach\", \"peptic\", \"intestinal\", \"duodenal\"],\n",
    "        \"check\": [\"ht\", \"gt\"]\n",
    "    },\n",
    "    {\n",
    "        \"flag_name\": \"injury_neuro\",\n",
    "        \"terms_to_find\": [\"hemiplegia\",\"paralysis\",\"paraplegia\",\"quadriplegia\"],\n",
    "        \"terms_to_avoid\": [],\n",
    "        \"check\": [\"ht\",\"gt\"]\n",
    "    },\n",
    "    {\n",
    "        \"flag_name\": \"malnutrition\",\n",
    "        \"terms_to_find\": [\"delayed growth\",\"growth delay\",\"growth retardation\",\"short stature\",\"malnutrition\"],\n",
    "        \"terms_to_avoid\": [],\n",
    "        \"check\": [\"ht\",\"gt\"]\n",
    "    },\n",
    "    {\n",
    "        \"flag_name\": \"growth_delay\",\n",
    "        \"terms_to_find\": [\"delayed growth\",\"growth delay\",\"growth retardation\",\"short stature\"],\n",
    "        \"terms_to_avoid\": [],\n",
    "        \"check\": [\"ht\",\"gt\"]\n",
    "    },\n",
    "    {\n",
    "        \"flag_name\": \"mental_health\",\n",
    "        \"terms_to_find\": [\"anxiety\",\"bipolar\",\"mental illness\",\"personality disorder\",\"post traumatic syndrome\",\"post-traumatic syndrome\",\"psychiatric\",\"psychological\",\"ptsd\",\"schizophrenia\"],\n",
    "        \"terms_to_avoid\": [],\n",
    "        \"check\": [\"ht\", \"gt\"]\n",
    "    },\n",
    "    {\n",
    "        \"flag_name\": \"mental_health\",\n",
    "        \"terms_to_find\": [\"depression\"],\n",
    "        \"terms_to_avoid\": [],\n",
    "        \"check\": [\"ht\"]\n",
    "    },\n",
    "    {\n",
    "        \"flag_name\": \"neuro_complaint\",\n",
    "        \"terms_to_find\": [\"head pain\",\"headache\",\"cerebral accident\",\"cerebral hemorrhage\",\"cerebral infarction\",\"cerebral ischemia\",\"cerebrovascular accident\",\"cva\",\"stroke\",\"benign paroxysmal postitional vertigo\",\"brachial plexus\",\"brain infection\",\"brain tumor\",\"cauda equina\",\"cerebral palsy\",\"cervical root\",\"convulsion\",\"convulsions\",\"dementia\",\"dizziness\",\"encephalitis\",\"epilepsy\",\"epileptic\",\"foot drop\",\"hand drop\",\"meningitis\",\"meningocele\",\"migraine\",\"nerve\",\"neuritis\",\"neurodegenerative\",\"neurological\",\"neuropathy\",\"numbness\",\"nystagmus\",\"polyneuritis\",\"sciatica\",\"seizure\",\"subarachnoid hemorrhage\",\"TIA\",\"tinnitus\",\"Vertigo\"],\n",
    "        \"terms_to_avoid\": [],\n",
    "        \"check\": [\"ht\", \"gt\"]\n",
    "    },\n",
    "    {\n",
    "        \"flag_name\": \"other_infection\",\n",
    "        \"terms_to_find\": [\"mediterranean fever\",\"mf\",\"abcess\",\"abscess\",\"sepsis\",\"septic shock\",\"bacteremia\",\"brucellosis\",\"chickenpox\",\"diphtheria\",\"finger infection\",\"foot infection\",\"fungal\",\"hand foot\",\"hand infection\",\"hand mouth\",\"hand-foot\",\"hookworm\",\"infection of blood\",\"intestinal worms\",\"leprosy\",\"lymphadenitis\",\"lymphadenopathy\",\"measles\",\"nemotodes\",\"omphalitis\",\"parasite\",\"pinworm\",\"rheumatic fever\",\"rubella\",\"scarlet fever\",\"thrush\",\"toe infection\",\"worms\"],\n",
    "        \"terms_to_avoid\": [],\n",
    "        \"check\": [\"ht\", \"gt\"]\n",
    "    },\n",
    "    {\n",
    "        \"flag_name\": \"other_infection\",\n",
    "        \"terms_to_find\": [\"leishmania\",\"leishmaniasis\"],\n",
    "        \"terms_to_avoid\": [\"excluding leishmaniasis\", \"excluding leishmania\", \"except leishmaniasis\"],\n",
    "        \"check\": [\"ht\", \"gt\"]\n",
    "    },\n",
    "    {\n",
    "        \"flag_name\": \"pregnancy\",\n",
    "        \"terms_to_find\": [\"abortion\",\"antenatal\",\"birth\",\"caesarean section\",\"csection\",\"delivery\",\"gestation\",\"miscarriage\",\"placenta\",\"postnatal\",\"postpartum\",\"pregnancy\",\"pregnant\",\"prenatal\"],\n",
    "        \"terms_to_avoid\": [\"not pregnant\"],\n",
    "        \"check\": [\"ht\", \"gt\"]\n",
    "    },\n",
    "    {\n",
    "        \"flag_name\": \"renal\",\n",
    "        \"terms_to_find\": [\"hydronephrosis\",\"kidney cysts\",\"kidney failure\",\"kidney stone\",\"nephritis\",\"nephrolithiasis\",\"nephropathy\",\"pyelonephritis\",\"renal calculi\",\"renal calculus\",\"renal failure\",\"renal impairment\",\"renal insufficiency\",\"renal stones\"],\n",
    "        \"terms_to_avoid\": [],\n",
    "        \"check\": [\"ht\", \"gt\"]\n",
    "    },\n",
    "    {\n",
    "        \"flag_name\": \"respiratory\",\n",
    "        \"terms_to_find\": [\"laryngitis\",\"rhinitis\",\"sinusitis\",\"bronchiolitis\",\"bronchitis\",\"cold\",\"congestion\",\"cough\",\"croup\",\"flu\",\"grippe\",\"influenza\",\"penumonia\",\"pneumonia\",\"pneumonitis\",\"pulmonary infection\",\"respiratory infection\",\"respiratory tract infection\",\"rhinorrhea\",\"running nose\",\"runny nose\",\"tuberculosis\",\"urti\",\"asthma\",\"bronchospasm\",\"COPD\",\"difficulty breathing\",\"dyspnea\",\"emphysema\",\"hemoptysis\",\"lung disease\",\"nebulization\",\"nebulizing\",\"pulmonary disease\",\"pulmonary fibrosis\",\"shortness of breath\",\"sneezing\"],\n",
    "        \"terms_to_avoid\": [],\n",
    "        \"check\": [\"ht\", \"gt\"]\n",
    "    },\n",
    "    {\n",
    "        \"flag_name\": \"infection\",\n",
    "        \"terms_to_find\": [\"bronchiolitis\",\"bronchitis\",\"cold\",\"congestion\",\"cough\",\"croup\",\"flu\",\"grippe\",\"influenza\",\"penumonia\",\"pneumonia\",\"pneumonitis\",\"pulmonary infection\",\"respiratory infection\",\"respiratory tract infection\",\"rhinorrhea\",\"running nose\",\"runny nose\",\"tuberculosis\",\"urti\"],\n",
    "        \"terms_to_avoid\": [],\n",
    "        \"check\": [\"ht\", \"gt\"]\n",
    "    },\n",
    "    {\n",
    "        \"flag_name\": \"wound\",\n",
    "        \"terms_to_find\": [\"dressing change\"],\n",
    "        \"terms_to_avoid\": [],\n",
    "        \"check\": [\"ht\", \"gt\"]\n",
    "    },\n",
    "    {\n",
    "        \"flag_name\": \"animal_insect_bite\",\n",
    "        \"terms_to_find\": [\"bite\",\"sting\",\"stinging\"],\n",
    "        \"terms_to_avoid\": [],\n",
    "        \"check\": [\"ht\", \"gt\"]\n",
    "    }\n",
    "]"
   ]
  },
  {
   "cell_type": "code",
   "execution_count": 61,
   "metadata": {
    "collapsed": true
   },
   "outputs": [],
   "source": [
    "# Store the rows we change here\n",
    "# so that we can update the table\n",
    "\n",
    "update_data = []\n",
    "\n",
    "# Iterate through the in-memory representation\n",
    "for rec in data:\n",
    "    # Create a placeholder update record\n",
    "    update_rec = {'id':rec['id']}\n",
    "    \n",
    "    # A flag we'll use to determine whether the record needs to be updated\n",
    "    update_record = False\n",
    "    \n",
    "    # Get the human_translate value from the record\n",
    "    ht = rec['human_translate']\n",
    "    \n",
    "    # If it is not None, then convert it to lowercase\n",
    "    if ht:\n",
    "        ht = ht.lower()\n",
    "    \n",
    "    # Get the google_translate value and convert it to lowercase\n",
    "    # We are not currently using this to generate flags so it is commented out\n",
    "    # but you could substitute it in below or write additional code if you want\n",
    "    # to use it for flag generation\n",
    "    gt = rec['google_translate_feb']\n",
    "    if gt:\n",
    "        gt = gt.lower()\n",
    "    \n",
    "    # Look at google_tokens_joined field\n",
    "    gtj = rec['google_tokens_joined']\n",
    "    if gtj:\n",
    "        gtj = gtj.lower()\n",
    "    \n",
    "    \n",
    "    # Walk through the different flag types from above and check whether the \n",
    "    # human_translate value matches for that flag. If so, create the update record\n",
    "    # for that flag and then mark our update boolean indicator true so that we know\n",
    "    # to update the appropriate record in the database. All records that will be updated\n",
    "    # have their update record put into the update_data list.\n",
    "    for term in flag_terms:\n",
    "        if (ht and term in ht) or (gt and term in gt) or (gtj and term in gtj):\n",
    "            update_rec[\"flag_\" + \"_\".join(term.replace(\"-\",\"_\").split())] = 1\n",
    "            update_record = True\n",
    "\n",
    "    for tup in multiple_flag_terms:\n",
    "        if (ht and all(x in ht for x in tup)) or (gt and all(x in gt for x in tup)) or (gtj and all(x in gtj for x in tup)):\n",
    "            update_rec[\"flag_\" + \"_and_\".join(tup)] = 1\n",
    "            update_record = True\n",
    "\n",
    "    for tup in synonym_flag_terms:\n",
    "        if (ht and any(x in ht for x in tup)) or (gt and any(x in gt for x in tup)) or (gtj and any(x in gtj for x in tup)):\n",
    "            update_rec[\"flag_\" + \"_\".join(tup[0].split())] = 1\n",
    "            update_record = True\n",
    "\n",
    "    for tup in complex_flag_terms:\n",
    "        if (ht and tup[0] in ht and not any(x in ht for x in tup[1:])) or (gt and tup[0] in gt and not any(x in gt for x in tup[1:])) or (gtj and tup[0] in gtj and not any(x in gtj for x in tup[1:])):\n",
    "            update_rec[\"flag_\" + tup[0].replace(\" \",\"_\").replace(\"-\",\"_\")] = 1\n",
    "            update_record = True\n",
    "\n",
    "    # complex_set_flag_terms\n",
    "    for rule in complex_set_flag_terms:\n",
    "        flag_name = \"flag_\" + \"_\".join(rule['flag_name'].split())\n",
    "\n",
    "        # Continue because we already set this flag\n",
    "        if flag_name in update_rec.keys():\n",
    "            if update_rec[flag_name] == 1:\n",
    "                continue\n",
    "\n",
    "        if \"ht\" in rule['check']:\n",
    "            if ht and any(x in ht for x in rule[\"terms_to_find\"]) and not any(x in ht for x in rule[\"terms_to_avoid\"]):\n",
    "                update_rec[flag_name] = 1\n",
    "                update_record = True\n",
    "                # We set the flag so stop searching\n",
    "                continue\n",
    "\n",
    "        if \"gt\" in rule['check']:\n",
    "            if gt and any(x in gt for x in rule[\"terms_to_find\"]) and not any(x in gt for x in rule[\"terms_to_avoid\"]):\n",
    "                update_rec[flag_name] = 1\n",
    "                update_record = True\n",
    "                # We set the flag so stop searching\n",
    "                continue\n",
    "\n",
    "            if gtj and any(x in gtj for x in rule[\"terms_to_find\"]) and not any(x in gtj for x in rule[\"terms_to_avoid\"]):\n",
    "                update_rec[flag_name] = 1\n",
    "                update_record = True\n",
    "                # We set the flag so stop searching\n",
    "                continue\n",
    "            \n",
    "    # Handle war-related separately. This very likely can be improved upon\n",
    "    if ht and 'war-related injury' in ht and 'not war-related injury' not in ht:\n",
    "        update_rec['flag_conflict_related'] = 1\n",
    "        update_record = True\n",
    "    \n",
    "    # If we created any flags, update_record is true so put this record in the list \n",
    "    # of records to update.\n",
    "    if update_record:\n",
    "        # Create comprehensive injury flag per Ranya's request\n",
    "        keys = update_rec.keys()\n",
    "        if ('flag_injury' in keys and update_rec['flag_injury'] == 1) or ('flag_wound' in keys and update_rec['flag_wound'] == 1):\n",
    "            update_rec['flag_comprehensive_injury'] = 1\n",
    "        else:\n",
    "            update_rec['flag_comprehensive_injury'] = 0\n",
    "                \n",
    "        update_data.append(update_rec)"
   ]
  },
  {
   "cell_type": "code",
   "execution_count": 62,
   "metadata": {},
   "outputs": [
    {
     "data": {
      "text/plain": [
       "123791"
      ]
     },
     "execution_count": 62,
     "metadata": {},
     "output_type": "execute_result"
    }
   ],
   "source": [
    "# How many records are we going to update in the arabic_values table?\n",
    "len(update_data)"
   ]
  },
  {
   "cell_type": "code",
   "execution_count": 63,
   "metadata": {},
   "outputs": [
    {
     "data": {
      "text/plain": [
       "[{'flag_comprehensive_injury': 0,\n",
       "  'flag_infection': 1,\n",
       "  'flag_respiratory': 1,\n",
       "  'id': 441576},\n",
       " {'flag_comprehensive_injury': 0,\n",
       "  'flag_infection': 1,\n",
       "  'flag_respiratory': 1,\n",
       "  'id': 441616},\n",
       " {'flag_comprehensive_injury': 0, 'flag_head': 1, 'id': 441624},\n",
       " {'flag_comprehensive_injury': 0, 'flag_derm': 1, 'id': 441649},\n",
       " {'flag_comprehensive_injury': 0, 'flag_derm': 1, 'id': 441651},\n",
       " {'flag_comprehensive_injury': 0,\n",
       "  'flag_nerve': 1,\n",
       "  'flag_neuro_complaint': 1,\n",
       "  'id': 441666},\n",
       " {'flag_comprehensive_injury': 0, 'flag_derm': 1, 'id': 441673},\n",
       " {'flag_comprehensive_injury': 0, 'flag_other_infection': 1, 'id': 441715},\n",
       " {'flag_comprehensive_injury': 0, 'flag_hyperlipidemia': 1, 'id': 441726},\n",
       " {'flag_comprehensive_injury': 1, 'flag_injury': 1, 'id': 441781}]"
      ]
     },
     "execution_count": 63,
     "metadata": {},
     "output_type": "execute_result"
    }
   ],
   "source": [
    "# What do the update records look like? \n",
    "update_data[-10:]"
   ]
  },
  {
   "cell_type": "code",
   "execution_count": 64,
   "metadata": {},
   "outputs": [
    {
     "data": {
      "text/plain": [
       "1"
      ]
     },
     "execution_count": 64,
     "metadata": {},
     "output_type": "execute_result"
    }
   ],
   "source": [
    "# Update the arabic_values table with the update_records' data\n",
    "# 1. Create the columns we need\n",
    "# 2. Bulk update for each column\n",
    "\n",
    "flag_cols = set()\n",
    "for rec in update_data:\n",
    "    for k in rec.keys():\n",
    "        if k != 'id':\n",
    "            flag_cols.add(k)\n",
    "flag_cols = sorted(list(flag_cols))\n",
    "\n",
    "# The trick here is to get the id from a record in arabic values and update that\n",
    "# record with a None value for each of these flags - that will cause dataset to generate the columns\n",
    "ref_rec = tab_arabic_values.find_one()\n",
    "ref_rec_update = {'id':ref_rec['id']}\n",
    "for col in flag_cols:\n",
    "    ref_rec_update[col] = None\n",
    "tab_arabic_values.update(ref_rec_update, ['id'])\n",
    "\n",
    "# At this point maybe open DB Browser for SQLite to make sure the columns were created.\n",
    "# The 1 that prints below is the number of records updated."
   ]
  },
  {
   "cell_type": "code",
   "execution_count": 65,
   "metadata": {
    "collapsed": true
   },
   "outputs": [],
   "source": [
    "# Now iterate through the flag cols and create a list of each record that needs to set the value for each\n",
    "# flag column and then bulk update. It is orders of magnitude faster to do it this way than one by one.\n",
    "\n",
    "# Note - this is generating and executing some super gnarly long SQL queries with tons of ID numbers\n",
    "\n",
    "for col in flag_cols:\n",
    "    recs_to_update = []\n",
    "    for rec in update_data:\n",
    "        if col in rec.keys():\n",
    "            recs_to_update.append(rec['id'])\n",
    "    recs_to_update = sorted(recs_to_update)\n",
    "\n",
    "    db.query(\"\"\"\n",
    "    UPDATE arabic_values\n",
    "    SET \"\"\" + col + \"\"\" = 1 \n",
    "    WHERE id IN (\"\"\" + \",\".join([str(a) for a in recs_to_update]) +\"\"\");\n",
    "    \"\"\")\n",
    "    \n",
    "# After this runs, check in the database against to make sure the flags were properly applied."
   ]
  },
  {
   "cell_type": "code",
   "execution_count": 66,
   "metadata": {
    "collapsed": true
   },
   "outputs": [],
   "source": [
    "# Get a new db connection again in case the schema has changed.\n",
    "# This probably isn't necessary but is a safety measure.\n",
    "\n",
    "try:\n",
    "    del db\n",
    "    del tab_arabic_values\n",
    "except:\n",
    "    pass\n",
    "\n",
    "db = dataset.connect(\"sqlite:///\" + new_db_name)\n",
    "tab_arabic_values = db['arabic_values']"
   ]
  },
  {
   "cell_type": "code",
   "execution_count": 67,
   "metadata": {
    "collapsed": true
   },
   "outputs": [],
   "source": [
    "# Get a reference to the raw Arabic data table\n",
    "tab_raw_ar = db['full_raw_scrubbed']"
   ]
  },
  {
   "cell_type": "code",
   "execution_count": 68,
   "metadata": {},
   "outputs": [
    {
     "name": "stdout",
     "output_type": "stream",
     "text": [
      "id,a_file_id,a_files_sheets_id,a_sheet_id,acceptance_pattern,analysis,analysis_request,analysis_type,anesthesia_type,assign_method,case,category,center,clinic,clinical_case,col_1,col_2,col_3,col_4,col_5,col_6,col_misc,col_moawak,col_none,col_null,col_to,conflict_related,consultations,daily_number,data_validation,date,date_first_exam,death,death_cause,death_certificate,death_date,death_location,death_time,department,diagnosis,diagnosis_confirmed,discharge,discharge_date,discharge_status,discharged_to,disclaimers,disease,displaced,displacement_duration,dose,drug_class,er,events,exam_type,examination_1,examination_2,examination_3,examination_4,examination_type,facility_type,housing,housing_persons_number,image,image_request,image_type,import_status,info_age,info_card_number,info_card_type,info_care_type,info_geo_address,info_geo_area,info_geo_community,info_geo_country_of_origin,info_geo_district,info_geo_governorate,info_geo_injury_city,info_geo_injury_site,info_geo_injury_state,info_geo_jurisdiction,info_geo_living,info_geo_location,info_geo_region,info_geo_sub_district,info_name,info_name_author,info_name_caregiver,info_name_facility,info_name_group,info_name_of_coach,info_name_processor,info_name_surgeon,info_origin,info_phone_skype,info_residence,info_residence_of_relative,info_residence_original,info_sex,injury_type,link_type,medication,medication_discharge,medicine,month,months,muslim,new_listings,new_or_followup,notes,num_family_members,num_sessions,number,number_of_sessions,other,outcome,pathology,patient_number,patient_status,patient_type,period,post_op_results,procedure,radiation_type,rating,ratio,referral,referral_notes,referral_reason,referred_to,related_events,residence_status,sequence,session_number,sessions_patient_week,son_daughter,special_case,status,surgery_length,surgery_type,symptoms,time,total,transferred_from,treatment,treatment_code,type,units_of_blood,visit_reason,visit_review,visit_status,year,yes_no,flag_abdomen,flag_back,flag_blast,flag_blunt,flag_burn,flag_chest,flag_complication,flag_conflict_related,flag_explosive,flag_extremity,flag_facial,flag_follow_up,flag_fracture,flag_gunshot,flag_head,flag_history_of,flag_injury,flag_lower_extremity,flag_neck,flag_nerve,flag_neurologic,flag_orthopedic,flag_pelvic,flag_shrapnel,flag_spinal,flag_spine,flag_stab,flag_suspected,flag_traffic,flag_trauma,flag_upper_extremity,flag_urologic,flag_vascular,flag_wound,added,profile,malaria,disposition,injury_site,date_admission,info_doctor,diagnosis_english,facility_code,drugs,injury_new_or_old,idp_host,nationality,facility,icd10_code,age_type,sams_diag_code,diagnosis_arabic,disability,num,injury_cause\n"
     ]
    }
   ],
   "source": [
    "# Get the list of variables used in full_raw_scrubbed and full_raw_english\n",
    "rec_raw = tab_raw_ar.find_one()\n",
    "variables = list(rec_raw.keys())\n",
    "print(\",\".join(variables))\n",
    "\n",
    "# Due to previous work, there are flag columns in the full_raw_scrubbed table, but we will ignore them\n",
    "# because they aren't used in this flag-generation methodology. "
   ]
  },
  {
   "cell_type": "code",
   "execution_count": 69,
   "metadata": {
    "collapsed": true
   },
   "outputs": [],
   "source": [
    "# Create the in-memory arabic_values lookup\n",
    "# This time, since we created the flags, they'll be in the records\n",
    "\n",
    "arabic_lookup = {}\n",
    "arabic_values = [x for x in tab_arabic_values.find()]\n",
    "\n",
    "for v in arabic_values:\n",
    "    arabic_lookup[v['arabic']] = v"
   ]
  },
  {
   "cell_type": "code",
   "execution_count": 70,
   "metadata": {},
   "outputs": [
    {
     "name": "stdout",
     "output_type": "stream",
     "text": [
      "التهاب مجاري تنفسية سفلى, التهاب قصبات\n",
      "---------------------- Lookup result below\n",
      "OrderedDict([('id', 3863), ('arabic', 'التهاب مجاري تنفسية سفلى, التهاب قصبات'), ('google_translate', 'Inflammation of lower respiratory tracts, bronchitis'), ('human_translate', 'bronchiolitis, bronchitis'), ('normalized', None), ('appears_in', \"['diagnosis']\"), ('google_translate_feb', 'Inflammation of lower respiratory tracts, bronchitis'), ('google_tokens_joined', 'lower respiratory tract infection, bronchitis'), ('orig_value', None), ('added', None), ('flag_ENT', None), ('flag_abdomen', None), ('flag_abdominal_pain', None), ('flag_allergy', None), ('flag_anemia', None), ('flag_animal_insect_bite', None), ('flag_back', None), ('flag_blast', None), ('flag_bleed', None), ('flag_blunt', None), ('flag_burn', None), ('flag_cancer', None), ('flag_cardiovascular', None), ('flag_chest', None), ('flag_complication', None), ('flag_comprehensive_injury', '1'), ('flag_conflict_related', None), ('flag_congenital', None), ('flag_constipation', None), ('flag_dehydration', None), ('flag_dental_complaint', None), ('flag_derm', None), ('flag_diabetes', None), ('flag_diarrhea_dysentery', None), ('flag_endocrine', None), ('flag_explosive', None), ('flag_eye', None), ('flag_facial', None), ('flag_fatigue', None), ('flag_fever', None), ('flag_follow_up', None), ('flag_fracture', None), ('flag_gi_complaint', None), ('flag_growth_delay', None), ('flag_gu', None), ('flag_gunshot', None), ('flag_gyn_women', None), ('flag_head', None), ('flag_headache', None), ('flag_history_of', None), ('flag_hyperlipidemia', None), ('flag_infection', '1'), ('flag_injury', None), ('flag_injury_neuro', None), ('flag_liver_dysfunction', None), ('flag_lower_extremity', None), ('flag_malnutrition', None), ('flag_mental_health', None), ('flag_musculoskeletal_pain', None), ('flag_nausea_vomiting', None), ('flag_neck', None), ('flag_nerve', None), ('flag_neuro_complaint', None), ('flag_neurologic', None), ('flag_orthopedic', None), ('flag_other_infection', None), ('flag_pain', None), ('flag_pelvic', None), ('flag_pregnancy', None), ('flag_renal', None), ('flag_respiratory', '1'), ('flag_shrapnel', None), ('flag_spinal', None), ('flag_spine', None), ('flag_stab', None), ('flag_stroke', None), ('flag_suspected', None), ('flag_traffic_accident', None), ('flag_trauma', None), ('flag_upper_extremity', None), ('flag_urologic', None), ('flag_vascular', None), ('flag_wound', None)])\n"
     ]
    }
   ],
   "source": [
    "# Let's test that a value we pull out of the database has a hit in the lookup table.\n",
    "test_rec = tab_raw_ar.find_one()\n",
    "diagnosis = test_rec['diagnosis']\n",
    "print(diagnosis)\n",
    "print(\"---------------------- Lookup result below\")\n",
    "print(arabic_lookup[diagnosis])"
   ]
  },
  {
   "cell_type": "code",
   "execution_count": 71,
   "metadata": {},
   "outputs": [
    {
     "name": "stdout",
     "output_type": "stream",
     "text": [
      "1\n"
     ]
    }
   ],
   "source": [
    "# The insert_many method inserts in chunks of 1000, but this specifies that we don't want\n",
    "# to start the process until we have this many records to insert.\n",
    "buffer_size = 50000\n",
    "\n",
    "flags_to_insert = []\n",
    "\n",
    "try:\n",
    "    db['full_raw_flags'].drop()\n",
    "except:\n",
    "    pass\n",
    "\n",
    "tab_raw_flags = db['full_raw_flags']\n",
    "\n",
    "# Insert a dummy record to create the table\n",
    "dummy_record = {\n",
    "    'file_id':None,\n",
    "    'files_sheets_id':None,\n",
    "    'sheet_id':None\n",
    "}\n",
    "\n",
    "for flag in flag_cols:\n",
    "    dummy_record[flag] = None\n",
    "    \n",
    "tab_raw_flags.insert(dummy_record)\n",
    "print(tab_raw_flags.count())\n",
    "tab_raw_flags.delete()\n",
    "\n",
    "\n",
    "# Iterate through the raw records one by one\n",
    "for rec in tab_raw_ar.find():\n",
    "    \n",
    "    # Include foreign keys that allow us to query against the flag table instead of \n",
    "    # joining with the raw data table, which is slow.\n",
    "    flag_record = {\n",
    "        'id':rec['id'],\n",
    "        'file_id':rec['a_file_id'],\n",
    "        'files_sheets_id':rec['a_files_sheets_id'],\n",
    "        'sheet_id':rec['a_sheet_id']\n",
    "    }\n",
    "    \n",
    "    # Initialize each flag_record\n",
    "    for flag in flag_cols:\n",
    "        flag_record[flag] = None\n",
    "        \n",
    "    # Scan the conflict related column for values, but do this before looking at the\n",
    "    # corresponding Arabic values so that we don't overwrite the Arabic value setting.\n",
    "    if rec['conflict_related'] is not None:\n",
    "        if rec['conflict_related'].strip() == 'كبرى' or rec['conflict_related'].strip() =='كبرى':\n",
    "            flag_record['flag_conflict_related'] = 1\n",
    "        elif rec['conflict_related'].strip() == 'لا':\n",
    "            flag_record['flag_conflict_related'] = 0\n",
    "        else:\n",
    "            flag_record['flag_conflict_related'] = None\n",
    "    else:\n",
    "        flag_record['flag_conflict_related'] = None\n",
    "        \n",
    "    # Loop through the variables for each raw data record\n",
    "    for v in variables:\n",
    "        # These are obfuscated PII cols, or the flag columns we're ignoring, so skip them\n",
    "        if 'info_' in v or 'flag_' in v or v == 'id':\n",
    "            continue\n",
    "        \n",
    "        # Get the value in the column\n",
    "        to_lookup = rec[v]\n",
    "        \n",
    "        if to_lookup is None or to_lookup == '.':\n",
    "            continue\n",
    "        else:\n",
    "            \n",
    "            # We have a legit value, so look it up and grab the flags\n",
    "            try:\n",
    "                # There might be a keyerror on the info_ columns' hashed values, etc.\n",
    "                # I also manually removed some PII from arabic_values, so that might\n",
    "                # cause an occassional mismatch.\n",
    "                arabic_values_rec = arabic_lookup[to_lookup]\n",
    "                for flag in flag_cols:\n",
    "                    # Should be None if not flagged, so just check for existence\n",
    "                    if arabic_values_rec[flag]:\n",
    "                        flag_record[flag] = arabic_values_rec[flag]\n",
    "            except:\n",
    "                pass\n",
    "    \n",
    "    # Store the record\n",
    "    flags_to_insert.append(flag_record)\n",
    "\n",
    "    # Check if we need to insert\n",
    "    if len(flags_to_insert) > buffer_size:\n",
    "        tab_raw_flags.insert_many(flags_to_insert)\n",
    "        \n",
    "        # Clear the buffer\n",
    "        flags_to_insert.clear()\n",
    "        \n",
    "# We've been through all raw records so make sure the buffer is clear\n",
    "tab_raw_flags.insert_many(flags_to_insert)\n",
    "flags_to_insert.clear()"
   ]
  },
  {
   "cell_type": "markdown",
   "metadata": {},
   "source": [
    "The `flag_comprehensive_injury` logic seems possibly incorrect, so run a SQL command to set it as Ranya suggested it be set."
   ]
  },
  {
   "cell_type": "code",
   "execution_count": 76,
   "metadata": {
    "collapsed": true
   },
   "outputs": [],
   "source": [
    "# First set all records to NULL\n",
    "res = db.query(\"\"\"\n",
    "    UPDATE full_raw_flags SET flag_comprehensive_injury = NULL;\n",
    "\"\"\")"
   ]
  },
  {
   "cell_type": "code",
   "execution_count": 77,
   "metadata": {
    "collapsed": true
   },
   "outputs": [],
   "source": [
    "# Set it equal to 1 if flag_injury == 1 or flag_wound == 1\n",
    "res = db.query(\"\"\"\n",
    "    UPDATE full_raw_flags SET flag_comprehensive_injury = 1 WHERE flag_injury = 1 OR flag_wound = 1;\n",
    "\"\"\")"
   ]
  },
  {
   "cell_type": "markdown",
   "metadata": {},
   "source": [
    "## Export Data"
   ]
  },
  {
   "cell_type": "code",
   "execution_count": 82,
   "metadata": {
    "collapsed": true
   },
   "outputs": [],
   "source": [
    "res = db.query(\"\"\"\n",
    "    UPDATE files SET problem_opening = 0 WHERE problem_opening IS NULL;\n",
    "\"\"\")\n",
    "res = db.query(\"\"\"\n",
    "    UPDATE files SET skipped = 0 WHERE skipped IS NULL;\n",
    "\"\"\")\n",
    "res = db.query(\"\"\"\n",
    "    UPDATE files SET ignore = 0 WHERE ignore IS NULL;\n",
    "\"\"\")\n",
    "\n",
    "res = db.query(\"\"\"\n",
    "    UPDATE files SET processed = 1 WHERE processed IS NULL AND added = '2018-04-08';\n",
    "\"\"\")"
   ]
  },
  {
   "cell_type": "code",
   "execution_count": 83,
   "metadata": {
    "collapsed": true
   },
   "outputs": [],
   "source": [
    "# You can change this query to export a different set of data\n",
    "result = db.query(\"\"\"\n",
    "SELECT  files.id as files_id,\n",
    "        files.year,\n",
    "        files.month,\n",
    "        files.year || '-' || files.month || '-01' AS full_date,\n",
    "        facilities.id AS facility_id,\n",
    "        facilities.facility_parent_id,\n",
    "        facilities.facilityname,\n",
    "        facilities.country,\n",
    "        facilities.governorate,\n",
    "        facilities.district,\n",
    "        facilities.subdistrict,\n",
    "        facilities.facility_type,\n",
    "        full_raw_flags.flag_abdomen,\n",
    "        full_raw_flags.flag_abdominal_pain,\n",
    "        full_raw_flags.flag_allergy,\n",
    "        full_raw_flags.flag_anemia,\n",
    "        full_raw_flags.flag_animal_insect_bite,\n",
    "        full_raw_flags.flag_back,\n",
    "        full_raw_flags.flag_blast,\n",
    "        full_raw_flags.flag_bleed,\n",
    "        full_raw_flags.flag_blunt,\n",
    "        full_raw_flags.flag_burn,\n",
    "        full_raw_flags.flag_cancer,\n",
    "        full_raw_flags.flag_cardiovascular,\n",
    "        full_raw_flags.flag_chest,\n",
    "        full_raw_flags.flag_complication,\n",
    "        full_raw_flags.flag_conflict_related,\n",
    "        full_raw_flags.flag_congenital,\n",
    "        full_raw_flags.flag_constipation,\n",
    "        full_raw_flags.flag_dehydration,\n",
    "        full_raw_flags.flag_dental_complaint,\n",
    "        full_raw_flags.flag_derm,\n",
    "        full_raw_flags.flag_diabetes,\n",
    "        full_raw_flags.flag_diarrhea_dysentery,\n",
    "        full_raw_flags.flag_endocrine,\n",
    "        full_raw_flags.flag_ENT,\n",
    "        full_raw_flags.flag_explosive,\n",
    "        full_raw_flags.flag_eye,\n",
    "        full_raw_flags.flag_facial,\n",
    "        full_raw_flags.flag_fatigue,\n",
    "        full_raw_flags.flag_fever,\n",
    "        full_raw_flags.flag_follow_up,\n",
    "        full_raw_flags.flag_fracture,\n",
    "        full_raw_flags.flag_gi_complaint,\n",
    "        full_raw_flags.flag_growth_delay,\n",
    "        full_raw_flags.flag_gu,\n",
    "        full_raw_flags.flag_gunshot,\n",
    "        full_raw_flags.flag_gyn_women,\n",
    "        full_raw_flags.flag_head,\n",
    "        full_raw_flags.flag_headache,\n",
    "        full_raw_flags.flag_history_of,\n",
    "        full_raw_flags.flag_hyperlipidemia,\n",
    "        full_raw_flags.flag_infection,\n",
    "        full_raw_flags.flag_injury,\n",
    "        full_raw_flags.flag_injury_neuro,\n",
    "        full_raw_flags.flag_liver_dysfunction,\n",
    "        full_raw_flags.flag_lower_extremity,\n",
    "        full_raw_flags.flag_malnutrition,\n",
    "        full_raw_flags.flag_mental_health,\n",
    "        full_raw_flags.flag_musculoskeletal_pain,\n",
    "        full_raw_flags.flag_nausea_vomiting,\n",
    "        full_raw_flags.flag_neck,\n",
    "        full_raw_flags.flag_nerve,\n",
    "        full_raw_flags.flag_neuro_complaint,\n",
    "        full_raw_flags.flag_neurologic,\n",
    "        full_raw_flags.flag_orthopedic,\n",
    "        full_raw_flags.flag_other_infection,\n",
    "        full_raw_flags.flag_pain,\n",
    "        full_raw_flags.flag_pelvic,\n",
    "        full_raw_flags.flag_pregnancy,\n",
    "        full_raw_flags.flag_renal,\n",
    "        full_raw_flags.flag_respiratory,\n",
    "        full_raw_flags.flag_shrapnel,\n",
    "        full_raw_flags.flag_spinal,\n",
    "        full_raw_flags.flag_spine,\n",
    "        full_raw_flags.flag_stab,\n",
    "        full_raw_flags.flag_stroke,\n",
    "        full_raw_flags.flag_suspected,\n",
    "        full_raw_flags.flag_traffic_accident,\n",
    "        full_raw_flags.flag_trauma,\n",
    "        full_raw_flags.flag_upper_extremity,\n",
    "        full_raw_flags.flag_urologic,\n",
    "        full_raw_flags.flag_vascular,\n",
    "        full_raw_flags.flag_wound,\n",
    "        full_raw_flags.flag_comprehensive_injury\n",
    "\n",
    "FROM full_raw_flags\n",
    "JOIN files on files.id = full_raw_flags.file_id\n",
    "JOIN facilities on files.facility_id = facilities.id\n",
    "\n",
    "WHERE files.facility_id IS NOT NULL \n",
    "AND files.month IS NOT NULL\n",
    "AND files.skipped = 0\n",
    "AND files.ignore = 0;\n",
    "\"\"\")\n",
    "\n",
    "# This used to be a part of dataset but was extracted to its own library\n",
    "# https://github.com/pudo/datafreeze\n",
    "freeze(result, format='csv', filename='full_raw_flags.csv')"
   ]
  },
  {
   "cell_type": "markdown",
   "metadata": {},
   "source": [
    "### Save DB"
   ]
  },
  {
   "cell_type": "code",
   "execution_count": 84,
   "metadata": {},
   "outputs": [
    {
     "data": {
      "text/plain": [
       "'sams_data_phase24_output_2018-04-08.sqlite'"
      ]
     },
     "execution_count": 84,
     "metadata": {},
     "output_type": "execute_result"
    }
   ],
   "source": [
    "# This is optional and will generate a copy of the database that will be gigabytes in size.\n",
    "shutil.copy2(new_db_name,'sams_data_phase24_output_2018-04-08.sqlite')"
   ]
  },
  {
   "cell_type": "code",
   "execution_count": null,
   "metadata": {
    "collapsed": true
   },
   "outputs": [],
   "source": []
  }
 ],
 "metadata": {
  "kernelspec": {
   "display_name": "Python 3",
   "language": "python",
   "name": "python3"
  },
  "language_info": {
   "codemirror_mode": {
    "name": "ipython",
    "version": 3
   },
   "file_extension": ".py",
   "mimetype": "text/x-python",
   "name": "python",
   "nbconvert_exporter": "python",
   "pygments_lexer": "ipython3",
   "version": "3.6.1"
  }
 },
 "nbformat": 4,
 "nbformat_minor": 2
}
