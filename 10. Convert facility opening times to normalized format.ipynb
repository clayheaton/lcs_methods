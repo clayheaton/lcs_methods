{
 "cells": [
  {
   "cell_type": "code",
   "execution_count": 1,
   "metadata": {
    "collapsed": true
   },
   "outputs": [],
   "source": [
    "# Manipulate the file system\n",
    "import os\n",
    "import shutil\n",
    "\n",
    "# Copy dictionaries\n",
    "import copy\n",
    "\n",
    "# Regular expressions\n",
    "import re\n",
    "\n",
    "# Display errors in realtime\n",
    "import ipywidgets as widgets\n",
    "\n",
    "# work with dates\n",
    "import datetime\n",
    "import arrow\n",
    "import time\n",
    "\n",
    "# For scrubbing PII\n",
    "import hashlib\n",
    "\n",
    "# Convert stored string representation of a list to a list\n",
    "import ast\n",
    "\n",
    "# Recurse through a directory tree and return file names with glob\n",
    "import glob\n",
    "\n",
    "# Decode and re-encode mangled Arabic file names\n",
    "import codecs\n",
    "\n",
    "# Connect to a SQLite database in a lazy manner.\n",
    "import sqlalchemy\n",
    "import dataset\n",
    "\n",
    "# Enables opening and reading of Excel files\n",
    "import openpyxl\n",
    "\n",
    "# Import Pandas for easy importing of an excel file\n",
    "import csv\n",
    "\n",
    "# Translating variables, sheet names, and workbook names from Arabic\n",
    "# This is NOT free to use.\n",
    "from google.cloud import translate\n",
    "\n",
    "# Set the environment variable for the Google Service Account\n",
    "os.environ['GOOGLE_APPLICATION_CREDENTIALS'] = 'C:\\\\Users\\\\clay\\\\Documents\\\\fxb-lcs-2b24f4f8a73a.json'"
   ]
  },
  {
   "cell_type": "code",
   "execution_count": 2,
   "metadata": {},
   "outputs": [
    {
     "name": "stdout",
     "output_type": "stream",
     "text": [
      "Created database from template: sams_data_phase10.sqlite\n"
     ]
    }
   ],
   "source": [
    "#If there's an existing db for this sheet, delete it\n",
    "#so that we can copy from the template for a fresh start\n",
    "\n",
    "try:\n",
    "    os.remove(\"sams_data_phase10.sqlite\")\n",
    "    print(\"Removed template clone sams_data_phase10.sqlite\")\n",
    "except:\n",
    "    pass\n",
    "\n",
    "try:\n",
    "    # Try to preserve a copy in case there is a problem and it has to be restored\n",
    "    shutil.copy2(\"sams_data_phase10_template.sqlite\",\"sams_data_phase10.sqlite\")\n",
    "    \n",
    "    print(\"Created database from template: sams_data_phase10.sqlite\")\n",
    "except:\n",
    "    pass"
   ]
  },
  {
   "cell_type": "code",
   "execution_count": 3,
   "metadata": {
    "collapsed": true
   },
   "outputs": [],
   "source": [
    "db = dataset.connect(\"sqlite:///sams_data_phase10.sqlite\")"
   ]
  },
  {
   "cell_type": "markdown",
   "metadata": {},
   "source": [
    "Some of the UOSSM facilities are colocated with the SAMS facilities. For the purposes of normalizing the format of opening months for the data at hand, we will ignore those relationships. Later, we will query the timeline table in a manner that takes those relationships into account.\n",
    "\n",
    "There are three possible opening and closing date sets in the table. The relevant fields are:\n",
    "\n",
    "```\n",
    "dateopened --> dateclosed\n",
    "reopened1  --> closed1\n",
    "reopened2  --> closed2\n",
    "```\n",
    "\n",
    "Most of the facilities have a value only in the `dateopened` field. Facilities that have not closed will have the value `ongoing` in the relevant closed field and have a value of 1 in the `openstatus` field. \n",
    "\n",
    "Use the `openstatus` value to determine which group to process. Facilities are marked as being open or closed for the month in question."
   ]
  },
  {
   "cell_type": "code",
   "execution_count": 4,
   "metadata": {
    "collapsed": true
   },
   "outputs": [],
   "source": [
    "tab_timeline = db['facility_timeline']"
   ]
  },
  {
   "cell_type": "markdown",
   "metadata": {},
   "source": [
    "Given the date the data was provided, \"ongoing\" means \"ongoing as of June 2017.\""
   ]
  },
  {
   "cell_type": "code",
   "execution_count": 6,
   "metadata": {},
   "outputs": [
    {
     "name": "stdout",
     "output_type": "stream",
     "text": [
      "6 2017\n"
     ]
    }
   ],
   "source": [
    "ongoing_date = arrow.get('2017-06-30','YYYY-MM-DD')\n",
    "\n",
    "ongoing_date_month = int(ongoing_date.format(\"MM\"))\n",
    "ongoing_date_year  = int(ongoing_date.format(\"YYYY\"))\n",
    "\n",
    "print(ongoing_date_month,ongoing_date_year)"
   ]
  },
  {
   "cell_type": "code",
   "execution_count": 22,
   "metadata": {
    "collapsed": true
   },
   "outputs": [],
   "source": [
    "def records_for_range(open_date,close_date,facility_id):\n",
    "    \"\"\"\n",
    "    Given two dates that form a range, return records\n",
    "    for insertion in the database that span the date\n",
    "    range.\n",
    "    \"\"\"\n",
    "    records = []\n",
    "    active_date = arrow.get(open_date.ceil('month').date())\n",
    "    close_date = arrow.get(close_date.ceil('month').date())\n",
    "    \n",
    "    while active_date <= close_date:\n",
    "        active_year = int(active_date.format(\"YYYY\"))\n",
    "        active_month = int(active_date.format(\"MM\"))\n",
    "        rec = {\"facility_id\":facility_id, \"year\":active_year,\"month\":active_month}\n",
    "        records.append(rec)\n",
    "        active_date = active_date.shift(months=+1)\n",
    "        \n",
    "    return records"
   ]
  },
  {
   "cell_type": "code",
   "execution_count": 27,
   "metadata": {
    "collapsed": true
   },
   "outputs": [],
   "source": [
    "def extract_timeline_from_facility(facility_record):\n",
    "    open1 = facility_record['dateopened']\n",
    "    close1 = facility_record['dateclosed']\n",
    "    open2 = facility_record['reopened1']\n",
    "    close2 = facility_record['closed1']\n",
    "    open3 = facility_record['reopened2']\n",
    "    close3 = facility_record['closed2']\n",
    "    \n",
    "    openstatus = facility_record['openstatus']\n",
    "    \n",
    "    facility_id = facility_record['id']\n",
    "    \n",
    "    # There are no dates and the facility is closed\n",
    "    if not open1 and openstatus == \"0\":\n",
    "        return []\n",
    "    \n",
    "    facility_records = []\n",
    "    \n",
    "    if open1:\n",
    "        # Case: facility has an open1 date\n",
    "        open1 = arrow.get(open1,\"YYYY-MM-DD\")\n",
    "        \n",
    "        # Find the close date\n",
    "        if close1 == \"ongoing\" or close1 is None:\n",
    "            # Case: facility is still open\n",
    "            facility_records = records_for_range(open1,ongoing_date,facility_id)\n",
    "        else:\n",
    "            close1 = arrow.get(close1,\"YYYY-MM-DD\")\n",
    "            facility_records = records_for_range(open1,close1,facility_id)\n",
    "            \n",
    "    else:\n",
    "        if openstatus == \"1\":\n",
    "            # Case: facility has no dates but openstatus is 1\n",
    "            \n",
    "            rec = {\"facility_id\":facility_id,\"year\":ongoing_date_year,\"month\":ongoing_date_month}\n",
    "            facility_records.append(rec)\n",
    "            return facility_records\n",
    "        else:\n",
    "            # Case: facility has no dates but and openstatus is 0\n",
    "            return []\n",
    "        \n",
    "    # TODO: Check that open2 is not ongoing\n",
    "    if open2:\n",
    "        open2 = arrow.get(open2,\"YYYY-MM-DD\")\n",
    "        \n",
    "        if close2 == \"ongoing\" or close2 is None:\n",
    "            facility_records += records_for_range(open2,ongoing_date,facility_id)\n",
    "        else:\n",
    "            close2 = arrow.get(close2,\"YYYY-MM-DD\")\n",
    "            facility_records += records_for_range(open2,close2,facility_id)\n",
    "            \n",
    "    if open3:\n",
    "        open3 = arrow.get(open3,\"YYYY-MM-DD\")\n",
    "        \n",
    "        if close3 == \"ongoing\" or close3 is None:\n",
    "            facility_records += records_for_range(open3,ongoing_date,facility_id)\n",
    "        else:\n",
    "            close3 = arrow.get(close3,\"YYYY-MM-DD\")\n",
    "            facility_records += records_for_range(open3,close3,facility_id)\n",
    "            \n",
    "    return facility_records"
   ]
  },
  {
   "cell_type": "code",
   "execution_count": 33,
   "metadata": {
    "collapsed": true
   },
   "outputs": [],
   "source": [
    "tab_facilities = db['facilities']"
   ]
  },
  {
   "cell_type": "code",
   "execution_count": 39,
   "metadata": {
    "collapsed": true
   },
   "outputs": [],
   "source": [
    "facilities = [x for x in tab_facilities.find()]"
   ]
  },
  {
   "cell_type": "markdown",
   "metadata": {},
   "source": [
    "Facility ID 265 had a close date but not an open date. Set to the same month for now. I did some manual work in the database to convert incorrectly formatted dates to the `YYYY-MM-DD` format for parsing."
   ]
  },
  {
   "cell_type": "code",
   "execution_count": 41,
   "metadata": {
    "collapsed": true
   },
   "outputs": [],
   "source": [
    "# Get all the records that need to be put into the timeline table. \n",
    "all_facility_recs = []\n",
    "for f in facilities:\n",
    "    all_facility_recs += extract_timeline_from_facility(f)"
   ]
  },
  {
   "cell_type": "code",
   "execution_count": 43,
   "metadata": {
    "collapsed": true
   },
   "outputs": [],
   "source": [
    "tab_timeline.insert_many(all_facility_recs)"
   ]
  },
  {
   "cell_type": "code",
   "execution_count": 44,
   "metadata": {},
   "outputs": [
    {
     "data": {
      "text/plain": [
       "'sams_data_phase11_template.sqlite'"
      ]
     },
     "execution_count": 44,
     "metadata": {},
     "output_type": "execute_result"
    }
   ],
   "source": [
    "# Copy the database over as the template for the next file.\n",
    "# This Notebook did not include manual editing of the data.\n",
    "\n",
    "# Do not rerun this cell!\n",
    "shutil.copy2('sams_data_phase10.sqlite','sams_data_phase11_template.sqlite')"
   ]
  },
  {
   "cell_type": "code",
   "execution_count": null,
   "metadata": {
    "collapsed": true
   },
   "outputs": [],
   "source": []
  }
 ],
 "metadata": {
  "kernelspec": {
   "display_name": "Python 3",
   "language": "python",
   "name": "python3"
  },
  "language_info": {
   "codemirror_mode": {
    "name": "ipython",
    "version": 3
   },
   "file_extension": ".py",
   "mimetype": "text/x-python",
   "name": "python",
   "nbconvert_exporter": "python",
   "pygments_lexer": "ipython3",
   "version": "3.6.1"
  }
 },
 "nbformat": 4,
 "nbformat_minor": 2
}
