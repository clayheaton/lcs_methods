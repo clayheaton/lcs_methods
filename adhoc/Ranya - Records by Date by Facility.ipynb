{
 "cells": [
  {
   "cell_type": "code",
   "execution_count": 1,
   "metadata": {
    "collapsed": true
   },
   "outputs": [],
   "source": [
    "import csv\n",
    "\n",
    "# pip install dataset if you dont have it\n",
    "# http://dataset.readthedocs.io/en/latest/\n",
    "\n",
    "import dataset\n",
    "\n",
    "# Create a connection to the database\n",
    "\n",
    "db = dataset.connect('sqlite:///sams_data_phase17.sqlite')"
   ]
  },
  {
   "cell_type": "code",
   "execution_count": 2,
   "metadata": {
    "collapsed": true
   },
   "outputs": [],
   "source": [
    "# Get the records from the database so we can make them pretty for Excel\n",
    "\n",
    "statement = \"\"\"\n",
    "        SELECT f.facilityname, \n",
    "               f.facility_code, \n",
    "               files.year || '-' || SUBSTR('0' || CAST(files.month AS VARCHAR(2)), -2, 2) AS date_str,\n",
    "               COUNT(raw.id) as num_records\n",
    "        FROM files \n",
    "        JOIN facilities f \n",
    "        ON files.facility_id = f.id\n",
    "        JOIN full_raw_scrubbed raw\n",
    "        ON files.id = raw.a_file_id\n",
    "        WHERE date_str IS NOT NULL\n",
    "          AND skipped = 0\n",
    "          AND ignore = 0\n",
    "          AND problem_opening = 0\n",
    "        GROUP BY facilityname, facility_code, date_str\n",
    "        ORDER BY facility_code ASC, date_str ASC;\n",
    "\"\"\""
   ]
  },
  {
   "cell_type": "code",
   "execution_count": 3,
   "metadata": {
    "collapsed": true
   },
   "outputs": [],
   "source": [
    "# Execute the query and store the rows in data\n",
    "\n",
    "data = []\n",
    "\n",
    "for row in db.query(statement):\n",
    "    data.append(row)"
   ]
  },
  {
   "cell_type": "code",
   "execution_count": 5,
   "metadata": {},
   "outputs": [
    {
     "data": {
      "text/plain": [
       "[OrderedDict([('facilityname', 'GHOUTA HOSPITAL'),\n",
       "              ('facility_code', 'DAS001'),\n",
       "              ('date_str', '2014-09'),\n",
       "              ('num_records', 268)]),\n",
       " OrderedDict([('facilityname', 'GHOUTA HOSPITAL'),\n",
       "              ('facility_code', 'DAS001'),\n",
       "              ('date_str', '2014-10'),\n",
       "              ('num_records', 264)])]"
      ]
     },
     "execution_count": 5,
     "metadata": {},
     "output_type": "execute_result"
    }
   ],
   "source": [
    "# Take a look at the data returned from the query\n",
    "\n",
    "data[:2]"
   ]
  },
  {
   "cell_type": "code",
   "execution_count": 6,
   "metadata": {},
   "outputs": [
    {
     "data": {
      "text/plain": [
       "['2014-07',\n",
       " '2014-08',\n",
       " '2014-09',\n",
       " '2014-10',\n",
       " '2014-11',\n",
       " '2014-12',\n",
       " '2015-01',\n",
       " '2015-02',\n",
       " '2015-03',\n",
       " '2015-04',\n",
       " '2015-05',\n",
       " '2015-06',\n",
       " '2015-07',\n",
       " '2015-08',\n",
       " '2015-09',\n",
       " '2015-10',\n",
       " '2015-11',\n",
       " '2015-12',\n",
       " '2016-01',\n",
       " '2016-02',\n",
       " '2016-03',\n",
       " '2016-04',\n",
       " '2016-05',\n",
       " '2016-06',\n",
       " '2016-07',\n",
       " '2016-08',\n",
       " '2016-09',\n",
       " '2016-10',\n",
       " '2016-11',\n",
       " '2016-12',\n",
       " '2017-01',\n",
       " '2017-02',\n",
       " '2017-03',\n",
       " '2017-04',\n",
       " '2017-05',\n",
       " '2017-06']"
      ]
     },
     "execution_count": 6,
     "metadata": {},
     "output_type": "execute_result"
    }
   ],
   "source": [
    "# Create a list of the unique dates because they will become headers in the CSV file\n",
    "\n",
    "dates = sorted(list(set([r['date_str'] for r in data])))\n",
    "\n",
    "# Check it for accuracy - this pretty prints it in jupyter notebooks\n",
    "dates"
   ]
  },
  {
   "cell_type": "code",
   "execution_count": 8,
   "metadata": {
    "collapsed": true
   },
   "outputs": [],
   "source": [
    "# We need a dict of unique facilities with codes and date fields. This is our matrix we will populate and export\n",
    "\n",
    "facilities = {}\n",
    "\n",
    "for row in data:\n",
    "    code = row[\"facility_code\"]\n",
    "    if code not in facilities.keys():\n",
    "        facilities[code] = {}\n",
    "        facilities[code][\"facility_code\"] = code\n",
    "        facilities[code][\"facility_name\"] = row[\"facilityname\"]\n",
    "        \n",
    "        # Initialize a none value for each cell in the matrix we want to output\n",
    "        for date in dates:\n",
    "            facilities[code][date] = None"
   ]
  },
  {
   "cell_type": "code",
   "execution_count": 9,
   "metadata": {},
   "outputs": [],
   "source": [
    "# Now populate the matrix\n",
    "\n",
    "for row in data:\n",
    "    code = row[\"facility_code\"]\n",
    "    date = row[\"date_str\"]\n",
    "    value = row[\"num_records\"]\n",
    "    facilities[code][date] = value"
   ]
  },
  {
   "cell_type": "code",
   "execution_count": 10,
   "metadata": {
    "collapsed": true
   },
   "outputs": [],
   "source": [
    "# Convert the dict of data to a list of dicts for each facility so that\n",
    "# we can use dictwriter to export to CSV\n",
    "\n",
    "restructured_data = []\n",
    "\n",
    "for key in sorted(list(facilities.keys())):\n",
    "    restructured_data.append(facilities[key])"
   ]
  },
  {
   "cell_type": "code",
   "execution_count": 11,
   "metadata": {
    "scrolled": false
   },
   "outputs": [
    {
     "data": {
      "text/plain": [
       "{'2014-07': None,\n",
       " '2014-08': None,\n",
       " '2014-09': 268,\n",
       " '2014-10': 264,\n",
       " '2014-11': 259,\n",
       " '2014-12': 303,\n",
       " '2015-01': None,\n",
       " '2015-02': None,\n",
       " '2015-03': None,\n",
       " '2015-04': None,\n",
       " '2015-05': None,\n",
       " '2015-06': None,\n",
       " '2015-07': None,\n",
       " '2015-08': None,\n",
       " '2015-09': None,\n",
       " '2015-10': None,\n",
       " '2015-11': None,\n",
       " '2015-12': None,\n",
       " '2016-01': None,\n",
       " '2016-02': None,\n",
       " '2016-03': None,\n",
       " '2016-04': None,\n",
       " '2016-05': None,\n",
       " '2016-06': None,\n",
       " '2016-07': None,\n",
       " '2016-08': None,\n",
       " '2016-09': None,\n",
       " '2016-10': None,\n",
       " '2016-11': None,\n",
       " '2016-12': None,\n",
       " '2017-01': None,\n",
       " '2017-02': None,\n",
       " '2017-03': None,\n",
       " '2017-04': None,\n",
       " '2017-05': None,\n",
       " '2017-06': None,\n",
       " 'facility_code': 'DAS001',\n",
       " 'facility_name': 'GHOUTA HOSPITAL'}"
      ]
     },
     "execution_count": 11,
     "metadata": {},
     "output_type": "execute_result"
    }
   ],
   "source": [
    "# Verify that it looks like we want it\n",
    "restructured_data[0]"
   ]
  },
  {
   "cell_type": "code",
   "execution_count": 13,
   "metadata": {
    "collapsed": true
   },
   "outputs": [],
   "source": [
    "# Now write it to a CSV file\n",
    "# https://docs.python.org/3.6/library/csv.html#csv.DictWriter\n",
    "\n",
    "fieldnames = restructured_data[0].keys()\n",
    "\n",
    "with open(\"records_by_date_by_facility.csv\", \"w\", newline=\"\\n\", encoding=\"utf-8\") as csvfile:\n",
    "    writer = csv.DictWriter(csvfile, fieldnames=fieldnames)\n",
    "    writer.writeheader()\n",
    "    for row in restructured_data:\n",
    "        writer.writerow(row)\n"
   ]
  },
  {
   "cell_type": "code",
   "execution_count": null,
   "metadata": {
    "collapsed": true
   },
   "outputs": [],
   "source": []
  }
 ],
 "metadata": {
  "kernelspec": {
   "display_name": "Python 3",
   "language": "python",
   "name": "python3"
  },
  "language_info": {
   "codemirror_mode": {
    "name": "ipython",
    "version": 3
   },
   "file_extension": ".py",
   "mimetype": "text/x-python",
   "name": "python",
   "nbconvert_exporter": "python",
   "pygments_lexer": "ipython3",
   "version": "3.6.1"
  }
 },
 "nbformat": 4,
 "nbformat_minor": 2
}
