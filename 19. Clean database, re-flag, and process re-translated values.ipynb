{
 "cells": [
  {
   "cell_type": "code",
   "execution_count": 2,
   "metadata": {
    "collapsed": true
   },
   "outputs": [],
   "source": [
    "# Manipulate the file system\n",
    "import os\n",
    "import shutil\n",
    "\n",
    "# Copy dictionaries\n",
    "import copy\n",
    "\n",
    "# Regular expressions\n",
    "import re\n",
    "\n",
    "# Display errors in realtime\n",
    "import ipywidgets as widgets\n",
    "\n",
    "# work with dates\n",
    "import datetime\n",
    "import arrow\n",
    "import time\n",
    "\n",
    "# For scrubbing PII\n",
    "import hashlib\n",
    "\n",
    "# Convert stored string representation of a list to a list\n",
    "import ast\n",
    "\n",
    "# Recurse through a directory tree and return file names with glob\n",
    "import glob\n",
    "\n",
    "# Decode and re-encode mangled Arabic file names\n",
    "import codecs\n",
    "\n",
    "# Connect to a SQLite database in a lazy manner.\n",
    "import sqlalchemy\n",
    "import dataset\n",
    "\n",
    "# Enables opening and reading of Excel files\n",
    "import openpyxl\n",
    "\n",
    "# Import Pandas for easy importing of an excel file\n",
    "import csv\n",
    "\n",
    "# Translating variables, sheet names, and workbook names from Arabic\n",
    "# This is NOT free to use.\n",
    "from google.cloud import translate\n",
    "\n",
    "# Set the environment variable for the Google Service Account\n",
    "os.environ['GOOGLE_APPLICATION_CREDENTIALS'] = 'C:\\\\Users\\\\clay\\\\Documents\\\\fxb-lcs-2b24f4f8a73a.json'"
   ]
  },
  {
   "cell_type": "code",
   "execution_count": 2,
   "metadata": {},
   "outputs": [
    {
     "name": "stdout",
     "output_type": "stream",
     "text": [
      "Created database from template: sams_data_phase19.sqlite\n"
     ]
    }
   ],
   "source": [
    "#If there's an existing db for this sheet, delete it\n",
    "#so that we can copy from the template for a fresh start\n",
    "\n",
    "try:\n",
    "    os.remove(\"sams_data_phase19.sqlite\")\n",
    "    print(\"Removed template clone sams_data_phase19.sqlite\")\n",
    "except:\n",
    "    pass\n",
    "\n",
    "try:\n",
    "    # Try to preserve a copy in case there is a problem and it has to be restored\n",
    "    shutil.copy2(\"sams_data_phase19_template.sqlite\",\"sams_data_phase19.sqlite\")\n",
    "    \n",
    "    print(\"Created database from template: sams_data_phase19.sqlite\")\n",
    "except:\n",
    "    pass"
   ]
  },
  {
   "cell_type": "code",
   "execution_count": 3,
   "metadata": {
    "collapsed": true
   },
   "outputs": [],
   "source": [
    "db = dataset.connect(\"sqlite:///sams_data_phase19.sqlite\")"
   ]
  },
  {
   "cell_type": "code",
   "execution_count": 4,
   "metadata": {
    "collapsed": true
   },
   "outputs": [],
   "source": [
    "# Get a reference to the arabic_values table\n",
    "tab_arabic_values = db['arabic_values']"
   ]
  },
  {
   "cell_type": "code",
   "execution_count": 5,
   "metadata": {},
   "outputs": [
    {
     "name": "stdout",
     "output_type": "stream",
     "text": [
      "Dropped full_raw_flags\n",
      "Dropped full_raw_flags_reduced\n"
     ]
    }
   ],
   "source": [
    "try:\n",
    "    db['full_raw_flags'].drop()\n",
    "    print(\"Dropped full_raw_flags\")\n",
    "except:\n",
    "    pass\n",
    "\n",
    "try:\n",
    "    db['full_raw_flags_reduced'].drop()\n",
    "    print(\"Dropped full_raw_flags_reduced\").drop()\n",
    "except:\n",
    "    pass\n",
    "\n",
    "# One SQLite limitation is you cannot drop columns, so you have to create a new table and then rename it.\n",
    "preserve_fields = [k for k in tab_arabic_values.find_one().keys() if 'flag_' not in k]\n",
    "\n",
    "# We don't use result but assigning it skips printing some garbage below\n",
    "result = db.query(\"\"\"\n",
    "CREATE TABLE new_arabic_values AS \n",
    "    SELECT \"\"\" + \",\".join(preserve_fields) + \"\"\" \n",
    "    FROM arabic_values;\n",
    "\"\"\")\n",
    "\n",
    "# Drop the original arabic_values table\n",
    "tab_arabic_values.drop()\n",
    "\n",
    "# Rename new_arabic_values to arabic_values & now we have a table with no flag columns\n",
    "result = db.query(\"\"\"\n",
    "ALTER TABLE new_arabic_values RENAME TO arabic_values;\n",
    "\"\"\")"
   ]
  },
  {
   "cell_type": "code",
   "execution_count": 6,
   "metadata": {
    "collapsed": true
   },
   "outputs": [],
   "source": [
    "# Create a new column in arabic_values by joining the Google translated tokens\n",
    "\n",
    "# Create a join lookup\n",
    "tab_arabic_values_tokens = db['arabic_values_tokens']\n",
    "\n",
    "join_lookup = {}\n",
    "\n",
    "for record in tab_arabic_values_tokens.find():\n",
    "    if record['arabic_values_id'] not in join_lookup.keys():\n",
    "        join_lookup[record['arabic_values_id']] = set()\n",
    "    join_lookup[record['arabic_values_id']].add(record['token_id'])"
   ]
  },
  {
   "cell_type": "code",
   "execution_count": 7,
   "metadata": {
    "collapsed": true
   },
   "outputs": [],
   "source": [
    "# Clean tokens for the lookup\n",
    "\n",
    "tab_arabic_tokens = db['arabic_tokens']\n",
    "token_lookup = {}\n",
    "\n",
    "for record in tab_arabic_tokens.find():\n",
    "    translation = record['google_translate_feb']\n",
    "    \n",
    "    # Nothing to join back\n",
    "    if translation is None:\n",
    "        continue\n",
    "    else:\n",
    "        translation = [x.lower().strip() for x in translation.split(\",\") if x.strip() != '']\n",
    "        \n",
    "    token_lookup[record['id']] = translation"
   ]
  },
  {
   "cell_type": "code",
   "execution_count": 8,
   "metadata": {
    "collapsed": true
   },
   "outputs": [],
   "source": [
    "# Create the list of records we will update in arabic_values with the joined Google translated tokens\n",
    "ar_values_to_update = []\n",
    "for key in join_lookup.keys():\n",
    "    update_rec = {'id':key}\n",
    "    all_vals = []\n",
    "    for token_rec in sorted(list(join_lookup[key])):\n",
    "        try:\n",
    "            all_vals += token_lookup[token_rec]\n",
    "        except:\n",
    "            pass\n",
    "    if len(all_vals) == 0:\n",
    "        continue\n",
    "    \n",
    "    google_trans = \", \".join(all_vals)\n",
    "    update_rec['google_tokens_joined'] = google_trans\n",
    "    ar_values_to_update.append(update_rec)"
   ]
  },
  {
   "cell_type": "code",
   "execution_count": 9,
   "metadata": {
    "collapsed": true
   },
   "outputs": [],
   "source": [
    "# Get new database connections just to make sure we have the proper schema for tables\n",
    "del db\n",
    "del tab_arabic_values\n",
    "del tab_arabic_tokens\n",
    "del tab_arabic_values_tokens\n",
    "\n",
    "db = dataset.connect(\"sqlite:///sams_data_phase19.sqlite\")\n",
    "tab_arabic_values = db['arabic_values']"
   ]
  },
  {
   "cell_type": "code",
   "execution_count": 10,
   "metadata": {
    "collapsed": true
   },
   "outputs": [],
   "source": [
    "# Create an in-memory representation of the arabic_values table\n",
    "data = [x for x in tab_arabic_values.all()]"
   ]
  },
  {
   "cell_type": "code",
   "execution_count": 11,
   "metadata": {},
   "outputs": [
    {
     "data": {
      "text/plain": [
       "[OrderedDict([('id', 1),\n",
       "              ('arabic', 'قبول عابر'),\n",
       "              ('google_translate', 'Transient admission'),\n",
       "              ('human_translate', 'monitoring'),\n",
       "              ('normalized', None),\n",
       "              ('appears_in',\n",
       "               \"['acceptance_pattern', 'diagnosis', 'treatment']\"),\n",
       "              ('google_translate_feb', 'Transient admission')]),\n",
       " OrderedDict([('id', 2),\n",
       "              ('arabic', 'حواضن'),\n",
       "              ('google_translate', 'Cushions'),\n",
       "              ('human_translate', 'incubators'),\n",
       "              ('normalized', None),\n",
       "              ('appears_in',\n",
       "               \"['acceptance_pattern', 'analysis_type', 'diagnosis', 'treatment']\"),\n",
       "              ('google_translate_feb', 'Cushions')])]"
      ]
     },
     "execution_count": 11,
     "metadata": {},
     "output_type": "execute_result"
    }
   ],
   "source": [
    "# Verify the contents\n",
    "data[:2]"
   ]
  },
  {
   "cell_type": "code",
   "execution_count": 12,
   "metadata": {
    "collapsed": true
   },
   "outputs": [],
   "source": [
    "# Create a dictionary representation of it\n",
    "data_dict = {}\n",
    "for row in data:\n",
    "    data_dict[row['id']] = row"
   ]
  },
  {
   "cell_type": "code",
   "execution_count": 13,
   "metadata": {
    "collapsed": true
   },
   "outputs": [],
   "source": [
    "# Now update the data_dict with the joined tokens\n",
    "# Try to reproduce the arabic_values table with the new col so we can drop and bulk update\n",
    "# because it is a lot faster than updating rows individually\n",
    "# Skipping some PII that don't have records in arabic_values anymore but are still in tokens - will clean up next\n",
    "\n",
    "for rec in ar_values_to_update:\n",
    "    try:\n",
    "        data_dict[rec['id']]['google_tokens_joined'] = rec['google_tokens_joined']\n",
    "    except:\n",
    "        pass"
   ]
  },
  {
   "cell_type": "code",
   "execution_count": 14,
   "metadata": {},
   "outputs": [
    {
     "data": {
      "text/plain": [
       "337278"
      ]
     },
     "execution_count": 14,
     "metadata": {},
     "output_type": "execute_result"
    }
   ],
   "source": [
    "# Check this matches the number of records in the arabic_values table\n",
    "len(data_dict)"
   ]
  },
  {
   "cell_type": "code",
   "execution_count": 15,
   "metadata": {
    "collapsed": true
   },
   "outputs": [],
   "source": [
    "# Drop the original arabic_values table\n",
    "tab_arabic_values.drop()\n",
    "del tab_arabic_values"
   ]
  },
  {
   "cell_type": "code",
   "execution_count": 16,
   "metadata": {
    "collapsed": true
   },
   "outputs": [],
   "source": [
    "# Get a new db connection to be safe\n",
    "del db\n",
    "db = dataset.connect(\"sqlite:///sams_data_phase19.sqlite\")\n",
    "tab_arabic_values = db['arabic_values']"
   ]
  },
  {
   "cell_type": "code",
   "execution_count": 17,
   "metadata": {},
   "outputs": [
    {
     "data": {
      "text/plain": [
       "OrderedDict([('arabic', 'قبول عابر'),\n",
       "             ('google_translate', 'Transient admission'),\n",
       "             ('human_translate', 'monitoring'),\n",
       "             ('normalized', None),\n",
       "             ('appears_in',\n",
       "              \"['acceptance_pattern', 'diagnosis', 'treatment']\"),\n",
       "             ('google_translate_feb', 'Transient admission'),\n",
       "             ('google_tokens_joined', 'transient admission')])"
      ]
     },
     "execution_count": 17,
     "metadata": {},
     "output_type": "execute_result"
    }
   ],
   "source": [
    "# Look at the first row\n",
    "# Delete the id column so that dataset will automatically create it with the proper type\n",
    "del data_dict[1]['id']\n",
    "data_dict[1]"
   ]
  },
  {
   "cell_type": "code",
   "execution_count": 18,
   "metadata": {},
   "outputs": [
    {
     "data": {
      "text/plain": [
       "1"
      ]
     },
     "execution_count": 18,
     "metadata": {},
     "output_type": "execute_result"
    }
   ],
   "source": [
    "# Insert one row to generate the schema, then bulk insert the rest\n",
    "tab_arabic_values.insert(data_dict[1],ensure=True)"
   ]
  },
  {
   "cell_type": "code",
   "execution_count": 19,
   "metadata": {
    "collapsed": true
   },
   "outputs": [],
   "source": [
    "# Verify that the table structure is correct in the database then bulk insert the rest. Delete record 1 from the data_dict first.\n",
    "del data_dict[1]"
   ]
  },
  {
   "cell_type": "code",
   "execution_count": 20,
   "metadata": {
    "collapsed": true
   },
   "outputs": [],
   "source": [
    "# Make sure you get a keyerror here\n",
    "# data_dict[1]"
   ]
  },
  {
   "cell_type": "code",
   "execution_count": 21,
   "metadata": {},
   "outputs": [
    {
     "data": {
      "text/plain": [
       "[OrderedDict([('id', 2),\n",
       "              ('arabic', 'حواضن'),\n",
       "              ('google_translate', 'Cushions'),\n",
       "              ('human_translate', 'incubators'),\n",
       "              ('normalized', None),\n",
       "              ('appears_in',\n",
       "               \"['acceptance_pattern', 'analysis_type', 'diagnosis', 'treatment']\"),\n",
       "              ('google_translate_feb', 'Cushions'),\n",
       "              ('google_tokens_joined', 'cushions')])]"
      ]
     },
     "execution_count": 21,
     "metadata": {},
     "output_type": "execute_result"
    }
   ],
   "source": [
    "# Now bulk insert the rest\n",
    "rows_to_insert = [data_dict[k] for k in sorted(list(data_dict.keys()))]\n",
    "\n",
    "# Make sure they have the 'google_tokens_joined' key\n",
    "for row in rows_to_insert:\n",
    "    if 'google_tokens_joined' not in row.keys():\n",
    "        row['google_tokens_joined'] = None\n",
    "\n",
    "rows_to_insert[:1]"
   ]
  },
  {
   "cell_type": "code",
   "execution_count": 22,
   "metadata": {
    "collapsed": true
   },
   "outputs": [],
   "source": [
    "tab_arabic_values.insert_many(rows_to_insert)"
   ]
  },
  {
   "cell_type": "code",
   "execution_count": 23,
   "metadata": {},
   "outputs": [
    {
     "data": {
      "text/plain": [
       "337278"
      ]
     },
     "execution_count": 23,
     "metadata": {},
     "output_type": "execute_result"
    }
   ],
   "source": [
    "# check number of records\n",
    "tab_arabic_values.count()"
   ]
  },
  {
   "cell_type": "code",
   "execution_count": 24,
   "metadata": {
    "collapsed": true
   },
   "outputs": [],
   "source": [
    "# Remove some PII that sneaked through in an unlabeled column: 1653-1677 and 1622-1651\n",
    "# Store values here for scrubbing the raw tables\n",
    "arabic_pii_values = []\n",
    "\n",
    "for n in range(1622,1652):\n",
    "    try:\n",
    "        rec = tab_arabic_values.find_one(id=n)\n",
    "        arabic_pii_values.append(rec['arabic'])\n",
    "        tab_arabic_values.delete(id=n)\n",
    "    except:\n",
    "        pass\n",
    "    \n",
    "for n in range(1653,1678):\n",
    "    try:\n",
    "        rec = tab_arabic_values.find_one(id=n)\n",
    "        arabic_pii_values.append(rec['arabic'])\n",
    "        tab_arabic_values.delete(id=n)\n",
    "    except:\n",
    "        pass"
   ]
  },
  {
   "cell_type": "code",
   "execution_count": 25,
   "metadata": {
    "collapsed": true
   },
   "outputs": [],
   "source": [
    "# Look at the full_raw_scrubbed table for a match to the pii and then scrub if there\n",
    "# Keep in mind that full_raw_english maintains parity\n",
    "results = db.query(\"SELECT id, col_none FROM full_raw_scrubbed WHERE col_none IS NOT NULL AND col_none <> '.';\")"
   ]
  },
  {
   "cell_type": "code",
   "execution_count": 26,
   "metadata": {
    "collapsed": true
   },
   "outputs": [],
   "source": [
    "full_records_to_scrub = []\n",
    "for rec in results:\n",
    "    v = rec['col_none']\n",
    "    if v in arabic_pii_values:\n",
    "        full_records_to_scrub.append(rec['id'])"
   ]
  },
  {
   "cell_type": "code",
   "execution_count": 27,
   "metadata": {},
   "outputs": [
    {
     "data": {
      "text/plain": [
       "124"
      ]
     },
     "execution_count": 27,
     "metadata": {},
     "output_type": "execute_result"
    }
   ],
   "source": [
    "len(full_records_to_scrub)"
   ]
  },
  {
   "cell_type": "code",
   "execution_count": 28,
   "metadata": {
    "collapsed": true
   },
   "outputs": [],
   "source": [
    "# These tables are in parity with each other\n",
    "tab_raw_ar = db['full_raw_scrubbed']\n",
    "tab_raw_en = db['full_raw_english']\n",
    "\n",
    "# Do not save this value in a source code repository!\n",
    "salt = 'REDACTED'.encode()\n",
    "\n",
    "for rec_id in full_records_to_scrub:\n",
    "    rec = tab_raw_ar.find_one(id=rec_id)\n",
    "    pii = rec['col_none']\n",
    "    \n",
    "    # Create the hashed value\n",
    "    h = hashlib.sha256()\n",
    "    h.update(pii.encode())\n",
    "    h.update(salt)\n",
    "    \n",
    "    # Create an update rec with the hashed value\n",
    "    update_rec = {'id':rec_id, 'col_none': h.hexdigest()}\n",
    "    \n",
    "    # update the values in the tables\n",
    "    tab_raw_ar.update(update_rec, ['id'])\n",
    "    tab_raw_en.update(update_rec, ['id'])"
   ]
  },
  {
   "cell_type": "code",
   "execution_count": 29,
   "metadata": {
    "collapsed": true
   },
   "outputs": [],
   "source": [
    "# Get token ids corresponding with the PII.\n",
    "arabic_value_pii_ids = [x for x in range(1622,1652)] + [x for x in range(1653,1678)]\n",
    "arabic_value_pii_ids_str = \"(\" + \",\".join([str(x) for x in arabic_value_pii_ids]) + \")\"\n",
    "results = db.query(\"SELECT token_id FROM arabic_values_tokens WHERE arabic_values_id IN \" + arabic_value_pii_ids_str + \" GROUP BY token_id ORDER BY token_id ASC;\")"
   ]
  },
  {
   "cell_type": "code",
   "execution_count": 30,
   "metadata": {
    "collapsed": true
   },
   "outputs": [],
   "source": [
    "token_ids = [r['token_id'] for r in results]\n",
    "token_ids_str = \"(\" + \",\".join([str(x) for x in token_ids]) + \")\"\n",
    "\n",
    "# Figure out which tokens should be deleted\n",
    "results = db.query(\"SELECT * FROM arabic_tokens WHERE id IN \" + token_ids_str + \" ORDER BY id ASC\")"
   ]
  },
  {
   "cell_type": "code",
   "execution_count": 31,
   "metadata": {
    "collapsed": true
   },
   "outputs": [],
   "source": [
    "# These will print out PII so they were commented out after examination\n",
    "# for r in results:\n",
    "#     print(r['id'], r['translation'], r['google_translate_feb'])\n",
    "    \n",
    "# After investigating results, we want to delete the tokens with id numbers:\n",
    "token_ids_to_remove = [1379, 1383, 1385, 1386, 1387, 1389, 1390, 1391, 1392,\n",
    "                       1393, 1394, 1395, 1397, 1398, 1399, 1400, 1401, 1402,\n",
    "                       1403, 1404, 1405, 1406, 1407, 1408, 1409, 1410, 1411,\n",
    "                       1412, 1413, 1416, 1417, 1418]"
   ]
  },
  {
   "cell_type": "code",
   "execution_count": 32,
   "metadata": {
    "collapsed": true
   },
   "outputs": [],
   "source": [
    "# Delete the tokens that correspond to the now-missing arabic_values records\n",
    "token_ids_to_remove_str = \"(\" + \",\".join([str(x) for x in token_ids_to_remove]) + \")\"\n",
    "\n",
    "rec = db.query(\"DELETE FROM arabic_tokens WHERE id IN \" + token_ids_to_remove_str + \";\")\n",
    "\n",
    "# Delete the entries from the join table that have the tokens referenced\n",
    "rec2 = db.query(\"DELETE FROM arabic_values_tokens WHERE token_id IN \" + token_ids_to_remove_str + \";\")\n",
    "\n",
    "# Delete the entries from the join table that have the arabic_values referenced\n",
    "rec3 = db.query(\"DELETE FROM arabic_values_tokens WHERE arabic_values_id IN \" + arabic_value_pii_ids_str + \";\")"
   ]
  },
  {
   "cell_type": "markdown",
   "metadata": {},
   "source": [
    "When the `arabic_values table` was created, the values that did not require translation -- numbers, English, etc... were excluded. This pulls them back into the `arabic_values` table so that they can be used for flag generation."
   ]
  },
  {
   "cell_type": "code",
   "execution_count": 33,
   "metadata": {
    "collapsed": true,
    "scrolled": false
   },
   "outputs": [],
   "source": [
    "# Get the fields from the full_raw_scrubbed table\n",
    "rec = tab_raw_ar.find_one()\n",
    "variables = [k for k in list(rec.keys()) if 'info_' not in k and 'flag_' not in k and \"a_\" not in k and k != 'id']"
   ]
  },
  {
   "cell_type": "code",
   "execution_count": 34,
   "metadata": {
    "collapsed": true
   },
   "outputs": [],
   "source": [
    "# Get all values from arabic_values\n",
    "values_ref = set([r['arabic'] for r in tab_arabic_values.find()])"
   ]
  },
  {
   "cell_type": "code",
   "execution_count": 35,
   "metadata": {},
   "outputs": [
    {
     "data": {
      "text/plain": [
       "30502"
      ]
     },
     "execution_count": 35,
     "metadata": {},
     "output_type": "execute_result"
    }
   ],
   "source": [
    "missing_values = set()\n",
    "for r in tab_raw_ar.find():\n",
    "    for v in variables:\n",
    "        if r[v] is None or r[v] == '.' or r[v] in values_ref:\n",
    "            continue\n",
    "        else:\n",
    "            missing_values.add(r[v])\n",
    "            \n",
    "len(missing_values)"
   ]
  },
  {
   "cell_type": "code",
   "execution_count": 36,
   "metadata": {
    "collapsed": true
   },
   "outputs": [],
   "source": [
    "# Add the values to arabic_values in the `orig_value` column\n",
    "new_recs = []\n",
    "for mv in sorted(list(missing_values)):\n",
    "    rec = {'orig_value':mv}\n",
    "    new_recs.append(rec)\n",
    "    \n",
    "# Insert one first to create the new column with dataset\n",
    "tab_arabic_values.insert(new_recs[0])\n",
    "\n",
    "# Now bulk insert the rest\n",
    "tab_arabic_values.insert_many(new_recs[1:])"
   ]
  },
  {
   "cell_type": "markdown",
   "metadata": {},
   "source": [
    "The database now is ready for flag generation. Keep in mind that the `google_translate_feb` and `google_tokens_joined` fields in the `arabic_values` table now also can be searched for flag terms. You can also search `orig_value`."
   ]
  },
  {
   "cell_type": "code",
   "execution_count": 3,
   "metadata": {},
   "outputs": [
    {
     "data": {
      "text/plain": [
       "'sams_data_phase20_template.sqlite'"
      ]
     },
     "execution_count": 3,
     "metadata": {},
     "output_type": "execute_result"
    }
   ],
   "source": [
    "# Copy the database to the next template\n",
    "# Convert this to a translation import notebook and move flag work to subsequent notebook\n",
    "\n",
    "# Copy the database over as the template for the next file.\n",
    "# This Notebook did not include manual editing of the data.\n",
    "\n",
    "# Do not rerun this cell or you will overwrite the next template!\n",
    "# shutil.copy2('sams_data_phase19.sqlite','sams_data_phase20_template.sqlite')"
   ]
  },
  {
   "cell_type": "code",
   "execution_count": null,
   "metadata": {
    "collapsed": true
   },
   "outputs": [],
   "source": []
  }
 ],
 "metadata": {
  "kernelspec": {
   "display_name": "Python 3",
   "language": "python",
   "name": "python3"
  },
  "language_info": {
   "codemirror_mode": {
    "name": "ipython",
    "version": 3
   },
   "file_extension": ".py",
   "mimetype": "text/x-python",
   "name": "python",
   "nbconvert_exporter": "python",
   "pygments_lexer": "ipython3",
   "version": "3.6.1"
  }
 },
 "nbformat": 4,
 "nbformat_minor": 2
}
