{
 "cells": [
  {
   "cell_type": "code",
   "execution_count": 1,
   "metadata": {
    "collapsed": true
   },
   "outputs": [],
   "source": [
    "import csv\n",
    "import dataset\n",
    "import os"
   ]
  },
  {
   "cell_type": "code",
   "execution_count": 2,
   "metadata": {},
   "outputs": [],
   "source": [
    "os.remove(\"uossm.sqlite\")\n",
    "db = dataset.connect(\"sqlite:///uossm.sqlite\")"
   ]
  },
  {
   "cell_type": "code",
   "execution_count": 3,
   "metadata": {
    "collapsed": true
   },
   "outputs": [],
   "source": [
    "# Reporting Statuses\n",
    "tab_rs = db['reporting_statuses']\n",
    "\n",
    "statuses = [\n",
    "\"Not Included\",\n",
    "\"Reported\",\n",
    "\"Inaccessible\",\n",
    "\"Closed\",\n",
    "\"Denied\",\n",
    "\"Suspended\"\n",
    "]\n",
    "\n",
    "statuses = [{\"status\":v} for v in statuses]\n",
    "tab_rs.insert_many(statuses)"
   ]
  },
  {
   "cell_type": "code",
   "execution_count": 4,
   "metadata": {},
   "outputs": [],
   "source": [
    "# Access Statuses\n",
    "tab_as = db['access_statuses']\n",
    "\n",
    "statuses = [\n",
    "    {\"status\":\"Easy to Access\"},\n",
    "    {\"status\":\"Besieged\"},\n",
    "    {\"status\":\"Not_OSA\"}\n",
    "]\n",
    "\n",
    "tab_as.insert_many(statuses)"
   ]
  },
  {
   "cell_type": "code",
   "execution_count": 5,
   "metadata": {
    "collapsed": true
   },
   "outputs": [],
   "source": [
    "sites = [[\"site_id\",\"province\",\"district\",\"sub_district\",\"region\",\"sector\"],\n",
    "[\"ALC001\",\"Aleppo\",\"Jebel Saman\",\"Jebel Saman\",\"Northern\",\"West\"],\n",
    "[\"ALC002\",\"Aleppo\",\"Jebel Saman\",\"Jebel Saman\",\"Northern\",\"West\"],\n",
    "[\"ALC006\",\"Aleppo\",\"Jebel Saman\",\"Jebel Saman\",\"Northern\",\"West\"],\n",
    "[\"ALC010\",\"Aleppo\",\"Jebel Saman\",\"Jebel Saman\",\"Northern\",\"West\"],\n",
    "[\"ALC901\",\"Aleppo\",\"Jebel Saman\",\"Jebel Saman\",\"Northern\",\"West\"],\n",
    "[\"ALC902\",\"Aleppo\",\"Jebel Saman\",\"Jebel Saman\",\"Northern\",\"West\"],\n",
    "[\"ALC904\",\"Aleppo\",\"Jebel Saman\",\"Jebel Saman\",\"Northern\",\"West\"],\n",
    "[\"ALS001\",\"Aleppo\",\"A'zaz\",\"Mare'\",\"Northern\",\"East\"],\n",
    "[\"ALS005\",\"Aleppo\",\"Jebel Saman\",\"Haritan\",\"Northern\",\"West\"],\n",
    "[\"ALS008\",\"Aleppo\",\"Jebel Saman\",\"Atareb\",\"Northern\",\"West\"],\n",
    "[\"ALS009\",\"Aleppo\",\"A'zaz\",\"A'zaz\",\"Northern\",\"East\"],\n",
    "[\"ALS010\",\"Aleppo\",\"A'zaz\",\"A'zaz\",\"Northern\",\"East\"],\n",
    "[\"ALS011\",\"Aleppo\",\"Jebel Saman\",\"Daret Azza\",\"Northern\",\"West\"],\n",
    "[\"ALS901\",\"Idleb\",\"Harim\",\"Dana\",\"Northern\",\"West\"],\n",
    "[\"ALS902\",\"Aleppo\",\"Jebel Saman\",\"Atareb\",\"Northern\",\"West\"],\n",
    "[\"ALS903\",\"Aleppo\",\"Jebel Saman\",\"Atareb\",\"Northern\",\"West\"],\n",
    "[\"ALS905\",\"Idleb\",\"Harim\",\"Dana\",\"Northern\",\"West\"],\n",
    "[\"ALS907\",\"Aleppo\",\"Jebel Saman\",\"Daret Azza\",\"Northern\",\"West\"],\n",
    "[\"ALS909\",\"Aleppo\",\"Jebel Saman\",\"Daret Azza\",\"Northern\",\"West\"],\n",
    "[\"ALS910\",\"Aleppo\",\"Jebel Saman\",\"Daret Azza\",\"Northern\",\"West\"],\n",
    "[\"ALS911\",\"Aleppo\",\"Jebel Saman\",\"Daret Azza\",\"Northern\",\"West\"],\n",
    "[\"ALS918\",\"Aleppo\",\"A'zaz\",\"A'zaz\",\"Northern\",\"East\"],\n",
    "[\"ALS919\",\"Aleppo\",\"A'zaz\",\"A'zaz\",\"Northern\",\"East\"],\n",
    "[\"DAC001\",\"Damascus\",\"Damascus\",\"Damascus\",\"Southern\",\"Ghouta\"],\n",
    "[\"DAC002\",\"Damascus\",\"Damascus\",\"Damascus\",\"Southern\",\"Ghouta\"],\n",
    "[\"DAS001\",\"Rural Damascus\",\"Rural Damascus\",\"Kafr Batna\",\"Southern\",\"Ghouta\"],\n",
    "[\"DAS005\",\"Rural Damascus\",\"Rural Damascus\",\"Kafr Batna\",\"Southern\",\"Ghouta\"],\n",
    "[\"DAS008\",\"Rural Damascus\",\"Rural Damascus\",\"Arbin\",\"Southern\",\"Ghouta\"],\n",
    "[\"DAS009\",\"Rural Damascus\",\"Duma\",\"Harasta\",\"Southern\",\"Ghouta\"],\n",
    "[\"DAS020\",\"Quneitra\",\"Quneitra\",\"Al-Khashniyyeh\",\"Southern\",\"South\"],\n",
    "[\"DAS902\",\"Rural Damascus\",\"Rural Damascus\",\"Kafr Batna\",\"Southern\",\"Ghouta\"],\n",
    "[\"DAS903\",\"Rural Damascus\",\"Rural Damascus\",\"Kafr Batna\",\"Southern\",\"Ghouta\"],\n",
    "[\"DAS904\",\"Rural Damascus\",\"Rural Damascus\",\"Kafr Batna\",\"Southern\",\"Ghouta\"],\n",
    "[\"DAS906\",\"Rural Damascus\",\"Rural Damascus\",\"Kafr Batna\",\"Southern\",\"Ghouta\"],\n",
    "[\"DAS907\",\"Rural Damascus\",\"Rural Damascus\",\"Kafr Batna\",\"Southern\",\"Ghouta\"],\n",
    "[\"DAS908\",\"Rural Damascus\",\"Rural Damascus\",\"Arbin\",\"Southern\",\"Ghouta\"],\n",
    "[\"DAS909\",\"Rural Damascus\",\"Rural Damascus\",\"Arbin\",\"Southern\",\"Ghouta\"],\n",
    "[\"DAS913\",\"Rural Damascus\",\"Duma\",\"Duma\",\"Southern\",\"Ghouta\"],\n",
    "[\"DEC001\",\"Dar'a\",\"Dar'a\",\"Dar'a\",\"Southern\",\"South\"],\n",
    "[\"DEC002\",\"Dar'a\",\"Dar'a\",\"Dar'a\",\"Southern\",\"South\"],\n",
    "[\"DES001\",\"Dar'a\",\"Dar'a\",\"Mseifra\",\"Southern\",\"South\"],\n",
    "[\"DES002\",\"Dar'a\",\"Dar'a\",\"Dar'a\",\"Southern\",\"South\"],\n",
    "[\"DES003\",\"Dar'a\",\"Dar'a\",\"Mzeireb\",\"Southern\",\"South\"],\n",
    "[\"DES004\",\"Dar'a\",\"Dar'a\",\"Busra Esh-Sham\",\"Southern\",\"South\"],\n",
    "[\"DES006\",\"Dar'a\",\"Dar'a\",\"Ash-Shajara\",\"Southern\",\"South\"],\n",
    "[\"DES007\",\"Dar'a\",\"Dar'a\",\"Mzeireb\",\"Southern\",\"South\"],\n",
    "[\"DES008\",\"Dar'a\",\"Izra'\",\"Jasim\",\"Southern\",\"South\"],\n",
    "[\"DES009\",\"Dar'a\",\"Dar'a\",\"Dar'a\",\"Southern\",\"South\"],\n",
    "[\"DES010\",\"Dar'a\",\"Dar'a\",\"Da'el\",\"Southern\",\"South\"],\n",
    "[\"DES011\",\"Dar'a\",\"Izra'\",\"Hrak\",\"Southern\",\"South\"],\n",
    "[\"DES013\",\"Dar'a\",\"Dar'a\",\"Kherbet Ghazala\",\"Southern\",\"South\"],\n",
    "[\"DES014\",\"Dar'a\",\"As-Sanamayn\",\"As-Sanamayn\",\"Southern\",\"South\"],\n",
    "[\"DES016\",\"Dar'a\",\"Izra'\",\"Tassil\",\"Southern\",\"South\"],\n",
    "[\"DES017\",\"Dar'a\",\"Izra'\",\"Nawa\",\"Southern\",\"South\"],\n",
    "[\"DES018\",\"Dar'a\",\"Dar'a\",\"Dar'a\",\"Southern\",\"South\"],\n",
    "[\"DES019\",\"Dar'a\",\"Dar'a\",\"Jizeh\",\"Southern\",\"South\"],\n",
    "[\"DES901\",\"Dar'a\",\"Dar'a\",\"Mzeireb\",\"Southern\",\"South\"],\n",
    "[\"HAS001\",\"Idleb\",\"Al Ma'ra\",\"Khan Shaykun\",\"Northern\",\"West\"],\n",
    "[\"HAS002\",\"Idleb\",\"Al Ma'ra\",\"Kafr Nobol\",\"Northern\",\"West\"],\n",
    "[\"HAS003\",\"Hama\",\"Muhradah\",\"Kafr Zeita\",\"Northern\",\"West\"],\n",
    "[\"HAS008\",\"Hama\",\"Hama\",\"Hamra\",\"Northern\",\"West\"],\n",
    "[\"HAS009\",\"Hama\",\"Muhradah\",\"Kafr Zeita\",\"Northern\",\"West\"],\n",
    "[\"HOS002\",\"Homs\",\"Ar-Rastan\",\"Ar-Rastan\",\"Southern\",\"Homs\"],\n",
    "[\"HOS003\",\"Homs\",\"Homs\",\"Taldu\",\"Southern\",\"Homs\"],\n",
    "[\"HOS004\",\"Homs\",\"Homs\",\"Taldu\",\"Southern\",\"Homs\"],\n",
    "[\"HOS005\",\"Homs\",\"Homs\",\"Taldu\",\"Southern\",\"Homs\"],\n",
    "[\"HOS006\",\"Homs\",\"Homs\",\"Homs\",\"Southern\",\"Homs\"],\n",
    "[\"HOS901\",\"Homs\",\"Ar-Rastan\",\"Talbiseh\",\"Southern\",\"Homs\"],\n",
    "[\"HOS902\",\"Homs\",\"Ar-Rastan\",\"Talbiseh\",\"Southern\",\"Homs\"],\n",
    "[\"HOS903\",\"Homs\",\"Ar-Rastan\",\"Talbiseh\",\"Southern\",\"Homs\"],\n",
    "[\"IDS001\",\"Idleb\",\"Harim\",\"Dana\",\"Northern\",\"West\"],\n",
    "[\"IDS002\",\"Idleb\",\"Idleb\",\"Saraqab\",\"Northern\",\"West\"],\n",
    "[\"IDS007\",\"Idleb\",\"Al Ma'ra\",\"Ma'arrat An Nu'man\",\"Northern\",\"West\"],\n",
    "[\"IDS013\",\"Idleb\",\"Idleb\",\"Sarmin\",\"Northern\",\"West\"],\n",
    "[\"IDS014\",\"Idleb\",\"Ariha\",\"Ehsem\",\"Northern\",\"West\"],\n",
    "[\"IDS017\",\"Idleb\",\"Idleb\",\"Teftnaz\",\"Northern\",\"West\"],\n",
    "[\"IDS018\",\"Idleb\",\"Al Ma'ra\",\"Kafr Nobol\",\"Northern\",\"West\"],\n",
    "[\"IDS019\",\"Idleb\",\"Al Ma'ra\",\"Ma'arrat An Nu'man\",\"Northern\",\"West\"],\n",
    "[\"IDS020\",\"Idleb\",\"Jisr-Ash-Shugur\",\"Darkosh\",\"Northern\",\"West\"],\n",
    "[\"IDS901\",\"Idleb\",\"Idleb\",\"Bennsh\",\"Northern\",\"West\"],\n",
    "[\"IDS903\",\"Idleb\",\"Idleb\",\"Maaret Tamsrin\",\"Northern\",\"West\"],\n",
    "[\"IDS908\",\"Idleb\",\"Al Ma'ra\",\"Sanjar\",\"Northern\",\"West\"],\n",
    "[\"IDS913\",\"Idleb\",\"Al Ma'ra\",\"Kafr Nobol\",\"Northern\",\"West\"],\n",
    "[\"IDS914\",\"Idleb\",\"Harim\",\"Dana\",\"Northern\",\"West\"],\n",
    "[\"IDS915\",\"Idleb\",\"Harim\",\"Dana\",\"Northern\",\"West\"],\n",
    "[\"IDS916\",\"Idleb\",\"Harim\",\"Dana\",\"Northern\",\"West\"],\n",
    "[\"IDS918\",\"Idleb\",\"Harim\",\"Dana\",\"Northern\",\"West\"],\n",
    "[\"IDS919\",\"Idleb\",\"Harim\",\"Salqin\",\"Northern\",\"West\"],\n",
    "[\"IDS920\",\"Idleb\",\"Harim\",\"Kafr Takharim\",\"Northern\",\"West\"],\n",
    "[\"IDS921\",\"Idleb\",\"Harim\",\"Kafr Takharim\",\"Northern\",\"West\"],\n",
    "[\"IDS922\",\"Idleb\",\"Harim\",\"Harim\",\"Northern\",\"West\"],\n",
    "[\"IDS924\",\"Idleb\",\"Jisr-Ash-Shugur\",\"Janudiyeh\",\"Northern\",\"West\"],\n",
    "[\"IDS925\",\"Idleb\",\"Ariha\",\"Ehsem\",\"Northern\",\"West\"],\n",
    "[\"IDS926\",\"Idleb\",\"Ariha\",\"Ehsem\",\"Northern\",\"West\"],\n",
    "[\"LAS902\",\"Idleb\",\"Jisr-Ash-Shugur\",\"Badama\",\"Northern\",\"West\"],\n",
    "[\"QUN901\",\"Quneitra\",\"Quneitra\",\"Khan Arnaba\",\"Southern\",\"South\"],\n",
    "[\"SURV03\",\"Idleb\",\"Harim\",\"Dana\",\"Northern\",\"West\"],\n",
    "[\"SURV05\",\"Idleb\",\"Harim\",\"Dana\",\"Northern\",\"West\"],\n",
    "[\"SURV09\",\"Idleb\",\"Jisr-Ash-Shugur\",\"Jisr-Ash-Shugur\",\"Northern\",\"West\"],\n",
    "[\"SURV10\",\"Idleb\",\"Al Ma'ra\",\"Kafr Nobol\",\"Northern\",\"West\"],\n",
    "[\"SURV11\",\"Idleb\",\"Ariha\",\"Ariha\",\"Northern\",\"West\"],\n",
    "[\"SURV12\",\"Idleb\",\"Ariha\",\"Ariha\",\"Northern\",\"West\"],\n",
    "[\"SURV13\",\"Idleb\",\"Al Ma'ra\",\"Ma'arrat An Nu'man\",\"Northern\",\"West\"],\n",
    "[\"SURV15\",\"Idleb\",\"Ariha\",\"Ehsem\",\"Northern\",\"West\"],\n",
    "[\"SURV19\",\"Hama\",\"As-Suqaylabiyah\",\"Madiq Castle\",\"Northern\",\"West\"],\n",
    "[\"T064\",\"Idleb\",\"Jisr-Ash-Shugur\",\"Badama\",\"Northern\",\"West\"],\n",
    "[\"T066\",\"Idleb\",\"Jisr-Ash-Shugur\",\"Janudiyeh\",\"Northern\",\"West\"],\n",
    "[\"T070\",\"Aleppo\",\"Jebel Saman\",\"Atareb\",\"Northern\",\"West\"],\n",
    "[\"T079\",\"Idleb\",\"Idleb\",\"Teftnaz\",\"Northern\",\"West\"],\n",
    "[\"T080\",\"Hama\",\"Muhradah\",\"Kafr Zeita\",\"Northern\",\"West\"],\n",
    "[\"T082\",\"Aleppo\",\"A'zaz\",\"Aghtrin\",\"Northern\",\"East\"],\n",
    "[\"T083\",\"Idleb\",\"Idleb\",\"Idleb\",\"Northern\",\"West\"],\n",
    "[\"T084\",\"Idleb\",\"Idleb\",\"Idleb\",\"Northern\",\"West\"],\n",
    "[\"T085\",\"Idleb\",\"Idleb\",\"Idleb\",\"Northern\",\"West\"],\n",
    "[\"T086\",\"Idleb\",\"Idleb\",\"Idleb\",\"Northern\",\"West\"],\n",
    "[\"T087\",\"Dar'a\",\"Dar'a\",\"Ash-Shajara\",\"Southern\",\"South\"],\n",
    "[\"T090\",\"Aleppo\",\"Jebel Saman\",\"Jebel Saman\",\"Northern\",\"West\"],\n",
    "[\"T091\",\"Idleb\",\"Al Ma'ra\",\"Heish\",\"Northern\",\"West\"],\n",
    "[\"T092\",\"Idleb\",\"Al Ma'ra\",\"Khan Shaykun\",\"Northern\",\"West\"],\n",
    "[\"T093\",\"Rural Damascus\",\"Duma\",\"Duma\",\"Southern\",\"Ghouta\"],\n",
    "[\"T094\",\"Rural Damascus\",\"Rural Damascus\",\"Kafr Batna\",\"Southern\",\"Ghouta\"],\n",
    "[\"T095\",\"Dar'a\",\"Dar'a\",\"Dar'a\",\"Southern\",\"South\"],\n",
    "[\"T096\",\"Idleb\",\"Al Ma'ra\",\"Kafr Nobol\",\"Northern\",\"West\"],\n",
    "[\"T097\",\"Aleppo\",\"Jebel Saman\",\"Haritan\",\"Northern\",\"West\"],\n",
    "[\"T098\",\"Aleppo\",\"A'zaz\",\"A'zaz\",\"Northern\",\"East\"],\n",
    "[\"T099\",\"Dar'a\",\"Dar'a\",\"Busra Esh-Sham\",\"Southern\",\"South\"],\n",
    "[\"T100\",\"Aleppo\",\"A'zaz\",\"A'zaz\",\"Northern\",\"East\"],\n",
    "[\"T101\",\"Aleppo\",\"A'zaz\",\"A'zaz\",\"Northern\",\"East\"],\n",
    "[\"T102\",\"Aleppo\",\"A'zaz\",\"A'zaz\",\"Northern\",\"East\"],\n",
    "[\"T103\",\"Aleppo\",\"Jarablus\",\"Jarablus\",\"Northern\",\"East\"],\n",
    "[\"T104\",\"Idleb\",\"Jisr-Ash-Shugur\",\"Badama\",\"Northern\",\"West\"],\n",
    "[\"T105\",\"Dar'a\",\"Izra'\",\"Nawa\",\"Southern\",\"South\"]]"
   ]
  },
  {
   "cell_type": "code",
   "execution_count": 6,
   "metadata": {
    "collapsed": true
   },
   "outputs": [],
   "source": [
    "header = sites[0]\n",
    "sites = sites[1:]"
   ]
  },
  {
   "cell_type": "code",
   "execution_count": 7,
   "metadata": {
    "collapsed": true
   },
   "outputs": [],
   "source": [
    "sites = [dict(zip(header,site)) for site in sites]"
   ]
  },
  {
   "cell_type": "markdown",
   "metadata": {},
   "source": [
    "### Provinces"
   ]
  },
  {
   "cell_type": "code",
   "execution_count": 8,
   "metadata": {},
   "outputs": [
    {
     "data": {
      "text/plain": [
       "{'Aleppo',\n",
       " 'Damascus',\n",
       " \"Dar'a\",\n",
       " 'Hama',\n",
       " 'Homs',\n",
       " 'Idleb',\n",
       " 'Quneitra',\n",
       " 'Rural Damascus'}"
      ]
     },
     "execution_count": 8,
     "metadata": {},
     "output_type": "execute_result"
    }
   ],
   "source": [
    "provinces = set([row['province'] for row in sites])\n",
    "provinces"
   ]
  },
  {
   "cell_type": "code",
   "execution_count": 9,
   "metadata": {
    "collapsed": true
   },
   "outputs": [],
   "source": [
    "tab_provinces = db['provinces']\n",
    "tab_provinces.delete()\n",
    "\n",
    "provinces = [{\"province\":v} for v in provinces]\n",
    "tab_provinces.insert_many(provinces)"
   ]
  },
  {
   "cell_type": "code",
   "execution_count": 10,
   "metadata": {},
   "outputs": [
    {
     "data": {
      "text/plain": [
       "{'Aleppo': 8,\n",
       " 'Damascus': 5,\n",
       " \"Dar'a\": 2,\n",
       " 'Hama': 7,\n",
       " 'Homs': 3,\n",
       " 'Idleb': 1,\n",
       " 'Quneitra': 4,\n",
       " 'Rural Damascus': 6}"
      ]
     },
     "execution_count": 10,
     "metadata": {},
     "output_type": "execute_result"
    }
   ],
   "source": [
    "province_lookup = {row['province']:row['id'] for row in tab_provinces.find()}\n",
    "province_lookup"
   ]
  },
  {
   "cell_type": "markdown",
   "metadata": {},
   "source": [
    "### Districts"
   ]
  },
  {
   "cell_type": "code",
   "execution_count": 11,
   "metadata": {
    "collapsed": true
   },
   "outputs": [],
   "source": [
    "districts = set([(row['province'],row['district']) for row in sites])\n",
    "\n",
    "tab_districts = db['districts']\n",
    "tab_districts.delete()\n",
    "\n",
    "districts = [{\"district\":v[1],\"province_id\":province_lookup[v[0]]} for v in districts]\n",
    "\n",
    "tab_districts.insert_many(districts)"
   ]
  },
  {
   "cell_type": "code",
   "execution_count": 12,
   "metadata": {},
   "outputs": [
    {
     "data": {
      "text/plain": [
       "{\"A'zaz\": 7,\n",
       " \"Al Ma'ra\": 2,\n",
       " 'Ar-Rastan': 18,\n",
       " 'Ariha': 3,\n",
       " 'As-Sanamayn': 20,\n",
       " 'As-Suqaylabiyah': 15,\n",
       " 'Damascus': 9,\n",
       " \"Dar'a\": 12,\n",
       " 'Duma': 11,\n",
       " 'Hama': 5,\n",
       " 'Harim': 10,\n",
       " 'Homs': 17,\n",
       " 'Idleb': 6,\n",
       " \"Izra'\": 13,\n",
       " 'Jarablus': 19,\n",
       " 'Jebel Saman': 16,\n",
       " 'Jisr-Ash-Shugur': 14,\n",
       " 'Muhradah': 1,\n",
       " 'Quneitra': 4,\n",
       " 'Rural Damascus': 8}"
      ]
     },
     "execution_count": 12,
     "metadata": {},
     "output_type": "execute_result"
    }
   ],
   "source": [
    "districts_lookup = {row['district']:row['id'] for row in tab_districts.find()}\n",
    "districts_lookup"
   ]
  },
  {
   "cell_type": "markdown",
   "metadata": {},
   "source": [
    "### Sub-districts"
   ]
  },
  {
   "cell_type": "code",
   "execution_count": 13,
   "metadata": {
    "collapsed": true
   },
   "outputs": [],
   "source": [
    "sub_districts = set([(row['district'],row['sub_district']) for row in sites])\n",
    "\n",
    "tab_sub_districts = db['sub_districts']\n",
    "tab_sub_districts.delete()\n",
    "\n",
    "sub_districts = [{\"sub_district\":v[1], \"district_id\":districts_lookup[v[0]]} for v in sub_districts]\n",
    "\n",
    "tab_sub_districts.insert_many(sub_districts)"
   ]
  },
  {
   "cell_type": "code",
   "execution_count": 14,
   "metadata": {},
   "outputs": [
    {
     "data": {
      "text/plain": [
       "{\"A'zaz\": 48,\n",
       " 'Aghtrin': 55,\n",
       " 'Al-Khashniyyeh': 17,\n",
       " 'Ar-Rastan': 49,\n",
       " 'Arbin': 11,\n",
       " 'Ariha': 2,\n",
       " 'As-Sanamayn': 28,\n",
       " 'Ash-Shajara': 41,\n",
       " 'Atareb': 3,\n",
       " 'Badama': 23,\n",
       " 'Bennsh': 35,\n",
       " 'Busra Esh-Sham': 31,\n",
       " \"Da'el\": 1,\n",
       " 'Damascus': 9,\n",
       " 'Dana': 4,\n",
       " \"Dar'a\": 39,\n",
       " 'Daret Azza': 40,\n",
       " 'Darkosh': 20,\n",
       " 'Duma': 26,\n",
       " 'Ehsem': 10,\n",
       " 'Hamra': 24,\n",
       " 'Harasta': 22,\n",
       " 'Harim': 6,\n",
       " 'Haritan': 27,\n",
       " 'Heish': 37,\n",
       " 'Homs': 29,\n",
       " 'Hrak': 5,\n",
       " 'Idleb': 30,\n",
       " 'Janudiyeh': 18,\n",
       " 'Jarablus': 14,\n",
       " 'Jasim': 33,\n",
       " 'Jebel Saman': 45,\n",
       " 'Jisr-Ash-Shugur': 13,\n",
       " 'Jizeh': 34,\n",
       " 'Kafr Batna': 43,\n",
       " 'Kafr Nobol': 44,\n",
       " 'Kafr Takharim': 42,\n",
       " 'Kafr Zeita': 25,\n",
       " 'Khan Arnaba': 56,\n",
       " 'Khan Shaykun': 32,\n",
       " 'Kherbet Ghazala': 19,\n",
       " \"Ma'arrat An Nu'man\": 21,\n",
       " 'Maaret Tamsrin': 51,\n",
       " 'Madiq Castle': 16,\n",
       " \"Mare'\": 7,\n",
       " 'Mseifra': 12,\n",
       " 'Mzeireb': 52,\n",
       " 'Nawa': 38,\n",
       " 'Salqin': 36,\n",
       " 'Sanjar': 8,\n",
       " 'Saraqab': 15,\n",
       " 'Sarmin': 47,\n",
       " 'Talbiseh': 46,\n",
       " 'Taldu': 54,\n",
       " 'Tassil': 53,\n",
       " 'Teftnaz': 50}"
      ]
     },
     "execution_count": 14,
     "metadata": {},
     "output_type": "execute_result"
    }
   ],
   "source": [
    "sub_districts_lookup = {row['sub_district']:row['id'] for row in tab_sub_districts.find()}\n",
    "sub_districts_lookup"
   ]
  },
  {
   "cell_type": "markdown",
   "metadata": {},
   "source": [
    "### Regions"
   ]
  },
  {
   "cell_type": "code",
   "execution_count": 15,
   "metadata": {},
   "outputs": [],
   "source": [
    "regions = set([row['region'] for row in sites])\n",
    "\n",
    "tab_regions = db['regions']\n",
    "tab_regions.delete()\n",
    "\n",
    "regions = [{\"region\":r} for r in regions]\n",
    "tab_regions.insert_many(regions)"
   ]
  },
  {
   "cell_type": "code",
   "execution_count": 16,
   "metadata": {},
   "outputs": [
    {
     "data": {
      "text/plain": [
       "{'Northern': 1, 'Southern': 2}"
      ]
     },
     "execution_count": 16,
     "metadata": {},
     "output_type": "execute_result"
    }
   ],
   "source": [
    "region_lookup = {r['region']:r['id'] for r in tab_regions.find()}\n",
    "region_lookup"
   ]
  },
  {
   "cell_type": "markdown",
   "metadata": {},
   "source": [
    "### Sectors"
   ]
  },
  {
   "cell_type": "code",
   "execution_count": 17,
   "metadata": {},
   "outputs": [
    {
     "data": {
      "text/plain": [
       "{'East', 'Ghouta', 'Homs', 'South', 'West'}"
      ]
     },
     "execution_count": 17,
     "metadata": {},
     "output_type": "execute_result"
    }
   ],
   "source": [
    "sectors = set([row['sector'] for row in sites])\n",
    "sectors"
   ]
  },
  {
   "cell_type": "code",
   "execution_count": 18,
   "metadata": {},
   "outputs": [],
   "source": [
    "tab_sectors = db['sectors']\n",
    "tab_sectors.delete()\n",
    "sectors = [{\"sector\":s} for s in sectors]\n",
    "\n",
    "tab_sectors.insert_many(sectors)"
   ]
  },
  {
   "cell_type": "code",
   "execution_count": 19,
   "metadata": {},
   "outputs": [
    {
     "data": {
      "text/plain": [
       "{'East': 4, 'Ghouta': 2, 'Homs': 1, 'South': 5, 'West': 3}"
      ]
     },
     "execution_count": 19,
     "metadata": {},
     "output_type": "execute_result"
    }
   ],
   "source": [
    "sector_lookup = {r['sector']:r['id'] for r in tab_sectors.find()}\n",
    "sector_lookup"
   ]
  },
  {
   "cell_type": "markdown",
   "metadata": {},
   "source": [
    "## Sites"
   ]
  },
  {
   "cell_type": "code",
   "execution_count": 20,
   "metadata": {
    "collapsed": true
   },
   "outputs": [],
   "source": [
    "tab_sites = db['sites']\n",
    "tab_sites.delete()\n",
    "\n",
    "fixed_sites = []\n",
    "for site in sites:\n",
    "    fs = {\"site\":site[\"site_id\"],\n",
    "          \"province_id\":province_lookup[site['province']],\n",
    "          \"district_id\":districts_lookup[site['district']],\n",
    "          \"sub_district_id\":sub_districts_lookup[site['sub_district']],\n",
    "          \"region_id\":region_lookup[site['region']],\n",
    "          \"sector_id\":sector_lookup[site['sector']]}\n",
    "    fixed_sites.append(fs)\n",
    "tab_sites.insert_many(fixed_sites)"
   ]
  },
  {
   "cell_type": "code",
   "execution_count": 21,
   "metadata": {
    "collapsed": true
   },
   "outputs": [],
   "source": [
    "sites_lookup = {r['site']:r['id'] for r in tab_sites.find()}"
   ]
  },
  {
   "cell_type": "markdown",
   "metadata": {},
   "source": [
    "## Variables"
   ]
  },
  {
   "cell_type": "code",
   "execution_count": 22,
   "metadata": {
    "collapsed": true
   },
   "outputs": [],
   "source": [
    "variables = [\n",
    "['variable_code','variable_type','category','variable_description','sex','age'],\n",
    "['YM-Code','string','Coding','Month-Year Code','na','na'],\n",
    "['FMY-Code','string','Coding','Facility-Month-Year Code','na','na'],\n",
    "['PMY-Code','string','Coding','Province-Month-Year Code','na','na'],\n",
    "['CMY-Code','string','Coding','Country-Month-Year','na','na'],\n",
    "['RMY-Code','string','Coding','Region-Month-Year','na','na'],\n",
    "['RSMY-Code','string','Coding','Region-Sector-Month-Year','na','na'],\n",
    "['M-Code','string','Coding','Month Code','na','na'],\n",
    "['Y-Code','integer','Coding','Year Code','na','na'],\n",
    "['P-Code','string','Coding','Province Code','na','na'],\n",
    "['C-Code','string','Coding','Country Code','na','na'],\n",
    "['R-Code','string','Coding','Region Code','na','na'],\n",
    "['RS-Code','string','Coding','Region-Sector Code','na','na'],\n",
    "['Enumerator','string','Coding','enumerator','na','na'],\n",
    "['Reporting Status','string','Coding','Reporting Status','na','na'],\n",
    "['Access Status','string','Coding','Access Status','na','na'],\n",
    "['ID','string','Coding','ID','na','na'],\n",
    "['Year','integer','Coding','1Year','na','na'],\n",
    "['Month','string','Coding','1Month','na','na'],\n",
    "['1','string','General Information','Facility Name','na','na'],\n",
    "['2','string','General Information','Province','na','na'],\n",
    "['3','string','General Information','District','na','na'],\n",
    "['4','string','General Information','Sub District','na','na'],\n",
    "['region','string','General Information','Region','na','na'],\n",
    "['sector','string','General Information','Sector','na','na'],\n",
    "['5','integer','General Information','Number of Ward Beds','na','na'],\n",
    "['6','integer','General Information','Number of ICU Beds','na','na'],\n",
    "['7','boolean','Available Services','Emergency Department','na','na'],\n",
    "['7A','integer','Available Services','Total Number of Emergency Consultations','unspecified','unspecified'],\n",
    "['8','boolean','Available Services','Out-Patient Clinics (OPDs)','na','na'],\n",
    "['8A','integer','Available Services','Total Number of Outpatient Consultations','unspecified','unspecified'],\n",
    "['9','boolean','Available Services','In-Patient Services (Ward, ICU)','na','na'],\n",
    "['9A','integer','Available Services','Total Number of In-Patient Consultations','unspecified','unspecified'],\n",
    "['OR','float','Available Services','Occupation Ratio','unspecified','unspecified'],\n",
    "['9B','integer','Available Services','Total Number of admissions','unspecified','unspecified'],\n",
    "['DAVG','float','Available Services','Average Days of Admissions','unspecified','unspecified'],\n",
    "['10A','integer','Mortality (Death Cases) \"Overall\"','Newborn to 1 year - Male','Male','0-1'],\n",
    "['10B','integer','Mortality (Death Cases) \"Overall\"','Newborn to 1 year - Female','Female','0-1'],\n",
    "['11A','integer','Mortality (Death Cases) \"Overall\"','Between 1 year and 5 years- Male','Male','1-5'],\n",
    "['11B','integer','Mortality (Death Cases) \"Overall\"','Between 1 year and 5 years - Female','Female','1-5'],\n",
    "['12A','integer','Mortality (Death Cases) \"Overall\"','Between 5 years and 18 years - Male','Male','5-18'],\n",
    "['12B','integer','Mortality (Death Cases) \"Overall\"','Between 5 years and 18 years - Female','Female','5-18'],\n",
    "['13A','integer','Mortality (Death Cases) \"Overall\"','18+ years - Male','Male','18+'],\n",
    "['13B','integer','Mortality (Death Cases) \"Overall\"','18+ years - Female','Female','18+'],\n",
    "['14','integer','Referral','To other Facility Inside Syria','unspecified','unspecified'],\n",
    "['15','integer','Referral','To other Facility Outside Syria','unspecified','unspecified'],\n",
    "['7E','integer','Emergency Department Details','# of consultations in Internal Medicine ER','unspecified','unspecified'],\n",
    "['7F','integer','Emergency Department Details','# of consultations in Obs&Gyn ER','unspecified','unspecified'],\n",
    "['7G','integer','Emergency Department Details','# of consultations in Pediatric ER','unspecified','unspecified'],\n",
    "['7H','integer','Emergency Department Details','# of consultations in Surgical ER','unspecified','unspecified'],\n",
    "['7I','integer','Emergency Department Details','Total # of Traumatic Cases in Surgical ER','unspecified','unspecified'],\n",
    "['7J','integer','Emergency Department Details','# of War-Related Cases in Surgical ER','unspecified','unspecified'],\n",
    "['7K','integer','Emergency Department Details','# of Non-War-Related Cases in Surgical ER','unspecified','unspecified'],\n",
    "['7L','integer','Emergency Department Details','Total # of Non-Traumatic Cases in Surgical ER','unspecified','unspecified'],\n",
    "['8E','integer','Out-Patient Clinic Details','Total # of consultations in Surgical OPDs','unspecified','unspecified'],\n",
    "['8F','integer','Out-Patient Clinic Details','Total # of consultations in Internal Medicine OPDs','unspecified','unspecified'],\n",
    "['9C1','integer','In-Patient Service Details','In ICU - From ER','unspecified','unspecified'],\n",
    "['9C2','integer','In-Patient Service Details','In ICU - From Out-patient clinic','unspecified','unspecified'],\n",
    "['9D1','integer','In-Patient Service Details','In Ward - From ER','unspecified','unspecified'],\n",
    "['9D2','integer','In-Patient Service Details','In Ward - From Out Patient clinic','unspecified','unspecified'],\n",
    "['9E1','integer','In-Patient Service Details','Total # of admissions - From ER','unspecified','unspecified'],\n",
    "['9E2','integer','In-Patient Service Details','Total # of admissions - From Out Paitient clinic','unspecified','unspecified'],\n",
    "['16','boolean','Surgical Procedures','Major Surgical Procedures','unspecified','unspecified'],\n",
    "['16A','integer','Surgical Procedures','Total # of procedures','unspecified','unspecified'],\n",
    "['16A1','integer','Surgical Procedures','# of war-related emergency surgeries','unspecified','unspecified'],\n",
    "['16A2','integer','Surgical Procedures','# of non-war-related emergency Procedures','unspecified','unspecified'],\n",
    "['16A3','integer','Surgical Procedures','# of war-related elective Procedures','unspecified','unspecified'],\n",
    "['16A4','integer','Surgical Procedures','# of non-war-related elective Procedures','unspecified','unspecified'],\n",
    "['17','boolean','Surgical Procedures','Minor Surgical Procedures','unspecified','unspecified'],\n",
    "['17A','integer','Surgical Procedures','Total # of procedures','unspecified','unspecified'],\n",
    "['16B1','integer','General Surgery','War Related Procedures','Male','0-18'],\n",
    "['16B2','integer','General Surgery','War Related Procedures','Male','18+'],\n",
    "['16B3','integer','General Surgery','War Related Procedures','Female','0-18'],\n",
    "['16B4','integer','General Surgery','War Related Procedures','Female','18+'],\n",
    "['16B5','integer','General Surgery','Number of Non-War-Related Procedures','unspecified','unspecified'],\n",
    "['16C1','integer','Orthopaedic Surgery','War Related Procedures','Male','0-18'],\n",
    "['16C2','integer','Orthopaedic Surgery','War Related Procedures','Male','18+'],\n",
    "['16C3','integer','Orthopaedic Surgery','War Related Procedures','Female','0-18'],\n",
    "['16C4','integer','Orthopaedic Surgery','War Related Procedures','Female','18+'],\n",
    "['16C5','integer','Orthopaedic Surgery','Number of Non-War-Related Procedures','unspecified','unspecified'],\n",
    "['16D1','integer','Lower Limb Amputation','War Related Procedures','Male','0-18'],\n",
    "['16D2','integer','Lower Limb Amputation','War Related Procedures','Male','18+'],\n",
    "['16D3','integer','Lower Limb Amputation','War Related Procedures','Female','0-18'],\n",
    "['16D4','integer','Lower Limb Amputation','War Related Procedures','Female','18+'],\n",
    "['16D5','integer','Lower Limb Amputation','Number of Non-War-Related Procedures','unspecified','unspecified'],\n",
    "['16E1','integer','Upper Limb Amputation','War Related Procedures','Male','0-18'],\n",
    "['16E2','integer','Upper Limb Amputation','War Related Procedures','Male','18+'],\n",
    "['16E3','integer','Upper Limb Amputation','War Related Procedures','Female','0-18'],\n",
    "['16E4','integer','Upper Limb Amputation','War Related Procedures','Female','18+'],\n",
    "['16E5','integer','Upper Limb Amputation','Number of Non-War-Related Procedures','unspecified','unspecified'],\n",
    "['16F1','integer','Vascular Surgery','War Related Procedures','Male','0-18'],\n",
    "['16F2','integer','Vascular Surgery','War Related Procedures','Male','18+'],\n",
    "['16F3','integer','Vascular Surgery','War Related Procedures','Female','0-18'],\n",
    "['16F4','integer','Vascular Surgery','War Related Procedures','Female','18+'],\n",
    "['16F5','integer','Vascular Surgery','Number of Non-War-Related Procedures','unspecified','unspecified'],\n",
    "['16G1','integer','Urologic Surgery','War Related Procedures','Male','0-18'],\n",
    "['16G2','integer','Urologic Surgery','War Related Procedures','Male','18+'],\n",
    "['16G3','integer','Urologic Surgery','War Related Procedures','Female','0-18'],\n",
    "['16G4','integer','Urologic Surgery','War Related Procedures','Female','18+'],\n",
    "['16G5','integer','Urologic Surgery','Number of Non-War-Related Procedures','unspecified','unspecified'],\n",
    "['16H1','integer','Neuro Surgery','War Related Procedures','Male','0-18'],\n",
    "['16H2','integer','Neuro Surgery','War Related Procedures','Male','18+'],\n",
    "['16H3','integer','Neuro Surgery','War Related Procedures','Female','0-18'],\n",
    "['16H4','integer','Neuro Surgery','War Related Procedures','Female','18+'],\n",
    "['16H5','integer','Neuro Surgery','Number of Non-War-Related Procedures','unspecified','unspecified'],\n",
    "['16I1','integer','Ophthalmic Surgery','War Related Procedures','Male','0-18'],\n",
    "['16I2','integer','Ophthalmic Surgery','War Related Procedures','Male','18+'],\n",
    "['16I3','integer','Ophthalmic Surgery','War Related Procedures','Female','0-18'],\n",
    "['16I4','integer','Ophthalmic Surgery','War Related Procedures','Female','18+'],\n",
    "['16I5','integer','Ophthalmic Surgery','Number of Non-War-Related Procedures','unspecified','unspecified'],\n",
    "['16J1','integer','Thoracic Surgery','War Related Procedures','Male','0-18'],\n",
    "['16J2','integer','Thoracic Surgery','War Related Procedures','Male','18+'],\n",
    "['16J3','integer','Thoracic Surgery','War Related Procedures','Female','0-18'],\n",
    "['16J4','integer','Thoracic Surgery','War Related Procedures','Female','18+'],\n",
    "['16J5','integer','Thoracic Surgery','Number of Non-War-Related Procedures','unspecified','unspecified'],\n",
    "['16K1','integer','Maxillofacial Surgery','War Related Procedures','Male','0-18'],\n",
    "['16K2','integer','Maxillofacial Surgery','War Related Procedures','Male','18+'],\n",
    "['16K3','integer','Maxillofacial Surgery','War Related Procedures','Female','0-18'],\n",
    "['16K4','integer','Maxillofacial Surgery','War Related Procedures','Female','18+'],\n",
    "['16K5','integer','Maxillofacial Surgery','Number of Non-War-Related Procedures','unspecified','unspecified'],\n",
    "['16L1','integer','ENT Surgery','War Related Procedures','Male','0-18'],\n",
    "['16L2','integer','ENT Surgery','War Related Procedures','Male','18+'],\n",
    "['16L3','integer','ENT Surgery','War Related Procedures','Female','0-18'],\n",
    "['16L4','integer','ENT Surgery','War Related Procedures','Female','18+'],\n",
    "['16L5','integer','ENT Surgery','Number of Non-War-Related Procedures','unspecified','unspecified'],\n",
    "['16M1','integer','Plastic Surgery','War Related Procedures','Male','0-18'],\n",
    "['16M2','integer','Plastic Surgery','War Related Procedures','Male','18+'],\n",
    "['16M3','integer','Plastic Surgery','War Related Procedures','Female','0-18'],\n",
    "['16M4','integer','Plastic Surgery','War Related Procedures','Female','18+'],\n",
    "['16M5','integer','Plastic Surgery','Number of Non-War-Related Procedures','unspecified','unspecified'],\n",
    "['16N1','integer','OBGYN Surgery','War Related Procedures','Male','0-18'],\n",
    "['16N2','integer','OBGYN Surgery','War Related Procedures','Male','18+'],\n",
    "['16N3','integer','OBGYN Surgery','War Related Procedures','Female','0-18'],\n",
    "['16N4','integer','OBGYN Surgery','War Related Procedures','Female','18+'],\n",
    "['16N5','integer','OBGYN Surgery','Number of Non-War-Related Procedures','Female','unspecified'],\n",
    "['16O5','integer','Deliveries','Normal Deliveries','Female','unspecified'],\n",
    "['16P5','integer','Deliveries','C-Sections','Female','unspecified']\n",
    "]"
   ]
  },
  {
   "cell_type": "code",
   "execution_count": 23,
   "metadata": {
    "collapsed": true
   },
   "outputs": [],
   "source": [
    "variable_header = variables[0]\n",
    "variables = variables[1:]\n",
    "variables = [dict(zip(variable_header,var)) for var in variables]"
   ]
  },
  {
   "cell_type": "markdown",
   "metadata": {},
   "source": [
    "### Indicator Categories"
   ]
  },
  {
   "cell_type": "code",
   "execution_count": 24,
   "metadata": {},
   "outputs": [
    {
     "data": {
      "text/plain": [
       "{'Available Services': 8,\n",
       " 'Coding': 7,\n",
       " 'Deliveries': 15,\n",
       " 'ENT Surgery': 1,\n",
       " 'Emergency Department Details': 5,\n",
       " 'General Information': 14,\n",
       " 'General Surgery': 18,\n",
       " 'In-Patient Service Details': 20,\n",
       " 'Lower Limb Amputation': 21,\n",
       " 'Maxillofacial Surgery': 9,\n",
       " 'Mortality (Death Cases) \"Overall\"': 23,\n",
       " 'Neuro Surgery': 3,\n",
       " 'OBGYN Surgery': 6,\n",
       " 'Ophthalmic Surgery': 16,\n",
       " 'Orthopaedic Surgery': 19,\n",
       " 'Out-Patient Clinic Details': 17,\n",
       " 'Plastic Surgery': 12,\n",
       " 'Referral': 4,\n",
       " 'Surgical Procedures': 13,\n",
       " 'Thoracic Surgery': 22,\n",
       " 'Upper Limb Amputation': 10,\n",
       " 'Urologic Surgery': 2,\n",
       " 'Vascular Surgery': 11}"
      ]
     },
     "execution_count": 24,
     "metadata": {},
     "output_type": "execute_result"
    }
   ],
   "source": [
    "tab_var_categories = db['indicator_categories']\n",
    "tab_var_categories.delete()\n",
    "varcatset = set([r['category'] for r in variables])\n",
    "varcatrecs = [{\"name\":v} for v in varcatset]\n",
    "tab_var_categories.insert_many(varcatrecs)\n",
    "varcatlookup = {r['name']:r['id'] for r in tab_var_categories.find()}\n",
    "varcatlookup"
   ]
  },
  {
   "cell_type": "markdown",
   "metadata": {},
   "source": [
    "### Age Groups"
   ]
  },
  {
   "cell_type": "code",
   "execution_count": 25,
   "metadata": {},
   "outputs": [
    {
     "data": {
      "text/plain": [
       "{'0-1': 5, '0-18': 6, '1-5': 4, '18+': 7, '5-18': 2, 'na': 1, 'unspecified': 3}"
      ]
     },
     "execution_count": 25,
     "metadata": {},
     "output_type": "execute_result"
    }
   ],
   "source": [
    "tab_age_groups = db['age_groups']\n",
    "tab_age_groups.delete()\n",
    "age_group_set = set([r['age'] for r in variables])\n",
    "age_group_recs = [{\"age_group\":ag} for ag in age_group_set]\n",
    "tab_age_groups.insert_many(age_group_recs)\n",
    "age_group_lookup = {r['age_group']:r['id'] for r in tab_age_groups.find()}\n",
    "age_group_lookup"
   ]
  },
  {
   "cell_type": "markdown",
   "metadata": {},
   "source": [
    "### Sex Groups"
   ]
  },
  {
   "cell_type": "code",
   "execution_count": 26,
   "metadata": {},
   "outputs": [
    {
     "data": {
      "text/plain": [
       "{'Female': 2, 'Male': 1, 'na': 3, 'unspecified': 4}"
      ]
     },
     "execution_count": 26,
     "metadata": {},
     "output_type": "execute_result"
    }
   ],
   "source": [
    "tab_sex_groups = db['sex_groups']\n",
    "tab_sex_groups.delete()\n",
    "sex_group_set = set([r['sex'] for r in variables])\n",
    "sex_group_recs = [{'sex_group':sg} for sg in sex_group_set]\n",
    "tab_sex_groups.insert_many(sex_group_recs)\n",
    "sex_group_lookup = {r['sex_group']:r['id'] for r in tab_sex_groups.find()}\n",
    "sex_group_lookup"
   ]
  },
  {
   "cell_type": "markdown",
   "metadata": {},
   "source": [
    "## Indicators"
   ]
  },
  {
   "cell_type": "code",
   "execution_count": 27,
   "metadata": {},
   "outputs": [
    {
     "data": {
      "text/plain": [
       "{'age': 'na',\n",
       " 'category': 'Coding',\n",
       " 'sex': 'na',\n",
       " 'variable_code': 'RSMY-Code',\n",
       " 'variable_description': 'Region-Sector-Month-Year',\n",
       " 'variable_type': 'string'}"
      ]
     },
     "execution_count": 27,
     "metadata": {},
     "output_type": "execute_result"
    }
   ],
   "source": [
    "variables[5]"
   ]
  },
  {
   "cell_type": "code",
   "execution_count": 28,
   "metadata": {
    "collapsed": true
   },
   "outputs": [],
   "source": [
    "indicator_records = []\n",
    "\n",
    "for v in variables:\n",
    "    ir = {\"code\":v['variable_code'],\n",
    "         \"age_id\":age_group_lookup[v['age']],\n",
    "         \"indicator_category_id\":varcatlookup[v['category']],\n",
    "         \"sex_id\":sex_group_lookup[v['sex']],\n",
    "         \"description\":v['variable_description'],\n",
    "         \"indicator_type\":v['variable_type']}\n",
    "    indicator_records.append(ir)"
   ]
  },
  {
   "cell_type": "code",
   "execution_count": 29,
   "metadata": {},
   "outputs": [
    {
     "data": {
      "text/plain": [
       "{'age_id': 1,\n",
       " 'code': 'RSMY-Code',\n",
       " 'description': 'Region-Sector-Month-Year',\n",
       " 'indicator_category_id': 7,\n",
       " 'indicator_type': 'string',\n",
       " 'sex_id': 3}"
      ]
     },
     "execution_count": 29,
     "metadata": {},
     "output_type": "execute_result"
    }
   ],
   "source": [
    "indicator_records[5]"
   ]
  },
  {
   "cell_type": "code",
   "execution_count": 30,
   "metadata": {},
   "outputs": [],
   "source": [
    "tab_indicators = db['indicators']\n",
    "tab_indicators.delete()\n",
    "\n",
    "tab_indicators.insert_many(indicator_records)\n",
    "\n",
    "indicator_lookup = {r['code']:r['id'] for r in tab_indicators.find()}"
   ]
  },
  {
   "cell_type": "markdown",
   "metadata": {},
   "source": [
    "## Data"
   ]
  },
  {
   "cell_type": "code",
   "execution_count": 31,
   "metadata": {},
   "outputs": [],
   "source": [
    "# Load the CSV file\n",
    "values = []\n",
    "with open('working_data.csv','r',encoding='utf-8-sig') as csvfile:\n",
    "    reader = csv.DictReader(csvfile)\n",
    "    for row in reader:\n",
    "        values.append(row)"
   ]
  },
  {
   "cell_type": "code",
   "execution_count": 32,
   "metadata": {
    "scrolled": false
   },
   "outputs": [],
   "source": [
    "from collections import OrderedDict\n",
    "# Need a calculated date\n",
    "new_rows = []\n",
    "for row in values:\n",
    "    nr = OrderedDict()\n",
    "    d = '20' + row['Y-Code'] + \"-\" + row['M-Code'] + \"-01\"\n",
    "    nr['data_date'] = d\n",
    "    for key in row.keys():\n",
    "        if row[key] == '':\n",
    "            nr[key] = None\n",
    "        else:\n",
    "            nr[key] = row[key]\n",
    "    new_rows.append(nr)"
   ]
  },
  {
   "cell_type": "code",
   "execution_count": 33,
   "metadata": {
    "collapsed": true
   },
   "outputs": [],
   "source": [
    "skip_cols = [\n",
    "\"data_date\",\n",
    "\"YM-Code\",\n",
    "\"FMY-Code\",\n",
    "\"PMY-Code\",\n",
    "\"CMY-Code\",\n",
    "\"RMY-Code\",\n",
    "\"RSMY-Code\",\n",
    "\"M-Code\",\n",
    "\"Y-Code\",\n",
    "\"P-Code\",\n",
    "\"C-Code\",\n",
    "\"R-Code\",\n",
    "\"RS-Code\",\n",
    "\"Enumerator\",\n",
    "\"ID\",\n",
    "\"Year\",\n",
    "\"Month\",\n",
    "\"1\",\n",
    "\"2\",\n",
    "\"3\",\n",
    "\"4\",\n",
    "\"region\",\n",
    "\"sector\"\n",
    "]\n",
    "\n",
    "blank_reports = [\n",
    "    \"Not Included\",\n",
    "    \"Inaccessible\",\n",
    "    \"Closed\",\n",
    "    \"Denied\"\n",
    "]\n",
    "\n",
    "blank_fields_to_include = [\n",
    "    \"Reporting Status\",\n",
    "    \"Access Status\",\n",
    "]"
   ]
  },
  {
   "cell_type": "code",
   "execution_count": 34,
   "metadata": {},
   "outputs": [],
   "source": [
    "insert_rows = []\n",
    "\n",
    "for row in new_rows:\n",
    "    d = row['data_date']\n",
    "    y = int(row['data_date'].split(\"-\")[0])\n",
    "    m = int(row['data_date'].split('-')[1])\n",
    "    site_id = sites_lookup[row['ID']]\n",
    "    \n",
    "    # We don't have most data for this row\n",
    "    if row['Reporting Status'] in blank_reports:\n",
    "        for field in blank_fields_to_include:\n",
    "            rec = {\"data_date\":d,\n",
    "                   \"year\":y,\n",
    "                   \"month\":m,\n",
    "                   \"site_id\":site_id,\n",
    "                   \"indicator_id\":indicator_lookup[field],\n",
    "                   \"value\":row[field]}\n",
    "            insert_rows.append(rec)\n",
    "    else:\n",
    "        for key in row.keys():\n",
    "            if key in skip_cols:\n",
    "                continue\n",
    "            else:\n",
    "                rec = {\"data_date\":d,\n",
    "                      \"year\":y,\n",
    "                      \"month\":m,\n",
    "                      \"site_id\":site_id,\n",
    "                      \"indicator_id\":indicator_lookup[key],\n",
    "                      \"value\":row[key]}\n",
    "                insert_rows.append(rec)"
   ]
  },
  {
   "cell_type": "code",
   "execution_count": 35,
   "metadata": {
    "collapsed": true
   },
   "outputs": [],
   "source": [
    "tab_data = db['data']\n",
    "tab_data.delete()\n",
    "tab_data.insert_many(insert_rows)"
   ]
  },
  {
   "cell_type": "code",
   "execution_count": 36,
   "metadata": {},
   "outputs": [
    {
     "data": {
      "text/plain": [
       "True"
      ]
     },
     "execution_count": 36,
     "metadata": {},
     "output_type": "execute_result"
    }
   ],
   "source": [
    "# Remove null values\n",
    "tab_data.delete(value=None)"
   ]
  },
  {
   "cell_type": "code",
   "execution_count": null,
   "metadata": {
    "collapsed": true
   },
   "outputs": [],
   "source": []
  }
 ],
 "metadata": {
  "kernelspec": {
   "display_name": "Python 3",
   "language": "python",
   "name": "python3"
  },
  "language_info": {
   "codemirror_mode": {
    "name": "ipython",
    "version": 3
   },
   "file_extension": ".py",
   "mimetype": "text/x-python",
   "name": "python",
   "nbconvert_exporter": "python",
   "pygments_lexer": "ipython3",
   "version": "3.6.1"
  }
 },
 "nbformat": 4,
 "nbformat_minor": 2
}
