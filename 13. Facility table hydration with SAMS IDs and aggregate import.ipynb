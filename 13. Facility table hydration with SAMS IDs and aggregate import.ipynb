{
 "cells": [
  {
   "cell_type": "code",
   "execution_count": 1,
   "metadata": {
    "collapsed": true
   },
   "outputs": [],
   "source": [
    "# Manipulate the file system\n",
    "import os\n",
    "import shutil\n",
    "\n",
    "# Copy dictionaries\n",
    "import copy\n",
    "\n",
    "# Regular expressions\n",
    "import re\n",
    "\n",
    "# Display errors in realtime\n",
    "import ipywidgets as widgets\n",
    "\n",
    "# work with dates\n",
    "import datetime\n",
    "import arrow\n",
    "import time\n",
    "\n",
    "# For scrubbing PII\n",
    "import hashlib\n",
    "\n",
    "# Convert stored string representation of a list to a list\n",
    "import ast\n",
    "\n",
    "# Recurse through a directory tree and return file names with glob\n",
    "import glob\n",
    "\n",
    "# Decode and re-encode mangled Arabic file names\n",
    "import codecs\n",
    "\n",
    "# Connect to a SQLite database in a lazy manner.\n",
    "import sqlalchemy\n",
    "import dataset\n",
    "\n",
    "# Enables opening and reading of Excel files\n",
    "import openpyxl\n",
    "\n",
    "# Import Pandas for easy importing of an excel file\n",
    "import csv\n",
    "\n",
    "# Translating variables, sheet names, and workbook names from Arabic\n",
    "# This is NOT free to use.\n",
    "from google.cloud import translate\n",
    "\n",
    "# Set the environment variable for the Google Service Account\n",
    "os.environ['GOOGLE_APPLICATION_CREDENTIALS'] = 'C:\\\\Users\\\\clay\\\\Documents\\\\fxb-lcs-2b24f4f8a73a.json'"
   ]
  },
  {
   "cell_type": "code",
   "execution_count": 2,
   "metadata": {},
   "outputs": [
    {
     "name": "stdout",
     "output_type": "stream",
     "text": [
      "Removed template clone sams_data_phase13.sqlite\n",
      "Created database from template: sams_data_phase13.sqlite\n"
     ]
    }
   ],
   "source": [
    "#If there's an existing db for this sheet, delete it\n",
    "#so that we can copy from the template for a fresh start\n",
    "\n",
    "try:\n",
    "    os.remove(\"sams_data_phase13.sqlite\")\n",
    "    print(\"Removed template clone sams_data_phase13.sqlite\")\n",
    "except:\n",
    "    pass\n",
    "\n",
    "try:\n",
    "    # Try to preserve a copy in case there is a problem and it has to be restored\n",
    "    shutil.copy2(\"sams_data_phase13_template.sqlite\",\"sams_data_phase13.sqlite\")\n",
    "    \n",
    "    print(\"Created database from template: sams_data_phase13.sqlite\")\n",
    "except:\n",
    "    pass"
   ]
  },
  {
   "cell_type": "markdown",
   "metadata": {},
   "source": [
    "Changes were made to the facilities table to include parenting information and codes for SAMS facilities. This CSV file should replace the facilities table in the database."
   ]
  },
  {
   "cell_type": "code",
   "execution_count": 3,
   "metadata": {
    "collapsed": true
   },
   "outputs": [],
   "source": [
    "fac_file = \"facility_table_hydration_16-NOV-2017.csv\"\n",
    "\n",
    "# These columns should be inserted as integers\n",
    "int_cols = [\n",
    "    'id',\n",
    "    'openstatus',\n",
    "    'country_id',\n",
    "    'governorate_id',\n",
    "    'district_id',\n",
    "    'subdistrict_id',\n",
    "    'aleppo',\n",
    "    'facility_parent_id'\n",
    "]\n",
    "\n",
    "# These columns should be NULL if they are an empty string.\n",
    "null_cols = [\n",
    "    'dateopened',\n",
    "    'dateclosed',\n",
    "    'reopened1',\n",
    "    'closed1',\n",
    "    'reopened2',\n",
    "    'closed2',\n",
    "    'phc',\n",
    "    'rh',\n",
    "    'mentalhealth',\n",
    "    'orthopedic',\n",
    "    'icu',\n",
    "    'er',\n",
    "    'pediatric',\n",
    "    'dental',\n",
    "    'organization',\n",
    "    'facility_type',\n",
    "    'governorate',\n",
    "    'district',\n",
    "    'subdistrict',\n",
    "    'country_id',\n",
    "    'governorate_id',\n",
    "    'district_id',\n",
    "    'subdistrict_id',\n",
    "    'aleppo',\n",
    "    'facility_parent_id',\n",
    "    'needs_review',\n",
    "    'duplicate_note'\n",
    "]\n",
    "\n",
    "facility_data = []\n",
    "\n",
    "with open(fac_file,'r',encoding='utf-8-sig') as csvfile:\n",
    "    csvreader = csv.reader(csvfile)\n",
    "    \n",
    "    # Get the header\n",
    "    header = next(csvreader)\n",
    "    \n",
    "    # Iterate through the rows after the header\n",
    "    for row in csvreader:\n",
    "        \n",
    "        # Create a dict out of each row, using the \n",
    "        # parallel header values as the keys for the dict\n",
    "        rowdict = dict(zip(header,row))\n",
    "        \n",
    "        for col in int_cols:\n",
    "            try:\n",
    "                rowdict[col] = int(rowdict[col])\n",
    "            except:\n",
    "                pass\n",
    "            \n",
    "        for col in null_cols:\n",
    "            try:\n",
    "                if rowdict[col].strip() == '':\n",
    "                    rowdict[col] = None\n",
    "            except:\n",
    "                pass\n",
    "            \n",
    "        facility_data.append(rowdict)\n",
    "            "
   ]
  },
  {
   "cell_type": "code",
   "execution_count": 4,
   "metadata": {
    "collapsed": true
   },
   "outputs": [],
   "source": [
    "db = dataset.connect(\"sqlite:///sams_data_phase13.sqlite\")"
   ]
  },
  {
   "cell_type": "code",
   "execution_count": 5,
   "metadata": {
    "collapsed": true
   },
   "outputs": [],
   "source": [
    "# Remove the existing table and then add the imported data as the new table.\n",
    "# This should pretty much be a drop-in replacement\n",
    "try:\n",
    "    db['facilities'].drop()\n",
    "except:\n",
    "    pass\n",
    "\n",
    "tab_facilities = db['facilities']"
   ]
  },
  {
   "cell_type": "code",
   "execution_count": 6,
   "metadata": {
    "collapsed": true
   },
   "outputs": [],
   "source": [
    "for row in facility_data:\n",
    "    tab_facilities.insert(row)"
   ]
  },
  {
   "cell_type": "markdown",
   "metadata": {},
   "source": [
    "There are few facilities called out as being problematic. Address those here. Note that there is no facility with id 70 and I'm not sure why that is the case. Perhaps it was an obvious duplicate and deleted? The only one marked as delete is facility with id number 309.\n",
    "\n",
    "Note: I'm leaving all of them in the facilities table for now because the files reference some of the \"duplicates.\"\n",
    "\n",
    "----\n",
    "\n",
    "#### Import the aggregate SAMS data and transform it, then store it in the database"
   ]
  },
  {
   "cell_type": "code",
   "execution_count": 7,
   "metadata": {
    "collapsed": true
   },
   "outputs": [],
   "source": [
    "agg_file = 'sams_monthly_aggregate_with_id_16-NOV-2017.csv'"
   ]
  },
  {
   "cell_type": "code",
   "execution_count": 8,
   "metadata": {
    "collapsed": true
   },
   "outputs": [],
   "source": [
    "raw_aggregate_data = []\n",
    "\n",
    "with open(agg_file,'r',encoding='utf-8-sig') as csvfile:\n",
    "    csvreader = csv.reader(csvfile)\n",
    "    \n",
    "    # Get the header\n",
    "    header = next(csvreader)\n",
    "    \n",
    "    # Iterate through the rows after the header\n",
    "    for row in csvreader:\n",
    "        \n",
    "        # Create a dict out of each row, using the \n",
    "        # parallel header values as the keys for the dict\n",
    "        rowdict = dict(zip(header,row))\n",
    "        raw_aggregate_data.append(rowdict)\n",
    "        "
   ]
  },
  {
   "cell_type": "code",
   "execution_count": 9,
   "metadata": {},
   "outputs": [],
   "source": [
    "cleaned_aggregate_data = []\n",
    "\n",
    "desc_keys = [\n",
    "    \"facility_code\",\n",
    "    \"facility_name\",\n",
    "    \"country\",\n",
    "    \"governorate\",\n",
    "    \"district\",\n",
    "    \"year\",\n",
    "    \"month\",\n",
    "    \"day\",\n",
    "    \"date\"\n",
    "]\n",
    "\n",
    "for row in raw_aggregate_data:\n",
    "    facility_code = row['facility_code'].strip()\n",
    "    facility_name = row['facility_name'].strip()\n",
    "    country = row['country'].strip()\n",
    "    governorate = row['governorate'].strip()\n",
    "    district = row['district'].strip()\n",
    "    year = int(row['year'])\n",
    "    month = int(row['month'])\n",
    "    day = int(row['day'])\n",
    "    date = arrow.get(row['date'],'M/D/YYYY').date()\n",
    "    \n",
    "    for key in row.keys():\n",
    "        if key in desc_keys:\n",
    "            continue\n",
    "        \n",
    "        value = row[key]\n",
    "        if value is None:\n",
    "            continue\n",
    "        if value.strip() == '':\n",
    "            continue\n",
    "        \n",
    "        try:\n",
    "            int_val = int(value)\n",
    "            if int_val == 0:\n",
    "                continue\n",
    "            else:\n",
    "                data_point = {}\n",
    "                data_point['facility_code'] = facility_code\n",
    "                data_point['facility_name'] = facility_name\n",
    "                data_point['country'] = country\n",
    "                data_point['governorate'] = governorate\n",
    "                data_point['district'] = district\n",
    "                data_point['year'] = year\n",
    "                data_point['month'] = month\n",
    "                data_point['day'] = day\n",
    "                data_point['date'] = date\n",
    "                data_point['metric'] = key.strip()\n",
    "                data_point['metric_value'] = int_val\n",
    "                \n",
    "                cleaned_aggregate_data.append(data_point)\n",
    "        except:\n",
    "            pass"
   ]
  },
  {
   "cell_type": "code",
   "execution_count": 10,
   "metadata": {},
   "outputs": [
    {
     "data": {
      "text/plain": [
       "28968"
      ]
     },
     "execution_count": 10,
     "metadata": {},
     "output_type": "execute_result"
    }
   ],
   "source": [
    "len(cleaned_aggregate_data)"
   ]
  },
  {
   "cell_type": "code",
   "execution_count": 11,
   "metadata": {
    "collapsed": true
   },
   "outputs": [],
   "source": [
    "tab_agg = db['aggregate_sams']"
   ]
  },
  {
   "cell_type": "code",
   "execution_count": 12,
   "metadata": {
    "collapsed": true
   },
   "outputs": [],
   "source": [
    "tab_agg.insert_many(cleaned_aggregate_data)"
   ]
  },
  {
   "cell_type": "code",
   "execution_count": 13,
   "metadata": {},
   "outputs": [
    {
     "data": {
      "text/plain": [
       "'sams_data_phase14_template.sqlite'"
      ]
     },
     "execution_count": 13,
     "metadata": {},
     "output_type": "execute_result"
    }
   ],
   "source": [
    "# Copy the database over as the template for the next file.\n",
    "\n",
    "# Do not rerun this cell!\n",
    "shutil.copy2('sams_data_phase13.sqlite','sams_data_phase14_template.sqlite')"
   ]
  },
  {
   "cell_type": "code",
   "execution_count": null,
   "metadata": {
    "collapsed": true
   },
   "outputs": [],
   "source": []
  }
 ],
 "metadata": {
  "kernelspec": {
   "display_name": "Python 3",
   "language": "python",
   "name": "python3"
  },
  "language_info": {
   "codemirror_mode": {
    "name": "ipython",
    "version": 3
   },
   "file_extension": ".py",
   "mimetype": "text/x-python",
   "name": "python",
   "nbconvert_exporter": "python",
   "pygments_lexer": "ipython3",
   "version": "3.6.1"
  }
 },
 "nbformat": 4,
 "nbformat_minor": 2
}
