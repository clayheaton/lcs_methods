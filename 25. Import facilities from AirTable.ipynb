{
 "cells": [
  {
   "cell_type": "code",
   "execution_count": 1,
   "metadata": {
    "collapsed": true
   },
   "outputs": [],
   "source": [
    "# Manipulate the file system\n",
    "import os\n",
    "import shutil\n",
    "import datetime\n",
    "import arrow\n",
    "import requests\n",
    "\n",
    "import hashlib\n",
    "\n",
    "from time import sleep\n",
    "\n",
    "# Display errors in realtime\n",
    "import ipywidgets as widgets\n",
    "import time\n",
    "import re\n",
    "\n",
    "# This used to be a part of dataset but was extracted to its own library\n",
    "# https://github.com/pudo/datafreeze\n",
    "from datafreeze import freeze\n",
    "\n",
    "# Export database table to CSV\n",
    "import csv\n",
    "\n",
    "# Copy dictionaries\n",
    "import copy\n",
    "\n",
    "# Convert stored string representation of a list to a list\n",
    "import ast\n",
    "\n",
    "# Recurse through a directory tree and return file names with glob\n",
    "import glob\n",
    "\n",
    "# Decode and re-encode mangled Arabic file names\n",
    "import codecs\n",
    "\n",
    "# Connect to a SQLite database in a lazy manner.\n",
    "import dataset\n",
    "import sqlalchemy\n",
    "\n",
    "# Enables opening and reading of Excel files\n",
    "import openpyxl\n",
    "\n",
    "# Translating variables, sheet names, and workbook names from Arabic\n",
    "# This is NOT free to use.\n",
    "from google.cloud import translate\n",
    "\n",
    "# Set the environment variable for the Google Service Account\n",
    "os.environ['GOOGLE_APPLICATION_CREDENTIALS'] = 'C:\\\\Users\\\\clay\\\\Documents\\\\fxb-lcs-2b24f4f8a73a.json'"
   ]
  },
  {
   "cell_type": "code",
   "execution_count": 2,
   "metadata": {},
   "outputs": [
    {
     "name": "stdout",
     "output_type": "stream",
     "text": [
      "Removed template clone  sams_data_phase25.sqlite\n",
      "Created database from template:  sams_data_phase25.sqlite\n"
     ]
    }
   ],
   "source": [
    "#If there's an existing db for this sheet, delete it\n",
    "#so that we can copy from the template for a fresh start\n",
    "new_db_name = \"sams_data_phase25.sqlite\"\n",
    "\n",
    "try:\n",
    "    os.remove(new_db_name)\n",
    "    print(\"Removed template clone \", new_db_name)\n",
    "except:\n",
    "    pass\n",
    "\n",
    "try:\n",
    "    # Try to preserve a copy in case there is a problem and it has to be restored\n",
    "    shutil.copy2(\"sams_data_phase24_output_2018-04-08.sqlite\",new_db_name)\n",
    "    \n",
    "    print(\"Created database from template: \", new_db_name)\n",
    "except:\n",
    "    pass"
   ]
  },
  {
   "cell_type": "code",
   "execution_count": 3,
   "metadata": {
    "collapsed": true
   },
   "outputs": [],
   "source": [
    "# AirTable API key\n",
    "\n",
    "airtable_key = \"Bearer REDACTED\" #\"Authorization: Bearer YOUR_API_KEY\"\n",
    "request_headers = {\n",
    "    \"Authorization\": airtable_key,\n",
    "    \"Content-type\": \"application/json\"\n",
    "}\n",
    "base_url = \"https://api.airtable.com/v0/app6szidbcJlRxj5g/\"\n",
    "#response = requests.get(\"https://api.airtable.com/v0/app6szidbcJlRxj5g/countries\", headers=request_headers)"
   ]
  },
  {
   "cell_type": "code",
   "execution_count": 4,
   "metadata": {
    "collapsed": true
   },
   "outputs": [],
   "source": [
    "#response.status_code"
   ]
  },
  {
   "cell_type": "code",
   "execution_count": 5,
   "metadata": {
    "collapsed": true,
    "scrolled": false
   },
   "outputs": [],
   "source": [
    "# j = response.json()\n",
    "# j['records'][0]"
   ]
  },
  {
   "cell_type": "markdown",
   "metadata": {},
   "source": [
    "A record looks like..\n",
    "\n",
    "```\n",
    "{'createdTime': '2018-04-12T00:31:52.000Z',\n",
    " 'fields': {'Name': 'Lebanon',\n",
    "  'facilities': ['recrdrwrxBP3x80In',\n",
    "   'recTD0aDLWLnAByou',\n",
    "   'rectfTbBWyM1YQXn4',\n",
    "   'recRLHVj2skUkUNBW',\n",
    "   'rechm0kgRfDFqxjvJ',\n",
    "   'recb1lR2rNK0QCX4D',\n",
    "   'recp38qKiXRkOLGxv',\n",
    "   'recHS2gucodddPd5P',\n",
    "   'reciesEp9eR407apZ',\n",
    "   'recw58HyQ0Xh6ui71',\n",
    "   'recD5U9wUPGVuv60j'],\n",
    "  'facility_codes': ['SAMS081',\n",
    "   'SAMS040',\n",
    "   'SAMS168',\n",
    "   'SAMS152',\n",
    "   'SAMS047',\n",
    "   'SAMS050',\n",
    "   'SAMS151',\n",
    "   'SAMS030',\n",
    "   'SAMS210',\n",
    "   'SAMS071',\n",
    "   'SAMS072']},\n",
    " 'id': 'rec195re9CCNPh8PF'}\n",
    " ```"
   ]
  },
  {
   "cell_type": "code",
   "execution_count": 6,
   "metadata": {
    "collapsed": true
   },
   "outputs": [],
   "source": [
    "def create_lookup_table():\n",
    "    lookup = {}\n",
    "    \n",
    "    # Countries\n",
    "    countries_response = requests.get(base_url + \"countries\", headers=request_headers)\n",
    "    for rec in countries_response.json()['records']:\n",
    "        lookup[rec['id']] = rec['fields']['Name']\n",
    "    \n",
    "    sleep(1)\n",
    "        \n",
    "    # Governates\n",
    "    gov_response = requests.get(base_url + \"governorates\", headers=request_headers)\n",
    "    for rec in gov_response.json()['records']:\n",
    "        lookup[rec['id']] = rec['fields']['Name']\n",
    "        \n",
    "    sleep(1)\n",
    "    \n",
    "    # Districts\n",
    "    dist_response = requests.get(base_url + \"districts\", headers=request_headers)\n",
    "    for rec in dist_response.json()['records']:\n",
    "        lookup[rec['id']] = rec['fields']['Name']\n",
    "        \n",
    "    sleep(1)\n",
    "    \n",
    "    subd_response = requests.get(base_url + \"subdistricts\", headers=request_headers)\n",
    "    for rec in subd_response.json()['records']:\n",
    "        lookup[rec['id']] = rec['fields']['Name']\n",
    "        \n",
    "    return lookup"
   ]
  },
  {
   "cell_type": "code",
   "execution_count": 7,
   "metadata": {
    "collapsed": true
   },
   "outputs": [],
   "source": [
    "l = create_lookup_table()"
   ]
  },
  {
   "cell_type": "code",
   "execution_count": 8,
   "metadata": {
    "scrolled": true
   },
   "outputs": [
    {
     "data": {
      "text/plain": [
       "{'rec0KCYHvjLw3Fkfg': 'Msaifra',\n",
       " 'rec0VfRGBig2Qd6fe': 'Rachaya',\n",
       " 'rec195re9CCNPh8PF': 'Lebanon',\n",
       " 'rec1k94bekbOjSPNL': 'Deir-ez-Zor',\n",
       " 'rec4AP3SaQb4UJole': 'Mzeireb',\n",
       " 'rec6LqzAJsTbkQ1zZ': 'Salqin',\n",
       " 'rec6ZFUzE33UOwkXF': 'Homs',\n",
       " 'rec7EFQHi4JEOfgZj': 'Larisa',\n",
       " 'rec7KYkjG6cC2qiv4': 'Ehsem',\n",
       " 'rec84nJUkBogjnpgC': 'Bennsh',\n",
       " 'rec8ITGK8rEUdp0BA': 'Kastoria',\n",
       " 'rec8jDpaNHzWgSxfy': 'Daraa',\n",
       " 'rec931r1GpqDfienO': 'Kafr Batna',\n",
       " 'rec93V0FIpbOXNHfh': 'Ryhanlia',\n",
       " 'rec94mACR9HCQqISf': 'Idlib',\n",
       " 'rec9KzT5JDtOb0jL7': 'Kafr Nobol',\n",
       " 'rec9TSiyiO1SWWAbt': 'Aghtrin',\n",
       " 'recA6tiVKkfDDpnHm': 'Aleppo',\n",
       " 'recAzKkeXXKgpcE4S': 'Katarini',\n",
       " 'recBKjweAglgTKrmm': 'Volos',\n",
       " 'recCLyCzRjt3yhBD9': 'Quneitra',\n",
       " 'recDCndIWNZnON07q': 'Haritan',\n",
       " 'recDLuTPYmbXnSMZ6': 'Idlib',\n",
       " 'recDdgHk9HTQM5BfM': 'Rural Damascus',\n",
       " 'recECoYD2dJms6DmO': 'Quneitra',\n",
       " 'recEY7HiziUzIBfCW': 'Khan Arnaba',\n",
       " 'recEbvTxd5HK4qx67': 'Harim',\n",
       " 'recFXV6VGbip7Vdvy': 'Deir-ez-Zor',\n",
       " 'recFkTmYEFznYsvbj': 'Idlib',\n",
       " 'recGBtufCBBoc2oBV': 'Rehanya',\n",
       " 'recH3uyER1NPvGol2': 'Jisr Ash Shugar',\n",
       " 'recHWzRHkX7d2cfmG': 'Lattakia',\n",
       " 'recIgBQDBHrFzDh1E': 'Irbid',\n",
       " 'recJFhIsY3kINv665': 'Homs',\n",
       " 'recKGGW02zjFIiLcA': 'Arbin',\n",
       " 'recLKtUbdPwcwZFo0': 'Hrak',\n",
       " 'recLTa9Zhkgienrcw': 'Ariha',\n",
       " 'recLgZuwyiO3dfa4F': 'Saraqab',\n",
       " 'recLlGVDccSkhrtmr': 'Greece',\n",
       " 'recMFbfvXPTdgcseP': 'Heish',\n",
       " 'recN1eLu5JugFXPnO': 'Al Mara',\n",
       " 'recN6YoatDWFoQSHT': 'Hama',\n",
       " 'recNQRxNbQYFiEOyD': 'Syria',\n",
       " 'recNVL6pJKfuTPTel': \"Ma'arrat An Nu'man\",\n",
       " 'recObMi0vPq7Ufoyr': 'Unknown',\n",
       " 'recPIkgW9T0BUKj8g': 'Idlib',\n",
       " 'recPXXEZrhGleJFRd': 'As-Sanamayn',\n",
       " 'recPyoXVVXWusvXD2': 'As-Suqaylabiyah',\n",
       " 'recQ2CSmOzrj8buTp': 'Homs',\n",
       " 'recQEHN2exlcQGbQn': 'Taldu',\n",
       " 'recR2PvL3p555HBzo': 'Thessaloniki',\n",
       " 'recR6QFiVnxG6dcat': 'Daret Azza',\n",
       " 'recRWjYbUVjSNt5bF': 'Jasim',\n",
       " 'recRhUEbyrL3aUGG4': 'Sayda',\n",
       " 'recT3ir3NAMcENCVi': 'Kherbet Ghazala',\n",
       " 'recTN5hO0ZBV8XrGE': 'Al Mara',\n",
       " 'recTwOFGQzIJ2VHhT': 'Jordan',\n",
       " 'recU2gzhLxR10srXf': 'Khan Shaykun',\n",
       " 'recU8QG2P0AuTjlsv': 'Jebel Saman',\n",
       " 'recUjdV0pS5VZJXzz': 'Rural Damascus',\n",
       " 'recUmzFMp9p86umYi': 'Al Bab',\n",
       " 'recVgcKq2hSjeaAVU': 'Harasta',\n",
       " 'recWJ0aawb3QoMijW': 'Damascus',\n",
       " 'recWRvTRqiFlOUpsP': 'Atareb',\n",
       " 'recXewuvN4gI0Ak2e': 'Jizeh',\n",
       " 'recYKliYJqCqS8dLo': 'Island',\n",
       " 'recZ2s85ZdYyGDn01': 'Jebel Saman',\n",
       " 'recZCVGTT1nuPP5Ms': 'Daraa',\n",
       " 'recah9dW5euRDNNDP': 'Rif Dimashq',\n",
       " 'recb5gnHtckTAmWGh': 'Damascus',\n",
       " 'recdGV4zS1V09Rtkc': 'Dael',\n",
       " 'recdYa07aieYmgL7Z': 'Quneitra',\n",
       " 'recdxsiDdJQn03zbZ': 'Lattakia',\n",
       " 'receyXszTdhbTUNaU': 'Hama',\n",
       " 'recezPSk7jPTZropJ': 'Tassil',\n",
       " 'recg1YCSwR8oRIKvZ': 'Madiq Castle',\n",
       " 'reciKV2hUI0KnoKvI': 'Herak',\n",
       " 'reciUkZpL7OtvOyeL': 'Bekaa',\n",
       " 'reciXefVzsWnqILxx': 'Sarmin',\n",
       " 'recinUtIctonJZjJT': 'Syria',\n",
       " 'recj4Zg593lOl2dXN': 'Busra Esh-Sham',\n",
       " 'recjsXZ328iO7WhRY': 'Unknown',\n",
       " 'reckXgiyfjbdXQIS1': 'Ghandorah',\n",
       " 'reckjnY8NvNZzfjLS': 'Bekaa+Arsal+ North Lebanon',\n",
       " 'recm354ARdLbhgQ2I': 'Duma',\n",
       " 'recmlWbyEXTIChi9h': 'Arsal',\n",
       " 'recmrqX8vRjZEjRA7': 'Jarablus',\n",
       " 'recnAeye364No2IW2': 'Nawa',\n",
       " 'recno7ZdU27O6IRA1': 'Ash-Shajara',\n",
       " 'recoHslaF7YPdT0UA': 'Izra',\n",
       " 'recocqvME2oixlocs': 'Daraa',\n",
       " 'recozRaCYqLN0rELW': 'Tripoli',\n",
       " 'recpKIdcCNe1ObTLC': 'Muhradah',\n",
       " 'recpMlsB7mqcB4oXK': 'Ariha',\n",
       " 'recpOPFMs1Unk3l9W': 'Janudiyeh',\n",
       " 'recpUBUeofTC2Qpfn': 'Teftnaz',\n",
       " 'recpXj9efCiSFY6TH': \"A'zaz\",\n",
       " 'recr0tWAMabjNK44Q': 'Duma',\n",
       " 'recrAZk5YWAlvnoNu': 'Zahlea',\n",
       " 'recrAwtgh0tRscMgX': 'Damascus',\n",
       " 'recsWA9zH8Swe6OHL': 'Ar-Rastan',\n",
       " 'rectLvqVYihurl6qE': 'As-Sanamayn',\n",
       " 'recuHbmBycxL1Ofcl': 'Kafr Zeita',\n",
       " 'recubdBS6IDfoFv20': \"A'zaz\",\n",
       " 'recuv4CrsNxASLrSJ': 'Dana',\n",
       " 'recvK1UfCqnFiQMqj': 'Al-Khashniyyeh',\n",
       " 'recvz3wKj4BhQR7v9': 'Tripoli',\n",
       " 'recw9qPFnuv4GWowg': 'Kafr Takharim',\n",
       " 'recxHIuOMPNMboEMi': 'Unknown',\n",
       " 'recxWc4HrE1VvFe6H': 'Turkey',\n",
       " 'recxY7jpbRflxNSPW': \"Rabee'a\",\n",
       " 'recyIQsiItWBkRIxS': 'Abu Althour',\n",
       " 'recyfHDnXeExTxAnQ': 'Grevana',\n",
       " 'recyk7efijqrAfhih': 'Badama',\n",
       " 'reczF2Oku9IJX5UnT': 'Harim',\n",
       " 'reczLZCN5X7ttW04E': 'Jisr-Ash-Shugar'}"
      ]
     },
     "execution_count": 8,
     "metadata": {},
     "output_type": "execute_result"
    }
   ],
   "source": [
    "l"
   ]
  },
  {
   "cell_type": "markdown",
   "metadata": {},
   "source": [
    "If there are more records, the response will contain an offset. To fetch the next page of records, include offset in the next request's parameters."
   ]
  },
  {
   "cell_type": "code",
   "execution_count": 9,
   "metadata": {
    "collapsed": true
   },
   "outputs": [],
   "source": [
    "responses = []\n",
    "facilities_response = requests.get(base_url + \"facilities\", headers=request_headers)\n",
    "responses.append(facilities_response.json())\n",
    "\n",
    "while 'offset' in facilities_response.json():\n",
    "    sleep(1)\n",
    "    params = {'offset':facilities_response.json()['offset']}\n",
    "    facilities_response = requests.get(base_url + \"facilities\", \n",
    "                                       headers=request_headers,\n",
    "                                       params=params)\n",
    "    responses.append(facilities_response.json())"
   ]
  },
  {
   "cell_type": "code",
   "execution_count": 10,
   "metadata": {},
   "outputs": [
    {
     "data": {
      "text/plain": [
       "4"
      ]
     },
     "execution_count": 10,
     "metadata": {},
     "output_type": "execute_result"
    }
   ],
   "source": [
    "len(responses)"
   ]
  },
  {
   "cell_type": "code",
   "execution_count": 11,
   "metadata": {
    "collapsed": true
   },
   "outputs": [],
   "source": [
    "#data = facilities_response.json()"
   ]
  },
  {
   "cell_type": "code",
   "execution_count": 12,
   "metadata": {
    "collapsed": true
   },
   "outputs": [],
   "source": [
    "#data['records'][0]"
   ]
  },
  {
   "cell_type": "code",
   "execution_count": 13,
   "metadata": {
    "collapsed": true
   },
   "outputs": [],
   "source": [
    "fac_records = []\n",
    "for data in responses:\n",
    "    for rec in data['records']:\n",
    "        facrec = {}\n",
    "        for key in rec['fields'].keys():\n",
    "            if key in ['# Linked Files','files']:\n",
    "                continue\n",
    "            elif key in ['country', 'governorate', 'district', 'subdistrict']:\n",
    "                facrec[key] = l[rec['fields'][key][0]]\n",
    "            elif rec['fields'][key] == 'No':\n",
    "                facrec[key] = 0\n",
    "            elif rec['fields'][key] == 'Yes':\n",
    "                facrec[key] = 1\n",
    "            elif key == 'facility_id':\n",
    "                facrec['id'] = rec['fields']['facility_id']\n",
    "            else:\n",
    "                facrec[key] = rec['fields'][key]\n",
    "\n",
    "        for f in ['dateopened','dateclosed','reopened1','closed1','reopened2','closed2']:\n",
    "            if f not in facrec.keys():\n",
    "                facrec[f] = None\n",
    "\n",
    "        for f in ['country_id','governorate_id','district_id','subdistrict_id']:\n",
    "            facrec[f] = None\n",
    "\n",
    "        fac_records.append(facrec)"
   ]
  },
  {
   "cell_type": "code",
   "execution_count": 14,
   "metadata": {},
   "outputs": [
    {
     "data": {
      "text/plain": [
       "{'closed1': None,\n",
       " 'closed2': None,\n",
       " 'country': 'Syria',\n",
       " 'country_id': None,\n",
       " 'dateclosed': None,\n",
       " 'dateopened': '2014-01-10',\n",
       " 'dental': 0,\n",
       " 'district': 'Izra',\n",
       " 'district_id': None,\n",
       " 'er': 0,\n",
       " 'facility_code': 'SAMS154',\n",
       " 'facility_type': 'PHC',\n",
       " 'facilityname': 'Muwafeq Dakhl Alla Clinic',\n",
       " 'governorate': 'Daraa',\n",
       " 'governorate_id': None,\n",
       " 'icu': 0,\n",
       " 'id': 60,\n",
       " 'mentalhealth': 0,\n",
       " 'openstatus': 'open',\n",
       " 'organization': 'SAMS',\n",
       " 'orthopedic': 0,\n",
       " 'parent_facility_id': 59,\n",
       " 'pediatric': 0,\n",
       " 'phc': 1,\n",
       " 'reopened1': None,\n",
       " 'reopened2': None,\n",
       " 'rh': 0,\n",
       " 'subdistrict': 'Tassil',\n",
       " 'subdistrict_id': None}"
      ]
     },
     "execution_count": 14,
     "metadata": {},
     "output_type": "execute_result"
    }
   ],
   "source": [
    "fac_records[0]"
   ]
  },
  {
   "cell_type": "code",
   "execution_count": 15,
   "metadata": {
    "collapsed": true
   },
   "outputs": [],
   "source": [
    "db = dataset.connect('sqlite:///' + new_db_name)"
   ]
  },
  {
   "cell_type": "code",
   "execution_count": 16,
   "metadata": {
    "collapsed": true
   },
   "outputs": [],
   "source": [
    "tab_facilities = db['facilities']"
   ]
  },
  {
   "cell_type": "code",
   "execution_count": 17,
   "metadata": {
    "collapsed": true
   },
   "outputs": [],
   "source": [
    "for rec in fac_records:\n",
    "    tab_facilities.update(rec,['id'])"
   ]
  },
  {
   "cell_type": "code",
   "execution_count": 18,
   "metadata": {
    "collapsed": true
   },
   "outputs": [],
   "source": [
    "r = None\n",
    "\n",
    "for rec in fac_records:\n",
    "    if rec['id'] == 1:\n",
    "        r = rec\n",
    "        continue"
   ]
  },
  {
   "cell_type": "code",
   "execution_count": 19,
   "metadata": {},
   "outputs": [
    {
     "data": {
      "text/plain": [
       "{'closed1': None,\n",
       " 'closed2': None,\n",
       " 'country': 'Jordan',\n",
       " 'country_id': None,\n",
       " 'dateclosed': None,\n",
       " 'dateopened': '2017-11-15',\n",
       " 'dental': 1,\n",
       " 'district': 'Unknown',\n",
       " 'district_id': None,\n",
       " 'facility_code': 'SAMS206',\n",
       " 'facility_type': 'Polyclinic',\n",
       " 'facilityname': 'Zaatari',\n",
       " 'governorate': 'Unknown',\n",
       " 'governorate_id': None,\n",
       " 'id': 1,\n",
       " 'mentalhealth': 1,\n",
       " 'openstatus': 'open',\n",
       " 'organization': 'SAMS',\n",
       " 'orthopedic': 1,\n",
       " 'pediatric': 1,\n",
       " 'phc': 1,\n",
       " 'reopened1': None,\n",
       " 'reopened2': None,\n",
       " 'rh': 1,\n",
       " 'subdistrict': 'Unknown',\n",
       " 'subdistrict_id': None}"
      ]
     },
     "execution_count": 19,
     "metadata": {},
     "output_type": "execute_result"
    }
   ],
   "source": [
    "r"
   ]
  },
  {
   "cell_type": "code",
   "execution_count": 20,
   "metadata": {},
   "outputs": [
    {
     "data": {
      "text/plain": [
       "322"
      ]
     },
     "execution_count": 20,
     "metadata": {},
     "output_type": "execute_result"
    }
   ],
   "source": [
    "len(fac_records)"
   ]
  },
  {
   "cell_type": "markdown",
   "metadata": {},
   "source": [
    "## Now run queries to generate the flagged datasets"
   ]
  },
  {
   "cell_type": "code",
   "execution_count": 21,
   "metadata": {
    "collapsed": true
   },
   "outputs": [],
   "source": [
    "# You can change this query to export a different set of data\n",
    "result = db.query(\"\"\"\n",
    "SELECT  files.id as files_id,\n",
    "        files.year,\n",
    "        files.month,\n",
    "        files.year || '-' || files.month || '-01' AS full_date,\n",
    "        facilities.id AS facility_id,\n",
    "        facilities.facility_parent_id,\n",
    "        facilities.facilityname,\n",
    "        facilities.country,\n",
    "        facilities.governorate,\n",
    "        facilities.district,\n",
    "        facilities.subdistrict,\n",
    "        facilities.facility_type,\n",
    "        full_raw_flags.flag_abdomen,\n",
    "        full_raw_flags.flag_abdominal_pain,\n",
    "        full_raw_flags.flag_allergy,\n",
    "        full_raw_flags.flag_anemia,\n",
    "        full_raw_flags.flag_animal_insect_bite,\n",
    "        full_raw_flags.flag_back,\n",
    "        full_raw_flags.flag_blast,\n",
    "        full_raw_flags.flag_bleed,\n",
    "        full_raw_flags.flag_blunt,\n",
    "        full_raw_flags.flag_burn,\n",
    "        full_raw_flags.flag_cancer,\n",
    "        full_raw_flags.flag_cardiovascular,\n",
    "        full_raw_flags.flag_chest,\n",
    "        full_raw_flags.flag_complication,\n",
    "        full_raw_flags.flag_conflict_related,\n",
    "        full_raw_flags.flag_congenital,\n",
    "        full_raw_flags.flag_constipation,\n",
    "        full_raw_flags.flag_dehydration,\n",
    "        full_raw_flags.flag_dental_complaint,\n",
    "        full_raw_flags.flag_derm,\n",
    "        full_raw_flags.flag_diabetes,\n",
    "        full_raw_flags.flag_diarrhea_dysentery,\n",
    "        full_raw_flags.flag_endocrine,\n",
    "        full_raw_flags.flag_ENT,\n",
    "        full_raw_flags.flag_explosive,\n",
    "        full_raw_flags.flag_eye,\n",
    "        full_raw_flags.flag_facial,\n",
    "        full_raw_flags.flag_fatigue,\n",
    "        full_raw_flags.flag_fever,\n",
    "        full_raw_flags.flag_follow_up,\n",
    "        full_raw_flags.flag_fracture,\n",
    "        full_raw_flags.flag_gi_complaint,\n",
    "        full_raw_flags.flag_growth_delay,\n",
    "        full_raw_flags.flag_gu,\n",
    "        full_raw_flags.flag_gunshot,\n",
    "        full_raw_flags.flag_gyn_women,\n",
    "        full_raw_flags.flag_head,\n",
    "        full_raw_flags.flag_headache,\n",
    "        full_raw_flags.flag_history_of,\n",
    "        full_raw_flags.flag_hyperlipidemia,\n",
    "        full_raw_flags.flag_infection,\n",
    "        full_raw_flags.flag_injury,\n",
    "        full_raw_flags.flag_injury_neuro,\n",
    "        full_raw_flags.flag_liver_dysfunction,\n",
    "        full_raw_flags.flag_lower_extremity,\n",
    "        full_raw_flags.flag_malnutrition,\n",
    "        full_raw_flags.flag_mental_health,\n",
    "        full_raw_flags.flag_musculoskeletal_pain,\n",
    "        full_raw_flags.flag_nausea_vomiting,\n",
    "        full_raw_flags.flag_neck,\n",
    "        full_raw_flags.flag_nerve,\n",
    "        full_raw_flags.flag_neuro_complaint,\n",
    "        full_raw_flags.flag_neurologic,\n",
    "        full_raw_flags.flag_orthopedic,\n",
    "        full_raw_flags.flag_other_infection,\n",
    "        full_raw_flags.flag_pain,\n",
    "        full_raw_flags.flag_pelvic,\n",
    "        full_raw_flags.flag_pregnancy,\n",
    "        full_raw_flags.flag_renal,\n",
    "        full_raw_flags.flag_respiratory,\n",
    "        full_raw_flags.flag_shrapnel,\n",
    "        full_raw_flags.flag_spinal,\n",
    "        full_raw_flags.flag_spine,\n",
    "        full_raw_flags.flag_stab,\n",
    "        full_raw_flags.flag_stroke,\n",
    "        full_raw_flags.flag_suspected,\n",
    "        full_raw_flags.flag_traffic_accident,\n",
    "        full_raw_flags.flag_trauma,\n",
    "        full_raw_flags.flag_upper_extremity,\n",
    "        full_raw_flags.flag_urologic,\n",
    "        full_raw_flags.flag_vascular,\n",
    "        full_raw_flags.flag_wound,\n",
    "        full_raw_flags.flag_comprehensive_injury\n",
    "\n",
    "FROM full_raw_flags\n",
    "JOIN files on files.id = full_raw_flags.file_id\n",
    "JOIN facilities on files.facility_id = facilities.id\n",
    "\n",
    "WHERE files.facility_id IS NOT NULL \n",
    "AND files.month IS NOT NULL\n",
    "AND files.skipped = 0\n",
    "AND files.ignore = 0;\n",
    "\"\"\")\n",
    "\n",
    "# This used to be a part of dataset but was extracted to its own library\n",
    "# https://github.com/pudo/datafreeze\n",
    "freeze(result, format='csv', filename='full_raw_flags_2018_04_29.csv')"
   ]
  },
  {
   "cell_type": "code",
   "execution_count": 22,
   "metadata": {},
   "outputs": [
    {
     "data": {
      "text/plain": [
       "'sams_data_phase25_output_2018-04-29.sqlite'"
      ]
     },
     "execution_count": 22,
     "metadata": {},
     "output_type": "execute_result"
    }
   ],
   "source": [
    "# This is optional and will generate a copy of the database that will be gigabytes in size.\n",
    "shutil.copy2(new_db_name,'sams_data_phase25_output_2018-04-29.sqlite')"
   ]
  },
  {
   "cell_type": "markdown",
   "metadata": {},
   "source": [
    "Need to reimport the locations and recreate the locations table."
   ]
  },
  {
   "cell_type": "code",
   "execution_count": null,
   "metadata": {
    "collapsed": true
   },
   "outputs": [],
   "source": []
  }
 ],
 "metadata": {
  "kernelspec": {
   "display_name": "Python 3",
   "language": "python",
   "name": "python3"
  },
  "language_info": {
   "codemirror_mode": {
    "name": "ipython",
    "version": 3
   },
   "file_extension": ".py",
   "mimetype": "text/x-python",
   "name": "python",
   "nbconvert_exporter": "python",
   "pygments_lexer": "ipython3",
   "version": "3.6.1"
  }
 },
 "nbformat": 4,
 "nbformat_minor": 2
}
