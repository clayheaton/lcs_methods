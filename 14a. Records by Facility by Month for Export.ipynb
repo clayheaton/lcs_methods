{
 "cells": [
  {
   "cell_type": "markdown",
   "metadata": {},
   "source": [
    "The following query was used to generate a CSV file sourced here that will export again to a different format for the purposes of creating a pseudo-timeline in Excel.\n",
    "\n",
    "This query was run against version 14 of the database.\n",
    "\n",
    "```\n",
    "SELECT files.id as files_id,\n",
    "       files.year,\n",
    "\t   files.month,\n",
    "       facilities.id AS facility_id,\n",
    "       facilities.facility_parent_id,\n",
    "       facilities.facilityname,\n",
    "\t   facilities.country,\n",
    "\t   facilities.governorate,\n",
    "\t   facilities.district,\n",
    "\t   facilities.subdistrict,\n",
    "\t   facilities.facility_type,\n",
    "\t   COUNT(full_raw_scrubbed.id) AS num_records\n",
    "FROM files\n",
    "JOIN facilities on files.facility_id = facilities.id\n",
    "JOIN full_raw_scrubbed on files.id = full_raw_scrubbed.a_file_id\n",
    "\n",
    "WHERE files.facility_id IS NOT NULL \n",
    "AND files.month IS NOT NULL\n",
    "AND files.skipped = 0\n",
    "AND files.ignore = 0\n",
    "\n",
    "ORDER BY files.year ASC, files.month ASC, facilities.facilityname ASC;\n",
    "```"
   ]
  },
  {
   "cell_type": "code",
   "execution_count": 1,
   "metadata": {
    "collapsed": true
   },
   "outputs": [],
   "source": [
    "import csv"
   ]
  },
  {
   "cell_type": "code",
   "execution_count": 2,
   "metadata": {
    "collapsed": true
   },
   "outputs": [],
   "source": [
    "source = \"02-DEC-2017_facility_timeline_data.csv\""
   ]
  },
  {
   "cell_type": "code",
   "execution_count": 11,
   "metadata": {},
   "outputs": [],
   "source": [
    "data = []\n",
    "\n",
    "intcols = [\n",
    "    \"facility_id\",\n",
    "    \"facility_parent_id\",\n",
    "    \"month\",\n",
    "    \"year\",\n",
    "    \"num_records\",\n",
    "]\n",
    "\n",
    "with open(source,'r', encoding='utf-8-sig') as csvfile:\n",
    "    csvreader = csv.reader(csvfile)\n",
    "    header = next(csvreader)\n",
    "    for row in csvreader:\n",
    "        rowdict = dict(zip(header,row))\n",
    "        for col in intcols:\n",
    "            try:\n",
    "                rowdict[col] = int(rowdict[col])\n",
    "            except:\n",
    "                pass\n",
    "        data.append(rowdict)"
   ]
  },
  {
   "cell_type": "code",
   "execution_count": 26,
   "metadata": {},
   "outputs": [
    {
     "data": {
      "text/plain": [
       "{'country': 'Syria',\n",
       " 'district': '',\n",
       " 'facility_id': 66,\n",
       " 'facility_parent_id': '',\n",
       " 'facility_type': 'RH',\n",
       " 'facilityname': 'Rawan Birth Center',\n",
       " 'governorate': 'Daraa',\n",
       " 'month': 7,\n",
       " 'num_records': 483,\n",
       " 'subdistrict': '',\n",
       " 'year': 2014}"
      ]
     },
     "execution_count": 26,
     "metadata": {},
     "output_type": "execute_result"
    }
   ],
   "source": [
    "data[0]"
   ]
  },
  {
   "cell_type": "code",
   "execution_count": 25,
   "metadata": {},
   "outputs": [
    {
     "name": "stdout",
     "output_type": "stream",
     "text": [
      "['2014-1', '2014-2', '2014-3', '2014-4', '2014-5', '2014-6', '2014-7', '2014-8', '2014-9', '2014-10', '2014-11', '2014-12', '2015-1', '2015-2', '2015-3', '2015-4', '2015-5', '2015-6', '2015-7', '2015-8', '2015-9', '2015-10', '2015-11', '2015-12', '2016-1', '2016-2', '2016-3', '2016-4', '2016-5', '2016-6', '2016-7', '2016-8', '2016-9', '2016-10', '2016-11', '2016-12', '2017-1', '2017-2', '2017-3', '2017-4', '2017-5', '2017-6', '2017-7', '2017-8', '2017-9', '2017-10', '2017-11', '2017-12']\n"
     ]
    }
   ],
   "source": [
    "poss_dates = []\n",
    "\n",
    "for x in range(2014,2018):\n",
    "    for y in range(1,13):\n",
    "        pd = str(x) + \"-\" + str(y)\n",
    "        poss_dates.append(pd)"
   ]
  },
  {
   "cell_type": "code",
   "execution_count": 48,
   "metadata": {},
   "outputs": [],
   "source": [
    "lookup = {}\n",
    "\n",
    "transfer_keys = [\n",
    "    \"country\",\n",
    "    \"governorate\",\n",
    "    \"district\",\n",
    "    \"subdistrict\",\n",
    "    \"facility_id\",\n",
    "    \"facility_parent_id\",\n",
    "    \"facility_type\"\n",
    "]\n",
    "\n",
    "for rec in data:\n",
    "    fn = rec[\"facilityname\"]\n",
    "    \n",
    "    # Setup structure\n",
    "    if fn not in lookup.keys():\n",
    "        lookup[fn] = {\"facilityname\":fn}\n",
    "        for k in transfer_keys:\n",
    "            lookup[fn][k] = rec[k]\n",
    "            \n",
    "    count_key = str(rec['year']) + \"-\" + str(rec['month'])\n",
    "    \n",
    "    lookup[fn][count_key] = rec[\"num_records\"]\n",
    "    if lookup[fn][count_key] == 0:\n",
    "        lookup[fn][count_key] = ''"
   ]
  },
  {
   "cell_type": "code",
   "execution_count": 49,
   "metadata": {
    "collapsed": true
   },
   "outputs": [],
   "source": [
    "for fac in lookup.keys():\n",
    "    for pd in poss_dates:\n",
    "        if pd in lookup[fac].keys():\n",
    "            continue\n",
    "        else:\n",
    "            lookup[fac][pd] = ''"
   ]
  },
  {
   "cell_type": "code",
   "execution_count": 50,
   "metadata": {},
   "outputs": [
    {
     "data": {
      "text/plain": [
       "{'2014-1': '',\n",
       " '2014-10': 357,\n",
       " '2014-11': 358,\n",
       " '2014-12': 329,\n",
       " '2014-2': '',\n",
       " '2014-3': '',\n",
       " '2014-4': '',\n",
       " '2014-5': '',\n",
       " '2014-6': '',\n",
       " '2014-7': 483,\n",
       " '2014-8': 407,\n",
       " '2014-9': 373,\n",
       " '2015-1': 152,\n",
       " '2015-10': '',\n",
       " '2015-11': '',\n",
       " '2015-12': '',\n",
       " '2015-2': 75,\n",
       " '2015-3': 851,\n",
       " '2015-4': 276,\n",
       " '2015-5': 414,\n",
       " '2015-6': '',\n",
       " '2015-7': '',\n",
       " '2015-8': '',\n",
       " '2015-9': '',\n",
       " '2016-1': '',\n",
       " '2016-10': '',\n",
       " '2016-11': '',\n",
       " '2016-12': '',\n",
       " '2016-2': '',\n",
       " '2016-3': '',\n",
       " '2016-4': '',\n",
       " '2016-5': '',\n",
       " '2016-6': '',\n",
       " '2016-7': '',\n",
       " '2016-8': '',\n",
       " '2016-9': '',\n",
       " '2017-1': '',\n",
       " '2017-10': '',\n",
       " '2017-11': '',\n",
       " '2017-12': '',\n",
       " '2017-2': '',\n",
       " '2017-3': '',\n",
       " '2017-4': '',\n",
       " '2017-5': '',\n",
       " '2017-6': '',\n",
       " '2017-7': '',\n",
       " '2017-8': '',\n",
       " '2017-9': '',\n",
       " 'country': 'Syria',\n",
       " 'district': '',\n",
       " 'facility_id': 66,\n",
       " 'facility_parent_id': '',\n",
       " 'facility_type': 'RH',\n",
       " 'facilityname': 'Rawan Birth Center',\n",
       " 'governorate': 'Daraa',\n",
       " 'subdistrict': ''}"
      ]
     },
     "execution_count": 50,
     "metadata": {},
     "output_type": "execute_result"
    }
   ],
   "source": [
    "lookup['Rawan Birth Center']"
   ]
  },
  {
   "cell_type": "code",
   "execution_count": 51,
   "metadata": {},
   "outputs": [],
   "source": [
    "header = [\n",
    "    \"country\",\n",
    "    \"governorate\",\n",
    "    \"district\",\n",
    "    \"subdistrict\",\n",
    "    \"facility_type\",\n",
    "    \"facility_id\",\n",
    "    \"facility_parent_id\",\n",
    "    \"facilityname\"\n",
    "]\n",
    "\n",
    "header = header + poss_dates"
   ]
  },
  {
   "cell_type": "code",
   "execution_count": 52,
   "metadata": {},
   "outputs": [],
   "source": [
    "with open(\"02-DEC-2017_Output_SAMS_raw_facilities_records_by_date.csv\",'w') as outfile:\n",
    "    outfile.write(\",\".join(header))\n",
    "    outfile.write(\"\\n\")\n",
    "    for fac in lookup.keys():\n",
    "        row = [str(lookup[fac][k]) for k in header]\n",
    "        outfile.write(\",\".join(row))\n",
    "        outfile.write(\"\\n\")"
   ]
  },
  {
   "cell_type": "code",
   "execution_count": null,
   "metadata": {
    "collapsed": true
   },
   "outputs": [],
   "source": []
  }
 ],
 "metadata": {
  "kernelspec": {
   "display_name": "Python 3",
   "language": "python",
   "name": "python3"
  },
  "language_info": {
   "codemirror_mode": {
    "name": "ipython",
    "version": 3
   },
   "file_extension": ".py",
   "mimetype": "text/x-python",
   "name": "python",
   "nbconvert_exporter": "python",
   "pygments_lexer": "ipython3",
   "version": "3.6.1"
  }
 },
 "nbformat": 4,
 "nbformat_minor": 2
}
